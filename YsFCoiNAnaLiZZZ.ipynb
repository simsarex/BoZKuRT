{
  "nbformat": 4,
  "nbformat_minor": 0,
  "metadata": {
    "colab": {
      "provenance": [],
      "authorship_tag": "ABX9TyM/kpXNXuB7MuQDuNJ6nnMp",
      "include_colab_link": true
    },
    "kernelspec": {
      "name": "python3",
      "display_name": "Python 3"
    },
    "language_info": {
      "name": "python"
    }
  },
  "cells": [
    {
      "cell_type": "markdown",
      "metadata": {
        "id": "view-in-github",
        "colab_type": "text"
      },
      "source": [
        "<a href=\"https://colab.research.google.com/github/simsarex/BoZKuRT/blob/master/YsFCoiNAnaLiZZZ.ipynb\" target=\"_parent\"><img src=\"https://colab.research.google.com/assets/colab-badge.svg\" alt=\"Open In Colab\"/></a>"
      ]
    },
    {
      "cell_type": "code",
      "execution_count": 3,
      "metadata": {
        "colab": {
          "base_uri": "https://localhost:8080/",
          "height": 1000
        },
        "id": "mUlsivShc0ir",
        "outputId": "6593c9ae-6607-4a0a-d2bb-2b0bf3db2345"
      },
      "outputs": [
        {
          "output_type": "stream",
          "name": "stdout",
          "text": [
            "🚀 COLAB İÇİN KÜTÜPHANE YÜKLEMESİ BAŞLIYOR...\n",
            "==================================================\n",
            "📦 Yükleniyor: colorama\n",
            "✅ colorama başarıyla yüklendi\n",
            "📦 Yükleniyor: tqdm\n",
            "✅ tqdm başarıyla yüklendi\n",
            "📦 Yükleniyor: seaborn\n",
            "✅ seaborn başarıyla yüklendi\n",
            "📦 Yükleniyor: git+https://github.com/rongardF/tvdatafeed\n",
            "✅ git+https://github.com/rongardF/tvdatafeed başarıyla yüklendi\n",
            "\n",
            "🔄 KÜTÜPHANELER İMPORT EDİLİYOR...\n",
            "==================================================\n",
            "✅ tvDatafeed başarıyla import edildi\n",
            "✅ colorama başarıyla import edildi\n",
            "✅ Tüm kütüphaneler hazır!\n",
            "\n",
            "🚀 GOOGLE COLAB'DA KRİPTO ANALİZİ! 🚀\n",
            "\n",
            "💡 3 aylık veri ile daha güvenilir sonuçlar alacağız!\n",
            "   • İlk çalıştırmada kütüphane yükleme 2-3 dakika sürebilir\n",
            "   • Çok coin seçersen toplam analiz 15-20 dakika sürebilir\n",
            "   • API hatası alırsanız Runtime > Restart and Run All deneyin\n",
            "   • VPN kullanıyorsanız kapatmayı deneyin\n",
            "\n"
          ]
        },
        {
          "output_type": "stream",
          "name": "stderr",
          "text": [
            "WARNING:tvDatafeed.main:you are using nologin method, data you access may be limited\n"
          ]
        },
        {
          "output_type": "stream",
          "name": "stdout",
          "text": [
            "✅ TvDatafeed başarıyla başlatıldı\n",
            "📋 Analiz edilecek coinler: 1000SATSUSDT, 1INCHUSDT, 1MBABYDOGEUSDT, AAVEUSDT, ACAUSDT, ACEUSDT, ACHUSDT, ACMUSDT, ADAUSDT, ADXUSDT, AEURUSDT, AEVOUSDT, AGLDUSDT, AIUSDT, ALCXUSDT, ALGOUSDT, ALICEUSDT, ALPINEUSDT, ALTUSDT, AMPUSDT, ANKRUSDT, APEUSDT, API3USDT, APTUSDT, ARBUSDT, ARDRUSDT, ARKMUSDT, ARKUSDT, ARPAUSDT, ARUSDT, ASRUSDT, ASTRUSDT, ATAUSDT, ATMUSDT, ATOMUSDT, AUCTIONUSDT, AUDIOUSDT, AVAUSDT, AVAXUSDT, AXLUSDT, AXSUSDT, BAKEUSDT, BANANAUSDT, BANDUSDT, BARUSDT, BATUSDT, BBUSDT, BCHUSDT, BEAMXUSDT, BELUSDT, BICOUSDT, BIFIUSDT, BLURUSDT, BNBUSDT, BNSOLUSDT, BNTUSDT, BOMEUSDT, BONKUSDT, BTCUSDT, BTTCUSDT, C98USDT, CAKEUSDT, CATIUSDT, CELOUSDT, CELRUSDT, CFXUSDT, CHESSUSDT, CHRUSDT, CHZUSDT, CITYUSDT, CKBUSDT, COMPUSDT, COSUSDT, COTIUSDT, CRVUSDT, CTKUSDT, CTSIUSDT, CVCUSDT, CVXUSDT, CYBERUSDT, DEXEUSDT, DFUSDT, DGBUSDT, DIAUSDT, DODOUSDT, DOGEUSDT, DOGSUSDT, DOTUSDT, DUSKUSDT, DYDXUSDT, DYMUSDT, EDUUSDT, EGLDUSDT, EIGENUSDT, ENAUSDT, ENJUSDT, ENSUSDT, ETCUSDT, ETHFIUSDT, ETHUSDT, EURIUSDT, EURUSDT, FARMUSDT, FDUSDTRY, FDUSDUSDT, FETUSDT, FIDAUSDT, FILUSDT, FIOUSDT, FISUSDT, FLMUSDT, FLOKIUSDT, FLOWUSDT, FLUXUSDT, FORTHUSDT, FTTUSDT, FUNUSDT, FXSUSDT, GALAUSDT, GASUSDT, GFTUSDT, GHSTUSDT, GLMRUSDT, GLMUSDT, GMTUSDT, GMXUSDT, GNOUSDT, GNSUSDT, GRTUSDT, GTCUSDT, GUSDT, HBARUSDT, HFTUSDT, HIFIUSDT, HIGHUSDT, HIVEUSDT, HMSTRUSDT, HOOKUSDT, HOTUSDT, ICPUSDT, ICXUSDT, IDEXUSDT, IDUSDT, ILVUSDT, IMXUSDT, INJUSDT, IOSTUSDT, IOTAUSDT, IOTXUSDT, IOUSDT, IQUSDT, JASMYUSDT, JOEUSDT, JSTUSDT, JTOUSDT, JUPUSDT, JUVUSDT, KAVAUSDT, KDAUSDT, KNCUSDT, KSMUSDT, LAZIOUSDT, LDOUSDT, LINKUSDT, LISTAUSDT, LPTUSDT, LQTYUSDT, LRCUSDT, LSKUSDT, LTCUSDT, LUMIAUSDT, LUNAUSDT, LUNCUSDT, MAGICUSDT, MANAUSDT, MANTAUSDT, MASKUSDT, MAVUSDT, MBLUSDT, MBOXUSDT, MDTUSDT, MEMEUSDT, METISUSDT, MINAUSDT, MKRUSDT, MLNUSDT, MOVRUSDT, MTLUSDT, NEARUSDT, NEIROUSDT, NEOUSDT, NEXOUSDT, NFPUSDT, NKNUSDT, NMRUSDT, NOTUSDT, NTRNUSDT, OGNUSDT, OGUSDT, OMNIUSDT, OMUSDT, ONEUSDT, ONGUSDT, ONTUSDT, OPUSDT, ORDIUSDT, OSMOUSDT, OXTUSDT, PAXGUSDT, PENDLEUSDT, PEOPLEUSDT, PEPEUSDT, PERPUSDT, PHAUSDT, PHBUSDT, PIVXUSDT, PIXELUSDT, POLUSDT, POLYXUSDT, PONDUSDT, PORTALUSDT, PORTOUSDT, POWRUSDT, PROMUSDT, PSGUSDT, PUNDIXUSDT, PYRUSDT, PYTHUSDT, QIUSDT, QKCUSDT, QNTUSDT, QTUMUSDT, QUICKUSDT, RADUSDT, RAREUSDT, RAYUSDT, RDNTUSDT, REIUSDT, RENDERUSDT, REQUSDT, REZUSDT, RIFUSDT, RLCUSDT, RONINUSDT, ROSEUSDT, RPLUSDT, RSRUSDT, RUNEUSDT, RVNUSDT, SAGAUSDT, SANDUSDT, SANTOSUSDT, SCRTUSDT, SCRUSDT, SCUSDT, SEIUSDT, SFPUSDT, SHIBUSDT, SKLUSDT, SLFUSDT, SLPUSDT, SNXUSDT, SOLUSDT, SPELLUSDT, SSVUSDT, STEEMUSDT, STGUSDT, STORJUSDT, STRAXUSDT, STRKUSDT, STXUSDT, SUIUSDT, SUNUSDT, SUPERUSDT, SUSHIUSDT, SXPUSDT, SYNUSDT, SYSUSDT, TAOUSDT, TFUELUSDT, THETAUSDT, TIAUSDT, TKOUSDT, TLMUSDT, TNSRUSDT, TONUSDT, TRBUSDT, TRUUSDT, TRXUSDT, TURBOUSDT, TUSDT, TUSDUSDT, TWTUSDT, UMAUSDT, UNIUSDT, USDCUSDT, USDPUSDT, USDTARS, USDTBRL, USDTCOP, USDTDAI, USDTMXN, USDTPLN, USDTTRY, USDTUAH, USDTZAR, USTCUSDT, UTKUSDT, VANRYUSDT, VETUSDT, VICUSDT, VOXELUSDT, VTHOUSDT, WANUSDT, WAXPUSDT, WBETHUSDT, WBTCUSDT, WIFUSDT, WINUSDT, WLDUSDT, WOOUSDT, WUSDT, XAIUSDT, XECUSDT, XLMUSDT, XNOUSDT, XRPUSDT, XTZUSDT, XVGUSDT, XVSUSDT, YFIUSDT, YGGUSDT, ZECUSDT, ZENUSDT, ZILUSDT, ZKUSDT, ZROUSDT, ZRXUSDT\n",
            "\n"
          ]
        },
        {
          "output_type": "stream",
          "name": "stderr",
          "text": [
            "\rCoinler analiz ediliyor:   0%|          | 0/338 [00:00<?, ?it/s]"
          ]
        },
        {
          "output_type": "stream",
          "name": "stdout",
          "text": [
            "📊 1000SATSUSDT verisi çekiliyor...\n",
            "✅ 1000SATSUSDT: 1440 veri noktası alındı\n",
            "✅ 1000SATSUSDT analiz tamamlandı\n",
            "\n"
          ]
        },
        {
          "output_type": "stream",
          "name": "stderr",
          "text": [
            "\rCoinler analiz ediliyor:   0%|          | 1/338 [00:02<13:30,  2.40s/it]"
          ]
        },
        {
          "output_type": "stream",
          "name": "stdout",
          "text": [
            "📊 1INCHUSDT verisi çekiliyor...\n",
            "✅ 1INCHUSDT: 1440 veri noktası alındı\n",
            "✅ 1INCHUSDT analiz tamamlandı\n",
            "\n"
          ]
        },
        {
          "output_type": "stream",
          "name": "stderr",
          "text": [
            "\rCoinler analiz ediliyor:   1%|          | 2/338 [00:04<13:03,  2.33s/it]"
          ]
        },
        {
          "output_type": "stream",
          "name": "stdout",
          "text": [
            "📊 1MBABYDOGEUSDT verisi çekiliyor...\n",
            "✅ 1MBABYDOGEUSDT: 1440 veri noktası alındı\n",
            "✅ 1MBABYDOGEUSDT analiz tamamlandı\n",
            "\n"
          ]
        },
        {
          "output_type": "stream",
          "name": "stderr",
          "text": [
            "\rCoinler analiz ediliyor:   1%|          | 3/338 [00:07<13:30,  2.42s/it]"
          ]
        },
        {
          "output_type": "stream",
          "name": "stdout",
          "text": [
            "📊 AAVEUSDT verisi çekiliyor...\n",
            "✅ AAVEUSDT: 1440 veri noktası alındı\n",
            "✅ AAVEUSDT analiz tamamlandı\n",
            "\n"
          ]
        },
        {
          "output_type": "stream",
          "name": "stderr",
          "text": [
            "\rCoinler analiz ediliyor:   1%|          | 4/338 [00:09<13:09,  2.36s/it]"
          ]
        },
        {
          "output_type": "stream",
          "name": "stdout",
          "text": [
            "📊 ACAUSDT verisi çekiliyor...\n",
            "✅ ACAUSDT: 1440 veri noktası alındı\n",
            "✅ ACAUSDT analiz tamamlandı\n",
            "\n"
          ]
        },
        {
          "output_type": "stream",
          "name": "stderr",
          "text": [
            "\rCoinler analiz ediliyor:   1%|▏         | 5/338 [00:11<13:07,  2.36s/it]"
          ]
        },
        {
          "output_type": "stream",
          "name": "stdout",
          "text": [
            "📊 ACEUSDT verisi çekiliyor...\n",
            "✅ ACEUSDT: 1440 veri noktası alındı\n",
            "✅ ACEUSDT analiz tamamlandı\n",
            "\n"
          ]
        },
        {
          "output_type": "stream",
          "name": "stderr",
          "text": [
            "\rCoinler analiz ediliyor:   2%|▏         | 6/338 [00:14<12:57,  2.34s/it]"
          ]
        },
        {
          "output_type": "stream",
          "name": "stdout",
          "text": [
            "📊 ACHUSDT verisi çekiliyor...\n",
            "✅ ACHUSDT: 1440 veri noktası alındı\n",
            "✅ ACHUSDT analiz tamamlandı\n",
            "\n"
          ]
        },
        {
          "output_type": "stream",
          "name": "stderr",
          "text": [
            "\rCoinler analiz ediliyor:   2%|▏         | 7/338 [00:16<12:49,  2.32s/it]"
          ]
        },
        {
          "output_type": "stream",
          "name": "stdout",
          "text": [
            "📊 ACMUSDT verisi çekiliyor...\n",
            "✅ ACMUSDT: 1440 veri noktası alındı\n",
            "✅ ACMUSDT analiz tamamlandı\n",
            "\n"
          ]
        },
        {
          "output_type": "stream",
          "name": "stderr",
          "text": [
            "\rCoinler analiz ediliyor:   2%|▏         | 8/338 [00:18<13:03,  2.37s/it]"
          ]
        },
        {
          "output_type": "stream",
          "name": "stdout",
          "text": [
            "📊 ADAUSDT verisi çekiliyor...\n",
            "✅ ADAUSDT: 1440 veri noktası alındı\n",
            "✅ ADAUSDT analiz tamamlandı\n",
            "\n"
          ]
        },
        {
          "output_type": "stream",
          "name": "stderr",
          "text": [
            "\rCoinler analiz ediliyor:   3%|▎         | 9/338 [00:21<12:50,  2.34s/it]"
          ]
        },
        {
          "output_type": "stream",
          "name": "stdout",
          "text": [
            "📊 ADXUSDT verisi çekiliyor...\n",
            "✅ ADXUSDT: 1440 veri noktası alındı\n",
            "✅ ADXUSDT analiz tamamlandı\n",
            "\n"
          ]
        },
        {
          "output_type": "stream",
          "name": "stderr",
          "text": [
            "\rCoinler analiz ediliyor:   3%|▎         | 10/338 [00:23<12:51,  2.35s/it]"
          ]
        },
        {
          "output_type": "stream",
          "name": "stdout",
          "text": [
            "📊 AEURUSDT verisi çekiliyor...\n",
            "✅ AEURUSDT: 1440 veri noktası alındı\n",
            "✅ AEURUSDT analiz tamamlandı\n",
            "\n"
          ]
        },
        {
          "output_type": "stream",
          "name": "stderr",
          "text": [
            "\rCoinler analiz ediliyor:   3%|▎         | 11/338 [00:26<13:07,  2.41s/it]"
          ]
        },
        {
          "output_type": "stream",
          "name": "stdout",
          "text": [
            "📊 AEVOUSDT verisi çekiliyor...\n",
            "✅ AEVOUSDT: 1440 veri noktası alındı\n",
            "✅ AEVOUSDT analiz tamamlandı\n",
            "\n"
          ]
        },
        {
          "output_type": "stream",
          "name": "stderr",
          "text": [
            "\rCoinler analiz ediliyor:   4%|▎         | 12/338 [00:28<13:04,  2.41s/it]"
          ]
        },
        {
          "output_type": "stream",
          "name": "stdout",
          "text": [
            "📊 AGLDUSDT verisi çekiliyor...\n",
            "✅ AGLDUSDT: 1440 veri noktası alındı\n",
            "✅ AGLDUSDT analiz tamamlandı\n",
            "\n"
          ]
        },
        {
          "output_type": "stream",
          "name": "stderr",
          "text": [
            "\rCoinler analiz ediliyor:   4%|▍         | 13/338 [00:30<12:58,  2.40s/it]"
          ]
        },
        {
          "output_type": "stream",
          "name": "stdout",
          "text": [
            "📊 AIUSDT verisi çekiliyor...\n",
            "✅ AIUSDT: 1440 veri noktası alındı\n",
            "✅ AIUSDT analiz tamamlandı\n",
            "\n"
          ]
        },
        {
          "output_type": "stream",
          "name": "stderr",
          "text": [
            "\rCoinler analiz ediliyor:   4%|▍         | 14/338 [00:34<14:29,  2.69s/it]"
          ]
        },
        {
          "output_type": "stream",
          "name": "stdout",
          "text": [
            "📊 ALCXUSDT verisi çekiliyor...\n",
            "✅ ALCXUSDT: 1440 veri noktası alındı\n",
            "✅ ALCXUSDT analiz tamamlandı\n",
            "\n"
          ]
        },
        {
          "output_type": "stream",
          "name": "stderr",
          "text": [
            "\rCoinler analiz ediliyor:   4%|▍         | 15/338 [00:37<15:07,  2.81s/it]"
          ]
        },
        {
          "output_type": "stream",
          "name": "stdout",
          "text": [
            "📊 ALGOUSDT verisi çekiliyor...\n",
            "✅ ALGOUSDT: 1440 veri noktası alındı\n",
            "✅ ALGOUSDT analiz tamamlandı\n",
            "\n"
          ]
        },
        {
          "output_type": "stream",
          "name": "stderr",
          "text": [
            "\rCoinler analiz ediliyor:   5%|▍         | 16/338 [00:40<15:06,  2.81s/it]"
          ]
        },
        {
          "output_type": "stream",
          "name": "stdout",
          "text": [
            "📊 ALICEUSDT verisi çekiliyor...\n",
            "✅ ALICEUSDT: 1440 veri noktası alındı\n",
            "✅ ALICEUSDT analiz tamamlandı\n",
            "\n"
          ]
        },
        {
          "output_type": "stream",
          "name": "stderr",
          "text": [
            "\rCoinler analiz ediliyor:   5%|▌         | 17/338 [00:42<15:04,  2.82s/it]"
          ]
        },
        {
          "output_type": "stream",
          "name": "stdout",
          "text": [
            "📊 ALPINEUSDT verisi çekiliyor...\n",
            "✅ ALPINEUSDT: 1440 veri noktası alındı\n",
            "✅ ALPINEUSDT analiz tamamlandı\n",
            "\n"
          ]
        },
        {
          "output_type": "stream",
          "name": "stderr",
          "text": [
            "\rCoinler analiz ediliyor:   5%|▌         | 18/338 [00:46<15:21,  2.88s/it]"
          ]
        },
        {
          "output_type": "stream",
          "name": "stdout",
          "text": [
            "📊 ALTUSDT verisi çekiliyor...\n",
            "✅ ALTUSDT: 1440 veri noktası alındı\n",
            "✅ ALTUSDT analiz tamamlandı\n",
            "\n"
          ]
        },
        {
          "output_type": "stream",
          "name": "stderr",
          "text": [
            "\rCoinler analiz ediliyor:   6%|▌         | 19/338 [00:49<15:31,  2.92s/it]"
          ]
        },
        {
          "output_type": "stream",
          "name": "stdout",
          "text": [
            "📊 AMPUSDT verisi çekiliyor...\n",
            "✅ AMPUSDT: 1440 veri noktası alındı\n",
            "✅ AMPUSDT analiz tamamlandı\n",
            "\n"
          ]
        },
        {
          "output_type": "stream",
          "name": "stderr",
          "text": [
            "\rCoinler analiz ediliyor:   6%|▌         | 20/338 [00:51<15:26,  2.91s/it]"
          ]
        },
        {
          "output_type": "stream",
          "name": "stdout",
          "text": [
            "📊 ANKRUSDT verisi çekiliyor...\n",
            "✅ ANKRUSDT: 1440 veri noktası alındı\n",
            "✅ ANKRUSDT analiz tamamlandı\n",
            "\n"
          ]
        },
        {
          "output_type": "stream",
          "name": "stderr",
          "text": [
            "\rCoinler analiz ediliyor:   6%|▌         | 21/338 [00:54<14:57,  2.83s/it]"
          ]
        },
        {
          "output_type": "stream",
          "name": "stdout",
          "text": [
            "📊 APEUSDT verisi çekiliyor...\n",
            "✅ APEUSDT: 1440 veri noktası alındı\n",
            "✅ APEUSDT analiz tamamlandı\n",
            "\n"
          ]
        },
        {
          "output_type": "stream",
          "name": "stderr",
          "text": [
            "\rCoinler analiz ediliyor:   7%|▋         | 22/338 [00:57<14:37,  2.78s/it]"
          ]
        },
        {
          "output_type": "stream",
          "name": "stdout",
          "text": [
            "📊 API3USDT verisi çekiliyor...\n",
            "✅ API3USDT: 1440 veri noktası alındı\n",
            "✅ API3USDT analiz tamamlandı\n",
            "\n"
          ]
        },
        {
          "output_type": "stream",
          "name": "stderr",
          "text": [
            "\rCoinler analiz ediliyor:   7%|▋         | 23/338 [00:59<14:27,  2.76s/it]"
          ]
        },
        {
          "output_type": "stream",
          "name": "stdout",
          "text": [
            "📊 APTUSDT verisi çekiliyor...\n",
            "✅ APTUSDT: 1440 veri noktası alındı\n",
            "✅ APTUSDT analiz tamamlandı\n",
            "\n"
          ]
        },
        {
          "output_type": "stream",
          "name": "stderr",
          "text": [
            "\rCoinler analiz ediliyor:   7%|▋         | 24/338 [01:02<14:21,  2.74s/it]"
          ]
        },
        {
          "output_type": "stream",
          "name": "stdout",
          "text": [
            "📊 ARBUSDT verisi çekiliyor...\n",
            "✅ ARBUSDT: 1440 veri noktası alındı\n",
            "✅ ARBUSDT analiz tamamlandı\n",
            "\n"
          ]
        },
        {
          "output_type": "stream",
          "name": "stderr",
          "text": [
            "\rCoinler analiz ediliyor:   7%|▋         | 25/338 [01:05<14:28,  2.77s/it]"
          ]
        },
        {
          "output_type": "stream",
          "name": "stdout",
          "text": [
            "📊 ARDRUSDT verisi çekiliyor...\n",
            "✅ ARDRUSDT: 1440 veri noktası alındı\n",
            "✅ ARDRUSDT analiz tamamlandı\n",
            "\n"
          ]
        },
        {
          "output_type": "stream",
          "name": "stderr",
          "text": [
            "\rCoinler analiz ediliyor:   8%|▊         | 26/338 [01:08<14:45,  2.84s/it]"
          ]
        },
        {
          "output_type": "stream",
          "name": "stdout",
          "text": [
            "📊 ARKMUSDT verisi çekiliyor...\n",
            "✅ ARKMUSDT: 1440 veri noktası alındı\n",
            "✅ ARKMUSDT analiz tamamlandı\n",
            "\n"
          ]
        },
        {
          "output_type": "stream",
          "name": "stderr",
          "text": [
            "\rCoinler analiz ediliyor:   8%|▊         | 27/338 [01:11<14:45,  2.85s/it]"
          ]
        },
        {
          "output_type": "stream",
          "name": "stdout",
          "text": [
            "📊 ARKUSDT verisi çekiliyor...\n",
            "✅ ARKUSDT: 1440 veri noktası alındı\n",
            "✅ ARKUSDT analiz tamamlandı\n",
            "\n"
          ]
        },
        {
          "output_type": "stream",
          "name": "stderr",
          "text": [
            "\rCoinler analiz ediliyor:   8%|▊         | 28/338 [01:14<15:04,  2.92s/it]"
          ]
        },
        {
          "output_type": "stream",
          "name": "stdout",
          "text": [
            "📊 ARPAUSDT verisi çekiliyor...\n",
            "✅ ARPAUSDT: 1440 veri noktası alındı\n",
            "✅ ARPAUSDT analiz tamamlandı\n",
            "\n"
          ]
        },
        {
          "output_type": "stream",
          "name": "stderr",
          "text": [
            "\rCoinler analiz ediliyor:   9%|▊         | 29/338 [01:17<14:43,  2.86s/it]"
          ]
        },
        {
          "output_type": "stream",
          "name": "stdout",
          "text": [
            "📊 ARUSDT verisi çekiliyor...\n",
            "✅ ARUSDT: 1440 veri noktası alındı\n",
            "✅ ARUSDT analiz tamamlandı\n",
            "\n"
          ]
        },
        {
          "output_type": "stream",
          "name": "stderr",
          "text": [
            "\rCoinler analiz ediliyor:   9%|▉         | 30/338 [01:19<14:21,  2.80s/it]"
          ]
        },
        {
          "output_type": "stream",
          "name": "stdout",
          "text": [
            "📊 ASRUSDT verisi çekiliyor...\n",
            "✅ ASRUSDT: 1440 veri noktası alındı\n",
            "✅ ASRUSDT analiz tamamlandı\n",
            "\n"
          ]
        },
        {
          "output_type": "stream",
          "name": "stderr",
          "text": [
            "\rCoinler analiz ediliyor:   9%|▉         | 31/338 [01:22<14:30,  2.84s/it]"
          ]
        },
        {
          "output_type": "stream",
          "name": "stdout",
          "text": [
            "📊 ASTRUSDT verisi çekiliyor...\n",
            "✅ ASTRUSDT: 1440 veri noktası alındı\n",
            "✅ ASTRUSDT analiz tamamlandı\n",
            "\n"
          ]
        },
        {
          "output_type": "stream",
          "name": "stderr",
          "text": [
            "\rCoinler analiz ediliyor:   9%|▉         | 32/338 [01:25<14:33,  2.86s/it]"
          ]
        },
        {
          "output_type": "stream",
          "name": "stdout",
          "text": [
            "📊 ATAUSDT verisi çekiliyor...\n",
            "✅ ATAUSDT: 1440 veri noktası alındı\n",
            "✅ ATAUSDT analiz tamamlandı\n",
            "\n"
          ]
        },
        {
          "output_type": "stream",
          "name": "stderr",
          "text": [
            "\rCoinler analiz ediliyor:  10%|▉         | 33/338 [01:28<14:12,  2.79s/it]"
          ]
        },
        {
          "output_type": "stream",
          "name": "stdout",
          "text": [
            "📊 ATMUSDT verisi çekiliyor...\n",
            "✅ ATMUSDT: 1440 veri noktası alındı\n",
            "✅ ATMUSDT analiz tamamlandı\n",
            "\n"
          ]
        },
        {
          "output_type": "stream",
          "name": "stderr",
          "text": [
            "\rCoinler analiz ediliyor:  10%|█         | 34/338 [01:31<14:34,  2.88s/it]"
          ]
        },
        {
          "output_type": "stream",
          "name": "stdout",
          "text": [
            "📊 ATOMUSDT verisi çekiliyor...\n",
            "✅ ATOMUSDT: 1440 veri noktası alındı\n",
            "✅ ATOMUSDT analiz tamamlandı\n",
            "\n"
          ]
        },
        {
          "output_type": "stream",
          "name": "stderr",
          "text": [
            "\rCoinler analiz ediliyor:  10%|█         | 35/338 [01:33<14:10,  2.81s/it]"
          ]
        },
        {
          "output_type": "stream",
          "name": "stdout",
          "text": [
            "📊 AUCTIONUSDT verisi çekiliyor...\n",
            "✅ AUCTIONUSDT: 1440 veri noktası alındı\n",
            "✅ AUCTIONUSDT analiz tamamlandı\n",
            "\n"
          ]
        },
        {
          "output_type": "stream",
          "name": "stderr",
          "text": [
            "\rCoinler analiz ediliyor:  11%|█         | 36/338 [01:36<13:36,  2.70s/it]"
          ]
        },
        {
          "output_type": "stream",
          "name": "stdout",
          "text": [
            "📊 AUDIOUSDT verisi çekiliyor...\n",
            "✅ AUDIOUSDT: 1440 veri noktası alındı\n",
            "✅ AUDIOUSDT analiz tamamlandı\n",
            "\n"
          ]
        },
        {
          "output_type": "stream",
          "name": "stderr",
          "text": [
            "\rCoinler analiz ediliyor:  11%|█         | 37/338 [01:38<13:02,  2.60s/it]"
          ]
        },
        {
          "output_type": "stream",
          "name": "stdout",
          "text": [
            "📊 AVAUSDT verisi çekiliyor...\n",
            "✅ AVAUSDT: 1440 veri noktası alındı\n",
            "✅ AVAUSDT analiz tamamlandı\n",
            "\n"
          ]
        },
        {
          "output_type": "stream",
          "name": "stderr",
          "text": [
            "\rCoinler analiz ediliyor:  11%|█         | 38/338 [01:41<12:36,  2.52s/it]"
          ]
        },
        {
          "output_type": "stream",
          "name": "stdout",
          "text": [
            "📊 AVAXUSDT verisi çekiliyor...\n",
            "✅ AVAXUSDT: 1440 veri noktası alındı\n",
            "✅ AVAXUSDT analiz tamamlandı\n",
            "\n"
          ]
        },
        {
          "output_type": "stream",
          "name": "stderr",
          "text": [
            "\rCoinler analiz ediliyor:  12%|█▏        | 39/338 [01:43<12:18,  2.47s/it]"
          ]
        },
        {
          "output_type": "stream",
          "name": "stdout",
          "text": [
            "📊 AXLUSDT verisi çekiliyor...\n",
            "✅ AXLUSDT: 1440 veri noktası alındı\n",
            "✅ AXLUSDT analiz tamamlandı\n",
            "\n"
          ]
        },
        {
          "output_type": "stream",
          "name": "stderr",
          "text": [
            "\rCoinler analiz ediliyor:  12%|█▏        | 40/338 [01:46<12:23,  2.49s/it]"
          ]
        },
        {
          "output_type": "stream",
          "name": "stdout",
          "text": [
            "📊 AXSUSDT verisi çekiliyor...\n",
            "✅ AXSUSDT: 1440 veri noktası alındı\n",
            "✅ AXSUSDT analiz tamamlandı\n",
            "\n"
          ]
        },
        {
          "output_type": "stream",
          "name": "stderr",
          "text": [
            "\rCoinler analiz ediliyor:  12%|█▏        | 41/338 [01:48<12:05,  2.44s/it]"
          ]
        },
        {
          "output_type": "stream",
          "name": "stdout",
          "text": [
            "📊 BAKEUSDT verisi çekiliyor...\n",
            "✅ BAKEUSDT: 1440 veri noktası alındı\n",
            "✅ BAKEUSDT analiz tamamlandı\n",
            "\n"
          ]
        },
        {
          "output_type": "stream",
          "name": "stderr",
          "text": [
            "\rCoinler analiz ediliyor:  12%|█▏        | 42/338 [01:50<11:56,  2.42s/it]"
          ]
        },
        {
          "output_type": "stream",
          "name": "stdout",
          "text": [
            "📊 BANANAUSDT verisi çekiliyor...\n",
            "✅ BANANAUSDT: 1440 veri noktası alındı\n",
            "✅ BANANAUSDT analiz tamamlandı\n",
            "\n"
          ]
        },
        {
          "output_type": "stream",
          "name": "stderr",
          "text": [
            "\rCoinler analiz ediliyor:  13%|█▎        | 43/338 [01:53<11:45,  2.39s/it]"
          ]
        },
        {
          "output_type": "stream",
          "name": "stdout",
          "text": [
            "📊 BANDUSDT verisi çekiliyor...\n",
            "✅ BANDUSDT: 1440 veri noktası alındı\n",
            "✅ BANDUSDT analiz tamamlandı\n",
            "\n"
          ]
        },
        {
          "output_type": "stream",
          "name": "stderr",
          "text": [
            "\rCoinler analiz ediliyor:  13%|█▎        | 44/338 [01:55<11:52,  2.42s/it]"
          ]
        },
        {
          "output_type": "stream",
          "name": "stdout",
          "text": [
            "📊 BARUSDT verisi çekiliyor...\n",
            "✅ BARUSDT: 1440 veri noktası alındı\n",
            "✅ BARUSDT analiz tamamlandı\n",
            "\n"
          ]
        },
        {
          "output_type": "stream",
          "name": "stderr",
          "text": [
            "\rCoinler analiz ediliyor:  13%|█▎        | 45/338 [01:58<11:57,  2.45s/it]"
          ]
        },
        {
          "output_type": "stream",
          "name": "stdout",
          "text": [
            "📊 BATUSDT verisi çekiliyor...\n",
            "✅ BATUSDT: 1440 veri noktası alındı\n",
            "✅ BATUSDT analiz tamamlandı\n",
            "\n"
          ]
        },
        {
          "output_type": "stream",
          "name": "stderr",
          "text": [
            "\rCoinler analiz ediliyor:  14%|█▎        | 46/338 [02:00<11:55,  2.45s/it]"
          ]
        },
        {
          "output_type": "stream",
          "name": "stdout",
          "text": [
            "📊 BBUSDT verisi çekiliyor...\n",
            "✅ BBUSDT: 1440 veri noktası alındı\n",
            "✅ BBUSDT analiz tamamlandı\n",
            "\n"
          ]
        },
        {
          "output_type": "stream",
          "name": "stderr",
          "text": [
            "\rCoinler analiz ediliyor:  14%|█▍        | 47/338 [02:02<11:41,  2.41s/it]"
          ]
        },
        {
          "output_type": "stream",
          "name": "stdout",
          "text": [
            "📊 BCHUSDT verisi çekiliyor...\n",
            "✅ BCHUSDT: 1440 veri noktası alındı\n",
            "✅ BCHUSDT analiz tamamlandı\n",
            "\n"
          ]
        },
        {
          "output_type": "stream",
          "name": "stderr",
          "text": [
            "\rCoinler analiz ediliyor:  14%|█▍        | 48/338 [02:05<11:31,  2.38s/it]"
          ]
        },
        {
          "output_type": "stream",
          "name": "stdout",
          "text": [
            "📊 BEAMXUSDT verisi çekiliyor...\n",
            "✅ BEAMXUSDT: 1440 veri noktası alındı\n",
            "✅ BEAMXUSDT analiz tamamlandı\n",
            "\n"
          ]
        },
        {
          "output_type": "stream",
          "name": "stderr",
          "text": [
            "\rCoinler analiz ediliyor:  14%|█▍        | 49/338 [02:07<11:39,  2.42s/it]"
          ]
        },
        {
          "output_type": "stream",
          "name": "stdout",
          "text": [
            "📊 BELUSDT verisi çekiliyor...\n",
            "✅ BELUSDT: 1440 veri noktası alındı\n",
            "✅ BELUSDT analiz tamamlandı\n",
            "\n"
          ]
        },
        {
          "output_type": "stream",
          "name": "stderr",
          "text": [
            "\rCoinler analiz ediliyor:  15%|█▍        | 50/338 [02:10<11:56,  2.49s/it]"
          ]
        },
        {
          "output_type": "stream",
          "name": "stdout",
          "text": [
            "📊 BICOUSDT verisi çekiliyor...\n",
            "✅ BICOUSDT: 1440 veri noktası alındı\n",
            "✅ BICOUSDT analiz tamamlandı\n",
            "\n"
          ]
        },
        {
          "output_type": "stream",
          "name": "stderr",
          "text": [
            "\rCoinler analiz ediliyor:  15%|█▌        | 51/338 [02:12<11:59,  2.51s/it]"
          ]
        },
        {
          "output_type": "stream",
          "name": "stdout",
          "text": [
            "📊 BIFIUSDT verisi çekiliyor...\n",
            "✅ BIFIUSDT: 1440 veri noktası alındı\n",
            "✅ BIFIUSDT analiz tamamlandı\n",
            "\n"
          ]
        },
        {
          "output_type": "stream",
          "name": "stderr",
          "text": [
            "\rCoinler analiz ediliyor:  15%|█▌        | 52/338 [02:15<12:03,  2.53s/it]"
          ]
        },
        {
          "output_type": "stream",
          "name": "stdout",
          "text": [
            "📊 BLURUSDT verisi çekiliyor...\n",
            "✅ BLURUSDT: 1440 veri noktası alındı\n",
            "✅ BLURUSDT analiz tamamlandı\n",
            "\n"
          ]
        },
        {
          "output_type": "stream",
          "name": "stderr",
          "text": [
            "\rCoinler analiz ediliyor:  16%|█▌        | 53/338 [02:17<11:52,  2.50s/it]"
          ]
        },
        {
          "output_type": "stream",
          "name": "stdout",
          "text": [
            "📊 BNBUSDT verisi çekiliyor...\n",
            "✅ BNBUSDT: 1440 veri noktası alındı\n",
            "✅ BNBUSDT analiz tamamlandı\n",
            "\n"
          ]
        },
        {
          "output_type": "stream",
          "name": "stderr",
          "text": [
            "\rCoinler analiz ediliyor:  16%|█▌        | 54/338 [02:20<11:35,  2.45s/it]"
          ]
        },
        {
          "output_type": "stream",
          "name": "stdout",
          "text": [
            "📊 BNSOLUSDT verisi çekiliyor...\n",
            "✅ BNSOLUSDT: 1440 veri noktası alındı\n",
            "✅ BNSOLUSDT analiz tamamlandı\n",
            "\n"
          ]
        },
        {
          "output_type": "stream",
          "name": "stderr",
          "text": [
            "\rCoinler analiz ediliyor:  16%|█▋        | 55/338 [02:22<11:29,  2.44s/it]"
          ]
        },
        {
          "output_type": "stream",
          "name": "stdout",
          "text": [
            "📊 BNTUSDT verisi çekiliyor...\n",
            "✅ BNTUSDT: 1440 veri noktası alındı\n",
            "✅ BNTUSDT analiz tamamlandı\n",
            "\n"
          ]
        },
        {
          "output_type": "stream",
          "name": "stderr",
          "text": [
            "\rCoinler analiz ediliyor:  17%|█▋        | 56/338 [02:24<11:18,  2.41s/it]"
          ]
        },
        {
          "output_type": "stream",
          "name": "stdout",
          "text": [
            "📊 BOMEUSDT verisi çekiliyor...\n",
            "✅ BOMEUSDT: 1440 veri noktası alındı\n",
            "✅ BOMEUSDT analiz tamamlandı\n",
            "\n"
          ]
        },
        {
          "output_type": "stream",
          "name": "stderr",
          "text": [
            "\rCoinler analiz ediliyor:  17%|█▋        | 57/338 [02:27<11:12,  2.39s/it]"
          ]
        },
        {
          "output_type": "stream",
          "name": "stdout",
          "text": [
            "📊 BONKUSDT verisi çekiliyor...\n",
            "✅ BONKUSDT: 1440 veri noktası alındı\n",
            "✅ BONKUSDT analiz tamamlandı\n",
            "\n"
          ]
        },
        {
          "output_type": "stream",
          "name": "stderr",
          "text": [
            "\rCoinler analiz ediliyor:  17%|█▋        | 58/338 [02:29<11:08,  2.39s/it]"
          ]
        },
        {
          "output_type": "stream",
          "name": "stdout",
          "text": [
            "📊 BTCUSDT verisi çekiliyor...\n",
            "✅ BTCUSDT: 1440 veri noktası alındı\n",
            "✅ BTCUSDT analiz tamamlandı\n",
            "\n"
          ]
        },
        {
          "output_type": "stream",
          "name": "stderr",
          "text": [
            "\rCoinler analiz ediliyor:  17%|█▋        | 59/338 [02:32<11:03,  2.38s/it]"
          ]
        },
        {
          "output_type": "stream",
          "name": "stdout",
          "text": [
            "📊 BTTCUSDT verisi çekiliyor...\n",
            "✅ BTTCUSDT: 1440 veri noktası alındı\n",
            "✅ BTTCUSDT analiz tamamlandı\n",
            "\n"
          ]
        },
        {
          "output_type": "stream",
          "name": "stderr",
          "text": [
            "\rCoinler analiz ediliyor:  18%|█▊        | 60/338 [02:34<11:11,  2.42s/it]"
          ]
        },
        {
          "output_type": "stream",
          "name": "stdout",
          "text": [
            "📊 C98USDT verisi çekiliyor...\n",
            "✅ C98USDT: 1440 veri noktası alındı\n",
            "✅ C98USDT analiz tamamlandı\n",
            "\n"
          ]
        },
        {
          "output_type": "stream",
          "name": "stderr",
          "text": [
            "\rCoinler analiz ediliyor:  18%|█▊        | 61/338 [02:36<11:03,  2.39s/it]"
          ]
        },
        {
          "output_type": "stream",
          "name": "stdout",
          "text": [
            "📊 CAKEUSDT verisi çekiliyor...\n",
            "✅ CAKEUSDT: 1440 veri noktası alındı\n",
            "✅ CAKEUSDT analiz tamamlandı\n",
            "\n"
          ]
        },
        {
          "output_type": "stream",
          "name": "stderr",
          "text": [
            "\rCoinler analiz ediliyor:  18%|█▊        | 62/338 [02:39<11:06,  2.42s/it]"
          ]
        },
        {
          "output_type": "stream",
          "name": "stdout",
          "text": [
            "📊 CATIUSDT verisi çekiliyor...\n",
            "✅ CATIUSDT: 1440 veri noktası alındı\n",
            "✅ CATIUSDT analiz tamamlandı\n",
            "\n"
          ]
        },
        {
          "output_type": "stream",
          "name": "stderr",
          "text": [
            "\rCoinler analiz ediliyor:  19%|█▊        | 63/338 [02:41<10:58,  2.40s/it]"
          ]
        },
        {
          "output_type": "stream",
          "name": "stdout",
          "text": [
            "📊 CELOUSDT verisi çekiliyor...\n",
            "✅ CELOUSDT: 1440 veri noktası alındı\n",
            "✅ CELOUSDT analiz tamamlandı\n",
            "\n"
          ]
        },
        {
          "output_type": "stream",
          "name": "stderr",
          "text": [
            "\rCoinler analiz ediliyor:  19%|█▉        | 64/338 [02:44<10:51,  2.38s/it]"
          ]
        },
        {
          "output_type": "stream",
          "name": "stdout",
          "text": [
            "📊 CELRUSDT verisi çekiliyor...\n",
            "✅ CELRUSDT: 1440 veri noktası alındı\n",
            "✅ CELRUSDT analiz tamamlandı\n",
            "\n"
          ]
        },
        {
          "output_type": "stream",
          "name": "stderr",
          "text": [
            "\rCoinler analiz ediliyor:  19%|█▉        | 65/338 [02:46<10:59,  2.42s/it]"
          ]
        },
        {
          "output_type": "stream",
          "name": "stdout",
          "text": [
            "📊 CFXUSDT verisi çekiliyor...\n",
            "✅ CFXUSDT: 1440 veri noktası alındı\n",
            "✅ CFXUSDT analiz tamamlandı\n",
            "\n"
          ]
        },
        {
          "output_type": "stream",
          "name": "stderr",
          "text": [
            "\rCoinler analiz ediliyor:  20%|█▉        | 66/338 [02:48<10:51,  2.40s/it]"
          ]
        },
        {
          "output_type": "stream",
          "name": "stdout",
          "text": [
            "📊 CHESSUSDT verisi çekiliyor...\n",
            "✅ CHESSUSDT: 1440 veri noktası alındı\n",
            "✅ CHESSUSDT analiz tamamlandı\n",
            "\n"
          ]
        },
        {
          "output_type": "stream",
          "name": "stderr",
          "text": [
            "\rCoinler analiz ediliyor:  20%|█▉        | 67/338 [02:51<10:52,  2.41s/it]"
          ]
        },
        {
          "output_type": "stream",
          "name": "stdout",
          "text": [
            "📊 CHRUSDT verisi çekiliyor...\n",
            "✅ CHRUSDT: 1440 veri noktası alındı\n",
            "✅ CHRUSDT analiz tamamlandı\n",
            "\n"
          ]
        },
        {
          "output_type": "stream",
          "name": "stderr",
          "text": [
            "\rCoinler analiz ediliyor:  20%|██        | 68/338 [02:53<10:52,  2.42s/it]"
          ]
        },
        {
          "output_type": "stream",
          "name": "stdout",
          "text": [
            "📊 CHZUSDT verisi çekiliyor...\n",
            "✅ CHZUSDT: 1440 veri noktası alındı\n",
            "✅ CHZUSDT analiz tamamlandı\n",
            "\n"
          ]
        },
        {
          "output_type": "stream",
          "name": "stderr",
          "text": [
            "\rCoinler analiz ediliyor:  20%|██        | 69/338 [02:56<10:42,  2.39s/it]"
          ]
        },
        {
          "output_type": "stream",
          "name": "stdout",
          "text": [
            "📊 CITYUSDT verisi çekiliyor...\n",
            "✅ CITYUSDT: 1440 veri noktası alındı\n",
            "✅ CITYUSDT analiz tamamlandı\n",
            "\n"
          ]
        },
        {
          "output_type": "stream",
          "name": "stderr",
          "text": [
            "\rCoinler analiz ediliyor:  21%|██        | 70/338 [02:58<10:35,  2.37s/it]"
          ]
        },
        {
          "output_type": "stream",
          "name": "stdout",
          "text": [
            "📊 CKBUSDT verisi çekiliyor...\n",
            "✅ CKBUSDT: 1440 veri noktası alındı\n",
            "✅ CKBUSDT analiz tamamlandı\n",
            "\n"
          ]
        },
        {
          "output_type": "stream",
          "name": "stderr",
          "text": [
            "\rCoinler analiz ediliyor:  21%|██        | 71/338 [03:00<10:29,  2.36s/it]"
          ]
        },
        {
          "output_type": "stream",
          "name": "stdout",
          "text": [
            "📊 COMPUSDT verisi çekiliyor...\n",
            "✅ COMPUSDT: 1440 veri noktası alındı\n",
            "✅ COMPUSDT analiz tamamlandı\n",
            "\n"
          ]
        },
        {
          "output_type": "stream",
          "name": "stderr",
          "text": [
            "\rCoinler analiz ediliyor:  21%|██▏       | 72/338 [03:03<10:24,  2.35s/it]"
          ]
        },
        {
          "output_type": "stream",
          "name": "stdout",
          "text": [
            "📊 COSUSDT verisi çekiliyor...\n",
            "✅ COSUSDT: 1440 veri noktası alındı\n",
            "✅ COSUSDT analiz tamamlandı\n",
            "\n"
          ]
        },
        {
          "output_type": "stream",
          "name": "stderr",
          "text": [
            "\rCoinler analiz ediliyor:  22%|██▏       | 73/338 [03:05<10:30,  2.38s/it]"
          ]
        },
        {
          "output_type": "stream",
          "name": "stdout",
          "text": [
            "📊 COTIUSDT verisi çekiliyor...\n",
            "✅ COTIUSDT: 1440 veri noktası alındı\n",
            "✅ COTIUSDT analiz tamamlandı\n",
            "\n"
          ]
        },
        {
          "output_type": "stream",
          "name": "stderr",
          "text": [
            "\rCoinler analiz ediliyor:  22%|██▏       | 74/338 [03:07<10:19,  2.35s/it]"
          ]
        },
        {
          "output_type": "stream",
          "name": "stdout",
          "text": [
            "📊 CRVUSDT verisi çekiliyor...\n",
            "✅ CRVUSDT: 1440 veri noktası alındı\n",
            "✅ CRVUSDT analiz tamamlandı\n",
            "\n"
          ]
        },
        {
          "output_type": "stream",
          "name": "stderr",
          "text": [
            "\rCoinler analiz ediliyor:  22%|██▏       | 75/338 [03:10<10:08,  2.31s/it]"
          ]
        },
        {
          "output_type": "stream",
          "name": "stdout",
          "text": [
            "📊 CTKUSDT verisi çekiliyor...\n",
            "✅ CTKUSDT: 1440 veri noktası alındı\n",
            "✅ CTKUSDT analiz tamamlandı\n",
            "\n"
          ]
        },
        {
          "output_type": "stream",
          "name": "stderr",
          "text": [
            "\rCoinler analiz ediliyor:  22%|██▏       | 76/338 [03:12<10:08,  2.32s/it]"
          ]
        },
        {
          "output_type": "stream",
          "name": "stdout",
          "text": [
            "📊 CTSIUSDT verisi çekiliyor...\n",
            "✅ CTSIUSDT: 1440 veri noktası alındı\n",
            "✅ CTSIUSDT analiz tamamlandı\n",
            "\n"
          ]
        },
        {
          "output_type": "stream",
          "name": "stderr",
          "text": [
            "\rCoinler analiz ediliyor:  23%|██▎       | 77/338 [03:14<09:59,  2.30s/it]"
          ]
        },
        {
          "output_type": "stream",
          "name": "stdout",
          "text": [
            "📊 CVCUSDT verisi çekiliyor...\n",
            "✅ CVCUSDT: 1440 veri noktası alındı\n",
            "✅ CVCUSDT analiz tamamlandı\n",
            "\n"
          ]
        },
        {
          "output_type": "stream",
          "name": "stderr",
          "text": [
            "\rCoinler analiz ediliyor:  23%|██▎       | 78/338 [03:17<10:07,  2.34s/it]"
          ]
        },
        {
          "output_type": "stream",
          "name": "stdout",
          "text": [
            "📊 CVXUSDT verisi çekiliyor...\n",
            "✅ CVXUSDT: 1440 veri noktası alındı\n",
            "✅ CVXUSDT analiz tamamlandı\n",
            "\n"
          ]
        },
        {
          "output_type": "stream",
          "name": "stderr",
          "text": [
            "\rCoinler analiz ediliyor:  23%|██▎       | 79/338 [03:19<10:12,  2.37s/it]"
          ]
        },
        {
          "output_type": "stream",
          "name": "stdout",
          "text": [
            "📊 CYBERUSDT verisi çekiliyor...\n",
            "✅ CYBERUSDT: 1440 veri noktası alındı\n",
            "✅ CYBERUSDT analiz tamamlandı\n",
            "\n"
          ]
        },
        {
          "output_type": "stream",
          "name": "stderr",
          "text": [
            "\rCoinler analiz ediliyor:  24%|██▎       | 80/338 [03:21<10:01,  2.33s/it]"
          ]
        },
        {
          "output_type": "stream",
          "name": "stdout",
          "text": [
            "📊 DEXEUSDT verisi çekiliyor...\n",
            "✅ DEXEUSDT: 1440 veri noktası alındı\n",
            "✅ DEXEUSDT analiz tamamlandı\n",
            "\n"
          ]
        },
        {
          "output_type": "stream",
          "name": "stderr",
          "text": [
            "\rCoinler analiz ediliyor:  24%|██▍       | 81/338 [03:23<09:51,  2.30s/it]"
          ]
        },
        {
          "output_type": "stream",
          "name": "stdout",
          "text": [
            "📊 DFUSDT verisi çekiliyor...\n",
            "✅ DFUSDT: 1440 veri noktası alındı\n",
            "✅ DFUSDT analiz tamamlandı\n",
            "\n"
          ]
        },
        {
          "output_type": "stream",
          "name": "stderr",
          "text": [
            "\rCoinler analiz ediliyor:  24%|██▍       | 82/338 [03:26<09:45,  2.29s/it]"
          ]
        },
        {
          "output_type": "stream",
          "name": "stdout",
          "text": [
            "📊 DGBUSDT verisi çekiliyor...\n",
            "✅ DGBUSDT: 1440 veri noktası alındı\n",
            "✅ DGBUSDT analiz tamamlandı\n",
            "\n"
          ]
        },
        {
          "output_type": "stream",
          "name": "stderr",
          "text": [
            "\rCoinler analiz ediliyor:  25%|██▍       | 83/338 [03:28<09:45,  2.30s/it]"
          ]
        },
        {
          "output_type": "stream",
          "name": "stdout",
          "text": [
            "📊 DIAUSDT verisi çekiliyor...\n",
            "✅ DIAUSDT: 1440 veri noktası alındı\n",
            "✅ DIAUSDT analiz tamamlandı\n",
            "\n"
          ]
        },
        {
          "output_type": "stream",
          "name": "stderr",
          "text": [
            "\rCoinler analiz ediliyor:  25%|██▍       | 84/338 [03:30<09:39,  2.28s/it]"
          ]
        },
        {
          "output_type": "stream",
          "name": "stdout",
          "text": [
            "📊 DODOUSDT verisi çekiliyor...\n",
            "✅ DODOUSDT: 1440 veri noktası alındı\n",
            "✅ DODOUSDT analiz tamamlandı\n",
            "\n"
          ]
        },
        {
          "output_type": "stream",
          "name": "stderr",
          "text": [
            "\rCoinler analiz ediliyor:  25%|██▌       | 85/338 [03:33<09:34,  2.27s/it]"
          ]
        },
        {
          "output_type": "stream",
          "name": "stdout",
          "text": [
            "📊 DOGEUSDT verisi çekiliyor...\n",
            "✅ DOGEUSDT: 1440 veri noktası alındı\n",
            "✅ DOGEUSDT analiz tamamlandı\n",
            "\n"
          ]
        },
        {
          "output_type": "stream",
          "name": "stderr",
          "text": [
            "\rCoinler analiz ediliyor:  25%|██▌       | 86/338 [03:35<09:29,  2.26s/it]"
          ]
        },
        {
          "output_type": "stream",
          "name": "stdout",
          "text": [
            "📊 DOGSUSDT verisi çekiliyor...\n",
            "✅ DOGSUSDT: 1440 veri noktası alındı\n",
            "✅ DOGSUSDT analiz tamamlandı\n",
            "\n"
          ]
        },
        {
          "output_type": "stream",
          "name": "stderr",
          "text": [
            "\rCoinler analiz ediliyor:  26%|██▌       | 87/338 [03:37<09:27,  2.26s/it]"
          ]
        },
        {
          "output_type": "stream",
          "name": "stdout",
          "text": [
            "📊 DOTUSDT verisi çekiliyor...\n",
            "✅ DOTUSDT: 1440 veri noktası alındı\n",
            "✅ DOTUSDT analiz tamamlandı\n",
            "\n"
          ]
        },
        {
          "output_type": "stream",
          "name": "stderr",
          "text": [
            "\rCoinler analiz ediliyor:  26%|██▌       | 88/338 [03:39<09:32,  2.29s/it]"
          ]
        },
        {
          "output_type": "stream",
          "name": "stdout",
          "text": [
            "📊 DUSKUSDT verisi çekiliyor...\n",
            "✅ DUSKUSDT: 1440 veri noktası alındı\n",
            "✅ DUSKUSDT analiz tamamlandı\n",
            "\n"
          ]
        },
        {
          "output_type": "stream",
          "name": "stderr",
          "text": [
            "\rCoinler analiz ediliyor:  26%|██▋       | 89/338 [03:42<09:44,  2.35s/it]"
          ]
        },
        {
          "output_type": "stream",
          "name": "stdout",
          "text": [
            "📊 DYDXUSDT verisi çekiliyor...\n",
            "✅ DYDXUSDT: 1440 veri noktası alındı\n",
            "✅ DYDXUSDT analiz tamamlandı\n",
            "\n"
          ]
        },
        {
          "output_type": "stream",
          "name": "stderr",
          "text": [
            "\rCoinler analiz ediliyor:  27%|██▋       | 90/338 [03:44<09:51,  2.38s/it]"
          ]
        },
        {
          "output_type": "stream",
          "name": "stdout",
          "text": [
            "📊 DYMUSDT verisi çekiliyor...\n",
            "✅ DYMUSDT: 1440 veri noktası alındı\n",
            "✅ DYMUSDT analiz tamamlandı\n",
            "\n"
          ]
        },
        {
          "output_type": "stream",
          "name": "stderr",
          "text": [
            "\rCoinler analiz ediliyor:  27%|██▋       | 91/338 [03:47<09:49,  2.39s/it]"
          ]
        },
        {
          "output_type": "stream",
          "name": "stdout",
          "text": [
            "📊 EDUUSDT verisi çekiliyor...\n",
            "✅ EDUUSDT: 1440 veri noktası alındı\n",
            "✅ EDUUSDT analiz tamamlandı\n",
            "\n"
          ]
        },
        {
          "output_type": "stream",
          "name": "stderr",
          "text": [
            "\rCoinler analiz ediliyor:  27%|██▋       | 92/338 [03:49<09:44,  2.38s/it]"
          ]
        },
        {
          "output_type": "stream",
          "name": "stdout",
          "text": [
            "📊 EGLDUSDT verisi çekiliyor...\n",
            "✅ EGLDUSDT: 1440 veri noktası alındı\n",
            "✅ EGLDUSDT analiz tamamlandı\n",
            "\n"
          ]
        },
        {
          "output_type": "stream",
          "name": "stderr",
          "text": [
            "\rCoinler analiz ediliyor:  28%|██▊       | 93/338 [03:52<09:46,  2.39s/it]"
          ]
        },
        {
          "output_type": "stream",
          "name": "stdout",
          "text": [
            "📊 EIGENUSDT verisi çekiliyor...\n",
            "✅ EIGENUSDT: 1440 veri noktası alındı\n",
            "✅ EIGENUSDT analiz tamamlandı\n",
            "\n"
          ]
        },
        {
          "output_type": "stream",
          "name": "stderr",
          "text": [
            "\rCoinler analiz ediliyor:  28%|██▊       | 94/338 [03:54<09:40,  2.38s/it]"
          ]
        },
        {
          "output_type": "stream",
          "name": "stdout",
          "text": [
            "📊 ENAUSDT verisi çekiliyor...\n",
            "✅ ENAUSDT: 1440 veri noktası alındı\n",
            "✅ ENAUSDT analiz tamamlandı\n",
            "\n"
          ]
        },
        {
          "output_type": "stream",
          "name": "stderr",
          "text": [
            "\rCoinler analiz ediliyor:  28%|██▊       | 95/338 [03:56<09:38,  2.38s/it]"
          ]
        },
        {
          "output_type": "stream",
          "name": "stdout",
          "text": [
            "📊 ENJUSDT verisi çekiliyor...\n",
            "✅ ENJUSDT: 1440 veri noktası alındı\n",
            "✅ ENJUSDT analiz tamamlandı\n",
            "\n"
          ]
        },
        {
          "output_type": "stream",
          "name": "stderr",
          "text": [
            "\rCoinler analiz ediliyor:  28%|██▊       | 96/338 [03:59<09:39,  2.39s/it]"
          ]
        },
        {
          "output_type": "stream",
          "name": "stdout",
          "text": [
            "📊 ENSUSDT verisi çekiliyor...\n",
            "✅ ENSUSDT: 1440 veri noktası alındı\n",
            "✅ ENSUSDT analiz tamamlandı\n",
            "\n"
          ]
        },
        {
          "output_type": "stream",
          "name": "stderr",
          "text": [
            "\rCoinler analiz ediliyor:  29%|██▊       | 97/338 [04:01<09:33,  2.38s/it]"
          ]
        },
        {
          "output_type": "stream",
          "name": "stdout",
          "text": [
            "📊 ETCUSDT verisi çekiliyor...\n",
            "✅ ETCUSDT: 1440 veri noktası alındı\n",
            "✅ ETCUSDT analiz tamamlandı\n",
            "\n"
          ]
        },
        {
          "output_type": "stream",
          "name": "stderr",
          "text": [
            "\rCoinler analiz ediliyor:  29%|██▉       | 98/338 [04:03<09:28,  2.37s/it]"
          ]
        },
        {
          "output_type": "stream",
          "name": "stdout",
          "text": [
            "📊 ETHFIUSDT verisi çekiliyor...\n",
            "✅ ETHFIUSDT: 1440 veri noktası alındı\n",
            "✅ ETHFIUSDT analiz tamamlandı\n",
            "\n"
          ]
        },
        {
          "output_type": "stream",
          "name": "stderr",
          "text": [
            "\rCoinler analiz ediliyor:  29%|██▉       | 99/338 [04:06<09:25,  2.37s/it]"
          ]
        },
        {
          "output_type": "stream",
          "name": "stdout",
          "text": [
            "📊 ETHUSDT verisi çekiliyor...\n",
            "✅ ETHUSDT: 1440 veri noktası alındı\n",
            "✅ ETHUSDT analiz tamamlandı\n",
            "\n"
          ]
        },
        {
          "output_type": "stream",
          "name": "stderr",
          "text": [
            "\rCoinler analiz ediliyor:  30%|██▉       | 100/338 [04:08<09:22,  2.36s/it]"
          ]
        },
        {
          "output_type": "stream",
          "name": "stdout",
          "text": [
            "📊 EURIUSDT verisi çekiliyor...\n",
            "✅ EURIUSDT: 1440 veri noktası alındı\n",
            "✅ EURIUSDT analiz tamamlandı\n",
            "\n"
          ]
        },
        {
          "output_type": "stream",
          "name": "stderr",
          "text": [
            "\rCoinler analiz ediliyor:  30%|██▉       | 101/338 [04:11<10:07,  2.56s/it]"
          ]
        },
        {
          "output_type": "stream",
          "name": "stdout",
          "text": [
            "📊 EURUSDT verisi çekiliyor...\n",
            "✅ EURUSDT: 1440 veri noktası alındı\n",
            "✅ EURUSDT analiz tamamlandı\n",
            "\n"
          ]
        },
        {
          "output_type": "stream",
          "name": "stderr",
          "text": [
            "\rCoinler analiz ediliyor:  30%|███       | 102/338 [04:14<10:16,  2.61s/it]"
          ]
        },
        {
          "output_type": "stream",
          "name": "stdout",
          "text": [
            "📊 FARMUSDT verisi çekiliyor...\n",
            "✅ FARMUSDT: 1440 veri noktası alındı\n",
            "✅ FARMUSDT analiz tamamlandı\n",
            "\n"
          ]
        },
        {
          "output_type": "stream",
          "name": "stderr",
          "text": [
            "\rCoinler analiz ediliyor:  30%|███       | 103/338 [04:17<10:36,  2.71s/it]"
          ]
        },
        {
          "output_type": "stream",
          "name": "stdout",
          "text": [
            "📊 FDUSDTRY verisi çekiliyor...\n",
            "✅ FDUSDTRY: 1440 veri noktası alındı\n",
            "✅ FDUSDTRY analiz tamamlandı\n",
            "\n"
          ]
        },
        {
          "output_type": "stream",
          "name": "stderr",
          "text": [
            "\rCoinler analiz ediliyor:  31%|███       | 104/338 [04:20<10:56,  2.81s/it]"
          ]
        },
        {
          "output_type": "stream",
          "name": "stdout",
          "text": [
            "📊 FDUSDUSDT verisi çekiliyor...\n",
            "✅ FDUSDUSDT: 1440 veri noktası alındı\n",
            "✅ FDUSDUSDT analiz tamamlandı\n",
            "\n"
          ]
        },
        {
          "output_type": "stream",
          "name": "stderr",
          "text": [
            "\rCoinler analiz ediliyor:  31%|███       | 105/338 [04:23<11:07,  2.86s/it]"
          ]
        },
        {
          "output_type": "stream",
          "name": "stdout",
          "text": [
            "📊 FETUSDT verisi çekiliyor...\n",
            "✅ FETUSDT: 1440 veri noktası alındı\n",
            "✅ FETUSDT analiz tamamlandı\n",
            "\n"
          ]
        },
        {
          "output_type": "stream",
          "name": "stderr",
          "text": [
            "\rCoinler analiz ediliyor:  31%|███▏      | 106/338 [04:25<10:49,  2.80s/it]"
          ]
        },
        {
          "output_type": "stream",
          "name": "stdout",
          "text": [
            "📊 FIDAUSDT verisi çekiliyor...\n",
            "✅ FIDAUSDT: 1440 veri noktası alındı\n",
            "✅ FIDAUSDT analiz tamamlandı\n",
            "\n"
          ]
        },
        {
          "output_type": "stream",
          "name": "stderr",
          "text": [
            "\rCoinler analiz ediliyor:  32%|███▏      | 107/338 [04:28<10:58,  2.85s/it]"
          ]
        },
        {
          "output_type": "stream",
          "name": "stdout",
          "text": [
            "📊 FILUSDT verisi çekiliyor...\n",
            "✅ FILUSDT: 1440 veri noktası alındı\n",
            "✅ FILUSDT analiz tamamlandı\n",
            "\n"
          ]
        },
        {
          "output_type": "stream",
          "name": "stderr",
          "text": [
            "\rCoinler analiz ediliyor:  32%|███▏      | 108/338 [04:31<10:42,  2.79s/it]"
          ]
        },
        {
          "output_type": "stream",
          "name": "stdout",
          "text": [
            "📊 FIOUSDT verisi çekiliyor...\n",
            "✅ FIOUSDT: 1440 veri noktası alındı\n",
            "✅ FIOUSDT analiz tamamlandı\n",
            "\n"
          ]
        },
        {
          "output_type": "stream",
          "name": "stderr",
          "text": [
            "\rCoinler analiz ediliyor:  32%|███▏      | 109/338 [04:34<10:50,  2.84s/it]"
          ]
        },
        {
          "output_type": "stream",
          "name": "stdout",
          "text": [
            "📊 FISUSDT verisi çekiliyor...\n",
            "✅ FISUSDT: 1440 veri noktası alındı\n",
            "✅ FISUSDT analiz tamamlandı\n",
            "\n"
          ]
        },
        {
          "output_type": "stream",
          "name": "stderr",
          "text": [
            "\rCoinler analiz ediliyor:  33%|███▎      | 110/338 [04:37<10:50,  2.85s/it]"
          ]
        },
        {
          "output_type": "stream",
          "name": "stdout",
          "text": [
            "📊 FLMUSDT verisi çekiliyor...\n",
            "✅ FLMUSDT: 1440 veri noktası alındı\n",
            "✅ FLMUSDT analiz tamamlandı\n",
            "\n"
          ]
        },
        {
          "output_type": "stream",
          "name": "stderr",
          "text": [
            "\rCoinler analiz ediliyor:  33%|███▎      | 111/338 [04:40<10:50,  2.87s/it]"
          ]
        },
        {
          "output_type": "stream",
          "name": "stdout",
          "text": [
            "📊 FLOKIUSDT verisi çekiliyor...\n",
            "✅ FLOKIUSDT: 1440 veri noktası alındı\n",
            "✅ FLOKIUSDT analiz tamamlandı\n",
            "\n"
          ]
        },
        {
          "output_type": "stream",
          "name": "stderr",
          "text": [
            "\rCoinler analiz ediliyor:  33%|███▎      | 112/338 [04:42<10:11,  2.71s/it]"
          ]
        },
        {
          "output_type": "stream",
          "name": "stdout",
          "text": [
            "📊 FLOWUSDT verisi çekiliyor...\n",
            "✅ FLOWUSDT: 1440 veri noktası alındı\n",
            "✅ FLOWUSDT analiz tamamlandı\n",
            "\n"
          ]
        },
        {
          "output_type": "stream",
          "name": "stderr",
          "text": [
            "\rCoinler analiz ediliyor:  33%|███▎      | 113/338 [04:44<09:43,  2.59s/it]"
          ]
        },
        {
          "output_type": "stream",
          "name": "stdout",
          "text": [
            "📊 FLUXUSDT verisi çekiliyor...\n",
            "✅ FLUXUSDT: 1440 veri noktası alındı\n",
            "✅ FLUXUSDT analiz tamamlandı\n",
            "\n"
          ]
        },
        {
          "output_type": "stream",
          "name": "stderr",
          "text": [
            "\rCoinler analiz ediliyor:  34%|███▎      | 114/338 [04:47<09:17,  2.49s/it]"
          ]
        },
        {
          "output_type": "stream",
          "name": "stdout",
          "text": [
            "📊 FORTHUSDT verisi çekiliyor...\n",
            "✅ FORTHUSDT: 1440 veri noktası alındı\n",
            "✅ FORTHUSDT analiz tamamlandı\n",
            "\n"
          ]
        },
        {
          "output_type": "stream",
          "name": "stderr",
          "text": [
            "\rCoinler analiz ediliyor:  34%|███▍      | 115/338 [04:49<09:17,  2.50s/it]"
          ]
        },
        {
          "output_type": "stream",
          "name": "stdout",
          "text": [
            "📊 FTTUSDT verisi çekiliyor...\n",
            "✅ FTTUSDT: 1440 veri noktası alındı\n",
            "✅ FTTUSDT analiz tamamlandı\n",
            "\n"
          ]
        },
        {
          "output_type": "stream",
          "name": "stderr",
          "text": [
            "\rCoinler analiz ediliyor:  34%|███▍      | 116/338 [04:52<09:05,  2.46s/it]"
          ]
        },
        {
          "output_type": "stream",
          "name": "stdout",
          "text": [
            "📊 FUNUSDT verisi çekiliyor...\n",
            "✅ FUNUSDT: 1440 veri noktası alındı\n",
            "✅ FUNUSDT analiz tamamlandı\n",
            "\n"
          ]
        },
        {
          "output_type": "stream",
          "name": "stderr",
          "text": [
            "\rCoinler analiz ediliyor:  35%|███▍      | 117/338 [04:54<08:55,  2.42s/it]"
          ]
        },
        {
          "output_type": "stream",
          "name": "stdout",
          "text": [
            "📊 FXSUSDT verisi çekiliyor...\n",
            "✅ FXSUSDT: 1440 veri noktası alındı\n",
            "✅ FXSUSDT analiz tamamlandı\n",
            "\n"
          ]
        },
        {
          "output_type": "stream",
          "name": "stderr",
          "text": [
            "\rCoinler analiz ediliyor:  35%|███▍      | 118/338 [04:56<08:52,  2.42s/it]"
          ]
        },
        {
          "output_type": "stream",
          "name": "stdout",
          "text": [
            "📊 GALAUSDT verisi çekiliyor...\n",
            "✅ GALAUSDT: 1440 veri noktası alındı\n",
            "✅ GALAUSDT analiz tamamlandı\n",
            "\n"
          ]
        },
        {
          "output_type": "stream",
          "name": "stderr",
          "text": [
            "\rCoinler analiz ediliyor:  35%|███▌      | 119/338 [04:59<08:38,  2.37s/it]"
          ]
        },
        {
          "output_type": "stream",
          "name": "stdout",
          "text": [
            "📊 GASUSDT verisi çekiliyor...\n",
            "✅ GASUSDT: 1440 veri noktası alındı\n",
            "✅ GASUSDT analiz tamamlandı\n",
            "\n"
          ]
        },
        {
          "output_type": "stream",
          "name": "stderr",
          "text": [
            "\rCoinler analiz ediliyor:  36%|███▌      | 120/338 [05:01<08:33,  2.35s/it]"
          ]
        },
        {
          "output_type": "stream",
          "name": "stdout",
          "text": [
            "📊 GFTUSDT verisi çekiliyor...\n"
          ]
        },
        {
          "output_type": "stream",
          "name": "stderr",
          "text": [
            "ERROR:tvDatafeed.main:Connection timed out\n",
            "ERROR:tvDatafeed.main:no data, please check the exchange and symbol\n"
          ]
        },
        {
          "output_type": "stream",
          "name": "stdout",
          "text": [
            "❌ GFTUSDT için yeterli veri bulunamadı\n",
            "\n"
          ]
        },
        {
          "output_type": "stream",
          "name": "stderr",
          "text": [
            "\rCoinler analiz ediliyor:  36%|███▌      | 121/338 [05:08<13:42,  3.79s/it]"
          ]
        },
        {
          "output_type": "stream",
          "name": "stdout",
          "text": [
            "📊 GHSTUSDT verisi çekiliyor...\n",
            "✅ GHSTUSDT: 1440 veri noktası alındı\n",
            "✅ GHSTUSDT analiz tamamlandı\n",
            "\n"
          ]
        },
        {
          "output_type": "stream",
          "name": "stderr",
          "text": [
            "\rCoinler analiz ediliyor:  36%|███▌      | 122/338 [05:11<12:12,  3.39s/it]"
          ]
        },
        {
          "output_type": "stream",
          "name": "stdout",
          "text": [
            "📊 GLMRUSDT verisi çekiliyor...\n",
            "✅ GLMRUSDT: 1440 veri noktası alındı\n",
            "✅ GLMRUSDT analiz tamamlandı\n",
            "\n"
          ]
        },
        {
          "output_type": "stream",
          "name": "stderr",
          "text": [
            "\rCoinler analiz ediliyor:  36%|███▋      | 123/338 [05:13<11:26,  3.19s/it]"
          ]
        },
        {
          "output_type": "stream",
          "name": "stdout",
          "text": [
            "📊 GLMUSDT verisi çekiliyor...\n",
            "✅ GLMUSDT: 1440 veri noktası alındı\n",
            "✅ GLMUSDT analiz tamamlandı\n",
            "\n"
          ]
        },
        {
          "output_type": "stream",
          "name": "stderr",
          "text": [
            "\rCoinler analiz ediliyor:  37%|███▋      | 124/338 [05:16<11:08,  3.12s/it]"
          ]
        },
        {
          "output_type": "stream",
          "name": "stdout",
          "text": [
            "📊 GMTUSDT verisi çekiliyor...\n",
            "✅ GMTUSDT: 1440 veri noktası alındı\n",
            "✅ GMTUSDT analiz tamamlandı\n",
            "\n"
          ]
        },
        {
          "output_type": "stream",
          "name": "stderr",
          "text": [
            "\rCoinler analiz ediliyor:  37%|███▋      | 125/338 [05:19<10:34,  2.98s/it]"
          ]
        },
        {
          "output_type": "stream",
          "name": "stdout",
          "text": [
            "📊 GMXUSDT verisi çekiliyor...\n",
            "✅ GMXUSDT: 1440 veri noktası alındı\n",
            "✅ GMXUSDT analiz tamamlandı\n",
            "\n"
          ]
        },
        {
          "output_type": "stream",
          "name": "stderr",
          "text": [
            "\rCoinler analiz ediliyor:  37%|███▋      | 126/338 [05:22<10:27,  2.96s/it]"
          ]
        },
        {
          "output_type": "stream",
          "name": "stdout",
          "text": [
            "📊 GNOUSDT verisi çekiliyor...\n",
            "✅ GNOUSDT: 1440 veri noktası alındı\n",
            "✅ GNOUSDT analiz tamamlandı\n",
            "\n"
          ]
        },
        {
          "output_type": "stream",
          "name": "stderr",
          "text": [
            "\rCoinler analiz ediliyor:  38%|███▊      | 127/338 [05:25<10:28,  2.98s/it]"
          ]
        },
        {
          "output_type": "stream",
          "name": "stdout",
          "text": [
            "📊 GNSUSDT verisi çekiliyor...\n",
            "✅ GNSUSDT: 1440 veri noktası alındı\n",
            "✅ GNSUSDT analiz tamamlandı\n",
            "\n"
          ]
        },
        {
          "output_type": "stream",
          "name": "stderr",
          "text": [
            "\rCoinler analiz ediliyor:  38%|███▊      | 128/338 [05:28<10:21,  2.96s/it]"
          ]
        },
        {
          "output_type": "stream",
          "name": "stdout",
          "text": [
            "📊 GRTUSDT verisi çekiliyor...\n",
            "✅ GRTUSDT: 1440 veri noktası alındı\n",
            "✅ GRTUSDT analiz tamamlandı\n",
            "\n"
          ]
        },
        {
          "output_type": "stream",
          "name": "stderr",
          "text": [
            "\rCoinler analiz ediliyor:  38%|███▊      | 129/338 [05:30<09:59,  2.87s/it]"
          ]
        },
        {
          "output_type": "stream",
          "name": "stdout",
          "text": [
            "📊 GTCUSDT verisi çekiliyor...\n",
            "✅ GTCUSDT: 1440 veri noktası alındı\n",
            "✅ GTCUSDT analiz tamamlandı\n",
            "\n"
          ]
        },
        {
          "output_type": "stream",
          "name": "stderr",
          "text": [
            "\rCoinler analiz ediliyor:  38%|███▊      | 130/338 [05:33<09:42,  2.80s/it]"
          ]
        },
        {
          "output_type": "stream",
          "name": "stdout",
          "text": [
            "📊 GUSDT verisi çekiliyor...\n",
            "✅ GUSDT: 1440 veri noktası alındı\n",
            "✅ GUSDT analiz tamamlandı\n",
            "\n"
          ]
        },
        {
          "output_type": "stream",
          "name": "stderr",
          "text": [
            "\rCoinler analiz ediliyor:  39%|███▉      | 131/338 [05:36<09:56,  2.88s/it]"
          ]
        },
        {
          "output_type": "stream",
          "name": "stdout",
          "text": [
            "📊 HBARUSDT verisi çekiliyor...\n",
            "✅ HBARUSDT: 1440 veri noktası alındı\n",
            "✅ HBARUSDT analiz tamamlandı\n",
            "\n"
          ]
        },
        {
          "output_type": "stream",
          "name": "stderr",
          "text": [
            "\rCoinler analiz ediliyor:  39%|███▉      | 132/338 [05:39<09:39,  2.81s/it]"
          ]
        },
        {
          "output_type": "stream",
          "name": "stdout",
          "text": [
            "📊 HFTUSDT verisi çekiliyor...\n",
            "✅ HFTUSDT: 1440 veri noktası alındı\n",
            "✅ HFTUSDT analiz tamamlandı\n",
            "\n"
          ]
        },
        {
          "output_type": "stream",
          "name": "stderr",
          "text": [
            "\rCoinler analiz ediliyor:  39%|███▉      | 133/338 [05:41<09:26,  2.76s/it]"
          ]
        },
        {
          "output_type": "stream",
          "name": "stdout",
          "text": [
            "📊 HIFIUSDT verisi çekiliyor...\n",
            "✅ HIFIUSDT: 1440 veri noktası alındı\n",
            "✅ HIFIUSDT analiz tamamlandı\n",
            "\n"
          ]
        },
        {
          "output_type": "stream",
          "name": "stderr",
          "text": [
            "\rCoinler analiz ediliyor:  40%|███▉      | 134/338 [05:44<09:04,  2.67s/it]"
          ]
        },
        {
          "output_type": "stream",
          "name": "stdout",
          "text": [
            "📊 HIGHUSDT verisi çekiliyor...\n",
            "✅ HIGHUSDT: 1440 veri noktası alındı\n",
            "✅ HIGHUSDT analiz tamamlandı\n",
            "\n"
          ]
        },
        {
          "output_type": "stream",
          "name": "stderr",
          "text": [
            "\rCoinler analiz ediliyor:  40%|███▉      | 135/338 [05:46<08:38,  2.56s/it]"
          ]
        },
        {
          "output_type": "stream",
          "name": "stdout",
          "text": [
            "📊 HIVEUSDT verisi çekiliyor...\n",
            "✅ HIVEUSDT: 1440 veri noktası alındı\n",
            "✅ HIVEUSDT analiz tamamlandı\n",
            "\n"
          ]
        },
        {
          "output_type": "stream",
          "name": "stderr",
          "text": [
            "\rCoinler analiz ediliyor:  40%|████      | 136/338 [05:48<08:23,  2.49s/it]"
          ]
        },
        {
          "output_type": "stream",
          "name": "stdout",
          "text": [
            "📊 HMSTRUSDT verisi çekiliyor...\n",
            "✅ HMSTRUSDT: 1440 veri noktası alındı\n",
            "✅ HMSTRUSDT analiz tamamlandı\n",
            "\n"
          ]
        },
        {
          "output_type": "stream",
          "name": "stderr",
          "text": [
            "\rCoinler analiz ediliyor:  41%|████      | 137/338 [05:51<08:15,  2.46s/it]"
          ]
        },
        {
          "output_type": "stream",
          "name": "stdout",
          "text": [
            "📊 HOOKUSDT verisi çekiliyor...\n",
            "✅ HOOKUSDT: 1440 veri noktası alındı\n",
            "✅ HOOKUSDT analiz tamamlandı\n",
            "\n"
          ]
        },
        {
          "output_type": "stream",
          "name": "stderr",
          "text": [
            "\rCoinler analiz ediliyor:  41%|████      | 138/338 [05:53<08:01,  2.41s/it]"
          ]
        },
        {
          "output_type": "stream",
          "name": "stdout",
          "text": [
            "📊 HOTUSDT verisi çekiliyor...\n",
            "✅ HOTUSDT: 1440 veri noktası alındı\n",
            "✅ HOTUSDT analiz tamamlandı\n",
            "\n"
          ]
        },
        {
          "output_type": "stream",
          "name": "stderr",
          "text": [
            "\rCoinler analiz ediliyor:  41%|████      | 139/338 [05:55<07:51,  2.37s/it]"
          ]
        },
        {
          "output_type": "stream",
          "name": "stdout",
          "text": [
            "📊 ICPUSDT verisi çekiliyor...\n",
            "✅ ICPUSDT: 1440 veri noktası alındı\n",
            "✅ ICPUSDT analiz tamamlandı\n",
            "\n"
          ]
        },
        {
          "output_type": "stream",
          "name": "stderr",
          "text": [
            "\rCoinler analiz ediliyor:  41%|████▏     | 140/338 [05:58<07:44,  2.35s/it]"
          ]
        },
        {
          "output_type": "stream",
          "name": "stdout",
          "text": [
            "📊 ICXUSDT verisi çekiliyor...\n",
            "✅ ICXUSDT: 1440 veri noktası alındı\n",
            "✅ ICXUSDT analiz tamamlandı\n",
            "\n"
          ]
        },
        {
          "output_type": "stream",
          "name": "stderr",
          "text": [
            "\rCoinler analiz ediliyor:  42%|████▏     | 141/338 [06:00<07:39,  2.33s/it]"
          ]
        },
        {
          "output_type": "stream",
          "name": "stdout",
          "text": [
            "📊 IDEXUSDT verisi çekiliyor...\n",
            "✅ IDEXUSDT: 1440 veri noktası alındı\n",
            "✅ IDEXUSDT analiz tamamlandı\n",
            "\n"
          ]
        },
        {
          "output_type": "stream",
          "name": "stderr",
          "text": [
            "\rCoinler analiz ediliyor:  42%|████▏     | 142/338 [06:02<07:34,  2.32s/it]"
          ]
        },
        {
          "output_type": "stream",
          "name": "stdout",
          "text": [
            "📊 IDUSDT verisi çekiliyor...\n",
            "✅ IDUSDT: 1440 veri noktası alındı\n",
            "✅ IDUSDT analiz tamamlandı\n",
            "\n"
          ]
        },
        {
          "output_type": "stream",
          "name": "stderr",
          "text": [
            "\rCoinler analiz ediliyor:  42%|████▏     | 143/338 [06:05<07:36,  2.34s/it]"
          ]
        },
        {
          "output_type": "stream",
          "name": "stdout",
          "text": [
            "📊 ILVUSDT verisi çekiliyor...\n",
            "✅ ILVUSDT: 1440 veri noktası alındı\n",
            "✅ ILVUSDT analiz tamamlandı\n",
            "\n"
          ]
        },
        {
          "output_type": "stream",
          "name": "stderr",
          "text": [
            "\rCoinler analiz ediliyor:  43%|████▎     | 144/338 [06:07<07:29,  2.32s/it]"
          ]
        },
        {
          "output_type": "stream",
          "name": "stdout",
          "text": [
            "📊 IMXUSDT verisi çekiliyor...\n",
            "✅ IMXUSDT: 1440 veri noktası alındı\n",
            "✅ IMXUSDT analiz tamamlandı\n",
            "\n"
          ]
        },
        {
          "output_type": "stream",
          "name": "stderr",
          "text": [
            "\rCoinler analiz ediliyor:  43%|████▎     | 145/338 [06:09<07:25,  2.31s/it]"
          ]
        },
        {
          "output_type": "stream",
          "name": "stdout",
          "text": [
            "📊 INJUSDT verisi çekiliyor...\n",
            "✅ INJUSDT: 1440 veri noktası alındı\n",
            "✅ INJUSDT analiz tamamlandı\n",
            "\n"
          ]
        },
        {
          "output_type": "stream",
          "name": "stderr",
          "text": [
            "\rCoinler analiz ediliyor:  43%|████▎     | 146/338 [06:12<07:22,  2.30s/it]"
          ]
        },
        {
          "output_type": "stream",
          "name": "stdout",
          "text": [
            "📊 IOSTUSDT verisi çekiliyor...\n",
            "✅ IOSTUSDT: 1440 veri noktası alındı\n",
            "✅ IOSTUSDT analiz tamamlandı\n",
            "\n"
          ]
        },
        {
          "output_type": "stream",
          "name": "stderr",
          "text": [
            "\rCoinler analiz ediliyor:  43%|████▎     | 147/338 [06:14<07:41,  2.42s/it]"
          ]
        },
        {
          "output_type": "stream",
          "name": "stdout",
          "text": [
            "📊 IOTAUSDT verisi çekiliyor...\n",
            "✅ IOTAUSDT: 1440 veri noktası alındı\n",
            "✅ IOTAUSDT analiz tamamlandı\n",
            "\n"
          ]
        },
        {
          "output_type": "stream",
          "name": "stderr",
          "text": [
            "\rCoinler analiz ediliyor:  44%|████▍     | 148/338 [06:17<07:56,  2.51s/it]"
          ]
        },
        {
          "output_type": "stream",
          "name": "stdout",
          "text": [
            "📊 IOTXUSDT verisi çekiliyor...\n",
            "✅ IOTXUSDT: 1440 veri noktası alındı\n",
            "✅ IOTXUSDT analiz tamamlandı\n",
            "\n"
          ]
        },
        {
          "output_type": "stream",
          "name": "stderr",
          "text": [
            "\rCoinler analiz ediliyor:  44%|████▍     | 149/338 [06:20<08:19,  2.64s/it]"
          ]
        },
        {
          "output_type": "stream",
          "name": "stdout",
          "text": [
            "📊 IOUSDT verisi çekiliyor...\n",
            "✅ IOUSDT: 1440 veri noktası alındı\n",
            "✅ IOUSDT analiz tamamlandı\n",
            "\n"
          ]
        },
        {
          "output_type": "stream",
          "name": "stderr",
          "text": [
            "\rCoinler analiz ediliyor:  44%|████▍     | 150/338 [06:23<08:18,  2.65s/it]"
          ]
        },
        {
          "output_type": "stream",
          "name": "stdout",
          "text": [
            "📊 IQUSDT verisi çekiliyor...\n",
            "✅ IQUSDT: 1440 veri noktası alındı\n",
            "✅ IQUSDT analiz tamamlandı\n",
            "\n"
          ]
        },
        {
          "output_type": "stream",
          "name": "stderr",
          "text": [
            "\rCoinler analiz ediliyor:  45%|████▍     | 151/338 [06:26<08:37,  2.77s/it]"
          ]
        },
        {
          "output_type": "stream",
          "name": "stdout",
          "text": [
            "📊 JASMYUSDT verisi çekiliyor...\n",
            "✅ JASMYUSDT: 1440 veri noktası alındı\n",
            "✅ JASMYUSDT analiz tamamlandı\n",
            "\n"
          ]
        },
        {
          "output_type": "stream",
          "name": "stderr",
          "text": [
            "\rCoinler analiz ediliyor:  45%|████▍     | 152/338 [06:28<08:28,  2.73s/it]"
          ]
        },
        {
          "output_type": "stream",
          "name": "stdout",
          "text": [
            "📊 JOEUSDT verisi çekiliyor...\n",
            "✅ JOEUSDT: 1440 veri noktası alındı\n",
            "✅ JOEUSDT analiz tamamlandı\n",
            "\n"
          ]
        },
        {
          "output_type": "stream",
          "name": "stderr",
          "text": [
            "\rCoinler analiz ediliyor:  45%|████▌     | 153/338 [06:31<08:21,  2.71s/it]"
          ]
        },
        {
          "output_type": "stream",
          "name": "stdout",
          "text": [
            "📊 JSTUSDT verisi çekiliyor...\n",
            "✅ JSTUSDT: 1440 veri noktası alındı\n",
            "✅ JSTUSDT analiz tamamlandı\n",
            "\n"
          ]
        },
        {
          "output_type": "stream",
          "name": "stderr",
          "text": [
            "\rCoinler analiz ediliyor:  46%|████▌     | 154/338 [06:34<08:28,  2.77s/it]"
          ]
        },
        {
          "output_type": "stream",
          "name": "stdout",
          "text": [
            "📊 JTOUSDT verisi çekiliyor...\n",
            "✅ JTOUSDT: 1440 veri noktası alındı\n",
            "✅ JTOUSDT analiz tamamlandı\n",
            "\n"
          ]
        },
        {
          "output_type": "stream",
          "name": "stderr",
          "text": [
            "\rCoinler analiz ediliyor:  46%|████▌     | 155/338 [06:37<08:28,  2.78s/it]"
          ]
        },
        {
          "output_type": "stream",
          "name": "stdout",
          "text": [
            "📊 JUPUSDT verisi çekiliyor...\n",
            "✅ JUPUSDT: 1440 veri noktası alındı\n",
            "✅ JUPUSDT analiz tamamlandı\n",
            "\n"
          ]
        },
        {
          "output_type": "stream",
          "name": "stderr",
          "text": [
            "\rCoinler analiz ediliyor:  46%|████▌     | 156/338 [06:39<08:25,  2.78s/it]"
          ]
        },
        {
          "output_type": "stream",
          "name": "stdout",
          "text": [
            "📊 JUVUSDT verisi çekiliyor...\n",
            "✅ JUVUSDT: 1440 veri noktası alındı\n",
            "✅ JUVUSDT analiz tamamlandı\n",
            "\n"
          ]
        },
        {
          "output_type": "stream",
          "name": "stderr",
          "text": [
            "\rCoinler analiz ediliyor:  46%|████▋     | 157/338 [06:42<08:26,  2.80s/it]"
          ]
        },
        {
          "output_type": "stream",
          "name": "stdout",
          "text": [
            "📊 KAVAUSDT verisi çekiliyor...\n",
            "✅ KAVAUSDT: 1440 veri noktası alındı\n",
            "✅ KAVAUSDT analiz tamamlandı\n",
            "\n"
          ]
        },
        {
          "output_type": "stream",
          "name": "stderr",
          "text": [
            "\rCoinler analiz ediliyor:  47%|████▋     | 158/338 [06:45<08:16,  2.76s/it]"
          ]
        },
        {
          "output_type": "stream",
          "name": "stdout",
          "text": [
            "📊 KDAUSDT verisi çekiliyor...\n",
            "✅ KDAUSDT: 1440 veri noktası alındı\n",
            "✅ KDAUSDT analiz tamamlandı\n",
            "\n"
          ]
        },
        {
          "output_type": "stream",
          "name": "stderr",
          "text": [
            "\rCoinler analiz ediliyor:  47%|████▋     | 159/338 [06:48<08:17,  2.78s/it]"
          ]
        },
        {
          "output_type": "stream",
          "name": "stdout",
          "text": [
            "📊 KNCUSDT verisi çekiliyor...\n",
            "✅ KNCUSDT: 1440 veri noktası alındı\n",
            "✅ KNCUSDT analiz tamamlandı\n",
            "\n"
          ]
        },
        {
          "output_type": "stream",
          "name": "stderr",
          "text": [
            "\rCoinler analiz ediliyor:  47%|████▋     | 160/338 [06:51<08:23,  2.83s/it]"
          ]
        },
        {
          "output_type": "stream",
          "name": "stdout",
          "text": [
            "📊 KSMUSDT verisi çekiliyor...\n",
            "✅ KSMUSDT: 1440 veri noktası alındı\n",
            "✅ KSMUSDT analiz tamamlandı\n",
            "\n"
          ]
        },
        {
          "output_type": "stream",
          "name": "stderr",
          "text": [
            "\rCoinler analiz ediliyor:  48%|████▊     | 161/338 [06:53<08:10,  2.77s/it]"
          ]
        },
        {
          "output_type": "stream",
          "name": "stdout",
          "text": [
            "📊 LAZIOUSDT verisi çekiliyor...\n",
            "✅ LAZIOUSDT: 1440 veri noktası alındı\n",
            "✅ LAZIOUSDT analiz tamamlandı\n",
            "\n"
          ]
        },
        {
          "output_type": "stream",
          "name": "stderr",
          "text": [
            "\rCoinler analiz ediliyor:  48%|████▊     | 162/338 [06:56<08:25,  2.87s/it]"
          ]
        },
        {
          "output_type": "stream",
          "name": "stdout",
          "text": [
            "📊 LDOUSDT verisi çekiliyor...\n",
            "✅ LDOUSDT: 1440 veri noktası alındı\n",
            "✅ LDOUSDT analiz tamamlandı\n",
            "\n"
          ]
        },
        {
          "output_type": "stream",
          "name": "stderr",
          "text": [
            "\rCoinler analiz ediliyor:  48%|████▊     | 163/338 [06:59<08:10,  2.80s/it]"
          ]
        },
        {
          "output_type": "stream",
          "name": "stdout",
          "text": [
            "📊 LINKUSDT verisi çekiliyor...\n",
            "✅ LINKUSDT: 1440 veri noktası alındı\n",
            "✅ LINKUSDT analiz tamamlandı\n",
            "\n"
          ]
        },
        {
          "output_type": "stream",
          "name": "stderr",
          "text": [
            "\rCoinler analiz ediliyor:  49%|████▊     | 164/338 [07:02<08:02,  2.77s/it]"
          ]
        },
        {
          "output_type": "stream",
          "name": "stdout",
          "text": [
            "📊 LISTAUSDT verisi çekiliyor...\n",
            "✅ LISTAUSDT: 1440 veri noktası alındı\n",
            "✅ LISTAUSDT analiz tamamlandı\n",
            "\n"
          ]
        },
        {
          "output_type": "stream",
          "name": "stderr",
          "text": [
            "\rCoinler analiz ediliyor:  49%|████▉     | 165/338 [07:05<08:13,  2.85s/it]"
          ]
        },
        {
          "output_type": "stream",
          "name": "stdout",
          "text": [
            "📊 LPTUSDT verisi çekiliyor...\n",
            "✅ LPTUSDT: 1440 veri noktası alındı\n",
            "✅ LPTUSDT analiz tamamlandı\n",
            "\n"
          ]
        },
        {
          "output_type": "stream",
          "name": "stderr",
          "text": [
            "\rCoinler analiz ediliyor:  49%|████▉     | 166/338 [07:07<07:59,  2.79s/it]"
          ]
        },
        {
          "output_type": "stream",
          "name": "stdout",
          "text": [
            "📊 LQTYUSDT verisi çekiliyor...\n",
            "✅ LQTYUSDT: 1440 veri noktası alındı\n",
            "✅ LQTYUSDT analiz tamamlandı\n",
            "\n"
          ]
        },
        {
          "output_type": "stream",
          "name": "stderr",
          "text": [
            "\rCoinler analiz ediliyor:  49%|████▉     | 167/338 [07:10<07:49,  2.75s/it]"
          ]
        },
        {
          "output_type": "stream",
          "name": "stdout",
          "text": [
            "📊 LRCUSDT verisi çekiliyor...\n",
            "✅ LRCUSDT: 1440 veri noktası alındı\n",
            "✅ LRCUSDT analiz tamamlandı\n",
            "\n"
          ]
        },
        {
          "output_type": "stream",
          "name": "stderr",
          "text": [
            "\rCoinler analiz ediliyor:  50%|████▉     | 168/338 [07:13<07:57,  2.81s/it]"
          ]
        },
        {
          "output_type": "stream",
          "name": "stdout",
          "text": [
            "📊 LSKUSDT verisi çekiliyor...\n",
            "✅ LSKUSDT: 1440 veri noktası alındı\n",
            "✅ LSKUSDT analiz tamamlandı\n",
            "\n"
          ]
        },
        {
          "output_type": "stream",
          "name": "stderr",
          "text": [
            "\rCoinler analiz ediliyor:  50%|█████     | 169/338 [07:15<07:31,  2.67s/it]"
          ]
        },
        {
          "output_type": "stream",
          "name": "stdout",
          "text": [
            "📊 LTCUSDT verisi çekiliyor...\n",
            "✅ LTCUSDT: 1440 veri noktası alındı\n",
            "✅ LTCUSDT analiz tamamlandı\n",
            "\n"
          ]
        },
        {
          "output_type": "stream",
          "name": "stderr",
          "text": [
            "\rCoinler analiz ediliyor:  50%|█████     | 170/338 [07:18<07:08,  2.55s/it]"
          ]
        },
        {
          "output_type": "stream",
          "name": "stdout",
          "text": [
            "📊 LUMIAUSDT verisi çekiliyor...\n",
            "✅ LUMIAUSDT: 1440 veri noktası alındı\n",
            "✅ LUMIAUSDT analiz tamamlandı\n",
            "\n"
          ]
        },
        {
          "output_type": "stream",
          "name": "stderr",
          "text": [
            "\rCoinler analiz ediliyor:  51%|█████     | 171/338 [07:20<06:54,  2.48s/it]"
          ]
        },
        {
          "output_type": "stream",
          "name": "stdout",
          "text": [
            "📊 LUNAUSDT verisi çekiliyor...\n",
            "✅ LUNAUSDT: 1440 veri noktası alındı\n",
            "✅ LUNAUSDT analiz tamamlandı\n",
            "\n"
          ]
        },
        {
          "output_type": "stream",
          "name": "stderr",
          "text": [
            "\rCoinler analiz ediliyor:  51%|█████     | 172/338 [07:22<06:43,  2.43s/it]"
          ]
        },
        {
          "output_type": "stream",
          "name": "stdout",
          "text": [
            "📊 LUNCUSDT verisi çekiliyor...\n",
            "✅ LUNCUSDT: 1440 veri noktası alındı\n",
            "✅ LUNCUSDT analiz tamamlandı\n",
            "\n"
          ]
        },
        {
          "output_type": "stream",
          "name": "stderr",
          "text": [
            "\rCoinler analiz ediliyor:  51%|█████     | 173/338 [07:25<06:39,  2.42s/it]"
          ]
        },
        {
          "output_type": "stream",
          "name": "stdout",
          "text": [
            "📊 MAGICUSDT verisi çekiliyor...\n",
            "✅ MAGICUSDT: 1440 veri noktası alındı\n",
            "✅ MAGICUSDT analiz tamamlandı\n",
            "\n"
          ]
        },
        {
          "output_type": "stream",
          "name": "stderr",
          "text": [
            "\rCoinler analiz ediliyor:  51%|█████▏    | 174/338 [07:27<06:29,  2.37s/it]"
          ]
        },
        {
          "output_type": "stream",
          "name": "stdout",
          "text": [
            "📊 MANAUSDT verisi çekiliyor...\n",
            "✅ MANAUSDT: 1440 veri noktası alındı\n",
            "✅ MANAUSDT analiz tamamlandı\n",
            "\n"
          ]
        },
        {
          "output_type": "stream",
          "name": "stderr",
          "text": [
            "\rCoinler analiz ediliyor:  52%|█████▏    | 175/338 [07:29<06:20,  2.33s/it]"
          ]
        },
        {
          "output_type": "stream",
          "name": "stdout",
          "text": [
            "📊 MANTAUSDT verisi çekiliyor...\n",
            "✅ MANTAUSDT: 1440 veri noktası alındı\n",
            "✅ MANTAUSDT analiz tamamlandı\n",
            "\n"
          ]
        },
        {
          "output_type": "stream",
          "name": "stderr",
          "text": [
            "\rCoinler analiz ediliyor:  52%|█████▏    | 176/338 [07:32<06:21,  2.36s/it]"
          ]
        },
        {
          "output_type": "stream",
          "name": "stdout",
          "text": [
            "📊 MASKUSDT verisi çekiliyor...\n",
            "✅ MASKUSDT: 1440 veri noktası alındı\n",
            "✅ MASKUSDT analiz tamamlandı\n",
            "\n"
          ]
        },
        {
          "output_type": "stream",
          "name": "stderr",
          "text": [
            "\rCoinler analiz ediliyor:  52%|█████▏    | 177/338 [07:34<06:17,  2.35s/it]"
          ]
        },
        {
          "output_type": "stream",
          "name": "stdout",
          "text": [
            "📊 MAVUSDT verisi çekiliyor...\n",
            "✅ MAVUSDT: 1440 veri noktası alındı\n",
            "✅ MAVUSDT analiz tamamlandı\n",
            "\n"
          ]
        },
        {
          "output_type": "stream",
          "name": "stderr",
          "text": [
            "\rCoinler analiz ediliyor:  53%|█████▎    | 178/338 [07:36<06:10,  2.32s/it]"
          ]
        },
        {
          "output_type": "stream",
          "name": "stdout",
          "text": [
            "📊 MBLUSDT verisi çekiliyor...\n",
            "✅ MBLUSDT: 1440 veri noktası alındı\n",
            "✅ MBLUSDT analiz tamamlandı\n",
            "\n"
          ]
        },
        {
          "output_type": "stream",
          "name": "stderr",
          "text": [
            "\rCoinler analiz ediliyor:  53%|█████▎    | 179/338 [07:38<06:04,  2.29s/it]"
          ]
        },
        {
          "output_type": "stream",
          "name": "stdout",
          "text": [
            "📊 MBOXUSDT verisi çekiliyor...\n",
            "✅ MBOXUSDT: 1440 veri noktası alındı\n",
            "✅ MBOXUSDT analiz tamamlandı\n",
            "\n"
          ]
        },
        {
          "output_type": "stream",
          "name": "stderr",
          "text": [
            "\rCoinler analiz ediliyor:  53%|█████▎    | 180/338 [07:41<05:59,  2.28s/it]"
          ]
        },
        {
          "output_type": "stream",
          "name": "stdout",
          "text": [
            "📊 MDTUSDT verisi çekiliyor...\n",
            "✅ MDTUSDT: 1440 veri noktası alındı\n",
            "✅ MDTUSDT analiz tamamlandı\n",
            "\n"
          ]
        },
        {
          "output_type": "stream",
          "name": "stderr",
          "text": [
            "\rCoinler analiz ediliyor:  54%|█████▎    | 181/338 [07:43<05:59,  2.29s/it]"
          ]
        },
        {
          "output_type": "stream",
          "name": "stdout",
          "text": [
            "📊 MEMEUSDT verisi çekiliyor...\n",
            "✅ MEMEUSDT: 1440 veri noktası alındı\n",
            "✅ MEMEUSDT analiz tamamlandı\n",
            "\n"
          ]
        },
        {
          "output_type": "stream",
          "name": "stderr",
          "text": [
            "\rCoinler analiz ediliyor:  54%|█████▍    | 182/338 [07:45<06:00,  2.31s/it]"
          ]
        },
        {
          "output_type": "stream",
          "name": "stdout",
          "text": [
            "📊 METISUSDT verisi çekiliyor...\n",
            "✅ METISUSDT: 1440 veri noktası alındı\n",
            "✅ METISUSDT analiz tamamlandı\n",
            "\n"
          ]
        },
        {
          "output_type": "stream",
          "name": "stderr",
          "text": [
            "\rCoinler analiz ediliyor:  54%|█████▍    | 183/338 [07:48<06:02,  2.34s/it]"
          ]
        },
        {
          "output_type": "stream",
          "name": "stdout",
          "text": [
            "📊 MINAUSDT verisi çekiliyor...\n",
            "✅ MINAUSDT: 1440 veri noktası alındı\n",
            "✅ MINAUSDT analiz tamamlandı\n",
            "\n"
          ]
        },
        {
          "output_type": "stream",
          "name": "stderr",
          "text": [
            "\rCoinler analiz ediliyor:  54%|█████▍    | 184/338 [07:50<06:00,  2.34s/it]"
          ]
        },
        {
          "output_type": "stream",
          "name": "stdout",
          "text": [
            "📊 MKRUSDT verisi çekiliyor...\n",
            "✅ MKRUSDT: 1440 veri noktası alındı\n",
            "✅ MKRUSDT analiz tamamlandı\n",
            "\n"
          ]
        },
        {
          "output_type": "stream",
          "name": "stderr",
          "text": [
            "\rCoinler analiz ediliyor:  55%|█████▍    | 185/338 [07:52<05:59,  2.35s/it]"
          ]
        },
        {
          "output_type": "stream",
          "name": "stdout",
          "text": [
            "📊 MLNUSDT verisi çekiliyor...\n",
            "✅ MLNUSDT: 1440 veri noktası alındı\n",
            "✅ MLNUSDT analiz tamamlandı\n",
            "\n"
          ]
        },
        {
          "output_type": "stream",
          "name": "stderr",
          "text": [
            "\rCoinler analiz ediliyor:  55%|█████▌    | 186/338 [07:55<06:03,  2.39s/it]"
          ]
        },
        {
          "output_type": "stream",
          "name": "stdout",
          "text": [
            "📊 MOVRUSDT verisi çekiliyor...\n",
            "✅ MOVRUSDT: 1440 veri noktası alındı\n",
            "✅ MOVRUSDT analiz tamamlandı\n",
            "\n"
          ]
        },
        {
          "output_type": "stream",
          "name": "stderr",
          "text": [
            "\rCoinler analiz ediliyor:  55%|█████▌    | 187/338 [07:57<05:59,  2.38s/it]"
          ]
        },
        {
          "output_type": "stream",
          "name": "stdout",
          "text": [
            "📊 MTLUSDT verisi çekiliyor...\n",
            "✅ MTLUSDT: 1440 veri noktası alındı\n",
            "✅ MTLUSDT analiz tamamlandı\n",
            "\n"
          ]
        },
        {
          "output_type": "stream",
          "name": "stderr",
          "text": [
            "\rCoinler analiz ediliyor:  56%|█████▌    | 188/338 [08:00<05:57,  2.38s/it]"
          ]
        },
        {
          "output_type": "stream",
          "name": "stdout",
          "text": [
            "📊 NEARUSDT verisi çekiliyor...\n",
            "✅ NEARUSDT: 1440 veri noktası alındı\n",
            "✅ NEARUSDT analiz tamamlandı\n",
            "\n"
          ]
        },
        {
          "output_type": "stream",
          "name": "stderr",
          "text": [
            "\rCoinler analiz ediliyor:  56%|█████▌    | 189/338 [08:02<05:54,  2.38s/it]"
          ]
        },
        {
          "output_type": "stream",
          "name": "stdout",
          "text": [
            "📊 NEIROUSDT verisi çekiliyor...\n",
            "✅ NEIROUSDT: 1440 veri noktası alındı\n",
            "✅ NEIROUSDT analiz tamamlandı\n",
            "\n"
          ]
        },
        {
          "output_type": "stream",
          "name": "stderr",
          "text": [
            "\rCoinler analiz ediliyor:  56%|█████▌    | 190/338 [08:04<05:50,  2.37s/it]"
          ]
        },
        {
          "output_type": "stream",
          "name": "stdout",
          "text": [
            "📊 NEOUSDT verisi çekiliyor...\n",
            "✅ NEOUSDT: 1440 veri noktası alındı\n",
            "✅ NEOUSDT analiz tamamlandı\n",
            "\n"
          ]
        },
        {
          "output_type": "stream",
          "name": "stderr",
          "text": [
            "\rCoinler analiz ediliyor:  57%|█████▋    | 191/338 [08:07<05:46,  2.36s/it]"
          ]
        },
        {
          "output_type": "stream",
          "name": "stdout",
          "text": [
            "📊 NEXOUSDT verisi çekiliyor...\n",
            "✅ NEXOUSDT: 1440 veri noktası alındı\n",
            "✅ NEXOUSDT analiz tamamlandı\n",
            "\n"
          ]
        },
        {
          "output_type": "stream",
          "name": "stderr",
          "text": [
            "\rCoinler analiz ediliyor:  57%|█████▋    | 192/338 [08:09<05:52,  2.41s/it]"
          ]
        },
        {
          "output_type": "stream",
          "name": "stdout",
          "text": [
            "📊 NFPUSDT verisi çekiliyor...\n",
            "✅ NFPUSDT: 1440 veri noktası alındı\n",
            "✅ NFPUSDT analiz tamamlandı\n",
            "\n"
          ]
        },
        {
          "output_type": "stream",
          "name": "stderr",
          "text": [
            "\rCoinler analiz ediliyor:  57%|█████▋    | 193/338 [08:12<05:49,  2.41s/it]"
          ]
        },
        {
          "output_type": "stream",
          "name": "stdout",
          "text": [
            "📊 NKNUSDT verisi çekiliyor...\n",
            "✅ NKNUSDT: 1440 veri noktası alındı\n",
            "✅ NKNUSDT analiz tamamlandı\n",
            "\n"
          ]
        },
        {
          "output_type": "stream",
          "name": "stderr",
          "text": [
            "\rCoinler analiz ediliyor:  57%|█████▋    | 194/338 [08:14<05:43,  2.39s/it]"
          ]
        },
        {
          "output_type": "stream",
          "name": "stdout",
          "text": [
            "📊 NMRUSDT verisi çekiliyor...\n",
            "✅ NMRUSDT: 1440 veri noktası alındı\n",
            "✅ NMRUSDT analiz tamamlandı\n",
            "\n"
          ]
        },
        {
          "output_type": "stream",
          "name": "stderr",
          "text": [
            "\rCoinler analiz ediliyor:  58%|█████▊    | 195/338 [08:16<05:37,  2.36s/it]"
          ]
        },
        {
          "output_type": "stream",
          "name": "stdout",
          "text": [
            "📊 NOTUSDT verisi çekiliyor...\n",
            "✅ NOTUSDT: 1440 veri noktası alındı\n",
            "✅ NOTUSDT analiz tamamlandı\n",
            "\n"
          ]
        },
        {
          "output_type": "stream",
          "name": "stderr",
          "text": [
            "\rCoinler analiz ediliyor:  58%|█████▊    | 196/338 [08:19<05:31,  2.33s/it]"
          ]
        },
        {
          "output_type": "stream",
          "name": "stdout",
          "text": [
            "📊 NTRNUSDT verisi çekiliyor...\n",
            "✅ NTRNUSDT: 1440 veri noktası alındı\n",
            "✅ NTRNUSDT analiz tamamlandı\n",
            "\n"
          ]
        },
        {
          "output_type": "stream",
          "name": "stderr",
          "text": [
            "\rCoinler analiz ediliyor:  58%|█████▊    | 197/338 [08:21<05:27,  2.33s/it]"
          ]
        },
        {
          "output_type": "stream",
          "name": "stdout",
          "text": [
            "📊 OGNUSDT verisi çekiliyor...\n",
            "✅ OGNUSDT: 1440 veri noktası alındı\n",
            "✅ OGNUSDT analiz tamamlandı\n",
            "\n"
          ]
        },
        {
          "output_type": "stream",
          "name": "stderr",
          "text": [
            "\rCoinler analiz ediliyor:  59%|█████▊    | 198/338 [08:23<05:24,  2.31s/it]"
          ]
        },
        {
          "output_type": "stream",
          "name": "stdout",
          "text": [
            "📊 OGUSDT verisi çekiliyor...\n",
            "✅ OGUSDT: 1440 veri noktası alındı\n",
            "✅ OGUSDT analiz tamamlandı\n",
            "\n"
          ]
        },
        {
          "output_type": "stream",
          "name": "stderr",
          "text": [
            "\rCoinler analiz ediliyor:  59%|█████▉    | 199/338 [08:26<05:26,  2.35s/it]"
          ]
        },
        {
          "output_type": "stream",
          "name": "stdout",
          "text": [
            "📊 OMNIUSDT verisi çekiliyor...\n",
            "✅ OMNIUSDT: 1440 veri noktası alındı\n",
            "✅ OMNIUSDT analiz tamamlandı\n",
            "\n"
          ]
        },
        {
          "output_type": "stream",
          "name": "stderr",
          "text": [
            "\rCoinler analiz ediliyor:  59%|█████▉    | 200/338 [08:28<05:24,  2.35s/it]"
          ]
        },
        {
          "output_type": "stream",
          "name": "stdout",
          "text": [
            "📊 OMUSDT verisi çekiliyor...\n",
            "✅ OMUSDT: 1440 veri noktası alındı\n",
            "✅ OMUSDT analiz tamamlandı\n",
            "\n"
          ]
        },
        {
          "output_type": "stream",
          "name": "stderr",
          "text": [
            "\rCoinler analiz ediliyor:  59%|█████▉    | 201/338 [08:30<05:17,  2.32s/it]"
          ]
        },
        {
          "output_type": "stream",
          "name": "stdout",
          "text": [
            "📊 ONEUSDT verisi çekiliyor...\n",
            "✅ ONEUSDT: 1440 veri noktası alındı\n",
            "✅ ONEUSDT analiz tamamlandı\n",
            "\n"
          ]
        },
        {
          "output_type": "stream",
          "name": "stderr",
          "text": [
            "\rCoinler analiz ediliyor:  60%|█████▉    | 202/338 [08:32<05:12,  2.30s/it]"
          ]
        },
        {
          "output_type": "stream",
          "name": "stdout",
          "text": [
            "📊 ONGUSDT verisi çekiliyor...\n",
            "✅ ONGUSDT: 1440 veri noktası alındı\n",
            "✅ ONGUSDT analiz tamamlandı\n",
            "\n"
          ]
        },
        {
          "output_type": "stream",
          "name": "stderr",
          "text": [
            "\rCoinler analiz ediliyor:  60%|██████    | 203/338 [08:35<05:14,  2.33s/it]"
          ]
        },
        {
          "output_type": "stream",
          "name": "stdout",
          "text": [
            "📊 ONTUSDT verisi çekiliyor...\n",
            "✅ ONTUSDT: 1440 veri noktası alındı\n",
            "✅ ONTUSDT analiz tamamlandı\n",
            "\n"
          ]
        },
        {
          "output_type": "stream",
          "name": "stderr",
          "text": [
            "\rCoinler analiz ediliyor:  60%|██████    | 204/338 [08:37<05:08,  2.30s/it]"
          ]
        },
        {
          "output_type": "stream",
          "name": "stdout",
          "text": [
            "📊 OPUSDT verisi çekiliyor...\n",
            "✅ OPUSDT: 1440 veri noktası alındı\n",
            "✅ OPUSDT analiz tamamlandı\n",
            "\n"
          ]
        },
        {
          "output_type": "stream",
          "name": "stderr",
          "text": [
            "\rCoinler analiz ediliyor:  61%|██████    | 205/338 [08:40<05:13,  2.36s/it]"
          ]
        },
        {
          "output_type": "stream",
          "name": "stdout",
          "text": [
            "📊 ORDIUSDT verisi çekiliyor...\n",
            "✅ ORDIUSDT: 1440 veri noktası alındı\n",
            "✅ ORDIUSDT analiz tamamlandı\n",
            "\n"
          ]
        },
        {
          "output_type": "stream",
          "name": "stderr",
          "text": [
            "\rCoinler analiz ediliyor:  61%|██████    | 206/338 [08:42<05:06,  2.32s/it]"
          ]
        },
        {
          "output_type": "stream",
          "name": "stdout",
          "text": [
            "📊 OSMOUSDT verisi çekiliyor...\n",
            "✅ OSMOUSDT: 1440 veri noktası alındı\n",
            "✅ OSMOUSDT analiz tamamlandı\n",
            "\n"
          ]
        },
        {
          "output_type": "stream",
          "name": "stderr",
          "text": [
            "\rCoinler analiz ediliyor:  61%|██████    | 207/338 [08:44<05:05,  2.33s/it]"
          ]
        },
        {
          "output_type": "stream",
          "name": "stdout",
          "text": [
            "📊 OXTUSDT verisi çekiliyor...\n",
            "✅ OXTUSDT: 1440 veri noktası alındı\n",
            "✅ OXTUSDT analiz tamamlandı\n",
            "\n"
          ]
        },
        {
          "output_type": "stream",
          "name": "stderr",
          "text": [
            "\rCoinler analiz ediliyor:  62%|██████▏   | 208/338 [08:47<05:10,  2.39s/it]"
          ]
        },
        {
          "output_type": "stream",
          "name": "stdout",
          "text": [
            "📊 PAXGUSDT verisi çekiliyor...\n",
            "✅ PAXGUSDT: 1440 veri noktası alındı\n",
            "✅ PAXGUSDT analiz tamamlandı\n",
            "\n"
          ]
        },
        {
          "output_type": "stream",
          "name": "stderr",
          "text": [
            "\rCoinler analiz ediliyor:  62%|██████▏   | 209/338 [08:49<05:08,  2.39s/it]"
          ]
        },
        {
          "output_type": "stream",
          "name": "stdout",
          "text": [
            "📊 PENDLEUSDT verisi çekiliyor...\n",
            "✅ PENDLEUSDT: 1440 veri noktası alındı\n",
            "✅ PENDLEUSDT analiz tamamlandı\n",
            "\n"
          ]
        },
        {
          "output_type": "stream",
          "name": "stderr",
          "text": [
            "\rCoinler analiz ediliyor:  62%|██████▏   | 210/338 [08:51<05:00,  2.35s/it]"
          ]
        },
        {
          "output_type": "stream",
          "name": "stdout",
          "text": [
            "📊 PEOPLEUSDT verisi çekiliyor...\n",
            "✅ PEOPLEUSDT: 1440 veri noktası alındı\n",
            "✅ PEOPLEUSDT analiz tamamlandı\n",
            "\n"
          ]
        },
        {
          "output_type": "stream",
          "name": "stderr",
          "text": [
            "\rCoinler analiz ediliyor:  62%|██████▏   | 211/338 [08:54<04:54,  2.32s/it]"
          ]
        },
        {
          "output_type": "stream",
          "name": "stdout",
          "text": [
            "📊 PEPEUSDT verisi çekiliyor...\n",
            "✅ PEPEUSDT: 1440 veri noktası alındı\n",
            "✅ PEPEUSDT analiz tamamlandı\n",
            "\n"
          ]
        },
        {
          "output_type": "stream",
          "name": "stderr",
          "text": [
            "\rCoinler analiz ediliyor:  63%|██████▎   | 212/338 [08:56<04:49,  2.29s/it]"
          ]
        },
        {
          "output_type": "stream",
          "name": "stdout",
          "text": [
            "📊 PERPUSDT verisi çekiliyor...\n",
            "✅ PERPUSDT: 1440 veri noktası alındı\n",
            "✅ PERPUSDT analiz tamamlandı\n",
            "\n"
          ]
        },
        {
          "output_type": "stream",
          "name": "stderr",
          "text": [
            "\rCoinler analiz ediliyor:  63%|██████▎   | 213/338 [08:58<04:55,  2.36s/it]"
          ]
        },
        {
          "output_type": "stream",
          "name": "stdout",
          "text": [
            "📊 PHAUSDT verisi çekiliyor...\n",
            "✅ PHAUSDT: 1440 veri noktası alındı\n",
            "✅ PHAUSDT analiz tamamlandı\n",
            "\n"
          ]
        },
        {
          "output_type": "stream",
          "name": "stderr",
          "text": [
            "\rCoinler analiz ediliyor:  63%|██████▎   | 214/338 [09:01<04:48,  2.33s/it]"
          ]
        },
        {
          "output_type": "stream",
          "name": "stdout",
          "text": [
            "📊 PHBUSDT verisi çekiliyor...\n",
            "✅ PHBUSDT: 1440 veri noktası alındı\n",
            "✅ PHBUSDT analiz tamamlandı\n",
            "\n"
          ]
        },
        {
          "output_type": "stream",
          "name": "stderr",
          "text": [
            "\rCoinler analiz ediliyor:  64%|██████▎   | 215/338 [09:03<04:48,  2.35s/it]"
          ]
        },
        {
          "output_type": "stream",
          "name": "stdout",
          "text": [
            "📊 PIVXUSDT verisi çekiliyor...\n",
            "✅ PIVXUSDT: 1440 veri noktası alındı\n",
            "✅ PIVXUSDT analiz tamamlandı\n",
            "\n"
          ]
        },
        {
          "output_type": "stream",
          "name": "stderr",
          "text": [
            "\rCoinler analiz ediliyor:  64%|██████▍   | 216/338 [09:05<04:45,  2.34s/it]"
          ]
        },
        {
          "output_type": "stream",
          "name": "stdout",
          "text": [
            "📊 PIXELUSDT verisi çekiliyor...\n",
            "✅ PIXELUSDT: 1440 veri noktası alındı\n",
            "✅ PIXELUSDT analiz tamamlandı\n",
            "\n"
          ]
        },
        {
          "output_type": "stream",
          "name": "stderr",
          "text": [
            "\rCoinler analiz ediliyor:  64%|██████▍   | 217/338 [09:08<04:43,  2.34s/it]"
          ]
        },
        {
          "output_type": "stream",
          "name": "stdout",
          "text": [
            "📊 POLUSDT verisi çekiliyor...\n",
            "✅ POLUSDT: 1440 veri noktası alındı\n",
            "✅ POLUSDT analiz tamamlandı\n",
            "\n"
          ]
        },
        {
          "output_type": "stream",
          "name": "stderr",
          "text": [
            "\rCoinler analiz ediliyor:  64%|██████▍   | 218/338 [09:10<04:39,  2.33s/it]"
          ]
        },
        {
          "output_type": "stream",
          "name": "stdout",
          "text": [
            "📊 POLYXUSDT verisi çekiliyor...\n",
            "✅ POLYXUSDT: 1440 veri noktası alındı\n",
            "✅ POLYXUSDT analiz tamamlandı\n",
            "\n"
          ]
        },
        {
          "output_type": "stream",
          "name": "stderr",
          "text": [
            "\rCoinler analiz ediliyor:  65%|██████▍   | 219/338 [09:12<04:40,  2.36s/it]"
          ]
        },
        {
          "output_type": "stream",
          "name": "stdout",
          "text": [
            "📊 PONDUSDT verisi çekiliyor...\n",
            "✅ PONDUSDT: 1440 veri noktası alındı\n",
            "✅ PONDUSDT analiz tamamlandı\n",
            "\n"
          ]
        },
        {
          "output_type": "stream",
          "name": "stderr",
          "text": [
            "\rCoinler analiz ediliyor:  65%|██████▌   | 220/338 [09:15<04:34,  2.33s/it]"
          ]
        },
        {
          "output_type": "stream",
          "name": "stdout",
          "text": [
            "📊 PORTALUSDT verisi çekiliyor...\n",
            "✅ PORTALUSDT: 1440 veri noktası alındı\n",
            "✅ PORTALUSDT analiz tamamlandı\n",
            "\n"
          ]
        },
        {
          "output_type": "stream",
          "name": "stderr",
          "text": [
            "\rCoinler analiz ediliyor:  65%|██████▌   | 221/338 [09:17<04:37,  2.38s/it]"
          ]
        },
        {
          "output_type": "stream",
          "name": "stdout",
          "text": [
            "📊 PORTOUSDT verisi çekiliyor...\n",
            "✅ PORTOUSDT: 1440 veri noktası alındı\n",
            "✅ PORTOUSDT analiz tamamlandı\n",
            "\n"
          ]
        },
        {
          "output_type": "stream",
          "name": "stderr",
          "text": [
            "\rCoinler analiz ediliyor:  66%|██████▌   | 222/338 [09:20<04:40,  2.42s/it]"
          ]
        },
        {
          "output_type": "stream",
          "name": "stdout",
          "text": [
            "📊 POWRUSDT verisi çekiliyor...\n",
            "✅ POWRUSDT: 1440 veri noktası alındı\n",
            "✅ POWRUSDT analiz tamamlandı\n",
            "\n"
          ]
        },
        {
          "output_type": "stream",
          "name": "stderr",
          "text": [
            "\rCoinler analiz ediliyor:  66%|██████▌   | 223/338 [09:22<04:41,  2.45s/it]"
          ]
        },
        {
          "output_type": "stream",
          "name": "stdout",
          "text": [
            "📊 PROMUSDT verisi çekiliyor...\n",
            "✅ PROMUSDT: 1440 veri noktası alındı\n",
            "✅ PROMUSDT analiz tamamlandı\n",
            "\n"
          ]
        },
        {
          "output_type": "stream",
          "name": "stderr",
          "text": [
            "\rCoinler analiz ediliyor:  66%|██████▋   | 224/338 [09:25<04:40,  2.46s/it]"
          ]
        },
        {
          "output_type": "stream",
          "name": "stdout",
          "text": [
            "📊 PSGUSDT verisi çekiliyor...\n",
            "✅ PSGUSDT: 1440 veri noktası alındı\n",
            "✅ PSGUSDT analiz tamamlandı\n",
            "\n"
          ]
        },
        {
          "output_type": "stream",
          "name": "stderr",
          "text": [
            "\rCoinler analiz ediliyor:  67%|██████▋   | 225/338 [09:27<04:33,  2.42s/it]"
          ]
        },
        {
          "output_type": "stream",
          "name": "stdout",
          "text": [
            "📊 PUNDIXUSDT verisi çekiliyor...\n",
            "✅ PUNDIXUSDT: 1440 veri noktası alındı\n",
            "✅ PUNDIXUSDT analiz tamamlandı\n",
            "\n"
          ]
        },
        {
          "output_type": "stream",
          "name": "stderr",
          "text": [
            "\rCoinler analiz ediliyor:  67%|██████▋   | 226/338 [09:29<04:30,  2.42s/it]"
          ]
        },
        {
          "output_type": "stream",
          "name": "stdout",
          "text": [
            "📊 PYRUSDT verisi çekiliyor...\n",
            "✅ PYRUSDT: 1440 veri noktası alındı\n",
            "✅ PYRUSDT analiz tamamlandı\n",
            "\n"
          ]
        },
        {
          "output_type": "stream",
          "name": "stderr",
          "text": [
            "\rCoinler analiz ediliyor:  67%|██████▋   | 227/338 [09:32<04:28,  2.41s/it]"
          ]
        },
        {
          "output_type": "stream",
          "name": "stdout",
          "text": [
            "📊 PYTHUSDT verisi çekiliyor...\n",
            "✅ PYTHUSDT: 1440 veri noktası alındı\n",
            "✅ PYTHUSDT analiz tamamlandı\n",
            "\n"
          ]
        },
        {
          "output_type": "stream",
          "name": "stderr",
          "text": [
            "\rCoinler analiz ediliyor:  67%|██████▋   | 228/338 [09:34<04:25,  2.42s/it]"
          ]
        },
        {
          "output_type": "stream",
          "name": "stdout",
          "text": [
            "📊 QIUSDT verisi çekiliyor...\n",
            "✅ QIUSDT: 1440 veri noktası alındı\n",
            "✅ QIUSDT analiz tamamlandı\n",
            "\n"
          ]
        },
        {
          "output_type": "stream",
          "name": "stderr",
          "text": [
            "\rCoinler analiz ediliyor:  68%|██████▊   | 229/338 [09:37<04:26,  2.44s/it]"
          ]
        },
        {
          "output_type": "stream",
          "name": "stdout",
          "text": [
            "📊 QKCUSDT verisi çekiliyor...\n",
            "✅ QKCUSDT: 1440 veri noktası alındı\n",
            "✅ QKCUSDT analiz tamamlandı\n",
            "\n"
          ]
        },
        {
          "output_type": "stream",
          "name": "stderr",
          "text": [
            "\rCoinler analiz ediliyor:  68%|██████▊   | 230/338 [09:39<04:20,  2.41s/it]"
          ]
        },
        {
          "output_type": "stream",
          "name": "stdout",
          "text": [
            "📊 QNTUSDT verisi çekiliyor...\n",
            "✅ QNTUSDT: 1440 veri noktası alındı\n",
            "✅ QNTUSDT analiz tamamlandı\n",
            "\n"
          ]
        },
        {
          "output_type": "stream",
          "name": "stderr",
          "text": [
            "\rCoinler analiz ediliyor:  68%|██████▊   | 231/338 [09:41<04:16,  2.39s/it]"
          ]
        },
        {
          "output_type": "stream",
          "name": "stdout",
          "text": [
            "📊 QTUMUSDT verisi çekiliyor...\n",
            "✅ QTUMUSDT: 1440 veri noktası alındı\n",
            "✅ QTUMUSDT analiz tamamlandı\n",
            "\n"
          ]
        },
        {
          "output_type": "stream",
          "name": "stderr",
          "text": [
            "\rCoinler analiz ediliyor:  69%|██████▊   | 232/338 [09:44<04:14,  2.40s/it]"
          ]
        },
        {
          "output_type": "stream",
          "name": "stdout",
          "text": [
            "📊 QUICKUSDT verisi çekiliyor...\n",
            "✅ QUICKUSDT: 1440 veri noktası alındı\n",
            "✅ QUICKUSDT analiz tamamlandı\n",
            "\n"
          ]
        },
        {
          "output_type": "stream",
          "name": "stderr",
          "text": [
            "\rCoinler analiz ediliyor:  69%|██████▉   | 233/338 [09:46<04:11,  2.39s/it]"
          ]
        },
        {
          "output_type": "stream",
          "name": "stdout",
          "text": [
            "📊 RADUSDT verisi çekiliyor...\n",
            "✅ RADUSDT: 1440 veri noktası alındı\n",
            "✅ RADUSDT analiz tamamlandı\n",
            "\n"
          ]
        },
        {
          "output_type": "stream",
          "name": "stderr",
          "text": [
            "\rCoinler analiz ediliyor:  69%|██████▉   | 234/338 [09:48<04:04,  2.35s/it]"
          ]
        },
        {
          "output_type": "stream",
          "name": "stdout",
          "text": [
            "📊 RAREUSDT verisi çekiliyor...\n",
            "✅ RAREUSDT: 1440 veri noktası alındı\n",
            "✅ RAREUSDT analiz tamamlandı\n",
            "\n"
          ]
        },
        {
          "output_type": "stream",
          "name": "stderr",
          "text": [
            "\rCoinler analiz ediliyor:  70%|██████▉   | 235/338 [09:51<03:59,  2.32s/it]"
          ]
        },
        {
          "output_type": "stream",
          "name": "stdout",
          "text": [
            "📊 RAYUSDT verisi çekiliyor...\n",
            "✅ RAYUSDT: 1440 veri noktası alındı\n",
            "✅ RAYUSDT analiz tamamlandı\n",
            "\n"
          ]
        },
        {
          "output_type": "stream",
          "name": "stderr",
          "text": [
            "\rCoinler analiz ediliyor:  70%|██████▉   | 236/338 [09:53<03:54,  2.30s/it]"
          ]
        },
        {
          "output_type": "stream",
          "name": "stdout",
          "text": [
            "📊 RDNTUSDT verisi çekiliyor...\n",
            "✅ RDNTUSDT: 1440 veri noktası alındı\n",
            "✅ RDNTUSDT analiz tamamlandı\n",
            "\n"
          ]
        },
        {
          "output_type": "stream",
          "name": "stderr",
          "text": [
            "\rCoinler analiz ediliyor:  70%|███████   | 237/338 [09:55<03:50,  2.28s/it]"
          ]
        },
        {
          "output_type": "stream",
          "name": "stdout",
          "text": [
            "📊 REIUSDT verisi çekiliyor...\n",
            "✅ REIUSDT: 1440 veri noktası alındı\n",
            "✅ REIUSDT analiz tamamlandı\n",
            "\n"
          ]
        },
        {
          "output_type": "stream",
          "name": "stderr",
          "text": [
            "\rCoinler analiz ediliyor:  70%|███████   | 238/338 [09:57<03:48,  2.29s/it]"
          ]
        },
        {
          "output_type": "stream",
          "name": "stdout",
          "text": [
            "📊 RENDERUSDT verisi çekiliyor...\n",
            "✅ RENDERUSDT: 1440 veri noktası alındı\n",
            "✅ RENDERUSDT analiz tamamlandı\n",
            "\n"
          ]
        },
        {
          "output_type": "stream",
          "name": "stderr",
          "text": [
            "\rCoinler analiz ediliyor:  71%|███████   | 239/338 [10:00<03:45,  2.28s/it]"
          ]
        },
        {
          "output_type": "stream",
          "name": "stdout",
          "text": [
            "📊 REQUSDT verisi çekiliyor...\n",
            "✅ REQUSDT: 1440 veri noktası alındı\n",
            "✅ REQUSDT analiz tamamlandı\n",
            "\n"
          ]
        },
        {
          "output_type": "stream",
          "name": "stderr",
          "text": [
            "\rCoinler analiz ediliyor:  71%|███████   | 240/338 [10:02<03:42,  2.27s/it]"
          ]
        },
        {
          "output_type": "stream",
          "name": "stdout",
          "text": [
            "📊 REZUSDT verisi çekiliyor...\n",
            "✅ REZUSDT: 1440 veri noktası alındı\n",
            "✅ REZUSDT analiz tamamlandı\n",
            "\n"
          ]
        },
        {
          "output_type": "stream",
          "name": "stderr",
          "text": [
            "\rCoinler analiz ediliyor:  71%|███████▏  | 241/338 [10:04<03:39,  2.27s/it]"
          ]
        },
        {
          "output_type": "stream",
          "name": "stdout",
          "text": [
            "📊 RIFUSDT verisi çekiliyor...\n",
            "✅ RIFUSDT: 1440 veri noktası alındı\n",
            "✅ RIFUSDT analiz tamamlandı\n",
            "\n"
          ]
        },
        {
          "output_type": "stream",
          "name": "stderr",
          "text": [
            "\rCoinler analiz ediliyor:  72%|███████▏  | 242/338 [10:06<03:36,  2.26s/it]"
          ]
        },
        {
          "output_type": "stream",
          "name": "stdout",
          "text": [
            "📊 RLCUSDT verisi çekiliyor...\n",
            "✅ RLCUSDT: 1440 veri noktası alındı\n",
            "✅ RLCUSDT analiz tamamlandı\n",
            "\n"
          ]
        },
        {
          "output_type": "stream",
          "name": "stderr",
          "text": [
            "\rCoinler analiz ediliyor:  72%|███████▏  | 243/338 [10:09<03:35,  2.27s/it]"
          ]
        },
        {
          "output_type": "stream",
          "name": "stdout",
          "text": [
            "📊 RONINUSDT verisi çekiliyor...\n",
            "✅ RONINUSDT: 1440 veri noktası alındı\n",
            "✅ RONINUSDT analiz tamamlandı\n",
            "\n"
          ]
        },
        {
          "output_type": "stream",
          "name": "stderr",
          "text": [
            "\rCoinler analiz ediliyor:  72%|███████▏  | 244/338 [10:11<03:33,  2.27s/it]"
          ]
        },
        {
          "output_type": "stream",
          "name": "stdout",
          "text": [
            "📊 ROSEUSDT verisi çekiliyor...\n",
            "✅ ROSEUSDT: 1440 veri noktası alındı\n",
            "✅ ROSEUSDT analiz tamamlandı\n",
            "\n"
          ]
        },
        {
          "output_type": "stream",
          "name": "stderr",
          "text": [
            "\rCoinler analiz ediliyor:  72%|███████▏  | 245/338 [10:13<03:30,  2.27s/it]"
          ]
        },
        {
          "output_type": "stream",
          "name": "stdout",
          "text": [
            "📊 RPLUSDT verisi çekiliyor...\n",
            "✅ RPLUSDT: 1440 veri noktası alındı\n",
            "✅ RPLUSDT analiz tamamlandı\n",
            "\n"
          ]
        },
        {
          "output_type": "stream",
          "name": "stderr",
          "text": [
            "\rCoinler analiz ediliyor:  73%|███████▎  | 246/338 [10:16<03:27,  2.26s/it]"
          ]
        },
        {
          "output_type": "stream",
          "name": "stdout",
          "text": [
            "📊 RSRUSDT verisi çekiliyor...\n",
            "✅ RSRUSDT: 1440 veri noktası alındı\n",
            "✅ RSRUSDT analiz tamamlandı\n",
            "\n"
          ]
        },
        {
          "output_type": "stream",
          "name": "stderr",
          "text": [
            "\rCoinler analiz ediliyor:  73%|███████▎  | 247/338 [10:18<03:25,  2.26s/it]"
          ]
        },
        {
          "output_type": "stream",
          "name": "stdout",
          "text": [
            "📊 RUNEUSDT verisi çekiliyor...\n",
            "✅ RUNEUSDT: 1440 veri noktası alındı\n",
            "✅ RUNEUSDT analiz tamamlandı\n",
            "\n"
          ]
        },
        {
          "output_type": "stream",
          "name": "stderr",
          "text": [
            "\rCoinler analiz ediliyor:  73%|███████▎  | 248/338 [10:20<03:32,  2.37s/it]"
          ]
        },
        {
          "output_type": "stream",
          "name": "stdout",
          "text": [
            "📊 RVNUSDT verisi çekiliyor...\n",
            "✅ RVNUSDT: 1440 veri noktası alındı\n",
            "✅ RVNUSDT analiz tamamlandı\n",
            "\n"
          ]
        },
        {
          "output_type": "stream",
          "name": "stderr",
          "text": [
            "\rCoinler analiz ediliyor:  74%|███████▎  | 249/338 [10:23<03:36,  2.43s/it]"
          ]
        },
        {
          "output_type": "stream",
          "name": "stdout",
          "text": [
            "📊 SAGAUSDT verisi çekiliyor...\n",
            "✅ SAGAUSDT: 1440 veri noktası alındı\n",
            "✅ SAGAUSDT analiz tamamlandı\n",
            "\n"
          ]
        },
        {
          "output_type": "stream",
          "name": "stderr",
          "text": [
            "\rCoinler analiz ediliyor:  74%|███████▍  | 250/338 [10:26<03:45,  2.56s/it]"
          ]
        },
        {
          "output_type": "stream",
          "name": "stdout",
          "text": [
            "📊 SANDUSDT verisi çekiliyor...\n",
            "✅ SANDUSDT: 1440 veri noktası alındı\n",
            "✅ SANDUSDT analiz tamamlandı\n",
            "\n"
          ]
        },
        {
          "output_type": "stream",
          "name": "stderr",
          "text": [
            "\rCoinler analiz ediliyor:  74%|███████▍  | 251/338 [10:29<03:47,  2.61s/it]"
          ]
        },
        {
          "output_type": "stream",
          "name": "stdout",
          "text": [
            "📊 SANTOSUSDT verisi çekiliyor...\n",
            "✅ SANTOSUSDT: 1440 veri noktası alındı\n",
            "✅ SANTOSUSDT analiz tamamlandı\n",
            "\n"
          ]
        },
        {
          "output_type": "stream",
          "name": "stderr",
          "text": [
            "\rCoinler analiz ediliyor:  75%|███████▍  | 252/338 [10:31<03:50,  2.68s/it]"
          ]
        },
        {
          "output_type": "stream",
          "name": "stdout",
          "text": [
            "📊 SCRTUSDT verisi çekiliyor...\n",
            "✅ SCRTUSDT: 1440 veri noktası alındı\n",
            "✅ SCRTUSDT analiz tamamlandı\n",
            "\n"
          ]
        },
        {
          "output_type": "stream",
          "name": "stderr",
          "text": [
            "\rCoinler analiz ediliyor:  75%|███████▍  | 253/338 [10:34<03:52,  2.74s/it]"
          ]
        },
        {
          "output_type": "stream",
          "name": "stdout",
          "text": [
            "📊 SCRUSDT verisi çekiliyor...\n",
            "✅ SCRUSDT: 1440 veri noktası alındı\n",
            "✅ SCRUSDT analiz tamamlandı\n",
            "\n"
          ]
        },
        {
          "output_type": "stream",
          "name": "stderr",
          "text": [
            "\rCoinler analiz ediliyor:  75%|███████▌  | 254/338 [10:37<03:49,  2.73s/it]"
          ]
        },
        {
          "output_type": "stream",
          "name": "stdout",
          "text": [
            "📊 SCUSDT verisi çekiliyor...\n",
            "✅ SCUSDT: 1440 veri noktası alındı\n",
            "✅ SCUSDT analiz tamamlandı\n",
            "\n"
          ]
        },
        {
          "output_type": "stream",
          "name": "stderr",
          "text": [
            "\rCoinler analiz ediliyor:  75%|███████▌  | 255/338 [10:40<03:49,  2.76s/it]"
          ]
        },
        {
          "output_type": "stream",
          "name": "stdout",
          "text": [
            "📊 SEIUSDT verisi çekiliyor...\n",
            "✅ SEIUSDT: 1440 veri noktası alındı\n",
            "✅ SEIUSDT analiz tamamlandı\n",
            "\n"
          ]
        },
        {
          "output_type": "stream",
          "name": "stderr",
          "text": [
            "\rCoinler analiz ediliyor:  76%|███████▌  | 256/338 [10:42<03:41,  2.70s/it]"
          ]
        },
        {
          "output_type": "stream",
          "name": "stdout",
          "text": [
            "📊 SFPUSDT verisi çekiliyor...\n",
            "✅ SFPUSDT: 1440 veri noktası alındı\n",
            "✅ SFPUSDT analiz tamamlandı\n",
            "\n"
          ]
        },
        {
          "output_type": "stream",
          "name": "stderr",
          "text": [
            "\rCoinler analiz ediliyor:  76%|███████▌  | 257/338 [10:45<03:39,  2.71s/it]"
          ]
        },
        {
          "output_type": "stream",
          "name": "stdout",
          "text": [
            "📊 SHIBUSDT verisi çekiliyor...\n",
            "✅ SHIBUSDT: 1440 veri noktası alındı\n",
            "✅ SHIBUSDT analiz tamamlandı\n",
            "\n"
          ]
        },
        {
          "output_type": "stream",
          "name": "stderr",
          "text": [
            "\rCoinler analiz ediliyor:  76%|███████▋  | 258/338 [10:48<03:33,  2.67s/it]"
          ]
        },
        {
          "output_type": "stream",
          "name": "stdout",
          "text": [
            "📊 SKLUSDT verisi çekiliyor...\n",
            "✅ SKLUSDT: 1440 veri noktası alındı\n",
            "✅ SKLUSDT analiz tamamlandı\n",
            "\n"
          ]
        },
        {
          "output_type": "stream",
          "name": "stderr",
          "text": [
            "\rCoinler analiz ediliyor:  77%|███████▋  | 259/338 [10:50<03:23,  2.57s/it]"
          ]
        },
        {
          "output_type": "stream",
          "name": "stdout",
          "text": [
            "📊 SLFUSDT verisi çekiliyor...\n",
            "✅ SLFUSDT: 1440 veri noktası alındı\n",
            "✅ SLFUSDT analiz tamamlandı\n",
            "\n"
          ]
        },
        {
          "output_type": "stream",
          "name": "stderr",
          "text": [
            "\rCoinler analiz ediliyor:  77%|███████▋  | 260/338 [10:52<03:16,  2.51s/it]"
          ]
        },
        {
          "output_type": "stream",
          "name": "stdout",
          "text": [
            "📊 SLPUSDT verisi çekiliyor...\n",
            "✅ SLPUSDT: 1440 veri noktası alındı\n",
            "✅ SLPUSDT analiz tamamlandı\n",
            "\n"
          ]
        },
        {
          "output_type": "stream",
          "name": "stderr",
          "text": [
            "\rCoinler analiz ediliyor:  77%|███████▋  | 261/338 [10:55<03:09,  2.46s/it]"
          ]
        },
        {
          "output_type": "stream",
          "name": "stdout",
          "text": [
            "📊 SNXUSDT verisi çekiliyor...\n",
            "✅ SNXUSDT: 1440 veri noktası alındı\n",
            "✅ SNXUSDT analiz tamamlandı\n",
            "\n"
          ]
        },
        {
          "output_type": "stream",
          "name": "stderr",
          "text": [
            "\rCoinler analiz ediliyor:  78%|███████▊  | 262/338 [10:57<03:04,  2.42s/it]"
          ]
        },
        {
          "output_type": "stream",
          "name": "stdout",
          "text": [
            "📊 SOLUSDT verisi çekiliyor...\n",
            "✅ SOLUSDT: 1440 veri noktası alındı\n",
            "✅ SOLUSDT analiz tamamlandı\n",
            "\n"
          ]
        },
        {
          "output_type": "stream",
          "name": "stderr",
          "text": [
            "\rCoinler analiz ediliyor:  78%|███████▊  | 263/338 [10:59<02:57,  2.37s/it]"
          ]
        },
        {
          "output_type": "stream",
          "name": "stdout",
          "text": [
            "📊 SPELLUSDT verisi çekiliyor...\n",
            "✅ SPELLUSDT: 1440 veri noktası alındı\n",
            "✅ SPELLUSDT analiz tamamlandı\n",
            "\n"
          ]
        },
        {
          "output_type": "stream",
          "name": "stderr",
          "text": [
            "\rCoinler analiz ediliyor:  78%|███████▊  | 264/338 [11:02<02:54,  2.36s/it]"
          ]
        },
        {
          "output_type": "stream",
          "name": "stdout",
          "text": [
            "📊 SSVUSDT verisi çekiliyor...\n",
            "✅ SSVUSDT: 1440 veri noktası alındı\n",
            "✅ SSVUSDT analiz tamamlandı\n",
            "\n"
          ]
        },
        {
          "output_type": "stream",
          "name": "stderr",
          "text": [
            "\rCoinler analiz ediliyor:  78%|███████▊  | 265/338 [11:04<02:51,  2.35s/it]"
          ]
        },
        {
          "output_type": "stream",
          "name": "stdout",
          "text": [
            "📊 STEEMUSDT verisi çekiliyor...\n",
            "✅ STEEMUSDT: 1440 veri noktası alındı\n",
            "✅ STEEMUSDT analiz tamamlandı\n",
            "\n"
          ]
        },
        {
          "output_type": "stream",
          "name": "stderr",
          "text": [
            "\rCoinler analiz ediliyor:  79%|███████▊  | 266/338 [11:06<02:51,  2.38s/it]"
          ]
        },
        {
          "output_type": "stream",
          "name": "stdout",
          "text": [
            "📊 STGUSDT verisi çekiliyor...\n",
            "✅ STGUSDT: 1440 veri noktası alındı\n",
            "✅ STGUSDT analiz tamamlandı\n",
            "\n"
          ]
        },
        {
          "output_type": "stream",
          "name": "stderr",
          "text": [
            "\rCoinler analiz ediliyor:  79%|███████▉  | 267/338 [11:09<02:48,  2.37s/it]"
          ]
        },
        {
          "output_type": "stream",
          "name": "stdout",
          "text": [
            "📊 STORJUSDT verisi çekiliyor...\n",
            "✅ STORJUSDT: 1440 veri noktası alındı\n",
            "✅ STORJUSDT analiz tamamlandı\n",
            "\n"
          ]
        },
        {
          "output_type": "stream",
          "name": "stderr",
          "text": [
            "\rCoinler analiz ediliyor:  79%|███████▉  | 268/338 [11:11<02:46,  2.39s/it]"
          ]
        },
        {
          "output_type": "stream",
          "name": "stdout",
          "text": [
            "📊 STRAXUSDT verisi çekiliyor...\n",
            "✅ STRAXUSDT: 1440 veri noktası alındı\n",
            "✅ STRAXUSDT analiz tamamlandı\n",
            "\n"
          ]
        },
        {
          "output_type": "stream",
          "name": "stderr",
          "text": [
            "\rCoinler analiz ediliyor:  80%|███████▉  | 269/338 [11:13<02:41,  2.34s/it]"
          ]
        },
        {
          "output_type": "stream",
          "name": "stdout",
          "text": [
            "📊 STRKUSDT verisi çekiliyor...\n",
            "✅ STRKUSDT: 1440 veri noktası alındı\n",
            "✅ STRKUSDT analiz tamamlandı\n",
            "\n"
          ]
        },
        {
          "output_type": "stream",
          "name": "stderr",
          "text": [
            "\rCoinler analiz ediliyor:  80%|███████▉  | 270/338 [11:16<02:37,  2.31s/it]"
          ]
        },
        {
          "output_type": "stream",
          "name": "stdout",
          "text": [
            "📊 STXUSDT verisi çekiliyor...\n",
            "✅ STXUSDT: 1440 veri noktası alındı\n",
            "✅ STXUSDT analiz tamamlandı\n",
            "\n"
          ]
        },
        {
          "output_type": "stream",
          "name": "stderr",
          "text": [
            "\rCoinler analiz ediliyor:  80%|████████  | 271/338 [11:18<02:33,  2.29s/it]"
          ]
        },
        {
          "output_type": "stream",
          "name": "stdout",
          "text": [
            "📊 SUIUSDT verisi çekiliyor...\n",
            "✅ SUIUSDT: 1440 veri noktası alındı\n",
            "✅ SUIUSDT analiz tamamlandı\n",
            "\n"
          ]
        },
        {
          "output_type": "stream",
          "name": "stderr",
          "text": [
            "\rCoinler analiz ediliyor:  80%|████████  | 272/338 [11:20<02:31,  2.29s/it]"
          ]
        },
        {
          "output_type": "stream",
          "name": "stdout",
          "text": [
            "📊 SUNUSDT verisi çekiliyor...\n",
            "✅ SUNUSDT: 1440 veri noktası alındı\n",
            "✅ SUNUSDT analiz tamamlandı\n",
            "\n"
          ]
        },
        {
          "output_type": "stream",
          "name": "stderr",
          "text": [
            "\rCoinler analiz ediliyor:  81%|████████  | 273/338 [11:23<02:34,  2.38s/it]"
          ]
        },
        {
          "output_type": "stream",
          "name": "stdout",
          "text": [
            "📊 SUPERUSDT verisi çekiliyor...\n",
            "✅ SUPERUSDT: 1440 veri noktası alındı\n",
            "✅ SUPERUSDT analiz tamamlandı\n",
            "\n"
          ]
        },
        {
          "output_type": "stream",
          "name": "stderr",
          "text": [
            "\rCoinler analiz ediliyor:  81%|████████  | 274/338 [11:25<02:32,  2.38s/it]"
          ]
        },
        {
          "output_type": "stream",
          "name": "stdout",
          "text": [
            "📊 SUSHIUSDT verisi çekiliyor...\n",
            "✅ SUSHIUSDT: 1440 veri noktası alındı\n",
            "✅ SUSHIUSDT analiz tamamlandı\n",
            "\n"
          ]
        },
        {
          "output_type": "stream",
          "name": "stderr",
          "text": [
            "\rCoinler analiz ediliyor:  81%|████████▏ | 275/338 [11:28<02:29,  2.37s/it]"
          ]
        },
        {
          "output_type": "stream",
          "name": "stdout",
          "text": [
            "📊 SXPUSDT verisi çekiliyor...\n",
            "✅ SXPUSDT: 1440 veri noktası alındı\n",
            "✅ SXPUSDT analiz tamamlandı\n",
            "\n"
          ]
        },
        {
          "output_type": "stream",
          "name": "stderr",
          "text": [
            "\rCoinler analiz ediliyor:  82%|████████▏ | 276/338 [11:30<02:28,  2.40s/it]"
          ]
        },
        {
          "output_type": "stream",
          "name": "stdout",
          "text": [
            "📊 SYNUSDT verisi çekiliyor...\n",
            "✅ SYNUSDT: 1440 veri noktası alındı\n",
            "✅ SYNUSDT analiz tamamlandı\n",
            "\n"
          ]
        },
        {
          "output_type": "stream",
          "name": "stderr",
          "text": [
            "\rCoinler analiz ediliyor:  82%|████████▏ | 277/338 [11:32<02:26,  2.41s/it]"
          ]
        },
        {
          "output_type": "stream",
          "name": "stdout",
          "text": [
            "📊 SYSUSDT verisi çekiliyor...\n",
            "✅ SYSUSDT: 1440 veri noktası alındı\n",
            "✅ SYSUSDT analiz tamamlandı\n",
            "\n"
          ]
        },
        {
          "output_type": "stream",
          "name": "stderr",
          "text": [
            "\rCoinler analiz ediliyor:  82%|████████▏ | 278/338 [11:35<02:24,  2.42s/it]"
          ]
        },
        {
          "output_type": "stream",
          "name": "stdout",
          "text": [
            "📊 TAOUSDT verisi çekiliyor...\n",
            "✅ TAOUSDT: 1440 veri noktası alındı\n",
            "✅ TAOUSDT analiz tamamlandı\n",
            "\n"
          ]
        },
        {
          "output_type": "stream",
          "name": "stderr",
          "text": [
            "\rCoinler analiz ediliyor:  83%|████████▎ | 279/338 [11:37<02:21,  2.40s/it]"
          ]
        },
        {
          "output_type": "stream",
          "name": "stdout",
          "text": [
            "📊 TFUELUSDT verisi çekiliyor...\n",
            "✅ TFUELUSDT: 1440 veri noktası alındı\n",
            "✅ TFUELUSDT analiz tamamlandı\n",
            "\n"
          ]
        },
        {
          "output_type": "stream",
          "name": "stderr",
          "text": [
            "\rCoinler analiz ediliyor:  83%|████████▎ | 280/338 [11:40<02:20,  2.42s/it]"
          ]
        },
        {
          "output_type": "stream",
          "name": "stdout",
          "text": [
            "📊 THETAUSDT verisi çekiliyor...\n",
            "✅ THETAUSDT: 1440 veri noktası alındı\n",
            "✅ THETAUSDT analiz tamamlandı\n",
            "\n"
          ]
        },
        {
          "output_type": "stream",
          "name": "stderr",
          "text": [
            "\rCoinler analiz ediliyor:  83%|████████▎ | 281/338 [11:42<02:16,  2.40s/it]"
          ]
        },
        {
          "output_type": "stream",
          "name": "stdout",
          "text": [
            "📊 TIAUSDT verisi çekiliyor...\n",
            "✅ TIAUSDT: 1440 veri noktası alındı\n",
            "✅ TIAUSDT analiz tamamlandı\n",
            "\n"
          ]
        },
        {
          "output_type": "stream",
          "name": "stderr",
          "text": [
            "\rCoinler analiz ediliyor:  83%|████████▎ | 282/338 [11:44<02:13,  2.38s/it]"
          ]
        },
        {
          "output_type": "stream",
          "name": "stdout",
          "text": [
            "📊 TKOUSDT verisi çekiliyor...\n",
            "✅ TKOUSDT: 1440 veri noktası alındı\n",
            "✅ TKOUSDT analiz tamamlandı\n",
            "\n"
          ]
        },
        {
          "output_type": "stream",
          "name": "stderr",
          "text": [
            "\rCoinler analiz ediliyor:  84%|████████▎ | 283/338 [11:47<02:12,  2.41s/it]"
          ]
        },
        {
          "output_type": "stream",
          "name": "stdout",
          "text": [
            "📊 TLMUSDT verisi çekiliyor...\n",
            "✅ TLMUSDT: 1440 veri noktası alındı\n",
            "✅ TLMUSDT analiz tamamlandı\n",
            "\n"
          ]
        },
        {
          "output_type": "stream",
          "name": "stderr",
          "text": [
            "\rCoinler analiz ediliyor:  84%|████████▍ | 284/338 [11:49<02:09,  2.40s/it]"
          ]
        },
        {
          "output_type": "stream",
          "name": "stdout",
          "text": [
            "📊 TNSRUSDT verisi çekiliyor...\n",
            "✅ TNSRUSDT: 1440 veri noktası alındı\n",
            "✅ TNSRUSDT analiz tamamlandı\n",
            "\n"
          ]
        },
        {
          "output_type": "stream",
          "name": "stderr",
          "text": [
            "\rCoinler analiz ediliyor:  84%|████████▍ | 285/338 [11:52<02:05,  2.38s/it]"
          ]
        },
        {
          "output_type": "stream",
          "name": "stdout",
          "text": [
            "📊 TONUSDT verisi çekiliyor...\n",
            "✅ TONUSDT: 1440 veri noktası alındı\n",
            "✅ TONUSDT analiz tamamlandı\n",
            "\n"
          ]
        },
        {
          "output_type": "stream",
          "name": "stderr",
          "text": [
            "\rCoinler analiz ediliyor:  85%|████████▍ | 286/338 [11:54<02:09,  2.49s/it]"
          ]
        },
        {
          "output_type": "stream",
          "name": "stdout",
          "text": [
            "📊 TRBUSDT verisi çekiliyor...\n",
            "✅ TRBUSDT: 1440 veri noktası alındı\n",
            "✅ TRBUSDT analiz tamamlandı\n",
            "\n"
          ]
        },
        {
          "output_type": "stream",
          "name": "stderr",
          "text": [
            "\rCoinler analiz ediliyor:  85%|████████▍ | 287/338 [11:57<02:09,  2.53s/it]"
          ]
        },
        {
          "output_type": "stream",
          "name": "stdout",
          "text": [
            "📊 TRUUSDT verisi çekiliyor...\n",
            "✅ TRUUSDT: 1440 veri noktası alındı\n",
            "✅ TRUUSDT analiz tamamlandı\n",
            "\n"
          ]
        },
        {
          "output_type": "stream",
          "name": "stderr",
          "text": [
            "\rCoinler analiz ediliyor:  85%|████████▌ | 288/338 [12:00<02:12,  2.65s/it]"
          ]
        },
        {
          "output_type": "stream",
          "name": "stdout",
          "text": [
            "📊 TRXUSDT verisi çekiliyor...\n",
            "✅ TRXUSDT: 1440 veri noktası alındı\n",
            "✅ TRXUSDT analiz tamamlandı\n",
            "\n"
          ]
        },
        {
          "output_type": "stream",
          "name": "stderr",
          "text": [
            "\rCoinler analiz ediliyor:  86%|████████▌ | 289/338 [12:03<02:09,  2.65s/it]"
          ]
        },
        {
          "output_type": "stream",
          "name": "stdout",
          "text": [
            "📊 TURBOUSDT verisi çekiliyor...\n",
            "✅ TURBOUSDT: 1440 veri noktası alındı\n",
            "✅ TURBOUSDT analiz tamamlandı\n",
            "\n"
          ]
        },
        {
          "output_type": "stream",
          "name": "stderr",
          "text": [
            "\rCoinler analiz ediliyor:  86%|████████▌ | 290/338 [12:05<02:10,  2.72s/it]"
          ]
        },
        {
          "output_type": "stream",
          "name": "stdout",
          "text": [
            "📊 TUSDT verisi çekiliyor...\n",
            "✅ TUSDT: 1440 veri noktası alındı\n",
            "✅ TUSDT analiz tamamlandı\n",
            "\n"
          ]
        },
        {
          "output_type": "stream",
          "name": "stderr",
          "text": [
            "\rCoinler analiz ediliyor:  86%|████████▌ | 291/338 [12:08<02:11,  2.79s/it]"
          ]
        },
        {
          "output_type": "stream",
          "name": "stdout",
          "text": [
            "📊 TUSDUSDT verisi çekiliyor...\n",
            "✅ TUSDUSDT: 1440 veri noktası alındı\n",
            "✅ TUSDUSDT analiz tamamlandı\n",
            "\n"
          ]
        },
        {
          "output_type": "stream",
          "name": "stderr",
          "text": [
            "\rCoinler analiz ediliyor:  86%|████████▋ | 292/338 [12:11<02:09,  2.81s/it]"
          ]
        },
        {
          "output_type": "stream",
          "name": "stdout",
          "text": [
            "📊 TWTUSDT verisi çekiliyor...\n",
            "✅ TWTUSDT: 1440 veri noktası alındı\n",
            "✅ TWTUSDT analiz tamamlandı\n",
            "\n"
          ]
        },
        {
          "output_type": "stream",
          "name": "stderr",
          "text": [
            "\rCoinler analiz ediliyor:  87%|████████▋ | 293/338 [12:14<02:05,  2.79s/it]"
          ]
        },
        {
          "output_type": "stream",
          "name": "stdout",
          "text": [
            "📊 UMAUSDT verisi çekiliyor...\n",
            "✅ UMAUSDT: 1440 veri noktası alındı\n",
            "✅ UMAUSDT analiz tamamlandı\n",
            "\n"
          ]
        },
        {
          "output_type": "stream",
          "name": "stderr",
          "text": [
            "\rCoinler analiz ediliyor:  87%|████████▋ | 294/338 [12:17<02:01,  2.77s/it]"
          ]
        },
        {
          "output_type": "stream",
          "name": "stdout",
          "text": [
            "📊 UNIUSDT verisi çekiliyor...\n",
            "✅ UNIUSDT: 1440 veri noktası alındı\n",
            "✅ UNIUSDT analiz tamamlandı\n",
            "\n"
          ]
        },
        {
          "output_type": "stream",
          "name": "stderr",
          "text": [
            "\rCoinler analiz ediliyor:  87%|████████▋ | 295/338 [12:19<01:57,  2.73s/it]"
          ]
        },
        {
          "output_type": "stream",
          "name": "stdout",
          "text": [
            "📊 USDCUSDT verisi çekiliyor...\n",
            "✅ USDCUSDT: 1440 veri noktası alındı\n",
            "✅ USDCUSDT analiz tamamlandı\n",
            "\n"
          ]
        },
        {
          "output_type": "stream",
          "name": "stderr",
          "text": [
            "\rCoinler analiz ediliyor:  88%|████████▊ | 296/338 [12:22<01:57,  2.79s/it]"
          ]
        },
        {
          "output_type": "stream",
          "name": "stdout",
          "text": [
            "📊 USDPUSDT verisi çekiliyor...\n",
            "✅ USDPUSDT: 1440 veri noktası alındı\n",
            "✅ USDPUSDT analiz tamamlandı\n",
            "\n"
          ]
        },
        {
          "output_type": "stream",
          "name": "stderr",
          "text": [
            "\rCoinler analiz ediliyor:  88%|████████▊ | 297/338 [12:25<01:51,  2.71s/it]"
          ]
        },
        {
          "output_type": "stream",
          "name": "stdout",
          "text": [
            "📊 USDTARS verisi çekiliyor...\n",
            "✅ USDTARS: 1440 veri noktası alındı\n",
            "✅ USDTARS analiz tamamlandı\n",
            "\n"
          ]
        },
        {
          "output_type": "stream",
          "name": "stderr",
          "text": [
            "\rCoinler analiz ediliyor:  88%|████████▊ | 298/338 [12:27<01:44,  2.60s/it]"
          ]
        },
        {
          "output_type": "stream",
          "name": "stdout",
          "text": [
            "📊 USDTBRL verisi çekiliyor...\n",
            "✅ USDTBRL: 1440 veri noktası alındı\n",
            "✅ USDTBRL analiz tamamlandı\n",
            "\n"
          ]
        },
        {
          "output_type": "stream",
          "name": "stderr",
          "text": [
            "\rCoinler analiz ediliyor:  88%|████████▊ | 299/338 [12:30<01:39,  2.54s/it]"
          ]
        },
        {
          "output_type": "stream",
          "name": "stdout",
          "text": [
            "📊 USDTCOP verisi çekiliyor...\n",
            "✅ USDTCOP: 1440 veri noktası alındı\n",
            "✅ USDTCOP analiz tamamlandı\n",
            "\n"
          ]
        },
        {
          "output_type": "stream",
          "name": "stderr",
          "text": [
            "\rCoinler analiz ediliyor:  89%|████████▉ | 300/338 [12:32<01:35,  2.50s/it]"
          ]
        },
        {
          "output_type": "stream",
          "name": "stdout",
          "text": [
            "📊 USDTDAI verisi çekiliyor...\n",
            "✅ USDTDAI: 1440 veri noktası alındı\n",
            "✅ USDTDAI analiz tamamlandı\n",
            "\n"
          ]
        },
        {
          "output_type": "stream",
          "name": "stderr",
          "text": [
            "\rCoinler analiz ediliyor:  89%|████████▉ | 301/338 [12:34<01:32,  2.50s/it]"
          ]
        },
        {
          "output_type": "stream",
          "name": "stdout",
          "text": [
            "📊 USDTMXN verisi çekiliyor...\n",
            "✅ USDTMXN: 1440 veri noktası alındı\n",
            "✅ USDTMXN analiz tamamlandı\n",
            "\n"
          ]
        },
        {
          "output_type": "stream",
          "name": "stderr",
          "text": [
            "\rCoinler analiz ediliyor:  89%|████████▉ | 302/338 [12:37<01:30,  2.51s/it]"
          ]
        },
        {
          "output_type": "stream",
          "name": "stdout",
          "text": [
            "📊 USDTPLN verisi çekiliyor...\n",
            "✅ USDTPLN: 1440 veri noktası alındı\n",
            "✅ USDTPLN analiz tamamlandı\n",
            "\n"
          ]
        },
        {
          "output_type": "stream",
          "name": "stderr",
          "text": [
            "\rCoinler analiz ediliyor:  90%|████████▉ | 303/338 [12:40<01:27,  2.51s/it]"
          ]
        },
        {
          "output_type": "stream",
          "name": "stdout",
          "text": [
            "📊 USDTTRY verisi çekiliyor...\n",
            "✅ USDTTRY: 1440 veri noktası alındı\n",
            "✅ USDTTRY analiz tamamlandı\n",
            "\n"
          ]
        },
        {
          "output_type": "stream",
          "name": "stderr",
          "text": [
            "\rCoinler analiz ediliyor:  90%|████████▉ | 304/338 [12:42<01:25,  2.52s/it]"
          ]
        },
        {
          "output_type": "stream",
          "name": "stdout",
          "text": [
            "📊 USDTUAH verisi çekiliyor...\n",
            "✅ USDTUAH: 1440 veri noktası alındı\n",
            "✅ USDTUAH analiz tamamlandı\n",
            "\n"
          ]
        },
        {
          "output_type": "stream",
          "name": "stderr",
          "text": [
            "\rCoinler analiz ediliyor:  90%|█████████ | 305/338 [12:45<01:23,  2.53s/it]"
          ]
        },
        {
          "output_type": "stream",
          "name": "stdout",
          "text": [
            "📊 USDTZAR verisi çekiliyor...\n",
            "✅ USDTZAR: 1440 veri noktası alındı\n",
            "✅ USDTZAR analiz tamamlandı\n",
            "\n"
          ]
        },
        {
          "output_type": "stream",
          "name": "stderr",
          "text": [
            "\rCoinler analiz ediliyor:  91%|█████████ | 306/338 [12:47<01:20,  2.51s/it]"
          ]
        },
        {
          "output_type": "stream",
          "name": "stdout",
          "text": [
            "📊 USTCUSDT verisi çekiliyor...\n",
            "✅ USTCUSDT: 1440 veri noktası alındı\n",
            "✅ USTCUSDT analiz tamamlandı\n",
            "\n"
          ]
        },
        {
          "output_type": "stream",
          "name": "stderr",
          "text": [
            "\rCoinler analiz ediliyor:  91%|█████████ | 307/338 [12:49<01:16,  2.48s/it]"
          ]
        },
        {
          "output_type": "stream",
          "name": "stdout",
          "text": [
            "📊 UTKUSDT verisi çekiliyor...\n",
            "✅ UTKUSDT: 1440 veri noktası alındı\n",
            "✅ UTKUSDT analiz tamamlandı\n",
            "\n"
          ]
        },
        {
          "output_type": "stream",
          "name": "stderr",
          "text": [
            "\rCoinler analiz ediliyor:  91%|█████████ | 308/338 [12:52<01:13,  2.43s/it]"
          ]
        },
        {
          "output_type": "stream",
          "name": "stdout",
          "text": [
            "📊 VANRYUSDT verisi çekiliyor...\n",
            "✅ VANRYUSDT: 1440 veri noktası alındı\n",
            "✅ VANRYUSDT analiz tamamlandı\n",
            "\n"
          ]
        },
        {
          "output_type": "stream",
          "name": "stderr",
          "text": [
            "\rCoinler analiz ediliyor:  91%|█████████▏| 309/338 [12:54<01:09,  2.41s/it]"
          ]
        },
        {
          "output_type": "stream",
          "name": "stdout",
          "text": [
            "📊 VETUSDT verisi çekiliyor...\n",
            "✅ VETUSDT: 1440 veri noktası alındı\n",
            "✅ VETUSDT analiz tamamlandı\n",
            "\n"
          ]
        },
        {
          "output_type": "stream",
          "name": "stderr",
          "text": [
            "\rCoinler analiz ediliyor:  92%|█████████▏| 310/338 [12:56<01:06,  2.38s/it]"
          ]
        },
        {
          "output_type": "stream",
          "name": "stdout",
          "text": [
            "📊 VICUSDT verisi çekiliyor...\n",
            "✅ VICUSDT: 1440 veri noktası alındı\n",
            "✅ VICUSDT analiz tamamlandı\n",
            "\n"
          ]
        },
        {
          "output_type": "stream",
          "name": "stderr",
          "text": [
            "\rCoinler analiz ediliyor:  92%|█████████▏| 311/338 [12:59<01:03,  2.36s/it]"
          ]
        },
        {
          "output_type": "stream",
          "name": "stdout",
          "text": [
            "📊 VOXELUSDT verisi çekiliyor...\n",
            "✅ VOXELUSDT: 1440 veri noktası alındı\n",
            "✅ VOXELUSDT analiz tamamlandı\n",
            "\n"
          ]
        },
        {
          "output_type": "stream",
          "name": "stderr",
          "text": [
            "\rCoinler analiz ediliyor:  92%|█████████▏| 312/338 [13:01<01:01,  2.36s/it]"
          ]
        },
        {
          "output_type": "stream",
          "name": "stdout",
          "text": [
            "📊 VTHOUSDT verisi çekiliyor...\n",
            "✅ VTHOUSDT: 1440 veri noktası alındı\n",
            "✅ VTHOUSDT analiz tamamlandı\n",
            "\n"
          ]
        },
        {
          "output_type": "stream",
          "name": "stderr",
          "text": [
            "\rCoinler analiz ediliyor:  93%|█████████▎| 313/338 [13:03<00:58,  2.33s/it]"
          ]
        },
        {
          "output_type": "stream",
          "name": "stdout",
          "text": [
            "📊 WANUSDT verisi çekiliyor...\n",
            "✅ WANUSDT: 1440 veri noktası alındı\n",
            "✅ WANUSDT analiz tamamlandı\n",
            "\n"
          ]
        },
        {
          "output_type": "stream",
          "name": "stderr",
          "text": [
            "\rCoinler analiz ediliyor:  93%|█████████▎| 314/338 [13:06<00:55,  2.33s/it]"
          ]
        },
        {
          "output_type": "stream",
          "name": "stdout",
          "text": [
            "📊 WAXPUSDT verisi çekiliyor...\n",
            "✅ WAXPUSDT: 1440 veri noktası alındı\n",
            "✅ WAXPUSDT analiz tamamlandı\n",
            "\n"
          ]
        },
        {
          "output_type": "stream",
          "name": "stderr",
          "text": [
            "\rCoinler analiz ediliyor:  93%|█████████▎| 315/338 [13:08<00:53,  2.31s/it]"
          ]
        },
        {
          "output_type": "stream",
          "name": "stdout",
          "text": [
            "📊 WBETHUSDT verisi çekiliyor...\n",
            "✅ WBETHUSDT: 1440 veri noktası alındı\n",
            "✅ WBETHUSDT analiz tamamlandı\n",
            "\n"
          ]
        },
        {
          "output_type": "stream",
          "name": "stderr",
          "text": [
            "\rCoinler analiz ediliyor:  93%|█████████▎| 316/338 [13:10<00:50,  2.29s/it]"
          ]
        },
        {
          "output_type": "stream",
          "name": "stdout",
          "text": [
            "📊 WBTCUSDT verisi çekiliyor...\n",
            "✅ WBTCUSDT: 1440 veri noktası alındı\n",
            "✅ WBTCUSDT analiz tamamlandı\n",
            "\n"
          ]
        },
        {
          "output_type": "stream",
          "name": "stderr",
          "text": [
            "\rCoinler analiz ediliyor:  94%|█████████▍| 317/338 [13:12<00:47,  2.28s/it]"
          ]
        },
        {
          "output_type": "stream",
          "name": "stdout",
          "text": [
            "📊 WIFUSDT verisi çekiliyor...\n",
            "✅ WIFUSDT: 1440 veri noktası alındı\n",
            "✅ WIFUSDT analiz tamamlandı\n",
            "\n"
          ]
        },
        {
          "output_type": "stream",
          "name": "stderr",
          "text": [
            "\rCoinler analiz ediliyor:  94%|█████████▍| 318/338 [13:15<00:45,  2.27s/it]"
          ]
        },
        {
          "output_type": "stream",
          "name": "stdout",
          "text": [
            "📊 WINUSDT verisi çekiliyor...\n",
            "✅ WINUSDT: 1440 veri noktası alındı\n",
            "✅ WINUSDT analiz tamamlandı\n",
            "\n"
          ]
        },
        {
          "output_type": "stream",
          "name": "stderr",
          "text": [
            "\rCoinler analiz ediliyor:  94%|█████████▍| 319/338 [13:17<00:43,  2.29s/it]"
          ]
        },
        {
          "output_type": "stream",
          "name": "stdout",
          "text": [
            "📊 WLDUSDT verisi çekiliyor...\n",
            "✅ WLDUSDT: 1440 veri noktası alındı\n",
            "✅ WLDUSDT analiz tamamlandı\n",
            "\n"
          ]
        },
        {
          "output_type": "stream",
          "name": "stderr",
          "text": [
            "\rCoinler analiz ediliyor:  95%|█████████▍| 320/338 [13:19<00:41,  2.28s/it]"
          ]
        },
        {
          "output_type": "stream",
          "name": "stdout",
          "text": [
            "📊 WOOUSDT verisi çekiliyor...\n",
            "✅ WOOUSDT: 1440 veri noktası alındı\n",
            "✅ WOOUSDT analiz tamamlandı\n",
            "\n"
          ]
        },
        {
          "output_type": "stream",
          "name": "stderr",
          "text": [
            "\rCoinler analiz ediliyor:  95%|█████████▍| 321/338 [13:22<00:38,  2.27s/it]"
          ]
        },
        {
          "output_type": "stream",
          "name": "stdout",
          "text": [
            "📊 WUSDT verisi çekiliyor...\n",
            "✅ WUSDT: 1440 veri noktası alındı\n",
            "✅ WUSDT analiz tamamlandı\n",
            "\n"
          ]
        },
        {
          "output_type": "stream",
          "name": "stderr",
          "text": [
            "\rCoinler analiz ediliyor:  95%|█████████▌| 322/338 [13:24<00:36,  2.26s/it]"
          ]
        },
        {
          "output_type": "stream",
          "name": "stdout",
          "text": [
            "📊 XAIUSDT verisi çekiliyor...\n",
            "✅ XAIUSDT: 1440 veri noktası alındı\n",
            "✅ XAIUSDT analiz tamamlandı\n",
            "\n"
          ]
        },
        {
          "output_type": "stream",
          "name": "stderr",
          "text": [
            "\rCoinler analiz ediliyor:  96%|█████████▌| 323/338 [13:26<00:33,  2.26s/it]"
          ]
        },
        {
          "output_type": "stream",
          "name": "stdout",
          "text": [
            "📊 XECUSDT verisi çekiliyor...\n",
            "✅ XECUSDT: 1440 veri noktası alındı\n",
            "✅ XECUSDT analiz tamamlandı\n",
            "\n"
          ]
        },
        {
          "output_type": "stream",
          "name": "stderr",
          "text": [
            "\rCoinler analiz ediliyor:  96%|█████████▌| 324/338 [13:29<00:34,  2.43s/it]"
          ]
        },
        {
          "output_type": "stream",
          "name": "stdout",
          "text": [
            "📊 XLMUSDT verisi çekiliyor...\n",
            "✅ XLMUSDT: 1440 veri noktası alındı\n",
            "✅ XLMUSDT analiz tamamlandı\n",
            "\n"
          ]
        },
        {
          "output_type": "stream",
          "name": "stderr",
          "text": [
            "\rCoinler analiz ediliyor:  96%|█████████▌| 325/338 [13:31<00:32,  2.48s/it]"
          ]
        },
        {
          "output_type": "stream",
          "name": "stdout",
          "text": [
            "📊 XNOUSDT verisi çekiliyor...\n",
            "✅ XNOUSDT: 1440 veri noktası alındı\n",
            "✅ XNOUSDT analiz tamamlandı\n",
            "\n"
          ]
        },
        {
          "output_type": "stream",
          "name": "stderr",
          "text": [
            "\rCoinler analiz ediliyor:  96%|█████████▋| 326/338 [13:34<00:30,  2.56s/it]"
          ]
        },
        {
          "output_type": "stream",
          "name": "stdout",
          "text": [
            "📊 XRPUSDT verisi çekiliyor...\n",
            "✅ XRPUSDT: 1440 veri noktası alındı\n",
            "✅ XRPUSDT analiz tamamlandı\n",
            "\n"
          ]
        },
        {
          "output_type": "stream",
          "name": "stderr",
          "text": [
            "\rCoinler analiz ediliyor:  97%|█████████▋| 327/338 [13:37<00:28,  2.56s/it]"
          ]
        },
        {
          "output_type": "stream",
          "name": "stdout",
          "text": [
            "📊 XTZUSDT verisi çekiliyor...\n",
            "✅ XTZUSDT: 1440 veri noktası alındı\n",
            "✅ XTZUSDT analiz tamamlandı\n",
            "\n"
          ]
        },
        {
          "output_type": "stream",
          "name": "stderr",
          "text": [
            "\rCoinler analiz ediliyor:  97%|█████████▋| 328/338 [13:39<00:25,  2.59s/it]"
          ]
        },
        {
          "output_type": "stream",
          "name": "stdout",
          "text": [
            "📊 XVGUSDT verisi çekiliyor...\n",
            "✅ XVGUSDT: 1440 veri noktası alındı\n",
            "✅ XVGUSDT analiz tamamlandı\n",
            "\n"
          ]
        },
        {
          "output_type": "stream",
          "name": "stderr",
          "text": [
            "\rCoinler analiz ediliyor:  97%|█████████▋| 329/338 [13:42<00:23,  2.58s/it]"
          ]
        },
        {
          "output_type": "stream",
          "name": "stdout",
          "text": [
            "📊 XVSUSDT verisi çekiliyor...\n",
            "✅ XVSUSDT: 1440 veri noktası alındı\n",
            "✅ XVSUSDT analiz tamamlandı\n",
            "\n"
          ]
        },
        {
          "output_type": "stream",
          "name": "stderr",
          "text": [
            "\rCoinler analiz ediliyor:  98%|█████████▊| 330/338 [13:45<00:20,  2.57s/it]"
          ]
        },
        {
          "output_type": "stream",
          "name": "stdout",
          "text": [
            "📊 YFIUSDT verisi çekiliyor...\n",
            "✅ YFIUSDT: 1440 veri noktası alındı\n",
            "✅ YFIUSDT analiz tamamlandı\n",
            "\n"
          ]
        },
        {
          "output_type": "stream",
          "name": "stderr",
          "text": [
            "\rCoinler analiz ediliyor:  98%|█████████▊| 331/338 [13:47<00:17,  2.57s/it]"
          ]
        },
        {
          "output_type": "stream",
          "name": "stdout",
          "text": [
            "📊 YGGUSDT verisi çekiliyor...\n",
            "✅ YGGUSDT: 1440 veri noktası alındı\n",
            "✅ YGGUSDT analiz tamamlandı\n",
            "\n"
          ]
        },
        {
          "output_type": "stream",
          "name": "stderr",
          "text": [
            "\rCoinler analiz ediliyor:  98%|█████████▊| 332/338 [13:50<00:15,  2.63s/it]"
          ]
        },
        {
          "output_type": "stream",
          "name": "stdout",
          "text": [
            "📊 ZECUSDT verisi çekiliyor...\n",
            "✅ ZECUSDT: 1440 veri noktası alındı\n",
            "✅ ZECUSDT analiz tamamlandı\n",
            "\n"
          ]
        },
        {
          "output_type": "stream",
          "name": "stderr",
          "text": [
            "\rCoinler analiz ediliyor:  99%|█████████▊| 333/338 [13:52<00:13,  2.62s/it]"
          ]
        },
        {
          "output_type": "stream",
          "name": "stdout",
          "text": [
            "📊 ZENUSDT verisi çekiliyor...\n",
            "✅ ZENUSDT: 1440 veri noktası alındı\n",
            "✅ ZENUSDT analiz tamamlandı\n",
            "\n"
          ]
        },
        {
          "output_type": "stream",
          "name": "stderr",
          "text": [
            "\rCoinler analiz ediliyor:  99%|█████████▉| 334/338 [13:55<00:10,  2.60s/it]"
          ]
        },
        {
          "output_type": "stream",
          "name": "stdout",
          "text": [
            "📊 ZILUSDT verisi çekiliyor...\n",
            "✅ ZILUSDT: 1440 veri noktası alındı\n",
            "✅ ZILUSDT analiz tamamlandı\n",
            "\n"
          ]
        },
        {
          "output_type": "stream",
          "name": "stderr",
          "text": [
            "\rCoinler analiz ediliyor:  99%|█████████▉| 335/338 [13:58<00:07,  2.64s/it]"
          ]
        },
        {
          "output_type": "stream",
          "name": "stdout",
          "text": [
            "📊 ZKUSDT verisi çekiliyor...\n",
            "✅ ZKUSDT: 1440 veri noktası alındı\n",
            "✅ ZKUSDT analiz tamamlandı\n",
            "\n"
          ]
        },
        {
          "output_type": "stream",
          "name": "stderr",
          "text": [
            "\rCoinler analiz ediliyor:  99%|█████████▉| 336/338 [14:01<00:05,  2.73s/it]"
          ]
        },
        {
          "output_type": "stream",
          "name": "stdout",
          "text": [
            "📊 ZROUSDT verisi çekiliyor...\n",
            "✅ ZROUSDT: 1440 veri noktası alındı\n",
            "✅ ZROUSDT analiz tamamlandı\n",
            "\n"
          ]
        },
        {
          "output_type": "stream",
          "name": "stderr",
          "text": [
            "\rCoinler analiz ediliyor: 100%|█████████▉| 337/338 [14:03<00:02,  2.72s/it]"
          ]
        },
        {
          "output_type": "stream",
          "name": "stdout",
          "text": [
            "📊 ZRXUSDT verisi çekiliyor...\n",
            "✅ ZRXUSDT: 1440 veri noktası alındı\n",
            "✅ ZRXUSDT analiz tamamlandı\n",
            "\n"
          ]
        },
        {
          "output_type": "stream",
          "name": "stderr",
          "text": [
            "Coinler analiz ediliyor: 100%|██████████| 338/338 [14:06<00:00,  2.50s/it]\n"
          ]
        },
        {
          "output_type": "stream",
          "name": "stdout",
          "text": [
            "\u001b[1;30;43mGörüntülenen çıkış son 5000 satıra kısaltıldı.\u001b[0m\n",
            "  3. 02:00 - 03:00: 0.120%\n",
            "\n",
            "📊 GENEL İSTATİSTİKLER:\n",
            "  • Toplam güçlü yükseliş: 9\n",
            "  • Toplam güçlü düşüş: 13\n",
            "  • Toplam veri noktası: 1440\n",
            "\n",
            "============================================================\n",
            "\n",
            "============================================================\n",
            "📊 MAVUSDT ANALİZİ\n",
            "============================================================\n",
            "\n",
            "🚀 GÜÇLÜ YÜKSELİŞ GÜNLERI:\n",
            "  1. Pazar: 12 kez\n",
            "  2. Cuma: 11 kez\n",
            "  3. Çarşamba: 11 kez\n",
            "\n",
            "📉 GÜÇLÜ DÜŞÜŞ GÜNLERI:\n",
            "  1. Pazar: 8 kez\n",
            "  2. Cuma: 7 kez\n",
            "  3. Perşembe: 6 kez\n",
            "\n",
            "⏰ EN AKTİF SAATLER (Güçlü Yükseliş):\n",
            "  1. 07:00 - 08:00: 9 kez\n",
            "  2. 19:00 - 20:00: 5 kez\n",
            "  3. 09:00 - 10:00: 4 kez\n",
            "\n",
            "💰 EN YÜKSEK ORTALAMA GETİRİ SAATLERI:\n",
            "  1. 07:00 - 08:00: 0.480%\n",
            "  2. 17:00 - 18:00: 0.430%\n",
            "  3. 19:00 - 20:00: 0.400%\n",
            "\n",
            "📊 GENEL İSTATİSTİKLER:\n",
            "  • Toplam güçlü yükseliş: 66\n",
            "  • Toplam güçlü düşüş: 32\n",
            "  • Toplam veri noktası: 1440\n",
            "\n",
            "============================================================\n",
            "\n",
            "============================================================\n",
            "📊 MBLUSDT ANALİZİ\n",
            "============================================================\n",
            "\n",
            "🚀 GÜÇLÜ YÜKSELİŞ GÜNLERI:\n",
            "  1. Çarşamba: 3 kez\n",
            "  2. Perşembe: 2 kez\n",
            "  3. Cuma: 1 kez\n",
            "\n",
            "📉 GÜÇLÜ DÜŞÜŞ GÜNLERI:\n",
            "  1. Çarşamba: 2 kez\n",
            "  2. Salı: 1 kez\n",
            "  3. Perşembe: 1 kez\n",
            "\n",
            "⏰ EN AKTİF SAATLER (Güçlü Yükseliş):\n",
            "  1. 00:00 - 01:00: 1 kez\n",
            "  2. 05:00 - 06:00: 1 kez\n",
            "  3. 10:00 - 11:00: 1 kez\n",
            "\n",
            "💰 EN YÜKSEK ORTALAMA GETİRİ SAATLERI:\n",
            "  1. 17:00 - 18:00: 0.130%\n",
            "  2. 05:00 - 06:00: 0.100%\n",
            "  3. 08:00 - 09:00: 0.100%\n",
            "\n",
            "📊 GENEL İSTATİSTİKLER:\n",
            "  • Toplam güçlü yükseliş: 6\n",
            "  • Toplam güçlü düşüş: 5\n",
            "  • Toplam veri noktası: 1440\n",
            "\n",
            "============================================================\n",
            "\n",
            "============================================================\n",
            "📊 MBOXUSDT ANALİZİ\n",
            "============================================================\n",
            "\n",
            "🚀 GÜÇLÜ YÜKSELİŞ GÜNLERI:\n",
            "  1. Salı: 5 kez\n",
            "  2. Cuma: 5 kez\n",
            "  3. Pazar: 4 kez\n",
            "\n",
            "📉 GÜÇLÜ DÜŞÜŞ GÜNLERI:\n",
            "  1. Pazartesi: 6 kez\n",
            "  2. Çarşamba: 5 kez\n",
            "  3. Cuma: 4 kez\n",
            "\n",
            "⏰ EN AKTİF SAATLER (Güçlü Yükseliş):\n",
            "  1. 14:00 - 15:00: 4 kez\n",
            "  2. 13:00 - 14:00: 3 kez\n",
            "  3. 16:00 - 17:00: 2 kez\n",
            "\n",
            "💰 EN YÜKSEK ORTALAMA GETİRİ SAATLERI:\n",
            "  1. 03:00 - 04:00: 0.400%\n",
            "  2. 17:00 - 18:00: 0.290%\n",
            "  3. 09:00 - 10:00: 0.170%\n",
            "\n",
            "📊 GENEL İSTATİSTİKLER:\n",
            "  • Toplam güçlü yükseliş: 20\n",
            "  • Toplam güçlü düşüş: 25\n",
            "  • Toplam veri noktası: 1440\n",
            "\n",
            "============================================================\n",
            "\n",
            "============================================================\n",
            "📊 MDTUSDT ANALİZİ\n",
            "============================================================\n",
            "\n",
            "🚀 GÜÇLÜ YÜKSELİŞ GÜNLERI:\n",
            "  1. Cuma: 12 kez\n",
            "  2. Perşembe: 9 kez\n",
            "  3. Cumartesi: 9 kez\n",
            "\n",
            "📉 GÜÇLÜ DÜŞÜŞ GÜNLERI:\n",
            "  1. Pazartesi: 9 kez\n",
            "  2. Çarşamba: 9 kez\n",
            "  3. Cuma: 7 kez\n",
            "\n",
            "⏰ EN AKTİF SAATLER (Güçlü Yükseliş):\n",
            "  1. 09:00 - 10:00: 6 kez\n",
            "  2. 07:00 - 08:00: 5 kez\n",
            "  3. 08:00 - 09:00: 4 kez\n",
            "\n",
            "💰 EN YÜKSEK ORTALAMA GETİRİ SAATLERI:\n",
            "  1. 20:00 - 21:00: 0.730%\n",
            "  2. 00:00 - 01:00: 0.650%\n",
            "  3. 07:00 - 08:00: 0.640%\n",
            "\n",
            "📊 GENEL İSTATİSTİKLER:\n",
            "  • Toplam güçlü yükseliş: 50\n",
            "  • Toplam güçlü düşüş: 36\n",
            "  • Toplam veri noktası: 1440\n",
            "\n",
            "============================================================\n",
            "\n",
            "============================================================\n",
            "📊 MEMEUSDT ANALİZİ\n",
            "============================================================\n",
            "\n",
            "🚀 GÜÇLÜ YÜKSELİŞ GÜNLERI:\n",
            "  1. Cuma: 11 kez\n",
            "  2. Çarşamba: 10 kez\n",
            "  3. Perşembe: 8 kez\n",
            "\n",
            "📉 GÜÇLÜ DÜŞÜŞ GÜNLERI:\n",
            "  1. Pazartesi: 8 kez\n",
            "  2. Salı: 7 kez\n",
            "  3. Cuma: 7 kez\n",
            "\n",
            "⏰ EN AKTİF SAATLER (Güçlü Yükseliş):\n",
            "  1. 12:00 - 13:00: 5 kez\n",
            "  2. 16:00 - 17:00: 4 kez\n",
            "  3. 15:00 - 16:00: 4 kez\n",
            "\n",
            "💰 EN YÜKSEK ORTALAMA GETİRİ SAATLERI:\n",
            "  1. 12:00 - 13:00: 0.630%\n",
            "  2. 16:00 - 17:00: 0.330%\n",
            "  3. 09:00 - 10:00: 0.320%\n",
            "\n",
            "📊 GENEL İSTATİSTİKLER:\n",
            "  • Toplam güçlü yükseliş: 45\n",
            "  • Toplam güçlü düşüş: 42\n",
            "  • Toplam veri noktası: 1440\n",
            "\n",
            "============================================================\n",
            "\n",
            "============================================================\n",
            "📊 METISUSDT ANALİZİ\n",
            "============================================================\n",
            "\n",
            "🚀 GÜÇLÜ YÜKSELİŞ GÜNLERI:\n",
            "  1. Cumartesi: 7 kez\n",
            "  2. Perşembe: 6 kez\n",
            "  3. Pazar: 6 kez\n",
            "\n",
            "📉 GÜÇLÜ DÜŞÜŞ GÜNLERI:\n",
            "  1. Pazartesi: 8 kez\n",
            "  2. Cuma: 7 kez\n",
            "  3. Pazar: 5 kez\n",
            "\n",
            "⏰ EN AKTİF SAATLER (Güçlü Yükseliş):\n",
            "  1. 15:00 - 16:00: 3 kez\n",
            "  2. 00:00 - 01:00: 2 kez\n",
            "  3. 23:00 - 00:00: 2 kez\n",
            "\n",
            "💰 EN YÜKSEK ORTALAMA GETİRİ SAATLERI:\n",
            "  1. 17:00 - 18:00: 0.240%\n",
            "  2. 20:00 - 21:00: 0.190%\n",
            "  3. 01:00 - 02:00: 0.170%\n",
            "\n",
            "📊 GENEL İSTATİSTİKLER:\n",
            "  • Toplam güçlü yükseliş: 31\n",
            "  • Toplam güçlü düşüş: 30\n",
            "  • Toplam veri noktası: 1440\n",
            "\n",
            "============================================================\n",
            "\n",
            "============================================================\n",
            "📊 MINAUSDT ANALİZİ\n",
            "============================================================\n",
            "\n",
            "🚀 GÜÇLÜ YÜKSELİŞ GÜNLERI:\n",
            "  1. Salı: 3 kez\n",
            "  2. Perşembe: 3 kez\n",
            "  3. Pazartesi: 2 kez\n",
            "\n",
            "📉 GÜÇLÜ DÜŞÜŞ GÜNLERI:\n",
            "  1. Cuma: 4 kez\n",
            "  2. Salı: 3 kez\n",
            "  3. Pazartesi: 2 kez\n",
            "\n",
            "⏰ EN AKTİF SAATLER (Güçlü Yükseliş):\n",
            "  1. 07:00 - 08:00: 2 kez\n",
            "  2. 02:00 - 03:00: 1 kez\n",
            "  3. 21:00 - 22:00: 1 kez\n",
            "\n",
            "💰 EN YÜKSEK ORTALAMA GETİRİ SAATLERI:\n",
            "  1. 17:00 - 18:00: 0.190%\n",
            "  2. 02:00 - 03:00: 0.160%\n",
            "  3. 16:00 - 17:00: 0.100%\n",
            "\n",
            "📊 GENEL İSTATİSTİKLER:\n",
            "  • Toplam güçlü yükseliş: 10\n",
            "  • Toplam güçlü düşüş: 14\n",
            "  • Toplam veri noktası: 1440\n",
            "\n",
            "============================================================\n",
            "\n",
            "============================================================\n",
            "📊 MKRUSDT ANALİZİ\n",
            "============================================================\n",
            "\n",
            "🚀 GÜÇLÜ YÜKSELİŞ GÜNLERI:\n",
            "  1. Cuma: 8 kez\n",
            "  2. Salı: 7 kez\n",
            "  3. Perşembe: 3 kez\n",
            "\n",
            "📉 GÜÇLÜ DÜŞÜŞ GÜNLERI:\n",
            "  1. Cuma: 6 kez\n",
            "  2. Pazartesi: 4 kez\n",
            "  3. Salı: 3 kez\n",
            "\n",
            "⏰ EN AKTİF SAATLER (Güçlü Yükseliş):\n",
            "  1. 14:00 - 15:00: 4 kez\n",
            "  2. 16:00 - 17:00: 3 kez\n",
            "  3. 01:00 - 02:00: 2 kez\n",
            "\n",
            "💰 EN YÜKSEK ORTALAMA GETİRİ SAATLERI:\n",
            "  1. 17:00 - 18:00: 0.310%\n",
            "  2. 16:00 - 17:00: 0.200%\n",
            "  3. 01:00 - 02:00: 0.150%\n",
            "\n",
            "📊 GENEL İSTATİSTİKLER:\n",
            "  • Toplam güçlü yükseliş: 23\n",
            "  • Toplam güçlü düşüş: 17\n",
            "  • Toplam veri noktası: 1440\n",
            "\n",
            "============================================================\n",
            "\n",
            "============================================================\n",
            "📊 MLNUSDT ANALİZİ\n",
            "============================================================\n",
            "\n",
            "🚀 GÜÇLÜ YÜKSELİŞ GÜNLERI:\n",
            "  1. Pazartesi: 5 kez\n",
            "  2. Salı: 5 kez\n",
            "  3. Cuma: 5 kez\n",
            "\n",
            "📉 GÜÇLÜ DÜŞÜŞ GÜNLERI:\n",
            "  1. Pazartesi: 4 kez\n",
            "  2. Cuma: 3 kez\n",
            "  3. Salı: 2 kez\n",
            "\n",
            "⏰ EN AKTİF SAATLER (Güçlü Yükseliş):\n",
            "  1. 03:00 - 04:00: 3 kez\n",
            "  2. 16:00 - 17:00: 3 kez\n",
            "  3. 11:00 - 12:00: 2 kez\n",
            "\n",
            "💰 EN YÜKSEK ORTALAMA GETİRİ SAATLERI:\n",
            "  1. 06:00 - 07:00: 0.390%\n",
            "  2. 17:00 - 18:00: 0.290%\n",
            "  3. 20:00 - 21:00: 0.170%\n",
            "\n",
            "📊 GENEL İSTATİSTİKLER:\n",
            "  • Toplam güçlü yükseliş: 24\n",
            "  • Toplam güçlü düşüş: 16\n",
            "  • Toplam veri noktası: 1440\n",
            "\n",
            "============================================================\n",
            "\n",
            "============================================================\n",
            "📊 MOVRUSDT ANALİZİ\n",
            "============================================================\n",
            "\n",
            "🚀 GÜÇLÜ YÜKSELİŞ GÜNLERI:\n",
            "  1. Pazar: 7 kez\n",
            "  2. Salı: 4 kez\n",
            "  3. Pazartesi: 4 kez\n",
            "\n",
            "📉 GÜÇLÜ DÜŞÜŞ GÜNLERI:\n",
            "  1. Salı: 4 kez\n",
            "  2. Pazartesi: 3 kez\n",
            "  3. Çarşamba: 3 kez\n",
            "\n",
            "⏰ EN AKTİF SAATLER (Güçlü Yükseliş):\n",
            "  1. 07:00 - 08:00: 3 kez\n",
            "  2. 02:00 - 03:00: 2 kez\n",
            "  3. 05:00 - 06:00: 2 kez\n",
            "\n",
            "💰 EN YÜKSEK ORTALAMA GETİRİ SAATLERI:\n",
            "  1. 07:00 - 08:00: 0.230%\n",
            "  2. 04:00 - 05:00: 0.170%\n",
            "  3. 20:00 - 21:00: 0.170%\n",
            "\n",
            "📊 GENEL İSTATİSTİKLER:\n",
            "  • Toplam güçlü yükseliş: 27\n",
            "  • Toplam güçlü düşüş: 17\n",
            "  • Toplam veri noktası: 1440\n",
            "\n",
            "============================================================\n",
            "\n",
            "============================================================\n",
            "📊 MTLUSDT ANALİZİ\n",
            "============================================================\n",
            "\n",
            "🚀 GÜÇLÜ YÜKSELİŞ GÜNLERI:\n",
            "  1. Salı: 2 kez\n",
            "  2. Cuma: 2 kez\n",
            "  3. Pazartesi: 1 kez\n",
            "\n",
            "📉 GÜÇLÜ DÜŞÜŞ GÜNLERI:\n",
            "  1. Pazartesi: 1 kez\n",
            "  2. Çarşamba: 1 kez\n",
            "  3. Perşembe: 1 kez\n",
            "\n",
            "⏰ EN AKTİF SAATLER (Güçlü Yükseliş):\n",
            "  1. 07:00 - 08:00: 1 kez\n",
            "  2. 05:00 - 06:00: 1 kez\n",
            "  3. 14:00 - 15:00: 1 kez\n",
            "\n",
            "💰 EN YÜKSEK ORTALAMA GETİRİ SAATLERI:\n",
            "  1. 17:00 - 18:00: 0.130%\n",
            "  2. 01:00 - 02:00: 0.090%\n",
            "  3. 14:00 - 15:00: 0.080%\n",
            "\n",
            "📊 GENEL İSTATİSTİKLER:\n",
            "  • Toplam güçlü yükseliş: 7\n",
            "  • Toplam güçlü düşüş: 4\n",
            "  • Toplam veri noktası: 1440\n",
            "\n",
            "============================================================\n",
            "\n",
            "============================================================\n",
            "📊 NEARUSDT ANALİZİ\n",
            "============================================================\n",
            "\n",
            "🚀 GÜÇLÜ YÜKSELİŞ GÜNLERI:\n",
            "  1. Salı: 3 kez\n",
            "  2. Cuma: 3 kez\n",
            "  3. Perşembe: 3 kez\n",
            "\n",
            "📉 GÜÇLÜ DÜŞÜŞ GÜNLERI:\n",
            "  1. Cuma: 7 kez\n",
            "  2. Çarşamba: 3 kez\n",
            "  3. Pazartesi: 3 kez\n",
            "\n",
            "⏰ EN AKTİF SAATLER (Güçlü Yükseliş):\n",
            "  1. 07:00 - 08:00: 2 kez\n",
            "  2. 14:00 - 15:00: 2 kez\n",
            "  3. 16:00 - 17:00: 2 kez\n",
            "\n",
            "💰 EN YÜKSEK ORTALAMA GETİRİ SAATLERI:\n",
            "  1. 17:00 - 18:00: 0.210%\n",
            "  2. 04:00 - 05:00: 0.150%\n",
            "  3. 21:00 - 22:00: 0.120%\n",
            "\n",
            "📊 GENEL İSTATİSTİKLER:\n",
            "  • Toplam güçlü yükseliş: 15\n",
            "  • Toplam güçlü düşüş: 18\n",
            "  • Toplam veri noktası: 1440\n",
            "\n",
            "============================================================\n",
            "\n",
            "============================================================\n",
            "📊 NEIROUSDT ANALİZİ\n",
            "============================================================\n",
            "\n",
            "🚀 GÜÇLÜ YÜKSELİŞ GÜNLERI:\n",
            "  1. Pazar: 11 kez\n",
            "  2. Cuma: 7 kez\n",
            "  3. Perşembe: 6 kez\n",
            "\n",
            "📉 GÜÇLÜ DÜŞÜŞ GÜNLERI:\n",
            "  1. Pazartesi: 10 kez\n",
            "  2. Cuma: 8 kez\n",
            "  3. Perşembe: 7 kez\n",
            "\n",
            "⏰ EN AKTİF SAATLER (Güçlü Yükseliş):\n",
            "  1. 16:00 - 17:00: 5 kez\n",
            "  2. 15:00 - 16:00: 4 kez\n",
            "  3. 12:00 - 13:00: 4 kez\n",
            "\n",
            "💰 EN YÜKSEK ORTALAMA GETİRİ SAATLERI:\n",
            "  1. 16:00 - 17:00: 0.180%\n",
            "  2. 04:00 - 05:00: 0.170%\n",
            "  3. 21:00 - 22:00: 0.160%\n",
            "\n",
            "📊 GENEL İSTATİSTİKLER:\n",
            "  • Toplam güçlü yükseliş: 37\n",
            "  • Toplam güçlü düşüş: 40\n",
            "  • Toplam veri noktası: 1440\n",
            "\n",
            "============================================================\n",
            "\n",
            "============================================================\n",
            "📊 NEOUSDT ANALİZİ\n",
            "============================================================\n",
            "\n",
            "🚀 GÜÇLÜ YÜKSELİŞ GÜNLERI:\n",
            "  1. Cumartesi: 5 kez\n",
            "  2. Pazar: 4 kez\n",
            "  3. Pazartesi: 3 kez\n",
            "\n",
            "📉 GÜÇLÜ DÜŞÜŞ GÜNLERI:\n",
            "  1. Cuma: 5 kez\n",
            "  2. Pazartesi: 4 kez\n",
            "  3. Salı: 2 kez\n",
            "\n",
            "⏰ EN AKTİF SAATLER (Güçlü Yükseliş):\n",
            "  1. 00:00 - 01:00: 3 kez\n",
            "  2. 01:00 - 02:00: 2 kez\n",
            "  3. 07:00 - 08:00: 2 kez\n",
            "\n",
            "💰 EN YÜKSEK ORTALAMA GETİRİ SAATLERI:\n",
            "  1. 01:00 - 02:00: 0.250%\n",
            "  2. 17:00 - 18:00: 0.200%\n",
            "  3. 09:00 - 10:00: 0.130%\n",
            "\n",
            "📊 GENEL İSTATİSTİKLER:\n",
            "  • Toplam güçlü yükseliş: 20\n",
            "  • Toplam güçlü düşüş: 16\n",
            "  • Toplam veri noktası: 1440\n",
            "\n",
            "============================================================\n",
            "\n",
            "============================================================\n",
            "📊 NEXOUSDT ANALİZİ\n",
            "============================================================\n",
            "\n",
            "🚀 GÜÇLÜ YÜKSELİŞ GÜNLERI:\n",
            "  1. Cuma: 2 kez\n",
            "  2. Perşembe: 1 kez\n",
            "  3. Pazartesi: 0 kez\n",
            "\n",
            "📉 GÜÇLÜ DÜŞÜŞ GÜNLERI:\n",
            "  1. Pazartesi: 1 kez\n",
            "  2. Pazar: 1 kez\n",
            "  3. Cuma: 1 kez\n",
            "\n",
            "⏰ EN AKTİF SAATLER (Güçlü Yükseliş):\n",
            "  1. 08:00 - 09:00: 2 kez\n",
            "  2. 14:00 - 15:00: 1 kez\n",
            "  3. 00:00 - 01:00: 0 kez\n",
            "\n",
            "💰 EN YÜKSEK ORTALAMA GETİRİ SAATLERI:\n",
            "  1. 15:00 - 16:00: 0.130%\n",
            "  2. 12:00 - 13:00: 0.110%\n",
            "  3. 00:00 - 01:00: 0.100%\n",
            "\n",
            "📊 GENEL İSTATİSTİKLER:\n",
            "  • Toplam güçlü yükseliş: 3\n",
            "  • Toplam güçlü düşüş: 3\n",
            "  • Toplam veri noktası: 1440\n",
            "\n",
            "============================================================\n",
            "\n",
            "============================================================\n",
            "📊 NFPUSDT ANALİZİ\n",
            "============================================================\n",
            "\n",
            "🚀 GÜÇLÜ YÜKSELİŞ GÜNLERI:\n",
            "  1. Salı: 8 kez\n",
            "  2. Çarşamba: 6 kez\n",
            "  3. Cuma: 6 kez\n",
            "\n",
            "📉 GÜÇLÜ DÜŞÜŞ GÜNLERI:\n",
            "  1. Pazartesi: 7 kez\n",
            "  2. Cuma: 6 kez\n",
            "  3. Salı: 5 kez\n",
            "\n",
            "⏰ EN AKTİF SAATLER (Güçlü Yükseliş):\n",
            "  1. 16:00 - 17:00: 5 kez\n",
            "  2. 14:00 - 15:00: 4 kez\n",
            "  3. 12:00 - 13:00: 3 kez\n",
            "\n",
            "💰 EN YÜKSEK ORTALAMA GETİRİ SAATLERI:\n",
            "  1. 07:00 - 08:00: 0.200%\n",
            "  2. 22:00 - 23:00: 0.180%\n",
            "  3. 16:00 - 17:00: 0.180%\n",
            "\n",
            "📊 GENEL İSTATİSTİKLER:\n",
            "  • Toplam güçlü yükseliş: 33\n",
            "  • Toplam güçlü düşüş: 29\n",
            "  • Toplam veri noktası: 1440\n",
            "\n",
            "============================================================\n",
            "\n",
            "============================================================\n",
            "📊 NKNUSDT ANALİZİ\n",
            "============================================================\n",
            "\n",
            "🚀 GÜÇLÜ YÜKSELİŞ GÜNLERI:\n",
            "  1. Cuma: 7 kez\n",
            "  2. Perşembe: 5 kez\n",
            "  3. Salı: 4 kez\n",
            "\n",
            "📉 GÜÇLÜ DÜŞÜŞ GÜNLERI:\n",
            "  1. Pazartesi: 8 kez\n",
            "  2. Cuma: 7 kez\n",
            "  3. Salı: 5 kez\n",
            "\n",
            "⏰ EN AKTİF SAATLER (Güçlü Yükseliş):\n",
            "  1. 14:00 - 15:00: 4 kez\n",
            "  2. 15:00 - 16:00: 3 kez\n",
            "  3. 07:00 - 08:00: 2 kez\n",
            "\n",
            "💰 EN YÜKSEK ORTALAMA GETİRİ SAATLERI:\n",
            "  1. 17:00 - 18:00: 0.230%\n",
            "  2. 20:00 - 21:00: 0.180%\n",
            "  3. 14:00 - 15:00: 0.160%\n",
            "\n",
            "📊 GENEL İSTATİSTİKLER:\n",
            "  • Toplam güçlü yükseliş: 25\n",
            "  • Toplam güçlü düşüş: 29\n",
            "  • Toplam veri noktası: 1440\n",
            "\n",
            "============================================================\n",
            "\n",
            "============================================================\n",
            "📊 NMRUSDT ANALİZİ\n",
            "============================================================\n",
            "\n",
            "🚀 GÜÇLÜ YÜKSELİŞ GÜNLERI:\n",
            "  1. Cumartesi: 12 kez\n",
            "  2. Salı: 9 kez\n",
            "  3. Çarşamba: 8 kez\n",
            "\n",
            "📉 GÜÇLÜ DÜŞÜŞ GÜNLERI:\n",
            "  1. Salı: 5 kez\n",
            "  2. Cuma: 5 kez\n",
            "  3. Perşembe: 4 kez\n",
            "\n",
            "⏰ EN AKTİF SAATLER (Güçlü Yükseliş):\n",
            "  1. 16:00 - 17:00: 5 kez\n",
            "  2. 05:00 - 06:00: 4 kez\n",
            "  3. 13:00 - 14:00: 4 kez\n",
            "\n",
            "💰 EN YÜKSEK ORTALAMA GETİRİ SAATLERI:\n",
            "  1. 16:00 - 17:00: 0.660%\n",
            "  2. 15:00 - 16:00: 0.480%\n",
            "  3. 23:00 - 00:00: 0.350%\n",
            "\n",
            "📊 GENEL İSTATİSTİKLER:\n",
            "  • Toplam güçlü yükseliş: 43\n",
            "  • Toplam güçlü düşüş: 23\n",
            "  • Toplam veri noktası: 1440\n",
            "\n",
            "============================================================\n",
            "\n",
            "============================================================\n",
            "📊 NOTUSDT ANALİZİ\n",
            "============================================================\n",
            "\n",
            "🚀 GÜÇLÜ YÜKSELİŞ GÜNLERI:\n",
            "  1. Çarşamba: 4 kez\n",
            "  2. Cuma: 4 kez\n",
            "  3. Salı: 3 kez\n",
            "\n",
            "📉 GÜÇLÜ DÜŞÜŞ GÜNLERI:\n",
            "  1. Cuma: 6 kez\n",
            "  2. Perşembe: 4 kez\n",
            "  3. Pazartesi: 4 kez\n",
            "\n",
            "⏰ EN AKTİF SAATLER (Güçlü Yükseliş):\n",
            "  1. 12:00 - 13:00: 3 kez\n",
            "  2. 01:00 - 02:00: 2 kez\n",
            "  3. 16:00 - 17:00: 2 kez\n",
            "\n",
            "💰 EN YÜKSEK ORTALAMA GETİRİ SAATLERI:\n",
            "  1. 17:00 - 18:00: 0.230%\n",
            "  2. 04:00 - 05:00: 0.160%\n",
            "  3. 21:00 - 22:00: 0.160%\n",
            "\n",
            "📊 GENEL İSTATİSTİKLER:\n",
            "  • Toplam güçlü yükseliş: 16\n",
            "  • Toplam güçlü düşüş: 21\n",
            "  • Toplam veri noktası: 1440\n",
            "\n",
            "============================================================\n",
            "\n",
            "============================================================\n",
            "📊 NTRNUSDT ANALİZİ\n",
            "============================================================\n",
            "\n",
            "🚀 GÜÇLÜ YÜKSELİŞ GÜNLERI:\n",
            "  1. Salı: 12 kez\n",
            "  2. Cuma: 6 kez\n",
            "  3. Çarşamba: 5 kez\n",
            "\n",
            "📉 GÜÇLÜ DÜŞÜŞ GÜNLERI:\n",
            "  1. Salı: 8 kez\n",
            "  2. Pazartesi: 6 kez\n",
            "  3. Cuma: 5 kez\n",
            "\n",
            "⏰ EN AKTİF SAATLER (Güçlü Yükseliş):\n",
            "  1. 15:00 - 16:00: 5 kez\n",
            "  2. 08:00 - 09:00: 4 kez\n",
            "  3. 19:00 - 20:00: 4 kez\n",
            "\n",
            "💰 EN YÜKSEK ORTALAMA GETİRİ SAATLERI:\n",
            "  1. 17:00 - 18:00: 0.240%\n",
            "  2. 20:00 - 21:00: 0.180%\n",
            "  3. 07:00 - 08:00: 0.140%\n",
            "\n",
            "📊 GENEL İSTATİSTİKLER:\n",
            "  • Toplam güçlü yükseliş: 37\n",
            "  • Toplam güçlü düşüş: 28\n",
            "  • Toplam veri noktası: 1440\n",
            "\n",
            "============================================================\n",
            "\n",
            "============================================================\n",
            "📊 OGNUSDT ANALİZİ\n",
            "============================================================\n",
            "\n",
            "🚀 GÜÇLÜ YÜKSELİŞ GÜNLERI:\n",
            "  1. Salı: 6 kez\n",
            "  2. Cumartesi: 6 kez\n",
            "  3. Pazartesi: 3 kez\n",
            "\n",
            "📉 GÜÇLÜ DÜŞÜŞ GÜNLERI:\n",
            "  1. Salı: 6 kez\n",
            "  2. Cumartesi: 6 kez\n",
            "  3. Perşembe: 4 kez\n",
            "\n",
            "⏰ EN AKTİF SAATLER (Güçlü Yükseliş):\n",
            "  1. 15:00 - 16:00: 3 kez\n",
            "  2. 08:00 - 09:00: 3 kez\n",
            "  3. 10:00 - 11:00: 2 kez\n",
            "\n",
            "💰 EN YÜKSEK ORTALAMA GETİRİ SAATLERI:\n",
            "  1. 17:00 - 18:00: 0.250%\n",
            "  2. 16:00 - 17:00: 0.210%\n",
            "  3. 02:00 - 03:00: 0.190%\n",
            "\n",
            "📊 GENEL İSTATİSTİKLER:\n",
            "  • Toplam güçlü yükseliş: 24\n",
            "  • Toplam güçlü düşüş: 23\n",
            "  • Toplam veri noktası: 1440\n",
            "\n",
            "============================================================\n",
            "\n",
            "============================================================\n",
            "📊 OGUSDT ANALİZİ\n",
            "============================================================\n",
            "\n",
            "🚀 GÜÇLÜ YÜKSELİŞ GÜNLERI:\n",
            "  1. Cumartesi: 11 kez\n",
            "  2. Pazar: 10 kez\n",
            "  3. Cuma: 9 kez\n",
            "\n",
            "📉 GÜÇLÜ DÜŞÜŞ GÜNLERI:\n",
            "  1. Salı: 7 kez\n",
            "  2. Cumartesi: 4 kez\n",
            "  3. Cuma: 4 kez\n",
            "\n",
            "⏰ EN AKTİF SAATLER (Güçlü Yükseliş):\n",
            "  1. 05:00 - 06:00: 6 kez\n",
            "  2. 13:00 - 14:00: 6 kez\n",
            "  3. 15:00 - 16:00: 5 kez\n",
            "\n",
            "💰 EN YÜKSEK ORTALAMA GETİRİ SAATLERI:\n",
            "  1. 05:00 - 06:00: 0.720%\n",
            "  2. 11:00 - 12:00: 0.370%\n",
            "  3. 09:00 - 10:00: 0.320%\n",
            "\n",
            "📊 GENEL İSTATİSTİKLER:\n",
            "  • Toplam güçlü yükseliş: 56\n",
            "  • Toplam güçlü düşüş: 27\n",
            "  • Toplam veri noktası: 1440\n",
            "\n",
            "============================================================\n",
            "\n",
            "============================================================\n",
            "📊 OMNIUSDT ANALİZİ\n",
            "============================================================\n",
            "\n",
            "🚀 GÜÇLÜ YÜKSELİŞ GÜNLERI:\n",
            "  1. Cuma: 8 kez\n",
            "  2. Perşembe: 7 kez\n",
            "  3. Salı: 6 kez\n",
            "\n",
            "📉 GÜÇLÜ DÜŞÜŞ GÜNLERI:\n",
            "  1. Salı: 6 kez\n",
            "  2. Pazar: 4 kez\n",
            "  3. Cuma: 4 kez\n",
            "\n",
            "⏰ EN AKTİF SAATLER (Güçlü Yükseliş):\n",
            "  1. 00:00 - 01:00: 4 kez\n",
            "  2. 14:00 - 15:00: 3 kez\n",
            "  3. 12:00 - 13:00: 3 kez\n",
            "\n",
            "💰 EN YÜKSEK ORTALAMA GETİRİ SAATLERI:\n",
            "  1. 08:00 - 09:00: 2.460%\n",
            "  2. 04:00 - 05:00: 0.720%\n",
            "  3. 22:00 - 23:00: 0.580%\n",
            "\n",
            "📊 GENEL İSTATİSTİKLER:\n",
            "  • Toplam güçlü yükseliş: 35\n",
            "  • Toplam güçlü düşüş: 23\n",
            "  • Toplam veri noktası: 1440\n",
            "\n",
            "============================================================\n",
            "\n",
            "============================================================\n",
            "📊 OMUSDT ANALİZİ\n",
            "============================================================\n",
            "\n",
            "🚀 GÜÇLÜ YÜKSELİŞ GÜNLERI:\n",
            "  1. Pazar: 10 kez\n",
            "  2. Çarşamba: 4 kez\n",
            "  3. Pazartesi: 3 kez\n",
            "\n",
            "📉 GÜÇLÜ DÜŞÜŞ GÜNLERI:\n",
            "  1. Cuma: 5 kez\n",
            "  2. Salı: 4 kez\n",
            "  3. Pazartesi: 4 kez\n",
            "\n",
            "⏰ EN AKTİF SAATLER (Güçlü Yükseliş):\n",
            "  1. 11:00 - 12:00: 3 kez\n",
            "  2. 00:00 - 01:00: 2 kez\n",
            "  3. 06:00 - 07:00: 2 kez\n",
            "\n",
            "💰 EN YÜKSEK ORTALAMA GETİRİ SAATLERI:\n",
            "  1. 21:00 - 22:00: 0.410%\n",
            "  2. 07:00 - 08:00: 0.220%\n",
            "  3. 20:00 - 21:00: 0.220%\n",
            "\n",
            "📊 GENEL İSTATİSTİKLER:\n",
            "  • Toplam güçlü yükseliş: 28\n",
            "  • Toplam güçlü düşüş: 25\n",
            "  • Toplam veri noktası: 1440\n",
            "\n",
            "============================================================\n",
            "\n",
            "============================================================\n",
            "📊 ONEUSDT ANALİZİ\n",
            "============================================================\n",
            "\n",
            "🚀 GÜÇLÜ YÜKSELİŞ GÜNLERI:\n",
            "  1. Salı: 6 kez\n",
            "  2. Cuma: 6 kez\n",
            "  3. Perşembe: 5 kez\n",
            "\n",
            "📉 GÜÇLÜ DÜŞÜŞ GÜNLERI:\n",
            "  1. Pazartesi: 6 kez\n",
            "  2. Cuma: 6 kez\n",
            "  3. Salı: 3 kez\n",
            "\n",
            "⏰ EN AKTİF SAATLER (Güçlü Yükseliş):\n",
            "  1. 12:00 - 13:00: 4 kez\n",
            "  2. 14:00 - 15:00: 4 kez\n",
            "  3. 05:00 - 06:00: 3 kez\n",
            "\n",
            "💰 EN YÜKSEK ORTALAMA GETİRİ SAATLERI:\n",
            "  1. 17:00 - 18:00: 0.130%\n",
            "  2. 21:00 - 22:00: 0.130%\n",
            "  3. 16:00 - 17:00: 0.120%\n",
            "\n",
            "📊 GENEL İSTATİSTİKLER:\n",
            "  • Toplam güçlü yükseliş: 30\n",
            "  • Toplam güçlü düşüş: 25\n",
            "  • Toplam veri noktası: 1440\n",
            "\n",
            "============================================================\n",
            "\n",
            "============================================================\n",
            "📊 ONGUSDT ANALİZİ\n",
            "============================================================\n",
            "\n",
            "🚀 GÜÇLÜ YÜKSELİŞ GÜNLERI:\n",
            "  1. Pazartesi: 5 kez\n",
            "  2. Cumartesi: 3 kez\n",
            "  3. Salı: 2 kez\n",
            "\n",
            "📉 GÜÇLÜ DÜŞÜŞ GÜNLERI:\n",
            "  1. Pazartesi: 3 kez\n",
            "  2. Çarşamba: 3 kez\n",
            "  3. Cuma: 2 kez\n",
            "\n",
            "⏰ EN AKTİF SAATLER (Güçlü Yükseliş):\n",
            "  1. 00:00 - 01:00: 4 kez\n",
            "  2. 05:00 - 06:00: 2 kez\n",
            "  3. 06:00 - 07:00: 1 kez\n",
            "\n",
            "💰 EN YÜKSEK ORTALAMA GETİRİ SAATLERI:\n",
            "  1. 17:00 - 18:00: 0.180%\n",
            "  2. 03:00 - 04:00: 0.170%\n",
            "  3. 20:00 - 21:00: 0.110%\n",
            "\n",
            "📊 GENEL İSTATİSTİKLER:\n",
            "  • Toplam güçlü yükseliş: 14\n",
            "  • Toplam güçlü düşüş: 11\n",
            "  • Toplam veri noktası: 1440\n",
            "\n",
            "============================================================\n",
            "\n",
            "============================================================\n",
            "📊 ONTUSDT ANALİZİ\n",
            "============================================================\n",
            "\n",
            "🚀 GÜÇLÜ YÜKSELİŞ GÜNLERI:\n",
            "  1. Pazartesi: 6 kez\n",
            "  2. Cumartesi: 4 kez\n",
            "  3. Pazar: 4 kez\n",
            "\n",
            "📉 GÜÇLÜ DÜŞÜŞ GÜNLERI:\n",
            "  1. Pazartesi: 4 kez\n",
            "  2. Çarşamba: 4 kez\n",
            "  3. Perşembe: 2 kez\n",
            "\n",
            "⏰ EN AKTİF SAATLER (Güçlü Yükseliş):\n",
            "  1. 00:00 - 01:00: 3 kez\n",
            "  2. 01:00 - 02:00: 2 kez\n",
            "  3. 03:00 - 04:00: 1 kez\n",
            "\n",
            "💰 EN YÜKSEK ORTALAMA GETİRİ SAATLERI:\n",
            "  1. 17:00 - 18:00: 0.320%\n",
            "  2. 03:00 - 04:00: 0.240%\n",
            "  3. 08:00 - 09:00: 0.190%\n",
            "\n",
            "📊 GENEL İSTATİSTİKLER:\n",
            "  • Toplam güçlü yükseliş: 17\n",
            "  • Toplam güçlü düşüş: 14\n",
            "  • Toplam veri noktası: 1440\n",
            "\n",
            "============================================================\n",
            "\n",
            "============================================================\n",
            "📊 OPUSDT ANALİZİ\n",
            "============================================================\n",
            "\n",
            "🚀 GÜÇLÜ YÜKSELİŞ GÜNLERI:\n",
            "  1. Cuma: 6 kez\n",
            "  2. Salı: 5 kez\n",
            "  3. Pazartesi: 5 kez\n",
            "\n",
            "📉 GÜÇLÜ DÜŞÜŞ GÜNLERI:\n",
            "  1. Cuma: 7 kez\n",
            "  2. Pazartesi: 6 kez\n",
            "  3. Salı: 3 kez\n",
            "\n",
            "⏰ EN AKTİF SAATLER (Güçlü Yükseliş):\n",
            "  1. 01:00 - 02:00: 2 kez\n",
            "  2. 05:00 - 06:00: 2 kez\n",
            "  3. 07:00 - 08:00: 2 kez\n",
            "\n",
            "💰 EN YÜKSEK ORTALAMA GETİRİ SAATLERI:\n",
            "  1. 04:00 - 05:00: 0.250%\n",
            "  2. 01:00 - 02:00: 0.180%\n",
            "  3. 17:00 - 18:00: 0.180%\n",
            "\n",
            "📊 GENEL İSTATİSTİKLER:\n",
            "  • Toplam güçlü yükseliş: 25\n",
            "  • Toplam güçlü düşüş: 24\n",
            "  • Toplam veri noktası: 1440\n",
            "\n",
            "============================================================\n",
            "\n",
            "============================================================\n",
            "📊 ORDIUSDT ANALİZİ\n",
            "============================================================\n",
            "\n",
            "🚀 GÜÇLÜ YÜKSELİŞ GÜNLERI:\n",
            "  1. Pazartesi: 6 kez\n",
            "  2. Salı: 6 kez\n",
            "  3. Cuma: 6 kez\n",
            "\n",
            "📉 GÜÇLÜ DÜŞÜŞ GÜNLERI:\n",
            "  1. Cuma: 10 kez\n",
            "  2. Pazartesi: 8 kez\n",
            "  3. Salı: 4 kez\n",
            "\n",
            "⏰ EN AKTİF SAATLER (Güçlü Yükseliş):\n",
            "  1. 16:00 - 17:00: 6 kez\n",
            "  2. 14:00 - 15:00: 5 kez\n",
            "  3. 01:00 - 02:00: 2 kez\n",
            "\n",
            "💰 EN YÜKSEK ORTALAMA GETİRİ SAATLERI:\n",
            "  1. 17:00 - 18:00: 0.290%\n",
            "  2. 22:00 - 23:00: 0.170%\n",
            "  3. 04:00 - 05:00: 0.150%\n",
            "\n",
            "📊 GENEL İSTATİSTİKLER:\n",
            "  • Toplam güçlü yükseliş: 34\n",
            "  • Toplam güçlü düşüş: 31\n",
            "  • Toplam veri noktası: 1440\n",
            "\n",
            "============================================================\n",
            "\n",
            "============================================================\n",
            "📊 OSMOUSDT ANALİZİ\n",
            "============================================================\n",
            "\n",
            "🚀 GÜÇLÜ YÜKSELİŞ GÜNLERI:\n",
            "  1. Salı: 3 kez\n",
            "  2. Çarşamba: 2 kez\n",
            "  3. Cuma: 2 kez\n",
            "\n",
            "📉 GÜÇLÜ DÜŞÜŞ GÜNLERI:\n",
            "  1. Cuma: 6 kez\n",
            "  2. Salı: 2 kez\n",
            "  3. Pazartesi: 2 kez\n",
            "\n",
            "⏰ EN AKTİF SAATLER (Güçlü Yükseliş):\n",
            "  1. 01:00 - 02:00: 1 kez\n",
            "  2. 16:00 - 17:00: 1 kez\n",
            "  3. 19:00 - 20:00: 1 kez\n",
            "\n",
            "💰 EN YÜKSEK ORTALAMA GETİRİ SAATLERI:\n",
            "  1. 17:00 - 18:00: 0.170%\n",
            "  2. 21:00 - 22:00: 0.170%\n",
            "  3. 05:00 - 06:00: 0.150%\n",
            "\n",
            "📊 GENEL İSTATİSTİKLER:\n",
            "  • Toplam güçlü yükseliş: 8\n",
            "  • Toplam güçlü düşüş: 15\n",
            "  • Toplam veri noktası: 1440\n",
            "\n",
            "============================================================\n",
            "\n",
            "============================================================\n",
            "📊 OXTUSDT ANALİZİ\n",
            "============================================================\n",
            "\n",
            "🚀 GÜÇLÜ YÜKSELİŞ GÜNLERI:\n",
            "  1. Cuma: 4 kez\n",
            "  2. Cumartesi: 4 kez\n",
            "  3. Salı: 1 kez\n",
            "\n",
            "📉 GÜÇLÜ DÜŞÜŞ GÜNLERI:\n",
            "  1. Çarşamba: 2 kez\n",
            "  2. Cumartesi: 2 kez\n",
            "  3. Perşembe: 2 kez\n",
            "\n",
            "⏰ EN AKTİF SAATLER (Güçlü Yükseliş):\n",
            "  1. 14:00 - 15:00: 3 kez\n",
            "  2. 12:00 - 13:00: 2 kez\n",
            "  3. 21:00 - 22:00: 2 kez\n",
            "\n",
            "💰 EN YÜKSEK ORTALAMA GETİRİ SAATLERI:\n",
            "  1. 14:00 - 15:00: 0.190%\n",
            "  2. 17:00 - 18:00: 0.150%\n",
            "  3. 12:00 - 13:00: 0.100%\n",
            "\n",
            "📊 GENEL İSTATİSTİKLER:\n",
            "  • Toplam güçlü yükseliş: 12\n",
            "  • Toplam güçlü düşüş: 8\n",
            "  • Toplam veri noktası: 1440\n",
            "\n",
            "============================================================\n",
            "\n",
            "============================================================\n",
            "📊 PAXGUSDT ANALİZİ\n",
            "============================================================\n",
            "\n",
            "🚀 GÜÇLÜ YÜKSELİŞ GÜNLERI:\n",
            "  1. Pazartesi: 0 kez\n",
            "  2. Salı: 0 kez\n",
            "  3. Çarşamba: 0 kez\n",
            "\n",
            "📉 GÜÇLÜ DÜŞÜŞ GÜNLERI:\n",
            "  1. Pazartesi: 0 kez\n",
            "  2. Salı: 0 kez\n",
            "  3. Çarşamba: 0 kez\n",
            "\n",
            "⏰ EN AKTİF SAATLER (Güçlü Yükseliş):\n",
            "  1. 00:00 - 01:00: 0 kez\n",
            "  2. 01:00 - 02:00: 0 kez\n",
            "  3. 02:00 - 03:00: 0 kez\n",
            "\n",
            "💰 EN YÜKSEK ORTALAMA GETİRİ SAATLERI:\n",
            "  1. 14:00 - 15:00: 0.070%\n",
            "  2. 11:00 - 12:00: 0.030%\n",
            "  3. 12:00 - 13:00: 0.030%\n",
            "\n",
            "📊 GENEL İSTATİSTİKLER:\n",
            "  • Toplam güçlü yükseliş: 0\n",
            "  • Toplam güçlü düşüş: 0\n",
            "  • Toplam veri noktası: 1440\n",
            "\n",
            "============================================================\n",
            "\n",
            "============================================================\n",
            "📊 PENDLEUSDT ANALİZİ\n",
            "============================================================\n",
            "\n",
            "🚀 GÜÇLÜ YÜKSELİŞ GÜNLERI:\n",
            "  1. Perşembe: 11 kez\n",
            "  2. Çarşamba: 8 kez\n",
            "  3. Pazartesi: 5 kez\n",
            "\n",
            "📉 GÜÇLÜ DÜŞÜŞ GÜNLERI:\n",
            "  1. Salı: 8 kez\n",
            "  2. Çarşamba: 7 kez\n",
            "  3. Perşembe: 7 kez\n",
            "\n",
            "⏰ EN AKTİF SAATLER (Güçlü Yükseliş):\n",
            "  1. 14:00 - 15:00: 7 kez\n",
            "  2. 10:00 - 11:00: 4 kez\n",
            "  3. 09:00 - 10:00: 3 kez\n",
            "\n",
            "💰 EN YÜKSEK ORTALAMA GETİRİ SAATLERI:\n",
            "  1. 10:00 - 11:00: 0.260%\n",
            "  2. 12:00 - 13:00: 0.190%\n",
            "  3. 09:00 - 10:00: 0.180%\n",
            "\n",
            "📊 GENEL İSTATİSTİKLER:\n",
            "  • Toplam güçlü yükseliş: 34\n",
            "  • Toplam güçlü düşüş: 33\n",
            "  • Toplam veri noktası: 1440\n",
            "\n",
            "============================================================\n",
            "\n",
            "============================================================\n",
            "📊 PEOPLEUSDT ANALİZİ\n",
            "============================================================\n",
            "\n",
            "🚀 GÜÇLÜ YÜKSELİŞ GÜNLERI:\n",
            "  1. Cuma: 9 kez\n",
            "  2. Salı: 8 kez\n",
            "  3. Çarşamba: 7 kez\n",
            "\n",
            "📉 GÜÇLÜ DÜŞÜŞ GÜNLERI:\n",
            "  1. Pazartesi: 11 kez\n",
            "  2. Cuma: 8 kez\n",
            "  3. Salı: 7 kez\n",
            "\n",
            "⏰ EN AKTİF SAATLER (Güçlü Yükseliş):\n",
            "  1. 16:00 - 17:00: 5 kez\n",
            "  2. 00:00 - 01:00: 3 kez\n",
            "  3. 15:00 - 16:00: 3 kez\n",
            "\n",
            "💰 EN YÜKSEK ORTALAMA GETİRİ SAATLERI:\n",
            "  1. 17:00 - 18:00: 0.220%\n",
            "  2. 16:00 - 17:00: 0.170%\n",
            "  3. 22:00 - 23:00: 0.150%\n",
            "\n",
            "📊 GENEL İSTATİSTİKLER:\n",
            "  • Toplam güçlü yükseliş: 36\n",
            "  • Toplam güçlü düşüş: 36\n",
            "  • Toplam veri noktası: 1440\n",
            "\n",
            "============================================================\n",
            "\n",
            "============================================================\n",
            "📊 PEPEUSDT ANALİZİ\n",
            "============================================================\n",
            "\n",
            "🚀 GÜÇLÜ YÜKSELİŞ GÜNLERI:\n",
            "  1. Salı: 7 kez\n",
            "  2. Perşembe: 6 kez\n",
            "  3. Cuma: 5 kez\n",
            "\n",
            "📉 GÜÇLÜ DÜŞÜŞ GÜNLERI:\n",
            "  1. Pazartesi: 6 kez\n",
            "  2. Salı: 6 kez\n",
            "  3. Cuma: 6 kez\n",
            "\n",
            "⏰ EN AKTİF SAATLER (Güçlü Yükseliş):\n",
            "  1. 17:00 - 18:00: 5 kez\n",
            "  2. 02:00 - 03:00: 3 kez\n",
            "  3. 14:00 - 15:00: 3 kez\n",
            "\n",
            "💰 EN YÜKSEK ORTALAMA GETİRİ SAATLERI:\n",
            "  1. 17:00 - 18:00: 0.350%\n",
            "  2. 02:00 - 03:00: 0.210%\n",
            "  3. 21:00 - 22:00: 0.150%\n",
            "\n",
            "📊 GENEL İSTATİSTİKLER:\n",
            "  • Toplam güçlü yükseliş: 28\n",
            "  • Toplam güçlü düşüş: 25\n",
            "  • Toplam veri noktası: 1440\n",
            "\n",
            "============================================================\n",
            "\n",
            "============================================================\n",
            "📊 PERPUSDT ANALİZİ\n",
            "============================================================\n",
            "\n",
            "🚀 GÜÇLÜ YÜKSELİŞ GÜNLERI:\n",
            "  1. Cumartesi: 6 kez\n",
            "  2. Cuma: 4 kez\n",
            "  3. Salı: 4 kez\n",
            "\n",
            "📉 GÜÇLÜ DÜŞÜŞ GÜNLERI:\n",
            "  1. Cuma: 6 kez\n",
            "  2. Perşembe: 4 kez\n",
            "  3. Pazartesi: 3 kez\n",
            "\n",
            "⏰ EN AKTİF SAATLER (Güçlü Yükseliş):\n",
            "  1. 08:00 - 09:00: 3 kez\n",
            "  2. 03:00 - 04:00: 2 kez\n",
            "  3. 04:00 - 05:00: 2 kez\n",
            "\n",
            "💰 EN YÜKSEK ORTALAMA GETİRİ SAATLERI:\n",
            "  1. 08:00 - 09:00: 0.200%\n",
            "  2. 04:00 - 05:00: 0.140%\n",
            "  3. 01:00 - 02:00: 0.130%\n",
            "\n",
            "📊 GENEL İSTATİSTİKLER:\n",
            "  • Toplam güçlü yükseliş: 18\n",
            "  • Toplam güçlü düşüş: 21\n",
            "  • Toplam veri noktası: 1440\n",
            "\n",
            "============================================================\n",
            "\n",
            "============================================================\n",
            "📊 PHAUSDT ANALİZİ\n",
            "============================================================\n",
            "\n",
            "🚀 GÜÇLÜ YÜKSELİŞ GÜNLERI:\n",
            "  1. Çarşamba: 8 kez\n",
            "  2. Salı: 5 kez\n",
            "  3. Cuma: 5 kez\n",
            "\n",
            "📉 GÜÇLÜ DÜŞÜŞ GÜNLERI:\n",
            "  1. Çarşamba: 5 kez\n",
            "  2. Pazartesi: 4 kez\n",
            "  3. Salı: 3 kez\n",
            "\n",
            "⏰ EN AKTİF SAATLER (Güçlü Yükseliş):\n",
            "  1. 07:00 - 08:00: 7 kez\n",
            "  2. 10:00 - 11:00: 3 kez\n",
            "  3. 17:00 - 18:00: 3 kez\n",
            "\n",
            "💰 EN YÜKSEK ORTALAMA GETİRİ SAATLERI:\n",
            "  1. 07:00 - 08:00: 0.320%\n",
            "  2. 17:00 - 18:00: 0.280%\n",
            "  3. 02:00 - 03:00: 0.150%\n",
            "\n",
            "📊 GENEL İSTATİSTİKLER:\n",
            "  • Toplam güçlü yükseliş: 31\n",
            "  • Toplam güçlü düşüş: 21\n",
            "  • Toplam veri noktası: 1440\n",
            "\n",
            "============================================================\n",
            "\n",
            "============================================================\n",
            "📊 PHBUSDT ANALİZİ\n",
            "============================================================\n",
            "\n",
            "🚀 GÜÇLÜ YÜKSELİŞ GÜNLERI:\n",
            "  1. Çarşamba: 7 kez\n",
            "  2. Salı: 6 kez\n",
            "  3. Cuma: 6 kez\n",
            "\n",
            "📉 GÜÇLÜ DÜŞÜŞ GÜNLERI:\n",
            "  1. Pazartesi: 7 kez\n",
            "  2. Çarşamba: 5 kez\n",
            "  3. Salı: 3 kez\n",
            "\n",
            "⏰ EN AKTİF SAATLER (Güçlü Yükseliş):\n",
            "  1. 12:00 - 13:00: 5 kez\n",
            "  2. 11:00 - 12:00: 5 kez\n",
            "  3. 07:00 - 08:00: 3 kez\n",
            "\n",
            "💰 EN YÜKSEK ORTALAMA GETİRİ SAATLERI:\n",
            "  1. 17:00 - 18:00: 0.330%\n",
            "  2. 21:00 - 22:00: 0.270%\n",
            "  3. 11:00 - 12:00: 0.240%\n",
            "\n",
            "📊 GENEL İSTATİSTİKLER:\n",
            "  • Toplam güçlü yükseliş: 35\n",
            "  • Toplam güçlü düşüş: 25\n",
            "  • Toplam veri noktası: 1440\n",
            "\n",
            "============================================================\n",
            "\n",
            "============================================================\n",
            "📊 PIVXUSDT ANALİZİ\n",
            "============================================================\n",
            "\n",
            "🚀 GÜÇLÜ YÜKSELİŞ GÜNLERI:\n",
            "  1. Cuma: 6 kez\n",
            "  2. Çarşamba: 3 kez\n",
            "  3. Salı: 3 kez\n",
            "\n",
            "📉 GÜÇLÜ DÜŞÜŞ GÜNLERI:\n",
            "  1. Cuma: 7 kez\n",
            "  2. Pazartesi: 5 kez\n",
            "  3. Pazar: 3 kez\n",
            "\n",
            "⏰ EN AKTİF SAATLER (Güçlü Yükseliş):\n",
            "  1. 14:00 - 15:00: 3 kez\n",
            "  2. 22:00 - 23:00: 2 kez\n",
            "  3. 12:00 - 13:00: 2 kez\n",
            "\n",
            "💰 EN YÜKSEK ORTALAMA GETİRİ SAATLERI:\n",
            "  1. 20:00 - 21:00: 0.230%\n",
            "  2. 22:00 - 23:00: 0.190%\n",
            "  3. 12:00 - 13:00: 0.120%\n",
            "\n",
            "📊 GENEL İSTATİSTİKLER:\n",
            "  • Toplam güçlü yükseliş: 15\n",
            "  • Toplam güçlü düşüş: 21\n",
            "  • Toplam veri noktası: 1440\n",
            "\n",
            "============================================================\n",
            "\n",
            "============================================================\n",
            "📊 PIXELUSDT ANALİZİ\n",
            "============================================================\n",
            "\n",
            "🚀 GÜÇLÜ YÜKSELİŞ GÜNLERI:\n",
            "  1. Salı: 5 kez\n",
            "  2. Pazar: 5 kez\n",
            "  3. Cuma: 5 kez\n",
            "\n",
            "📉 GÜÇLÜ DÜŞÜŞ GÜNLERI:\n",
            "  1. Cuma: 9 kez\n",
            "  2. Pazartesi: 7 kez\n",
            "  3. Salı: 4 kez\n",
            "\n",
            "⏰ EN AKTİF SAATLER (Güçlü Yükseliş):\n",
            "  1. 15:00 - 16:00: 3 kez\n",
            "  2. 14:00 - 15:00: 3 kez\n",
            "  3. 07:00 - 08:00: 2 kez\n",
            "\n",
            "💰 EN YÜKSEK ORTALAMA GETİRİ SAATLERI:\n",
            "  1. 17:00 - 18:00: 0.260%\n",
            "  2. 04:00 - 05:00: 0.170%\n",
            "  3. 01:00 - 02:00: 0.130%\n",
            "\n",
            "📊 GENEL İSTATİSTİKLER:\n",
            "  • Toplam güçlü yükseliş: 22\n",
            "  • Toplam güçlü düşüş: 28\n",
            "  • Toplam veri noktası: 1440\n",
            "\n",
            "============================================================\n",
            "\n",
            "============================================================\n",
            "📊 POLUSDT ANALİZİ\n",
            "============================================================\n",
            "\n",
            "🚀 GÜÇLÜ YÜKSELİŞ GÜNLERI:\n",
            "  1. Cuma: 4 kez\n",
            "  2. Pazar: 3 kez\n",
            "  3. Salı: 3 kez\n",
            "\n",
            "📉 GÜÇLÜ DÜŞÜŞ GÜNLERI:\n",
            "  1. Cuma: 5 kez\n",
            "  2. Salı: 3 kez\n",
            "  3. Pazartesi: 3 kez\n",
            "\n",
            "⏰ EN AKTİF SAATLER (Güçlü Yükseliş):\n",
            "  1. 14:00 - 15:00: 3 kez\n",
            "  2. 00:00 - 01:00: 2 kez\n",
            "  3. 15:00 - 16:00: 2 kez\n",
            "\n",
            "💰 EN YÜKSEK ORTALAMA GETİRİ SAATLERI:\n",
            "  1. 01:00 - 02:00: 0.330%\n",
            "  2. 04:00 - 05:00: 0.150%\n",
            "  3. 07:00 - 08:00: 0.150%\n",
            "\n",
            "📊 GENEL İSTATİSTİKLER:\n",
            "  • Toplam güçlü yükseliş: 17\n",
            "  • Toplam güçlü düşüş: 15\n",
            "  • Toplam veri noktası: 1440\n",
            "\n",
            "============================================================\n",
            "\n",
            "============================================================\n",
            "📊 POLYXUSDT ANALİZİ\n",
            "============================================================\n",
            "\n",
            "🚀 GÜÇLÜ YÜKSELİŞ GÜNLERI:\n",
            "  1. Perşembe: 4 kez\n",
            "  2. Pazartesi: 3 kez\n",
            "  3. Salı: 2 kez\n",
            "\n",
            "📉 GÜÇLÜ DÜŞÜŞ GÜNLERI:\n",
            "  1. Cuma: 4 kez\n",
            "  2. Çarşamba: 3 kez\n",
            "  3. Perşembe: 2 kez\n",
            "\n",
            "⏰ EN AKTİF SAATLER (Güçlü Yükseliş):\n",
            "  1. 00:00 - 01:00: 2 kez\n",
            "  2. 07:00 - 08:00: 2 kez\n",
            "  3. 12:00 - 13:00: 2 kez\n",
            "\n",
            "💰 EN YÜKSEK ORTALAMA GETİRİ SAATLERI:\n",
            "  1. 02:00 - 03:00: 0.210%\n",
            "  2. 17:00 - 18:00: 0.160%\n",
            "  3. 01:00 - 02:00: 0.120%\n",
            "\n",
            "📊 GENEL İSTATİSTİKLER:\n",
            "  • Toplam güçlü yükseliş: 13\n",
            "  • Toplam güçlü düşüş: 14\n",
            "  • Toplam veri noktası: 1440\n",
            "\n",
            "============================================================\n",
            "\n",
            "============================================================\n",
            "📊 PONDUSDT ANALİZİ\n",
            "============================================================\n",
            "\n",
            "🚀 GÜÇLÜ YÜKSELİŞ GÜNLERI:\n",
            "  1. Pazar: 9 kez\n",
            "  2. Cuma: 5 kez\n",
            "  3. Çarşamba: 3 kez\n",
            "\n",
            "📉 GÜÇLÜ DÜŞÜŞ GÜNLERI:\n",
            "  1. Cuma: 4 kez\n",
            "  2. Cumartesi: 4 kez\n",
            "  3. Pazar: 3 kez\n",
            "\n",
            "⏰ EN AKTİF SAATLER (Güçlü Yükseliş):\n",
            "  1. 05:00 - 06:00: 3 kez\n",
            "  2. 09:00 - 10:00: 3 kez\n",
            "  3. 10:00 - 11:00: 2 kez\n",
            "\n",
            "💰 EN YÜKSEK ORTALAMA GETİRİ SAATLERI:\n",
            "  1. 03:00 - 04:00: 0.220%\n",
            "  2. 09:00 - 10:00: 0.220%\n",
            "  3. 02:00 - 03:00: 0.190%\n",
            "\n",
            "📊 GENEL İSTATİSTİKLER:\n",
            "  • Toplam güçlü yükseliş: 26\n",
            "  • Toplam güçlü düşüş: 17\n",
            "  • Toplam veri noktası: 1440\n",
            "\n",
            "============================================================\n",
            "\n",
            "============================================================\n",
            "📊 PORTALUSDT ANALİZİ\n",
            "============================================================\n",
            "\n",
            "🚀 GÜÇLÜ YÜKSELİŞ GÜNLERI:\n",
            "  1. Cuma: 15 kez\n",
            "  2. Salı: 4 kez\n",
            "  3. Pazartesi: 4 kez\n",
            "\n",
            "📉 GÜÇLÜ DÜŞÜŞ GÜNLERI:\n",
            "  1. Cuma: 12 kez\n",
            "  2. Salı: 8 kez\n",
            "  3. Pazartesi: 6 kez\n",
            "\n",
            "⏰ EN AKTİF SAATLER (Güçlü Yükseliş):\n",
            "  1. 07:00 - 08:00: 4 kez\n",
            "  2. 13:00 - 14:00: 4 kez\n",
            "  3. 12:00 - 13:00: 4 kez\n",
            "\n",
            "💰 EN YÜKSEK ORTALAMA GETİRİ SAATLERI:\n",
            "  1. 12:00 - 13:00: 0.600%\n",
            "  2. 07:00 - 08:00: 0.280%\n",
            "  3. 05:00 - 06:00: 0.180%\n",
            "\n",
            "📊 GENEL İSTATİSTİKLER:\n",
            "  • Toplam güçlü yükseliş: 35\n",
            "  • Toplam güçlü düşüş: 41\n",
            "  • Toplam veri noktası: 1440\n",
            "\n",
            "============================================================\n",
            "\n",
            "============================================================\n",
            "📊 PORTOUSDT ANALİZİ\n",
            "============================================================\n",
            "\n",
            "🚀 GÜÇLÜ YÜKSELİŞ GÜNLERI:\n",
            "  1. Cuma: 9 kez\n",
            "  2. Pazar: 9 kez\n",
            "  3. Cumartesi: 5 kez\n",
            "\n",
            "📉 GÜÇLÜ DÜŞÜŞ GÜNLERI:\n",
            "  1. Pazartesi: 7 kez\n",
            "  2. Çarşamba: 3 kez\n",
            "  3. Perşembe: 3 kez\n",
            "\n",
            "⏰ EN AKTİF SAATLER (Güçlü Yükseliş):\n",
            "  1. 07:00 - 08:00: 4 kez\n",
            "  2. 14:00 - 15:00: 4 kez\n",
            "  3. 10:00 - 11:00: 3 kez\n",
            "\n",
            "💰 EN YÜKSEK ORTALAMA GETİRİ SAATLERI:\n",
            "  1. 21:00 - 22:00: 0.300%\n",
            "  2. 18:00 - 19:00: 0.210%\n",
            "  3. 04:00 - 05:00: 0.190%\n",
            "\n",
            "📊 GENEL İSTATİSTİKLER:\n",
            "  • Toplam güçlü yükseliş: 31\n",
            "  • Toplam güçlü düşüş: 21\n",
            "  • Toplam veri noktası: 1440\n",
            "\n",
            "============================================================\n",
            "\n",
            "============================================================\n",
            "📊 POWRUSDT ANALİZİ\n",
            "============================================================\n",
            "\n",
            "🚀 GÜÇLÜ YÜKSELİŞ GÜNLERI:\n",
            "  1. Pazartesi: 3 kez\n",
            "  2. Salı: 1 kez\n",
            "  3. Perşembe: 1 kez\n",
            "\n",
            "📉 GÜÇLÜ DÜŞÜŞ GÜNLERI:\n",
            "  1. Çarşamba: 2 kez\n",
            "  2. Cuma: 2 kez\n",
            "  3. Pazartesi: 1 kez\n",
            "\n",
            "⏰ EN AKTİF SAATLER (Güçlü Yükseliş):\n",
            "  1. 00:00 - 01:00: 2 kez\n",
            "  2. 03:00 - 04:00: 1 kez\n",
            "  3. 07:00 - 08:00: 1 kez\n",
            "\n",
            "💰 EN YÜKSEK ORTALAMA GETİRİ SAATLERI:\n",
            "  1. 17:00 - 18:00: 0.160%\n",
            "  2. 01:00 - 02:00: 0.080%\n",
            "  3. 22:00 - 23:00: 0.070%\n",
            "\n",
            "📊 GENEL İSTATİSTİKLER:\n",
            "  • Toplam güçlü yükseliş: 8\n",
            "  • Toplam güçlü düşüş: 6\n",
            "  • Toplam veri noktası: 1440\n",
            "\n",
            "============================================================\n",
            "\n",
            "============================================================\n",
            "📊 PROMUSDT ANALİZİ\n",
            "============================================================\n",
            "\n",
            "🚀 GÜÇLÜ YÜKSELİŞ GÜNLERI:\n",
            "  1. Çarşamba: 6 kez\n",
            "  2. Perşembe: 5 kez\n",
            "  3. Salı: 4 kez\n",
            "\n",
            "📉 GÜÇLÜ DÜŞÜŞ GÜNLERI:\n",
            "  1. Perşembe: 6 kez\n",
            "  2. Cuma: 3 kez\n",
            "  3. Çarşamba: 2 kez\n",
            "\n",
            "⏰ EN AKTİF SAATLER (Güçlü Yükseliş):\n",
            "  1. 14:00 - 15:00: 3 kez\n",
            "  2. 20:00 - 21:00: 3 kez\n",
            "  3. 10:00 - 11:00: 3 kez\n",
            "\n",
            "💰 EN YÜKSEK ORTALAMA GETİRİ SAATLERI:\n",
            "  1. 20:00 - 21:00: 0.230%\n",
            "  2. 09:00 - 10:00: 0.190%\n",
            "  3. 07:00 - 08:00: 0.140%\n",
            "\n",
            "📊 GENEL İSTATİSTİKLER:\n",
            "  • Toplam güçlü yükseliş: 23\n",
            "  • Toplam güçlü düşüş: 15\n",
            "  • Toplam veri noktası: 1440\n",
            "\n",
            "============================================================\n",
            "\n",
            "============================================================\n",
            "📊 PSGUSDT ANALİZİ\n",
            "============================================================\n",
            "\n",
            "🚀 GÜÇLÜ YÜKSELİŞ GÜNLERI:\n",
            "  1. Pazar: 8 kez\n",
            "  2. Cuma: 6 kez\n",
            "  3. Cumartesi: 4 kez\n",
            "\n",
            "📉 GÜÇLÜ DÜŞÜŞ GÜNLERI:\n",
            "  1. Pazar: 5 kez\n",
            "  2. Cuma: 3 kez\n",
            "  3. Salı: 2 kez\n",
            "\n",
            "⏰ EN AKTİF SAATLER (Güçlü Yükseliş):\n",
            "  1. 14:00 - 15:00: 3 kez\n",
            "  2. 05:00 - 06:00: 2 kez\n",
            "  3. 09:00 - 10:00: 2 kez\n",
            "\n",
            "💰 EN YÜKSEK ORTALAMA GETİRİ SAATLERI:\n",
            "  1. 05:00 - 06:00: 0.210%\n",
            "  2. 04:00 - 05:00: 0.190%\n",
            "  3. 11:00 - 12:00: 0.160%\n",
            "\n",
            "📊 GENEL İSTATİSTİKLER:\n",
            "  • Toplam güçlü yükseliş: 25\n",
            "  • Toplam güçlü düşüş: 14\n",
            "  • Toplam veri noktası: 1440\n",
            "\n",
            "============================================================\n",
            "\n",
            "============================================================\n",
            "📊 PUNDIXUSDT ANALİZİ\n",
            "============================================================\n",
            "\n",
            "🚀 GÜÇLÜ YÜKSELİŞ GÜNLERI:\n",
            "  1. Perşembe: 4 kez\n",
            "  2. Salı: 3 kez\n",
            "  3. Çarşamba: 2 kez\n",
            "\n",
            "📉 GÜÇLÜ DÜŞÜŞ GÜNLERI:\n",
            "  1. Perşembe: 3 kez\n",
            "  2. Salı: 2 kez\n",
            "  3. Pazartesi: 2 kez\n",
            "\n",
            "⏰ EN AKTİF SAATLER (Güçlü Yükseliş):\n",
            "  1. 00:00 - 01:00: 3 kez\n",
            "  2. 04:00 - 05:00: 2 kez\n",
            "  3. 10:00 - 11:00: 2 kez\n",
            "\n",
            "💰 EN YÜKSEK ORTALAMA GETİRİ SAATLERI:\n",
            "  1. 17:00 - 18:00: 0.130%\n",
            "  2. 03:00 - 04:00: 0.120%\n",
            "  3. 02:00 - 03:00: 0.120%\n",
            "\n",
            "📊 GENEL İSTATİSTİKLER:\n",
            "  • Toplam güçlü yükseliş: 15\n",
            "  • Toplam güçlü düşüş: 11\n",
            "  • Toplam veri noktası: 1440\n",
            "\n",
            "============================================================\n",
            "\n",
            "============================================================\n",
            "📊 PYRUSDT ANALİZİ\n",
            "============================================================\n",
            "\n",
            "🚀 GÜÇLÜ YÜKSELİŞ GÜNLERI:\n",
            "  1. Salı: 9 kez\n",
            "  2. Cumartesi: 3 kez\n",
            "  3. Çarşamba: 2 kez\n",
            "\n",
            "📉 GÜÇLÜ DÜŞÜŞ GÜNLERI:\n",
            "  1. Perşembe: 4 kez\n",
            "  2. Salı: 3 kez\n",
            "  3. Pazartesi: 2 kez\n",
            "\n",
            "⏰ EN AKTİF SAATLER (Güçlü Yükseliş):\n",
            "  1. 06:00 - 07:00: 2 kez\n",
            "  2. 13:00 - 14:00: 2 kez\n",
            "  3. 12:00 - 13:00: 2 kez\n",
            "\n",
            "💰 EN YÜKSEK ORTALAMA GETİRİ SAATLERI:\n",
            "  1. 04:00 - 05:00: 0.260%\n",
            "  2. 12:00 - 13:00: 0.180%\n",
            "  3. 00:00 - 01:00: 0.120%\n",
            "\n",
            "📊 GENEL İSTATİSTİKLER:\n",
            "  • Toplam güçlü yükseliş: 18\n",
            "  • Toplam güçlü düşüş: 14\n",
            "  • Toplam veri noktası: 1440\n",
            "\n",
            "============================================================\n",
            "\n",
            "============================================================\n",
            "📊 PYTHUSDT ANALİZİ\n",
            "============================================================\n",
            "\n",
            "🚀 GÜÇLÜ YÜKSELİŞ GÜNLERI:\n",
            "  1. Perşembe: 6 kez\n",
            "  2. Pazar: 6 kez\n",
            "  3. Cuma: 4 kez\n",
            "\n",
            "📉 GÜÇLÜ DÜŞÜŞ GÜNLERI:\n",
            "  1. Pazartesi: 9 kez\n",
            "  2. Cuma: 6 kez\n",
            "  3. Salı: 4 kez\n",
            "\n",
            "⏰ EN AKTİF SAATLER (Güçlü Yükseliş):\n",
            "  1. 00:00 - 01:00: 3 kez\n",
            "  2. 05:00 - 06:00: 2 kez\n",
            "  3. 14:00 - 15:00: 2 kez\n",
            "\n",
            "💰 EN YÜKSEK ORTALAMA GETİRİ SAATLERI:\n",
            "  1. 04:00 - 05:00: 0.350%\n",
            "  2. 14:00 - 15:00: 0.330%\n",
            "  3. 13:00 - 14:00: 0.320%\n",
            "\n",
            "📊 GENEL İSTATİSTİKLER:\n",
            "  • Toplam güçlü yükseliş: 22\n",
            "  • Toplam güçlü düşüş: 29\n",
            "  • Toplam veri noktası: 1440\n",
            "\n",
            "============================================================\n",
            "\n",
            "============================================================\n",
            "📊 QIUSDT ANALİZİ\n",
            "============================================================\n",
            "\n",
            "🚀 GÜÇLÜ YÜKSELİŞ GÜNLERI:\n",
            "  1. Cuma: 4 kez\n",
            "  2. Salı: 2 kez\n",
            "  3. Pazartesi: 2 kez\n",
            "\n",
            "📉 GÜÇLÜ DÜŞÜŞ GÜNLERI:\n",
            "  1. Cuma: 5 kez\n",
            "  2. Pazartesi: 4 kez\n",
            "  3. Salı: 3 kez\n",
            "\n",
            "⏰ EN AKTİF SAATLER (Güçlü Yükseliş):\n",
            "  1. 07:00 - 08:00: 2 kez\n",
            "  2. 15:00 - 16:00: 2 kez\n",
            "  3. 12:00 - 13:00: 2 kez\n",
            "\n",
            "💰 EN YÜKSEK ORTALAMA GETİRİ SAATLERI:\n",
            "  1. 17:00 - 18:00: 0.270%\n",
            "  2. 20:00 - 21:00: 0.160%\n",
            "  3. 07:00 - 08:00: 0.100%\n",
            "\n",
            "📊 GENEL İSTATİSTİKLER:\n",
            "  • Toplam güçlü yükseliş: 12\n",
            "  • Toplam güçlü düşüş: 21\n",
            "  • Toplam veri noktası: 1440\n",
            "\n",
            "============================================================\n",
            "\n",
            "============================================================\n",
            "📊 QKCUSDT ANALİZİ\n",
            "============================================================\n",
            "\n",
            "🚀 GÜÇLÜ YÜKSELİŞ GÜNLERI:\n",
            "  1. Çarşamba: 7 kez\n",
            "  2. Salı: 3 kez\n",
            "  3. Cuma: 1 kez\n",
            "\n",
            "📉 GÜÇLÜ DÜŞÜŞ GÜNLERI:\n",
            "  1. Çarşamba: 4 kez\n",
            "  2. Salı: 2 kez\n",
            "  3. Perşembe: 2 kez\n",
            "\n",
            "⏰ EN AKTİF SAATLER (Güçlü Yükseliş):\n",
            "  1. 03:00 - 04:00: 2 kez\n",
            "  2. 02:00 - 03:00: 1 kez\n",
            "  3. 05:00 - 06:00: 1 kez\n",
            "\n",
            "💰 EN YÜKSEK ORTALAMA GETİRİ SAATLERI:\n",
            "  1. 11:00 - 12:00: 0.520%\n",
            "  2. 03:00 - 04:00: 0.220%\n",
            "  3. 17:00 - 18:00: 0.220%\n",
            "\n",
            "📊 GENEL İSTATİSTİKLER:\n",
            "  • Toplam güçlü yükseliş: 11\n",
            "  • Toplam güçlü düşüş: 11\n",
            "  • Toplam veri noktası: 1440\n",
            "\n",
            "============================================================\n",
            "\n",
            "============================================================\n",
            "📊 QNTUSDT ANALİZİ\n",
            "============================================================\n",
            "\n",
            "🚀 GÜÇLÜ YÜKSELİŞ GÜNLERI:\n",
            "  1. Salı: 2 kez\n",
            "  2. Pazartesi: 1 kez\n",
            "  3. Cuma: 1 kez\n",
            "\n",
            "📉 GÜÇLÜ DÜŞÜŞ GÜNLERI:\n",
            "  1. Cuma: 2 kez\n",
            "  2. Çarşamba: 1 kez\n",
            "  3. Pazartesi: 1 kez\n",
            "\n",
            "⏰ EN AKTİF SAATLER (Güçlü Yükseliş):\n",
            "  1. 14:00 - 15:00: 2 kez\n",
            "  2. 00:00 - 01:00: 1 kez\n",
            "  3. 01:00 - 02:00: 1 kez\n",
            "\n",
            "💰 EN YÜKSEK ORTALAMA GETİRİ SAATLERI:\n",
            "  1. 21:00 - 22:00: 0.160%\n",
            "  2. 00:00 - 01:00: 0.100%\n",
            "  3. 07:00 - 08:00: 0.090%\n",
            "\n",
            "📊 GENEL İSTATİSTİKLER:\n",
            "  • Toplam güçlü yükseliş: 4\n",
            "  • Toplam güçlü düşüş: 5\n",
            "  • Toplam veri noktası: 1440\n",
            "\n",
            "============================================================\n",
            "\n",
            "============================================================\n",
            "📊 QTUMUSDT ANALİZİ\n",
            "============================================================\n",
            "\n",
            "🚀 GÜÇLÜ YÜKSELİŞ GÜNLERI:\n",
            "  1. Pazar: 8 kez\n",
            "  2. Cumartesi: 6 kez\n",
            "  3. Salı: 5 kez\n",
            "\n",
            "📉 GÜÇLÜ DÜŞÜŞ GÜNLERI:\n",
            "  1. Cuma: 5 kez\n",
            "  2. Perşembe: 3 kez\n",
            "  3. Çarşamba: 2 kez\n",
            "\n",
            "⏰ EN AKTİF SAATLER (Güçlü Yükseliş):\n",
            "  1. 00:00 - 01:00: 7 kez\n",
            "  2. 10:00 - 11:00: 3 kez\n",
            "  3. 06:00 - 07:00: 2 kez\n",
            "\n",
            "💰 EN YÜKSEK ORTALAMA GETİRİ SAATLERI:\n",
            "  1. 17:00 - 18:00: 0.360%\n",
            "  2. 00:00 - 01:00: 0.270%\n",
            "  3. 10:00 - 11:00: 0.190%\n",
            "\n",
            "📊 GENEL İSTATİSTİKLER:\n",
            "  • Toplam güçlü yükseliş: 29\n",
            "  • Toplam güçlü düşüş: 15\n",
            "  • Toplam veri noktası: 1440\n",
            "\n",
            "============================================================\n",
            "\n",
            "============================================================\n",
            "📊 QUICKUSDT ANALİZİ\n",
            "============================================================\n",
            "\n",
            "🚀 GÜÇLÜ YÜKSELİŞ GÜNLERI:\n",
            "  1. Salı: 7 kez\n",
            "  2. Cuma: 4 kez\n",
            "  3. Cumartesi: 3 kez\n",
            "\n",
            "📉 GÜÇLÜ DÜŞÜŞ GÜNLERI:\n",
            "  1. Salı: 5 kez\n",
            "  2. Cumartesi: 4 kez\n",
            "  3. Perşembe: 3 kez\n",
            "\n",
            "⏰ EN AKTİF SAATLER (Güçlü Yükseliş):\n",
            "  1. 14:00 - 15:00: 4 kez\n",
            "  2. 07:00 - 08:00: 3 kez\n",
            "  3. 04:00 - 05:00: 1 kez\n",
            "\n",
            "💰 EN YÜKSEK ORTALAMA GETİRİ SAATLERI:\n",
            "  1. 08:00 - 09:00: 0.220%\n",
            "  2. 01:00 - 02:00: 0.190%\n",
            "  3. 04:00 - 05:00: 0.170%\n",
            "\n",
            "📊 GENEL İSTATİSTİKLER:\n",
            "  • Toplam güçlü yükseliş: 19\n",
            "  • Toplam güçlü düşüş: 18\n",
            "  • Toplam veri noktası: 1440\n",
            "\n",
            "============================================================\n",
            "\n",
            "============================================================\n",
            "📊 RADUSDT ANALİZİ\n",
            "============================================================\n",
            "\n",
            "🚀 GÜÇLÜ YÜKSELİŞ GÜNLERI:\n",
            "  1. Salı: 5 kez\n",
            "  2. Cumartesi: 5 kez\n",
            "  3. Pazartesi: 4 kez\n",
            "\n",
            "📉 GÜÇLÜ DÜŞÜŞ GÜNLERI:\n",
            "  1. Cumartesi: 4 kez\n",
            "  2. Cuma: 3 kez\n",
            "  3. Çarşamba: 3 kez\n",
            "\n",
            "⏰ EN AKTİF SAATLER (Güçlü Yükseliş):\n",
            "  1. 07:00 - 08:00: 4 kez\n",
            "  2. 14:00 - 15:00: 4 kez\n",
            "  3. 13:00 - 14:00: 3 kez\n",
            "\n",
            "💰 EN YÜKSEK ORTALAMA GETİRİ SAATLERI:\n",
            "  1. 07:00 - 08:00: 0.410%\n",
            "  2. 14:00 - 15:00: 0.280%\n",
            "  3. 21:00 - 22:00: 0.180%\n",
            "\n",
            "📊 GENEL İSTATİSTİKLER:\n",
            "  • Toplam güçlü yükseliş: 26\n",
            "  • Toplam güçlü düşüş: 17\n",
            "  • Toplam veri noktası: 1440\n",
            "\n",
            "============================================================\n",
            "\n",
            "============================================================\n",
            "📊 RAREUSDT ANALİZİ\n",
            "============================================================\n",
            "\n",
            "🚀 GÜÇLÜ YÜKSELİŞ GÜNLERI:\n",
            "  1. Salı: 6 kez\n",
            "  2. Pazartesi: 5 kez\n",
            "  3. Çarşamba: 4 kez\n",
            "\n",
            "📉 GÜÇLÜ DÜŞÜŞ GÜNLERI:\n",
            "  1. Pazartesi: 6 kez\n",
            "  2. Perşembe: 6 kez\n",
            "  3. Cuma: 5 kez\n",
            "\n",
            "⏰ EN AKTİF SAATLER (Güçlü Yükseliş):\n",
            "  1. 10:00 - 11:00: 4 kez\n",
            "  2. 09:00 - 10:00: 3 kez\n",
            "  3. 16:00 - 17:00: 3 kez\n",
            "\n",
            "💰 EN YÜKSEK ORTALAMA GETİRİ SAATLERI:\n",
            "  1. 17:00 - 18:00: 0.280%\n",
            "  2. 10:00 - 11:00: 0.210%\n",
            "  3. 02:00 - 03:00: 0.180%\n",
            "\n",
            "📊 GENEL İSTATİSTİKLER:\n",
            "  • Toplam güçlü yükseliş: 24\n",
            "  • Toplam güçlü düşüş: 24\n",
            "  • Toplam veri noktası: 1440\n",
            "\n",
            "============================================================\n",
            "\n",
            "============================================================\n",
            "📊 RAYUSDT ANALİZİ\n",
            "============================================================\n",
            "\n",
            "🚀 GÜÇLÜ YÜKSELİŞ GÜNLERI:\n",
            "  1. Perşembe: 12 kez\n",
            "  2. Salı: 11 kez\n",
            "  3. Pazartesi: 11 kez\n",
            "\n",
            "📉 GÜÇLÜ DÜŞÜŞ GÜNLERI:\n",
            "  1. Salı: 8 kez\n",
            "  2. Cuma: 5 kez\n",
            "  3. Pazartesi: 4 kez\n",
            "\n",
            "⏰ EN AKTİF SAATLER (Güçlü Yükseliş):\n",
            "  1. 00:00 - 01:00: 8 kez\n",
            "  2. 14:00 - 15:00: 6 kez\n",
            "  3. 12:00 - 13:00: 5 kez\n",
            "\n",
            "💰 EN YÜKSEK ORTALAMA GETİRİ SAATLERI:\n",
            "  1. 01:00 - 02:00: 0.370%\n",
            "  2. 17:00 - 18:00: 0.290%\n",
            "  3. 00:00 - 01:00: 0.200%\n",
            "\n",
            "📊 GENEL İSTATİSTİKLER:\n",
            "  • Toplam güçlü yükseliş: 58\n",
            "  • Toplam güçlü düşüş: 29\n",
            "  • Toplam veri noktası: 1440\n",
            "\n",
            "============================================================\n",
            "\n",
            "============================================================\n",
            "📊 RDNTUSDT ANALİZİ\n",
            "============================================================\n",
            "\n",
            "🚀 GÜÇLÜ YÜKSELİŞ GÜNLERI:\n",
            "  1. Salı: 4 kez\n",
            "  2. Cuma: 4 kez\n",
            "  3. Çarşamba: 3 kez\n",
            "\n",
            "📉 GÜÇLÜ DÜŞÜŞ GÜNLERI:\n",
            "  1. Cuma: 4 kez\n",
            "  2. Çarşamba: 3 kez\n",
            "  3. Pazartesi: 3 kez\n",
            "\n",
            "⏰ EN AKTİF SAATLER (Güçlü Yükseliş):\n",
            "  1. 12:00 - 13:00: 3 kez\n",
            "  2. 18:00 - 19:00: 3 kez\n",
            "  3. 14:00 - 15:00: 3 kez\n",
            "\n",
            "💰 EN YÜKSEK ORTALAMA GETİRİ SAATLERI:\n",
            "  1. 17:00 - 18:00: 0.170%\n",
            "  2. 04:00 - 05:00: 0.160%\n",
            "  3. 18:00 - 19:00: 0.140%\n",
            "\n",
            "📊 GENEL İSTATİSTİKLER:\n",
            "  • Toplam güçlü yükseliş: 19\n",
            "  • Toplam güçlü düşüş: 16\n",
            "  • Toplam veri noktası: 1440\n",
            "\n",
            "============================================================\n",
            "\n",
            "============================================================\n",
            "📊 REIUSDT ANALİZİ\n",
            "============================================================\n",
            "\n",
            "🚀 GÜÇLÜ YÜKSELİŞ GÜNLERI:\n",
            "  1. Cuma: 9 kez\n",
            "  2. Cumartesi: 5 kez\n",
            "  3. Salı: 4 kez\n",
            "\n",
            "📉 GÜÇLÜ DÜŞÜŞ GÜNLERI:\n",
            "  1. Cuma: 9 kez\n",
            "  2. Salı: 4 kez\n",
            "  3. Çarşamba: 3 kez\n",
            "\n",
            "⏰ EN AKTİF SAATLER (Güçlü Yükseliş):\n",
            "  1. 00:00 - 01:00: 3 kez\n",
            "  2. 12:00 - 13:00: 3 kez\n",
            "  3. 20:00 - 21:00: 2 kez\n",
            "\n",
            "💰 EN YÜKSEK ORTALAMA GETİRİ SAATLERI:\n",
            "  1. 01:00 - 02:00: 0.510%\n",
            "  2. 07:00 - 08:00: 0.210%\n",
            "  3. 09:00 - 10:00: 0.210%\n",
            "\n",
            "📊 GENEL İSTATİSTİKLER:\n",
            "  • Toplam güçlü yükseliş: 26\n",
            "  • Toplam güçlü düşüş: 23\n",
            "  • Toplam veri noktası: 1440\n",
            "\n",
            "============================================================\n",
            "\n",
            "============================================================\n",
            "📊 RENDERUSDT ANALİZİ\n",
            "============================================================\n",
            "\n",
            "🚀 GÜÇLÜ YÜKSELİŞ GÜNLERI:\n",
            "  1. Salı: 3 kez\n",
            "  2. Perşembe: 3 kez\n",
            "  3. Çarşamba: 2 kez\n",
            "\n",
            "📉 GÜÇLÜ DÜŞÜŞ GÜNLERI:\n",
            "  1. Cuma: 7 kez\n",
            "  2. Çarşamba: 4 kez\n",
            "  3. Pazartesi: 4 kez\n",
            "\n",
            "⏰ EN AKTİF SAATLER (Güçlü Yükseliş):\n",
            "  1. 14:00 - 15:00: 3 kez\n",
            "  2. 13:00 - 14:00: 2 kez\n",
            "  3. 07:00 - 08:00: 1 kez\n",
            "\n",
            "💰 EN YÜKSEK ORTALAMA GETİRİ SAATLERI:\n",
            "  1. 17:00 - 18:00: 0.290%\n",
            "  2. 02:00 - 03:00: 0.180%\n",
            "  3. 04:00 - 05:00: 0.110%\n",
            "\n",
            "📊 GENEL İSTATİSTİKLER:\n",
            "  • Toplam güçlü yükseliş: 12\n",
            "  • Toplam güçlü düşüş: 21\n",
            "  • Toplam veri noktası: 1440\n",
            "\n",
            "============================================================\n",
            "\n",
            "============================================================\n",
            "📊 REQUSDT ANALİZİ\n",
            "============================================================\n",
            "\n",
            "🚀 GÜÇLÜ YÜKSELİŞ GÜNLERI:\n",
            "  1. Perşembe: 2 kez\n",
            "  2. Cuma: 1 kez\n",
            "  3. Pazar: 1 kez\n",
            "\n",
            "📉 GÜÇLÜ DÜŞÜŞ GÜNLERI:\n",
            "  1. Pazartesi: 5 kez\n",
            "  2. Salı: 1 kez\n",
            "  3. Perşembe: 1 kez\n",
            "\n",
            "⏰ EN AKTİF SAATLER (Güçlü Yükseliş):\n",
            "  1. 21:00 - 22:00: 1 kez\n",
            "  2. 14:00 - 15:00: 1 kez\n",
            "  3. 12:00 - 13:00: 1 kez\n",
            "\n",
            "💰 EN YÜKSEK ORTALAMA GETİRİ SAATLERI:\n",
            "  1. 22:00 - 23:00: 0.130%\n",
            "  2. 04:00 - 05:00: 0.090%\n",
            "  3. 20:00 - 21:00: 0.090%\n",
            "\n",
            "📊 GENEL İSTATİSTİKLER:\n",
            "  • Toplam güçlü yükseliş: 4\n",
            "  • Toplam güçlü düşüş: 7\n",
            "  • Toplam veri noktası: 1440\n",
            "\n",
            "============================================================\n",
            "\n",
            "============================================================\n",
            "📊 REZUSDT ANALİZİ\n",
            "============================================================\n",
            "\n",
            "🚀 GÜÇLÜ YÜKSELİŞ GÜNLERI:\n",
            "  1. Salı: 12 kez\n",
            "  2. Çarşamba: 12 kez\n",
            "  3. Pazar: 9 kez\n",
            "\n",
            "📉 GÜÇLÜ DÜŞÜŞ GÜNLERI:\n",
            "  1. Cuma: 8 kez\n",
            "  2. Pazartesi: 7 kez\n",
            "  3. Pazar: 6 kez\n",
            "\n",
            "⏰ EN AKTİF SAATLER (Güçlü Yükseliş):\n",
            "  1. 07:00 - 08:00: 6 kez\n",
            "  2. 14:00 - 15:00: 4 kez\n",
            "  3. 04:00 - 05:00: 3 kez\n",
            "\n",
            "💰 EN YÜKSEK ORTALAMA GETİRİ SAATLERI:\n",
            "  1. 04:00 - 05:00: 0.490%\n",
            "  2. 07:00 - 08:00: 0.350%\n",
            "  3. 02:00 - 03:00: 0.260%\n",
            "\n",
            "📊 GENEL İSTATİSTİKLER:\n",
            "  • Toplam güçlü yükseliş: 50\n",
            "  • Toplam güçlü düşüş: 34\n",
            "  • Toplam veri noktası: 1440\n",
            "\n",
            "============================================================\n",
            "\n",
            "============================================================\n",
            "📊 RIFUSDT ANALİZİ\n",
            "============================================================\n",
            "\n",
            "🚀 GÜÇLÜ YÜKSELİŞ GÜNLERI:\n",
            "  1. Cuma: 1 kez\n",
            "  2. Pazar: 1 kez\n",
            "  3. Pazartesi: 0 kez\n",
            "\n",
            "📉 GÜÇLÜ DÜŞÜŞ GÜNLERI:\n",
            "  1. Perşembe: 2 kez\n",
            "  2. Cuma: 1 kez\n",
            "  3. Pazartesi: 1 kez\n",
            "\n",
            "⏰ EN AKTİF SAATLER (Güçlü Yükseliş):\n",
            "  1. 14:00 - 15:00: 1 kez\n",
            "  2. 10:00 - 11:00: 1 kez\n",
            "  3. 00:00 - 01:00: 0 kez\n",
            "\n",
            "💰 EN YÜKSEK ORTALAMA GETİRİ SAATLERI:\n",
            "  1. 14:00 - 15:00: 0.140%\n",
            "  2. 17:00 - 18:00: 0.120%\n",
            "  3. 04:00 - 05:00: 0.090%\n",
            "\n",
            "📊 GENEL İSTATİSTİKLER:\n",
            "  • Toplam güçlü yükseliş: 2\n",
            "  • Toplam güçlü düşüş: 4\n",
            "  • Toplam veri noktası: 1440\n",
            "\n",
            "============================================================\n",
            "\n",
            "============================================================\n",
            "📊 RLCUSDT ANALİZİ\n",
            "============================================================\n",
            "\n",
            "🚀 GÜÇLÜ YÜKSELİŞ GÜNLERI:\n",
            "  1. Salı: 11 kez\n",
            "  2. Çarşamba: 10 kez\n",
            "  3. Pazar: 5 kez\n",
            "\n",
            "📉 GÜÇLÜ DÜŞÜŞ GÜNLERI:\n",
            "  1. Salı: 4 kez\n",
            "  2. Perşembe: 4 kez\n",
            "  3. Çarşamba: 3 kez\n",
            "\n",
            "⏰ EN AKTİF SAATLER (Güçlü Yükseliş):\n",
            "  1. 00:00 - 01:00: 4 kez\n",
            "  2. 08:00 - 09:00: 4 kez\n",
            "  3. 12:00 - 13:00: 3 kez\n",
            "\n",
            "💰 EN YÜKSEK ORTALAMA GETİRİ SAATLERI:\n",
            "  1. 22:00 - 23:00: 0.360%\n",
            "  2. 23:00 - 00:00: 0.290%\n",
            "  3. 02:00 - 03:00: 0.250%\n",
            "\n",
            "📊 GENEL İSTATİSTİKLER:\n",
            "  • Toplam güçlü yükseliş: 40\n",
            "  • Toplam güçlü düşüş: 19\n",
            "  • Toplam veri noktası: 1440\n",
            "\n",
            "============================================================\n",
            "\n",
            "============================================================\n",
            "📊 RONINUSDT ANALİZİ\n",
            "============================================================\n",
            "\n",
            "🚀 GÜÇLÜ YÜKSELİŞ GÜNLERI:\n",
            "  1. Perşembe: 3 kez\n",
            "  2. Cuma: 2 kez\n",
            "  3. Salı: 2 kez\n",
            "\n",
            "📉 GÜÇLÜ DÜŞÜŞ GÜNLERI:\n",
            "  1. Perşembe: 3 kez\n",
            "  2. Cuma: 3 kez\n",
            "  3. Salı: 2 kez\n",
            "\n",
            "⏰ EN AKTİF SAATLER (Güçlü Yükseliş):\n",
            "  1. 00:00 - 01:00: 2 kez\n",
            "  2. 14:00 - 15:00: 2 kez\n",
            "  3. 10:00 - 11:00: 1 kez\n",
            "\n",
            "💰 EN YÜKSEK ORTALAMA GETİRİ SAATLERI:\n",
            "  1. 17:00 - 18:00: 0.160%\n",
            "  2. 14:00 - 15:00: 0.100%\n",
            "  3. 21:00 - 22:00: 0.100%\n",
            "\n",
            "📊 GENEL İSTATİSTİKLER:\n",
            "  • Toplam güçlü yükseliş: 9\n",
            "  • Toplam güçlü düşüş: 10\n",
            "  • Toplam veri noktası: 1440\n",
            "\n",
            "============================================================\n",
            "\n",
            "============================================================\n",
            "📊 ROSEUSDT ANALİZİ\n",
            "============================================================\n",
            "\n",
            "🚀 GÜÇLÜ YÜKSELİŞ GÜNLERI:\n",
            "  1. Çarşamba: 5 kez\n",
            "  2. Cuma: 4 kez\n",
            "  3. Perşembe: 4 kez\n",
            "\n",
            "📉 GÜÇLÜ DÜŞÜŞ GÜNLERI:\n",
            "  1. Pazartesi: 7 kez\n",
            "  2. Çarşamba: 7 kez\n",
            "  3. Cuma: 7 kez\n",
            "\n",
            "⏰ EN AKTİF SAATLER (Güçlü Yükseliş):\n",
            "  1. 20:00 - 21:00: 3 kez\n",
            "  2. 14:00 - 15:00: 3 kez\n",
            "  3. 09:00 - 10:00: 2 kez\n",
            "\n",
            "💰 EN YÜKSEK ORTALAMA GETİRİ SAATLERI:\n",
            "  1. 04:00 - 05:00: 0.190%\n",
            "  2. 17:00 - 18:00: 0.160%\n",
            "  3. 08:00 - 09:00: 0.120%\n",
            "\n",
            "📊 GENEL İSTATİSTİKLER:\n",
            "  • Toplam güçlü yükseliş: 19\n",
            "  • Toplam güçlü düşüş: 30\n",
            "  • Toplam veri noktası: 1440\n",
            "\n",
            "============================================================\n",
            "\n",
            "============================================================\n",
            "📊 RPLUSDT ANALİZİ\n",
            "============================================================\n",
            "\n",
            "🚀 GÜÇLÜ YÜKSELİŞ GÜNLERI:\n",
            "  1. Cuma: 10 kez\n",
            "  2. Salı: 8 kez\n",
            "  3. Çarşamba: 7 kez\n",
            "\n",
            "📉 GÜÇLÜ DÜŞÜŞ GÜNLERI:\n",
            "  1. Salı: 7 kez\n",
            "  2. Çarşamba: 6 kez\n",
            "  3. Cuma: 6 kez\n",
            "\n",
            "⏰ EN AKTİF SAATLER (Güçlü Yükseliş):\n",
            "  1. 16:00 - 17:00: 5 kez\n",
            "  2. 00:00 - 01:00: 3 kez\n",
            "  3. 14:00 - 15:00: 3 kez\n",
            "\n",
            "💰 EN YÜKSEK ORTALAMA GETİRİ SAATLERI:\n",
            "  1. 17:00 - 18:00: 0.290%\n",
            "  2. 01:00 - 02:00: 0.260%\n",
            "  3. 16:00 - 17:00: 0.230%\n",
            "\n",
            "📊 GENEL İSTATİSTİKLER:\n",
            "  • Toplam güçlü yükseliş: 37\n",
            "  • Toplam güçlü düşüş: 28\n",
            "  • Toplam veri noktası: 1440\n",
            "\n",
            "============================================================\n",
            "\n",
            "============================================================\n",
            "📊 RSRUSDT ANALİZİ\n",
            "============================================================\n",
            "\n",
            "🚀 GÜÇLÜ YÜKSELİŞ GÜNLERI:\n",
            "  1. Perşembe: 7 kez\n",
            "  2. Cuma: 4 kez\n",
            "  3. Salı: 4 kez\n",
            "\n",
            "📉 GÜÇLÜ DÜŞÜŞ GÜNLERI:\n",
            "  1. Pazartesi: 5 kez\n",
            "  2. Salı: 4 kez\n",
            "  3. Çarşamba: 4 kez\n",
            "\n",
            "⏰ EN AKTİF SAATLER (Güçlü Yükseliş):\n",
            "  1. 13:00 - 14:00: 4 kez\n",
            "  2. 07:00 - 08:00: 2 kez\n",
            "  3. 12:00 - 13:00: 2 kez\n",
            "\n",
            "💰 EN YÜKSEK ORTALAMA GETİRİ SAATLERI:\n",
            "  1. 17:00 - 18:00: 0.220%\n",
            "  2. 04:00 - 05:00: 0.200%\n",
            "  3. 21:00 - 22:00: 0.200%\n",
            "\n",
            "📊 GENEL İSTATİSTİKLER:\n",
            "  • Toplam güçlü yükseliş: 21\n",
            "  • Toplam güçlü düşüş: 22\n",
            "  • Toplam veri noktası: 1440\n",
            "\n",
            "============================================================\n",
            "\n",
            "============================================================\n",
            "📊 RUNEUSDT ANALİZİ\n",
            "============================================================\n",
            "\n",
            "🚀 GÜÇLÜ YÜKSELİŞ GÜNLERI:\n",
            "  1. Salı: 4 kez\n",
            "  2. Cuma: 3 kez\n",
            "  3. Perşembe: 3 kez\n",
            "\n",
            "📉 GÜÇLÜ DÜŞÜŞ GÜNLERI:\n",
            "  1. Perşembe: 3 kez\n",
            "  2. Cuma: 2 kez\n",
            "  3. Pazartesi: 2 kez\n",
            "\n",
            "⏰ EN AKTİF SAATLER (Güçlü Yükseliş):\n",
            "  1. 16:00 - 17:00: 3 kez\n",
            "  2. 15:00 - 16:00: 2 kez\n",
            "  3. 14:00 - 15:00: 2 kez\n",
            "\n",
            "💰 EN YÜKSEK ORTALAMA GETİRİ SAATLERI:\n",
            "  1. 17:00 - 18:00: 0.200%\n",
            "  2. 07:00 - 08:00: 0.120%\n",
            "  3. 04:00 - 05:00: 0.090%\n",
            "\n",
            "📊 GENEL İSTATİSTİKLER:\n",
            "  • Toplam güçlü yükseliş: 14\n",
            "  • Toplam güçlü düşüş: 9\n",
            "  • Toplam veri noktası: 1440\n",
            "\n",
            "============================================================\n",
            "\n",
            "============================================================\n",
            "📊 RVNUSDT ANALİZİ\n",
            "============================================================\n",
            "\n",
            "🚀 GÜÇLÜ YÜKSELİŞ GÜNLERI:\n",
            "  1. Cuma: 4 kez\n",
            "  2. Pazartesi: 3 kez\n",
            "  3. Perşembe: 2 kez\n",
            "\n",
            "📉 GÜÇLÜ DÜŞÜŞ GÜNLERI:\n",
            "  1. Cuma: 4 kez\n",
            "  2. Çarşamba: 2 kez\n",
            "  3. Pazartesi: 2 kez\n",
            "\n",
            "⏰ EN AKTİF SAATLER (Güçlü Yükseliş):\n",
            "  1. 02:00 - 03:00: 2 kez\n",
            "  2. 05:00 - 06:00: 2 kez\n",
            "  3. 13:00 - 14:00: 2 kez\n",
            "\n",
            "💰 EN YÜKSEK ORTALAMA GETİRİ SAATLERI:\n",
            "  1. 17:00 - 18:00: 0.160%\n",
            "  2. 01:00 - 02:00: 0.150%\n",
            "  3. 21:00 - 22:00: 0.130%\n",
            "\n",
            "📊 GENEL İSTATİSTİKLER:\n",
            "  • Toplam güçlü yükseliş: 12\n",
            "  • Toplam güçlü düşüş: 12\n",
            "  • Toplam veri noktası: 1440\n",
            "\n",
            "============================================================\n",
            "\n",
            "============================================================\n",
            "📊 SAGAUSDT ANALİZİ\n",
            "============================================================\n",
            "\n",
            "🚀 GÜÇLÜ YÜKSELİŞ GÜNLERI:\n",
            "  1. Salı: 8 kez\n",
            "  2. Cuma: 8 kez\n",
            "  3. Perşembe: 6 kez\n",
            "\n",
            "📉 GÜÇLÜ DÜŞÜŞ GÜNLERI:\n",
            "  1. Pazartesi: 7 kez\n",
            "  2. Cuma: 7 kez\n",
            "  3. Salı: 5 kez\n",
            "\n",
            "⏰ EN AKTİF SAATLER (Güçlü Yükseliş):\n",
            "  1. 14:00 - 15:00: 6 kez\n",
            "  2. 19:00 - 20:00: 4 kez\n",
            "  3. 10:00 - 11:00: 3 kez\n",
            "\n",
            "💰 EN YÜKSEK ORTALAMA GETİRİ SAATLERI:\n",
            "  1. 17:00 - 18:00: 0.260%\n",
            "  2. 01:00 - 02:00: 0.170%\n",
            "  3. 07:00 - 08:00: 0.170%\n",
            "\n",
            "📊 GENEL İSTATİSTİKLER:\n",
            "  • Toplam güçlü yükseliş: 36\n",
            "  • Toplam güçlü düşüş: 32\n",
            "  • Toplam veri noktası: 1440\n",
            "\n",
            "============================================================\n",
            "\n",
            "============================================================\n",
            "📊 SANDUSDT ANALİZİ\n",
            "============================================================\n",
            "\n",
            "🚀 GÜÇLÜ YÜKSELİŞ GÜNLERI:\n",
            "  1. Cuma: 7 kez\n",
            "  2. Pazar: 4 kez\n",
            "  3. Perşembe: 3 kez\n",
            "\n",
            "📉 GÜÇLÜ DÜŞÜŞ GÜNLERI:\n",
            "  1. Cuma: 5 kez\n",
            "  2. Çarşamba: 4 kez\n",
            "  3. Pazartesi: 3 kez\n",
            "\n",
            "⏰ EN AKTİF SAATLER (Güçlü Yükseliş):\n",
            "  1. 12:00 - 13:00: 3 kez\n",
            "  2. 00:00 - 01:00: 2 kez\n",
            "  3. 13:00 - 14:00: 2 kez\n",
            "\n",
            "💰 EN YÜKSEK ORTALAMA GETİRİ SAATLERI:\n",
            "  1. 04:00 - 05:00: 0.150%\n",
            "  2. 17:00 - 18:00: 0.150%\n",
            "  3. 01:00 - 02:00: 0.140%\n",
            "\n",
            "📊 GENEL İSTATİSTİKLER:\n",
            "  • Toplam güçlü yükseliş: 19\n",
            "  • Toplam güçlü düşüş: 16\n",
            "  • Toplam veri noktası: 1440\n",
            "\n",
            "============================================================\n",
            "\n",
            "============================================================\n",
            "📊 SANTOSUSDT ANALİZİ\n",
            "============================================================\n",
            "\n",
            "🚀 GÜÇLÜ YÜKSELİŞ GÜNLERI:\n",
            "  1. Cuma: 9 kez\n",
            "  2. Pazar: 9 kez\n",
            "  3. Çarşamba: 5 kez\n",
            "\n",
            "📉 GÜÇLÜ DÜŞÜŞ GÜNLERI:\n",
            "  1. Çarşamba: 6 kez\n",
            "  2. Pazar: 5 kez\n",
            "  3. Perşembe: 3 kez\n",
            "\n",
            "⏰ EN AKTİF SAATLER (Güçlü Yükseliş):\n",
            "  1. 09:00 - 10:00: 5 kez\n",
            "  2. 14:00 - 15:00: 4 kez\n",
            "  3. 10:00 - 11:00: 3 kez\n",
            "\n",
            "💰 EN YÜKSEK ORTALAMA GETİRİ SAATLERI:\n",
            "  1. 09:00 - 10:00: 0.330%\n",
            "  2. 20:00 - 21:00: 0.170%\n",
            "  3. 16:00 - 17:00: 0.160%\n",
            "\n",
            "📊 GENEL İSTATİSTİKLER:\n",
            "  • Toplam güçlü yükseliş: 35\n",
            "  • Toplam güçlü düşüş: 21\n",
            "  • Toplam veri noktası: 1440\n",
            "\n",
            "============================================================\n",
            "\n",
            "============================================================\n",
            "📊 SCRTUSDT ANALİZİ\n",
            "============================================================\n",
            "\n",
            "🚀 GÜÇLÜ YÜKSELİŞ GÜNLERI:\n",
            "  1. Salı: 8 kez\n",
            "  2. Cumartesi: 5 kez\n",
            "  3. Pazartesi: 3 kez\n",
            "\n",
            "📉 GÜÇLÜ DÜŞÜŞ GÜNLERI:\n",
            "  1. Cuma: 3 kez\n",
            "  2. Çarşamba: 2 kez\n",
            "  3. Pazartesi: 2 kez\n",
            "\n",
            "⏰ EN AKTİF SAATLER (Güçlü Yükseliş):\n",
            "  1. 07:00 - 08:00: 3 kez\n",
            "  2. 14:00 - 15:00: 3 kez\n",
            "  3. 16:00 - 17:00: 3 kez\n",
            "\n",
            "💰 EN YÜKSEK ORTALAMA GETİRİ SAATLERI:\n",
            "  1. 17:00 - 18:00: 0.180%\n",
            "  2. 02:00 - 03:00: 0.100%\n",
            "  3. 14:00 - 15:00: 0.090%\n",
            "\n",
            "📊 GENEL İSTATİSTİKLER:\n",
            "  • Toplam güçlü yükseliş: 22\n",
            "  • Toplam güçlü düşüş: 12\n",
            "  • Toplam veri noktası: 1440\n",
            "\n",
            "============================================================\n",
            "\n",
            "============================================================\n",
            "📊 SCRUSDT ANALİZİ\n",
            "============================================================\n",
            "\n",
            "🚀 GÜÇLÜ YÜKSELİŞ GÜNLERI:\n",
            "  1. Salı: 9 kez\n",
            "  2. Çarşamba: 8 kez\n",
            "  3. Perşembe: 7 kez\n",
            "\n",
            "📉 GÜÇLÜ DÜŞÜŞ GÜNLERI:\n",
            "  1. Salı: 5 kez\n",
            "  2. Cuma: 5 kez\n",
            "  3. Pazartesi: 4 kez\n",
            "\n",
            "⏰ EN AKTİF SAATLER (Güçlü Yükseliş):\n",
            "  1. 07:00 - 08:00: 4 kez\n",
            "  2. 14:00 - 15:00: 4 kez\n",
            "  3. 11:00 - 12:00: 3 kez\n",
            "\n",
            "💰 EN YÜKSEK ORTALAMA GETİRİ SAATLERI:\n",
            "  1. 21:00 - 22:00: 0.210%\n",
            "  2. 07:00 - 08:00: 0.170%\n",
            "  3. 03:00 - 04:00: 0.150%\n",
            "\n",
            "📊 GENEL İSTATİSTİKLER:\n",
            "  • Toplam güçlü yükseliş: 38\n",
            "  • Toplam güçlü düşüş: 19\n",
            "  • Toplam veri noktası: 1440\n",
            "\n",
            "============================================================\n",
            "\n",
            "============================================================\n",
            "📊 SCUSDT ANALİZİ\n",
            "============================================================\n",
            "\n",
            "🚀 GÜÇLÜ YÜKSELİŞ GÜNLERI:\n",
            "  1. Perşembe: 3 kez\n",
            "  2. Cuma: 3 kez\n",
            "  3. Pazartesi: 1 kez\n",
            "\n",
            "📉 GÜÇLÜ DÜŞÜŞ GÜNLERI:\n",
            "  1. Cuma: 5 kez\n",
            "  2. Çarşamba: 3 kez\n",
            "  3. Salı: 1 kez\n",
            "\n",
            "⏰ EN AKTİF SAATLER (Güçlü Yükseliş):\n",
            "  1. 00:00 - 01:00: 3 kez\n",
            "  2. 05:00 - 06:00: 2 kez\n",
            "  3. 23:00 - 00:00: 2 kez\n",
            "\n",
            "💰 EN YÜKSEK ORTALAMA GETİRİ SAATLERI:\n",
            "  1. 17:00 - 18:00: 0.200%\n",
            "  2. 23:00 - 00:00: 0.150%\n",
            "  3. 07:00 - 08:00: 0.100%\n",
            "\n",
            "📊 GENEL İSTATİSTİKLER:\n",
            "  • Toplam güçlü yükseliş: 10\n",
            "  • Toplam güçlü düşüş: 11\n",
            "  • Toplam veri noktası: 1440\n",
            "\n",
            "============================================================\n",
            "\n",
            "============================================================\n",
            "📊 SEIUSDT ANALİZİ\n",
            "============================================================\n",
            "\n",
            "🚀 GÜÇLÜ YÜKSELİŞ GÜNLERI:\n",
            "  1. Salı: 9 kez\n",
            "  2. Cuma: 9 kez\n",
            "  3. Perşembe: 7 kez\n",
            "\n",
            "📉 GÜÇLÜ DÜŞÜŞ GÜNLERI:\n",
            "  1. Pazartesi: 7 kez\n",
            "  2. Salı: 7 kez\n",
            "  3. Cuma: 7 kez\n",
            "\n",
            "⏰ EN AKTİF SAATLER (Güçlü Yükseliş):\n",
            "  1. 13:00 - 14:00: 6 kez\n",
            "  2. 14:00 - 15:00: 6 kez\n",
            "  3. 16:00 - 17:00: 4 kez\n",
            "\n",
            "💰 EN YÜKSEK ORTALAMA GETİRİ SAATLERI:\n",
            "  1. 08:00 - 09:00: 0.220%\n",
            "  2. 02:00 - 03:00: 0.210%\n",
            "  3. 14:00 - 15:00: 0.140%\n",
            "\n",
            "📊 GENEL İSTATİSTİKLER:\n",
            "  • Toplam güçlü yükseliş: 44\n",
            "  • Toplam güçlü düşüş: 32\n",
            "  • Toplam veri noktası: 1440\n",
            "\n",
            "============================================================\n",
            "\n",
            "============================================================\n",
            "📊 SFPUSDT ANALİZİ\n",
            "============================================================\n",
            "\n",
            "🚀 GÜÇLÜ YÜKSELİŞ GÜNLERI:\n",
            "  1. Cuma: 2 kez\n",
            "  2. Perşembe: 1 kez\n",
            "  3. Salı: 1 kez\n",
            "\n",
            "📉 GÜÇLÜ DÜŞÜŞ GÜNLERI:\n",
            "  1. Perşembe: 2 kez\n",
            "  2. Salı: 1 kez\n",
            "  3. Pazartesi: 1 kez\n",
            "\n",
            "⏰ EN AKTİF SAATLER (Güçlü Yükseliş):\n",
            "  1. 14:00 - 15:00: 3 kez\n",
            "  2. 13:00 - 14:00: 1 kez\n",
            "  3. 00:00 - 01:00: 0 kez\n",
            "\n",
            "💰 EN YÜKSEK ORTALAMA GETİRİ SAATLERI:\n",
            "  1. 04:00 - 05:00: 0.120%\n",
            "  2. 17:00 - 18:00: 0.110%\n",
            "  3. 21:00 - 22:00: 0.090%\n",
            "\n",
            "📊 GENEL İSTATİSTİKLER:\n",
            "  • Toplam güçlü yükseliş: 4\n",
            "  • Toplam güçlü düşüş: 6\n",
            "  • Toplam veri noktası: 1440\n",
            "\n",
            "============================================================\n",
            "\n",
            "============================================================\n",
            "📊 SHIBUSDT ANALİZİ\n",
            "============================================================\n",
            "\n",
            "🚀 GÜÇLÜ YÜKSELİŞ GÜNLERI:\n",
            "  1. Salı: 3 kez\n",
            "  2. Cuma: 3 kez\n",
            "  3. Cumartesi: 2 kez\n",
            "\n",
            "📉 GÜÇLÜ DÜŞÜŞ GÜNLERI:\n",
            "  1. Cuma: 4 kez\n",
            "  2. Çarşamba: 3 kez\n",
            "  3. Salı: 2 kez\n",
            "\n",
            "⏰ EN AKTİF SAATLER (Güçlü Yükseliş):\n",
            "  1. 05:00 - 06:00: 2 kez\n",
            "  2. 12:00 - 13:00: 2 kez\n",
            "  3. 07:00 - 08:00: 1 kez\n",
            "\n",
            "💰 EN YÜKSEK ORTALAMA GETİRİ SAATLERI:\n",
            "  1. 17:00 - 18:00: 0.210%\n",
            "  2. 21:00 - 22:00: 0.160%\n",
            "  3. 01:00 - 02:00: 0.140%\n",
            "\n",
            "📊 GENEL İSTATİSTİKLER:\n",
            "  • Toplam güçlü yükseliş: 11\n",
            "  • Toplam güçlü düşüş: 14\n",
            "  • Toplam veri noktası: 1440\n",
            "\n",
            "============================================================\n",
            "\n",
            "============================================================\n",
            "📊 SKLUSDT ANALİZİ\n",
            "============================================================\n",
            "\n",
            "🚀 GÜÇLÜ YÜKSELİŞ GÜNLERI:\n",
            "  1. Perşembe: 17 kez\n",
            "  2. Cumartesi: 8 kez\n",
            "  3. Çarşamba: 8 kez\n",
            "\n",
            "📉 GÜÇLÜ DÜŞÜŞ GÜNLERI:\n",
            "  1. Çarşamba: 6 kez\n",
            "  2. Perşembe: 5 kez\n",
            "  3. Pazartesi: 4 kez\n",
            "\n",
            "⏰ EN AKTİF SAATLER (Güçlü Yükseliş):\n",
            "  1. 08:00 - 09:00: 7 kez\n",
            "  2. 20:00 - 21:00: 5 kez\n",
            "  3. 05:00 - 06:00: 4 kez\n",
            "\n",
            "💰 EN YÜKSEK ORTALAMA GETİRİ SAATLERI:\n",
            "  1. 08:00 - 09:00: 0.740%\n",
            "  2. 20:00 - 21:00: 0.410%\n",
            "  3. 09:00 - 10:00: 0.370%\n",
            "\n",
            "📊 GENEL İSTATİSTİKLER:\n",
            "  • Toplam güçlü yükseliş: 51\n",
            "  • Toplam güçlü düşüş: 25\n",
            "  • Toplam veri noktası: 1440\n",
            "\n",
            "============================================================\n",
            "\n",
            "============================================================\n",
            "📊 SLFUSDT ANALİZİ\n",
            "============================================================\n",
            "\n",
            "🚀 GÜÇLÜ YÜKSELİŞ GÜNLERI:\n",
            "  1. Cuma: 13 kez\n",
            "  2. Perşembe: 9 kez\n",
            "  3. Cumartesi: 5 kez\n",
            "\n",
            "📉 GÜÇLÜ DÜŞÜŞ GÜNLERI:\n",
            "  1. Çarşamba: 6 kez\n",
            "  2. Perşembe: 6 kez\n",
            "  3. Cuma: 5 kez\n",
            "\n",
            "⏰ EN AKTİF SAATLER (Güçlü Yükseliş):\n",
            "  1. 21:00 - 22:00: 5 kez\n",
            "  2. 20:00 - 21:00: 5 kez\n",
            "  3. 07:00 - 08:00: 3 kez\n",
            "\n",
            "💰 EN YÜKSEK ORTALAMA GETİRİ SAATLERI:\n",
            "  1. 05:00 - 06:00: 0.660%\n",
            "  2. 20:00 - 21:00: 0.300%\n",
            "  3. 21:00 - 22:00: 0.200%\n",
            "\n",
            "📊 GENEL İSTATİSTİKLER:\n",
            "  • Toplam güçlü yükseliş: 40\n",
            "  • Toplam güçlü düşüş: 30\n",
            "  • Toplam veri noktası: 1440\n",
            "\n",
            "============================================================\n",
            "\n",
            "============================================================\n",
            "📊 SLPUSDT ANALİZİ\n",
            "============================================================\n",
            "\n",
            "🚀 GÜÇLÜ YÜKSELİŞ GÜNLERI:\n",
            "  1. Salı: 6 kez\n",
            "  2. Cumartesi: 5 kez\n",
            "  3. Çarşamba: 4 kez\n",
            "\n",
            "📉 GÜÇLÜ DÜŞÜŞ GÜNLERI:\n",
            "  1. Pazartesi: 7 kez\n",
            "  2. Çarşamba: 6 kez\n",
            "  3. Salı: 5 kez\n",
            "\n",
            "⏰ EN AKTİF SAATLER (Güçlü Yükseliş):\n",
            "  1. 15:00 - 16:00: 3 kez\n",
            "  2. 06:00 - 07:00: 2 kez\n",
            "  3. 05:00 - 06:00: 2 kez\n",
            "\n",
            "💰 EN YÜKSEK ORTALAMA GETİRİ SAATLERI:\n",
            "  1. 15:00 - 16:00: 0.330%\n",
            "  2. 09:00 - 10:00: 0.200%\n",
            "  3. 16:00 - 17:00: 0.170%\n",
            "\n",
            "📊 GENEL İSTATİSTİKLER:\n",
            "  • Toplam güçlü yükseliş: 26\n",
            "  • Toplam güçlü düşüş: 31\n",
            "  • Toplam veri noktası: 1440\n",
            "\n",
            "============================================================\n",
            "\n",
            "============================================================\n",
            "📊 SNXUSDT ANALİZİ\n",
            "============================================================\n",
            "\n",
            "🚀 GÜÇLÜ YÜKSELİŞ GÜNLERI:\n",
            "  1. Salı: 8 kez\n",
            "  2. Cuma: 8 kez\n",
            "  3. Cumartesi: 6 kez\n",
            "\n",
            "📉 GÜÇLÜ DÜŞÜŞ GÜNLERI:\n",
            "  1. Salı: 4 kez\n",
            "  2. Pazar: 2 kez\n",
            "  3. Cuma: 2 kez\n",
            "\n",
            "⏰ EN AKTİF SAATLER (Güçlü Yükseliş):\n",
            "  1. 07:00 - 08:00: 4 kez\n",
            "  2. 05:00 - 06:00: 3 kez\n",
            "  3. 21:00 - 22:00: 3 kez\n",
            "\n",
            "💰 EN YÜKSEK ORTALAMA GETİRİ SAATLERI:\n",
            "  1. 21:00 - 22:00: 0.210%\n",
            "  2. 17:00 - 18:00: 0.200%\n",
            "  3. 07:00 - 08:00: 0.150%\n",
            "\n",
            "📊 GENEL İSTATİSTİKLER:\n",
            "  • Toplam güçlü yükseliş: 27\n",
            "  • Toplam güçlü düşüş: 12\n",
            "  • Toplam veri noktası: 1440\n",
            "\n",
            "============================================================\n",
            "\n",
            "============================================================\n",
            "📊 SOLUSDT ANALİZİ\n",
            "============================================================\n",
            "\n",
            "🚀 GÜÇLÜ YÜKSELİŞ GÜNLERI:\n",
            "  1. Perşembe: 5 kez\n",
            "  2. Cuma: 4 kez\n",
            "  3. Pazartesi: 3 kez\n",
            "\n",
            "📉 GÜÇLÜ DÜŞÜŞ GÜNLERI:\n",
            "  1. Salı: 5 kez\n",
            "  2. Çarşamba: 3 kez\n",
            "  3. Cuma: 3 kez\n",
            "\n",
            "⏰ EN AKTİF SAATLER (Güçlü Yükseliş):\n",
            "  1. 02:00 - 03:00: 4 kez\n",
            "  2. 14:00 - 15:00: 4 kez\n",
            "  3. 01:00 - 02:00: 1 kez\n",
            "\n",
            "💰 EN YÜKSEK ORTALAMA GETİRİ SAATLERI:\n",
            "  1. 17:00 - 18:00: 0.280%\n",
            "  2. 01:00 - 02:00: 0.220%\n",
            "  3. 02:00 - 03:00: 0.220%\n",
            "\n",
            "📊 GENEL İSTATİSTİKLER:\n",
            "  • Toplam güçlü yükseliş: 18\n",
            "  • Toplam güçlü düşüş: 16\n",
            "  • Toplam veri noktası: 1440\n",
            "\n",
            "============================================================\n",
            "\n",
            "============================================================\n",
            "📊 SPELLUSDT ANALİZİ\n",
            "============================================================\n",
            "\n",
            "🚀 GÜÇLÜ YÜKSELİŞ GÜNLERI:\n",
            "  1. Çarşamba: 5 kez\n",
            "  2. Cumartesi: 5 kez\n",
            "  3. Perşembe: 4 kez\n",
            "\n",
            "📉 GÜÇLÜ DÜŞÜŞ GÜNLERI:\n",
            "  1. Pazartesi: 3 kez\n",
            "  2. Salı: 2 kez\n",
            "  3. Cuma: 2 kez\n",
            "\n",
            "⏰ EN AKTİF SAATLER (Güçlü Yükseliş):\n",
            "  1. 15:00 - 16:00: 3 kez\n",
            "  2. 21:00 - 22:00: 3 kez\n",
            "  3. 10:00 - 11:00: 3 kez\n",
            "\n",
            "💰 EN YÜKSEK ORTALAMA GETİRİ SAATLERI:\n",
            "  1. 22:00 - 23:00: 0.290%\n",
            "  2. 10:00 - 11:00: 0.180%\n",
            "  3. 21:00 - 22:00: 0.180%\n",
            "\n",
            "📊 GENEL İSTATİSTİKLER:\n",
            "  • Toplam güçlü yükseliş: 23\n",
            "  • Toplam güçlü düşüş: 11\n",
            "  • Toplam veri noktası: 1440\n",
            "\n",
            "============================================================\n",
            "\n",
            "============================================================\n",
            "📊 SSVUSDT ANALİZİ\n",
            "============================================================\n",
            "\n",
            "🚀 GÜÇLÜ YÜKSELİŞ GÜNLERI:\n",
            "  1. Cuma: 14 kez\n",
            "  2. Pazar: 7 kez\n",
            "  3. Salı: 7 kez\n",
            "\n",
            "📉 GÜÇLÜ DÜŞÜŞ GÜNLERI:\n",
            "  1. Pazartesi: 8 kez\n",
            "  2. Salı: 6 kez\n",
            "  3. Cuma: 5 kez\n",
            "\n",
            "⏰ EN AKTİF SAATLER (Güçlü Yükseliş):\n",
            "  1. 01:00 - 02:00: 5 kez\n",
            "  2. 16:00 - 17:00: 5 kez\n",
            "  3. 13:00 - 14:00: 4 kez\n",
            "\n",
            "💰 EN YÜKSEK ORTALAMA GETİRİ SAATLERI:\n",
            "  1. 17:00 - 18:00: 0.270%\n",
            "  2. 01:00 - 02:00: 0.200%\n",
            "  3. 04:00 - 05:00: 0.160%\n",
            "\n",
            "📊 GENEL İSTATİSTİKLER:\n",
            "  • Toplam güçlü yükseliş: 45\n",
            "  • Toplam güçlü düşüş: 29\n",
            "  • Toplam veri noktası: 1440\n",
            "\n",
            "============================================================\n",
            "\n",
            "============================================================\n",
            "📊 STEEMUSDT ANALİZİ\n",
            "============================================================\n",
            "\n",
            "🚀 GÜÇLÜ YÜKSELİŞ GÜNLERI:\n",
            "  1. Salı: 3 kez\n",
            "  2. Çarşamba: 1 kez\n",
            "  3. Cuma: 1 kez\n",
            "\n",
            "📉 GÜÇLÜ DÜŞÜŞ GÜNLERI:\n",
            "  1. Pazartesi: 2 kez\n",
            "  2. Çarşamba: 2 kez\n",
            "  3. Perşembe: 1 kez\n",
            "\n",
            "⏰ EN AKTİF SAATLER (Güçlü Yükseliş):\n",
            "  1. 00:00 - 01:00: 1 kez\n",
            "  2. 02:00 - 03:00: 1 kez\n",
            "  3. 06:00 - 07:00: 1 kez\n",
            "\n",
            "💰 EN YÜKSEK ORTALAMA GETİRİ SAATLERI:\n",
            "  1. 17:00 - 18:00: 0.220%\n",
            "  2. 02:00 - 03:00: 0.130%\n",
            "  3. 09:00 - 10:00: 0.100%\n",
            "\n",
            "📊 GENEL İSTATİSTİKLER:\n",
            "  • Toplam güçlü yükseliş: 7\n",
            "  • Toplam güçlü düşüş: 6\n",
            "  • Toplam veri noktası: 1440\n",
            "\n",
            "============================================================\n",
            "\n",
            "============================================================\n",
            "📊 STGUSDT ANALİZİ\n",
            "============================================================\n",
            "\n",
            "🚀 GÜÇLÜ YÜKSELİŞ GÜNLERI:\n",
            "  1. Cuma: 4 kez\n",
            "  2. Pazar: 4 kez\n",
            "  3. Pazartesi: 3 kez\n",
            "\n",
            "📉 GÜÇLÜ DÜŞÜŞ GÜNLERI:\n",
            "  1. Pazar: 4 kez\n",
            "  2. Cuma: 3 kez\n",
            "  3. Perşembe: 2 kez\n",
            "\n",
            "⏰ EN AKTİF SAATLER (Güçlü Yükseliş):\n",
            "  1. 06:00 - 07:00: 4 kez\n",
            "  2. 05:00 - 06:00: 2 kez\n",
            "  3. 07:00 - 08:00: 2 kez\n",
            "\n",
            "💰 EN YÜKSEK ORTALAMA GETİRİ SAATLERI:\n",
            "  1. 17:00 - 18:00: 0.240%\n",
            "  2. 22:00 - 23:00: 0.160%\n",
            "  3. 16:00 - 17:00: 0.140%\n",
            "\n",
            "📊 GENEL İSTATİSTİKLER:\n",
            "  • Toplam güçlü yükseliş: 16\n",
            "  • Toplam güçlü düşüş: 11\n",
            "  • Toplam veri noktası: 1440\n",
            "\n",
            "============================================================\n",
            "\n",
            "============================================================\n",
            "📊 STORJUSDT ANALİZİ\n",
            "============================================================\n",
            "\n",
            "🚀 GÜÇLÜ YÜKSELİŞ GÜNLERI:\n",
            "  1. Salı: 2 kez\n",
            "  2. Cumartesi: 2 kez\n",
            "  3. Perşembe: 2 kez\n",
            "\n",
            "📉 GÜÇLÜ DÜŞÜŞ GÜNLERI:\n",
            "  1. Cumartesi: 3 kez\n",
            "  2. Perşembe: 2 kez\n",
            "  3. Pazartesi: 2 kez\n",
            "\n",
            "⏰ EN AKTİF SAATLER (Güçlü Yükseliş):\n",
            "  1. 02:00 - 03:00: 1 kez\n",
            "  2. 05:00 - 06:00: 1 kez\n",
            "  3. 07:00 - 08:00: 1 kez\n",
            "\n",
            "💰 EN YÜKSEK ORTALAMA GETİRİ SAATLERI:\n",
            "  1. 17:00 - 18:00: 0.190%\n",
            "  2. 02:00 - 03:00: 0.140%\n",
            "  3. 22:00 - 23:00: 0.090%\n",
            "\n",
            "📊 GENEL İSTATİSTİKLER:\n",
            "  • Toplam güçlü yükseliş: 9\n",
            "  • Toplam güçlü düşüş: 11\n",
            "  • Toplam veri noktası: 1440\n",
            "\n",
            "============================================================\n",
            "\n",
            "============================================================\n",
            "📊 STRAXUSDT ANALİZİ\n",
            "============================================================\n",
            "\n",
            "🚀 GÜÇLÜ YÜKSELİŞ GÜNLERI:\n",
            "  1. Salı: 5 kez\n",
            "  2. Cumartesi: 2 kez\n",
            "  3. Cuma: 2 kez\n",
            "\n",
            "📉 GÜÇLÜ DÜŞÜŞ GÜNLERI:\n",
            "  1. Salı: 4 kez\n",
            "  2. Perşembe: 3 kez\n",
            "  3. Cuma: 2 kez\n",
            "\n",
            "⏰ EN AKTİF SAATLER (Güçlü Yükseliş):\n",
            "  1. 00:00 - 01:00: 3 kez\n",
            "  2. 02:00 - 03:00: 2 kez\n",
            "  3. 01:00 - 02:00: 1 kez\n",
            "\n",
            "💰 EN YÜKSEK ORTALAMA GETİRİ SAATLERI:\n",
            "  1. 02:00 - 03:00: 0.310%\n",
            "  2. 23:00 - 00:00: 0.200%\n",
            "  3. 21:00 - 22:00: 0.140%\n",
            "\n",
            "📊 GENEL İSTATİSTİKLER:\n",
            "  • Toplam güçlü yükseliş: 11\n",
            "  • Toplam güçlü düşüş: 10\n",
            "  • Toplam veri noktası: 1440\n",
            "\n",
            "============================================================\n",
            "\n",
            "============================================================\n",
            "📊 STRKUSDT ANALİZİ\n",
            "============================================================\n",
            "\n",
            "🚀 GÜÇLÜ YÜKSELİŞ GÜNLERI:\n",
            "  1. Çarşamba: 6 kez\n",
            "  2. Perşembe: 6 kez\n",
            "  3. Cuma: 5 kez\n",
            "\n",
            "📉 GÜÇLÜ DÜŞÜŞ GÜNLERI:\n",
            "  1. Cuma: 8 kez\n",
            "  2. Pazartesi: 5 kez\n",
            "  3. Çarşamba: 3 kez\n",
            "\n",
            "⏰ EN AKTİF SAATLER (Güçlü Yükseliş):\n",
            "  1. 14:00 - 15:00: 4 kez\n",
            "  2. 05:00 - 06:00: 3 kez\n",
            "  3. 13:00 - 14:00: 3 kez\n",
            "\n",
            "💰 EN YÜKSEK ORTALAMA GETİRİ SAATLERI:\n",
            "  1. 17:00 - 18:00: 0.280%\n",
            "  2. 04:00 - 05:00: 0.230%\n",
            "  3. 01:00 - 02:00: 0.200%\n",
            "\n",
            "📊 GENEL İSTATİSTİKLER:\n",
            "  • Toplam güçlü yükseliş: 28\n",
            "  • Toplam güçlü düşüş: 22\n",
            "  • Toplam veri noktası: 1440\n",
            "\n",
            "============================================================\n",
            "\n",
            "============================================================\n",
            "📊 STXUSDT ANALİZİ\n",
            "============================================================\n",
            "\n",
            "🚀 GÜÇLÜ YÜKSELİŞ GÜNLERI:\n",
            "  1. Pazartesi: 5 kez\n",
            "  2. Pazar: 3 kez\n",
            "  3. Perşembe: 3 kez\n",
            "\n",
            "📉 GÜÇLÜ DÜŞÜŞ GÜNLERI:\n",
            "  1. Pazartesi: 5 kez\n",
            "  2. Cuma: 4 kez\n",
            "  3. Salı: 2 kez\n",
            "\n",
            "⏰ EN AKTİF SAATLER (Güçlü Yükseliş):\n",
            "  1. 03:00 - 04:00: 2 kez\n",
            "  2. 02:00 - 03:00: 2 kez\n",
            "  3. 14:00 - 15:00: 2 kez\n",
            "\n",
            "💰 EN YÜKSEK ORTALAMA GETİRİ SAATLERI:\n",
            "  1. 21:00 - 22:00: 0.210%\n",
            "  2. 17:00 - 18:00: 0.160%\n",
            "  3. 02:00 - 03:00: 0.140%\n",
            "\n",
            "📊 GENEL İSTATİSTİKLER:\n",
            "  • Toplam güçlü yükseliş: 15\n",
            "  • Toplam güçlü düşüş: 17\n",
            "  • Toplam veri noktası: 1440\n",
            "\n",
            "============================================================\n",
            "\n",
            "============================================================\n",
            "📊 SUIUSDT ANALİZİ\n",
            "============================================================\n",
            "\n",
            "🚀 GÜÇLÜ YÜKSELİŞ GÜNLERI:\n",
            "  1. Pazartesi: 4 kez\n",
            "  2. Cuma: 3 kez\n",
            "  3. Perşembe: 3 kez\n",
            "\n",
            "📉 GÜÇLÜ DÜŞÜŞ GÜNLERI:\n",
            "  1. Cuma: 6 kez\n",
            "  2. Pazartesi: 4 kez\n",
            "  3. Çarşamba: 2 kez\n",
            "\n",
            "⏰ EN AKTİF SAATLER (Güçlü Yükseliş):\n",
            "  1. 12:00 - 13:00: 2 kez\n",
            "  2. 16:00 - 17:00: 2 kez\n",
            "  3. 14:00 - 15:00: 2 kez\n",
            "\n",
            "💰 EN YÜKSEK ORTALAMA GETİRİ SAATLERI:\n",
            "  1. 17:00 - 18:00: 0.190%\n",
            "  2. 04:00 - 05:00: 0.160%\n",
            "  3. 16:00 - 17:00: 0.120%\n",
            "\n",
            "📊 GENEL İSTATİSTİKLER:\n",
            "  • Toplam güçlü yükseliş: 16\n",
            "  • Toplam güçlü düşüş: 17\n",
            "  • Toplam veri noktası: 1440\n",
            "\n",
            "============================================================\n",
            "\n",
            "============================================================\n",
            "📊 SUNUSDT ANALİZİ\n",
            "============================================================\n",
            "\n",
            "🚀 GÜÇLÜ YÜKSELİŞ GÜNLERI:\n",
            "  1. Salı: 3 kez\n",
            "  2. Pazartesi: 0 kez\n",
            "  3. Çarşamba: 0 kez\n",
            "\n",
            "📉 GÜÇLÜ DÜŞÜŞ GÜNLERI:\n",
            "  1. Salı: 1 kez\n",
            "  2. Perşembe: 1 kez\n",
            "  3. Pazartesi: 0 kez\n",
            "\n",
            "⏰ EN AKTİF SAATLER (Güçlü Yükseliş):\n",
            "  1. 09:00 - 10:00: 1 kez\n",
            "  2. 10:00 - 11:00: 1 kez\n",
            "  3. 08:00 - 09:00: 1 kez\n",
            "\n",
            "💰 EN YÜKSEK ORTALAMA GETİRİ SAATLERI:\n",
            "  1. 09:00 - 10:00: 0.180%\n",
            "  2. 10:00 - 11:00: 0.100%\n",
            "  3. 16:00 - 17:00: 0.090%\n",
            "\n",
            "📊 GENEL İSTATİSTİKLER:\n",
            "  • Toplam güçlü yükseliş: 3\n",
            "  • Toplam güçlü düşüş: 2\n",
            "  • Toplam veri noktası: 1440\n",
            "\n",
            "============================================================\n",
            "\n",
            "============================================================\n",
            "📊 SUPERUSDT ANALİZİ\n",
            "============================================================\n",
            "\n",
            "🚀 GÜÇLÜ YÜKSELİŞ GÜNLERI:\n",
            "  1. Perşembe: 5 kez\n",
            "  2. Cuma: 5 kez\n",
            "  3. Çarşamba: 4 kez\n",
            "\n",
            "📉 GÜÇLÜ DÜŞÜŞ GÜNLERI:\n",
            "  1. Cuma: 9 kez\n",
            "  2. Pazartesi: 6 kez\n",
            "  3. Pazar: 5 kez\n",
            "\n",
            "⏰ EN AKTİF SAATLER (Güçlü Yükseliş):\n",
            "  1. 13:00 - 14:00: 3 kez\n",
            "  2. 14:00 - 15:00: 3 kez\n",
            "  3. 07:00 - 08:00: 2 kez\n",
            "\n",
            "💰 EN YÜKSEK ORTALAMA GETİRİ SAATLERI:\n",
            "  1. 04:00 - 05:00: 0.230%\n",
            "  2. 17:00 - 18:00: 0.220%\n",
            "  3. 21:00 - 22:00: 0.160%\n",
            "\n",
            "📊 GENEL İSTATİSTİKLER:\n",
            "  • Toplam güçlü yükseliş: 21\n",
            "  • Toplam güçlü düşüş: 31\n",
            "  • Toplam veri noktası: 1440\n",
            "\n",
            "============================================================\n",
            "\n",
            "============================================================\n",
            "📊 SUSHIUSDT ANALİZİ\n",
            "============================================================\n",
            "\n",
            "🚀 GÜÇLÜ YÜKSELİŞ GÜNLERI:\n",
            "  1. Cuma: 10 kez\n",
            "  2. Cumartesi: 4 kez\n",
            "  3. Pazartesi: 4 kez\n",
            "\n",
            "📉 GÜÇLÜ DÜŞÜŞ GÜNLERI:\n",
            "  1. Cuma: 9 kez\n",
            "  2. Pazartesi: 8 kez\n",
            "  3. Salı: 6 kez\n",
            "\n",
            "⏰ EN AKTİF SAATLER (Güçlü Yükseliş):\n",
            "  1. 16:00 - 17:00: 5 kez\n",
            "  2. 05:00 - 06:00: 4 kez\n",
            "  3. 14:00 - 15:00: 3 kez\n",
            "\n",
            "💰 EN YÜKSEK ORTALAMA GETİRİ SAATLERI:\n",
            "  1. 04:00 - 05:00: 0.330%\n",
            "  2. 05:00 - 06:00: 0.200%\n",
            "  3. 01:00 - 02:00: 0.170%\n",
            "\n",
            "📊 GENEL İSTATİSTİKLER:\n",
            "  • Toplam güçlü yükseliş: 29\n",
            "  • Toplam güçlü düşüş: 32\n",
            "  • Toplam veri noktası: 1440\n",
            "\n",
            "============================================================\n",
            "\n",
            "============================================================\n",
            "📊 SXPUSDT ANALİZİ\n",
            "============================================================\n",
            "\n",
            "🚀 GÜÇLÜ YÜKSELİŞ GÜNLERI:\n",
            "  1. Cuma: 2 kez\n",
            "  2. Pazar: 2 kez\n",
            "  3. Salı: 1 kez\n",
            "\n",
            "📉 GÜÇLÜ DÜŞÜŞ GÜNLERI:\n",
            "  1. Pazartesi: 2 kez\n",
            "  2. Cuma: 2 kez\n",
            "  3. Perşembe: 2 kez\n",
            "\n",
            "⏰ EN AKTİF SAATLER (Güçlü Yükseliş):\n",
            "  1. 03:00 - 04:00: 1 kez\n",
            "  2. 02:00 - 03:00: 1 kez\n",
            "  3. 13:00 - 14:00: 1 kez\n",
            "\n",
            "💰 EN YÜKSEK ORTALAMA GETİRİ SAATLERI:\n",
            "  1. 17:00 - 18:00: 0.180%\n",
            "  2. 02:00 - 03:00: 0.100%\n",
            "  3. 20:00 - 21:00: 0.100%\n",
            "\n",
            "📊 GENEL İSTATİSTİKLER:\n",
            "  • Toplam güçlü yükseliş: 6\n",
            "  • Toplam güçlü düşüş: 8\n",
            "  • Toplam veri noktası: 1440\n",
            "\n",
            "============================================================\n",
            "\n",
            "============================================================\n",
            "📊 SYNUSDT ANALİZİ\n",
            "============================================================\n",
            "\n",
            "🚀 GÜÇLÜ YÜKSELİŞ GÜNLERI:\n",
            "  1. Cuma: 12 kez\n",
            "  2. Salı: 11 kez\n",
            "  3. Pazartesi: 9 kez\n",
            "\n",
            "📉 GÜÇLÜ DÜŞÜŞ GÜNLERI:\n",
            "  1. Pazartesi: 9 kez\n",
            "  2. Cuma: 9 kez\n",
            "  3. Salı: 4 kez\n",
            "\n",
            "⏰ EN AKTİF SAATLER (Güçlü Yükseliş):\n",
            "  1. 14:00 - 15:00: 5 kez\n",
            "  2. 07:00 - 08:00: 4 kez\n",
            "  3. 19:00 - 20:00: 3 kez\n",
            "\n",
            "💰 EN YÜKSEK ORTALAMA GETİRİ SAATLERI:\n",
            "  1. 07:00 - 08:00: 0.380%\n",
            "  2. 09:00 - 10:00: 0.370%\n",
            "  3. 22:00 - 23:00: 0.310%\n",
            "\n",
            "📊 GENEL İSTATİSTİKLER:\n",
            "  • Toplam güçlü yükseliş: 47\n",
            "  • Toplam güçlü düşüş: 30\n",
            "  • Toplam veri noktası: 1440\n",
            "\n",
            "============================================================\n",
            "\n",
            "============================================================\n",
            "📊 SYSUSDT ANALİZİ\n",
            "============================================================\n",
            "\n",
            "🚀 GÜÇLÜ YÜKSELİŞ GÜNLERI:\n",
            "  1. Pazartesi: 7 kez\n",
            "  2. Salı: 4 kez\n",
            "  3. Çarşamba: 4 kez\n",
            "\n",
            "📉 GÜÇLÜ DÜŞÜŞ GÜNLERI:\n",
            "  1. Pazartesi: 6 kez\n",
            "  2. Çarşamba: 5 kez\n",
            "  3. Cuma: 5 kez\n",
            "\n",
            "⏰ EN AKTİF SAATLER (Güçlü Yükseliş):\n",
            "  1. 14:00 - 15:00: 6 kez\n",
            "  2. 04:00 - 05:00: 3 kez\n",
            "  3. 16:00 - 17:00: 3 kez\n",
            "\n",
            "💰 EN YÜKSEK ORTALAMA GETİRİ SAATLERI:\n",
            "  1. 04:00 - 05:00: 0.200%\n",
            "  2. 14:00 - 15:00: 0.190%\n",
            "  3. 06:00 - 07:00: 0.170%\n",
            "\n",
            "📊 GENEL İSTATİSTİKLER:\n",
            "  • Toplam güçlü yükseliş: 26\n",
            "  • Toplam güçlü düşüş: 25\n",
            "  • Toplam veri noktası: 1440\n",
            "\n",
            "============================================================\n",
            "\n",
            "============================================================\n",
            "📊 TAOUSDT ANALİZİ\n",
            "============================================================\n",
            "\n",
            "🚀 GÜÇLÜ YÜKSELİŞ GÜNLERI:\n",
            "  1. Çarşamba: 4 kez\n",
            "  2. Cuma: 3 kez\n",
            "  3. Perşembe: 3 kez\n",
            "\n",
            "📉 GÜÇLÜ DÜŞÜŞ GÜNLERI:\n",
            "  1. Pazartesi: 7 kez\n",
            "  2. Cuma: 4 kez\n",
            "  3. Salı: 3 kez\n",
            "\n",
            "⏰ EN AKTİF SAATLER (Güçlü Yükseliş):\n",
            "  1. 17:00 - 18:00: 2 kez\n",
            "  2. 18:00 - 19:00: 2 kez\n",
            "  3. 19:00 - 20:00: 2 kez\n",
            "\n",
            "💰 EN YÜKSEK ORTALAMA GETİRİ SAATLERI:\n",
            "  1. 04:00 - 05:00: 0.150%\n",
            "  2. 17:00 - 18:00: 0.140%\n",
            "  3. 00:00 - 01:00: 0.110%\n",
            "\n",
            "📊 GENEL İSTATİSTİKLER:\n",
            "  • Toplam güçlü yükseliş: 14\n",
            "  • Toplam güçlü düşüş: 19\n",
            "  • Toplam veri noktası: 1440\n",
            "\n",
            "============================================================\n",
            "\n",
            "============================================================\n",
            "📊 TFUELUSDT ANALİZİ\n",
            "============================================================\n",
            "\n",
            "🚀 GÜÇLÜ YÜKSELİŞ GÜNLERI:\n",
            "  1. Perşembe: 4 kez\n",
            "  2. Cuma: 2 kez\n",
            "  3. Çarşamba: 2 kez\n",
            "\n",
            "📉 GÜÇLÜ DÜŞÜŞ GÜNLERI:\n",
            "  1. Perşembe: 2 kez\n",
            "  2. Cuma: 2 kez\n",
            "  3. Pazartesi: 1 kez\n",
            "\n",
            "⏰ EN AKTİF SAATLER (Güçlü Yükseliş):\n",
            "  1. 00:00 - 01:00: 5 kez\n",
            "  2. 14:00 - 15:00: 2 kez\n",
            "  3. 10:00 - 11:00: 1 kez\n",
            "\n",
            "💰 EN YÜKSEK ORTALAMA GETİRİ SAATLERI:\n",
            "  1. 14:00 - 15:00: 0.350%\n",
            "  2. 17:00 - 18:00: 0.250%\n",
            "  3. 23:00 - 00:00: 0.170%\n",
            "\n",
            "📊 GENEL İSTATİSTİKLER:\n",
            "  • Toplam güçlü yükseliş: 11\n",
            "  • Toplam güçlü düşüş: 7\n",
            "  • Toplam veri noktası: 1440\n",
            "\n",
            "============================================================\n",
            "\n",
            "============================================================\n",
            "📊 THETAUSDT ANALİZİ\n",
            "============================================================\n",
            "\n",
            "🚀 GÜÇLÜ YÜKSELİŞ GÜNLERI:\n",
            "  1. Salı: 5 kez\n",
            "  2. Cuma: 5 kez\n",
            "  3. Pazartesi: 3 kez\n",
            "\n",
            "📉 GÜÇLÜ DÜŞÜŞ GÜNLERI:\n",
            "  1. Pazartesi: 6 kez\n",
            "  2. Cuma: 5 kez\n",
            "  3. Salı: 3 kez\n",
            "\n",
            "⏰ EN AKTİF SAATLER (Güçlü Yükseliş):\n",
            "  1. 14:00 - 15:00: 3 kez\n",
            "  2. 01:00 - 02:00: 2 kez\n",
            "  3. 15:00 - 16:00: 2 kez\n",
            "\n",
            "💰 EN YÜKSEK ORTALAMA GETİRİ SAATLERI:\n",
            "  1. 17:00 - 18:00: 0.220%\n",
            "  2. 01:00 - 02:00: 0.140%\n",
            "  3. 16:00 - 17:00: 0.120%\n",
            "\n",
            "📊 GENEL İSTATİSTİKLER:\n",
            "  • Toplam güçlü yükseliş: 22\n",
            "  • Toplam güçlü düşüş: 18\n",
            "  • Toplam veri noktası: 1440\n",
            "\n",
            "============================================================\n",
            "\n",
            "============================================================\n",
            "📊 TIAUSDT ANALİZİ\n",
            "============================================================\n",
            "\n",
            "🚀 GÜÇLÜ YÜKSELİŞ GÜNLERI:\n",
            "  1. Salı: 5 kez\n",
            "  2. Perşembe: 5 kez\n",
            "  3. Pazartesi: 4 kez\n",
            "\n",
            "📉 GÜÇLÜ DÜŞÜŞ GÜNLERI:\n",
            "  1. Pazartesi: 7 kez\n",
            "  2. Cuma: 7 kez\n",
            "  3. Salı: 4 kez\n",
            "\n",
            "⏰ EN AKTİF SAATLER (Güçlü Yükseliş):\n",
            "  1. 16:00 - 17:00: 4 kez\n",
            "  2. 14:00 - 15:00: 3 kez\n",
            "  3. 05:00 - 06:00: 2 kez\n",
            "\n",
            "💰 EN YÜKSEK ORTALAMA GETİRİ SAATLERI:\n",
            "  1. 17:00 - 18:00: 0.160%\n",
            "  2. 04:00 - 05:00: 0.140%\n",
            "  3. 05:00 - 06:00: 0.110%\n",
            "\n",
            "📊 GENEL İSTATİSTİKLER:\n",
            "  • Toplam güçlü yükseliş: 27\n",
            "  • Toplam güçlü düşüş: 26\n",
            "  • Toplam veri noktası: 1440\n",
            "\n",
            "============================================================\n",
            "\n",
            "============================================================\n",
            "📊 TKOUSDT ANALİZİ\n",
            "============================================================\n",
            "\n",
            "🚀 GÜÇLÜ YÜKSELİŞ GÜNLERI:\n",
            "  1. Cuma: 10 kez\n",
            "  2. Salı: 5 kez\n",
            "  3. Cumartesi: 4 kez\n",
            "\n",
            "📉 GÜÇLÜ DÜŞÜŞ GÜNLERI:\n",
            "  1. Salı: 5 kez\n",
            "  2. Çarşamba: 5 kez\n",
            "  3. Cuma: 5 kez\n",
            "\n",
            "⏰ EN AKTİF SAATLER (Güçlü Yükseliş):\n",
            "  1. 07:00 - 08:00: 5 kez\n",
            "  2. 04:00 - 05:00: 2 kez\n",
            "  3. 14:00 - 15:00: 2 kez\n",
            "\n",
            "💰 EN YÜKSEK ORTALAMA GETİRİ SAATLERI:\n",
            "  1. 07:00 - 08:00: 0.510%\n",
            "  2. 12:00 - 13:00: 0.310%\n",
            "  3. 20:00 - 21:00: 0.250%\n",
            "\n",
            "📊 GENEL İSTATİSTİKLER:\n",
            "  • Toplam güçlü yükseliş: 24\n",
            "  • Toplam güçlü düşüş: 22\n",
            "  • Toplam veri noktası: 1440\n",
            "\n",
            "============================================================\n",
            "\n",
            "============================================================\n",
            "📊 TLMUSDT ANALİZİ\n",
            "============================================================\n",
            "\n",
            "🚀 GÜÇLÜ YÜKSELİŞ GÜNLERI:\n",
            "  1. Salı: 5 kez\n",
            "  2. Çarşamba: 2 kez\n",
            "  3. Cuma: 2 kez\n",
            "\n",
            "📉 GÜÇLÜ DÜŞÜŞ GÜNLERI:\n",
            "  1. Cuma: 6 kez\n",
            "  2. Pazartesi: 5 kez\n",
            "  3. Salı: 3 kez\n",
            "\n",
            "⏰ EN AKTİF SAATLER (Güçlü Yükseliş):\n",
            "  1. 14:00 - 15:00: 3 kez\n",
            "  2. 20:00 - 21:00: 2 kez\n",
            "  3. 00:00 - 01:00: 1 kez\n",
            "\n",
            "💰 EN YÜKSEK ORTALAMA GETİRİ SAATLERI:\n",
            "  1. 17:00 - 18:00: 0.220%\n",
            "  2. 01:00 - 02:00: 0.200%\n",
            "  3. 20:00 - 21:00: 0.110%\n",
            "\n",
            "📊 GENEL İSTATİSTİKLER:\n",
            "  • Toplam güçlü yükseliş: 13\n",
            "  • Toplam güçlü düşüş: 21\n",
            "  • Toplam veri noktası: 1440\n",
            "\n",
            "============================================================\n",
            "\n",
            "============================================================\n",
            "📊 TNSRUSDT ANALİZİ\n",
            "============================================================\n",
            "\n",
            "🚀 GÜÇLÜ YÜKSELİŞ GÜNLERI:\n",
            "  1. Salı: 4 kez\n",
            "  2. Cuma: 3 kez\n",
            "  3. Pazartesi: 2 kez\n",
            "\n",
            "📉 GÜÇLÜ DÜŞÜŞ GÜNLERI:\n",
            "  1. Pazartesi: 9 kez\n",
            "  2. Cuma: 6 kez\n",
            "  3. Salı: 5 kez\n",
            "\n",
            "⏰ EN AKTİF SAATLER (Güçlü Yükseliş):\n",
            "  1. 17:00 - 18:00: 2 kez\n",
            "  2. 12:00 - 13:00: 2 kez\n",
            "  3. 01:00 - 02:00: 1 kez\n",
            "\n",
            "💰 EN YÜKSEK ORTALAMA GETİRİ SAATLERI:\n",
            "  1. 17:00 - 18:00: 0.220%\n",
            "  2. 03:00 - 04:00: 0.140%\n",
            "  3. 22:00 - 23:00: 0.140%\n",
            "\n",
            "📊 GENEL İSTATİSTİKLER:\n",
            "  • Toplam güçlü yükseliş: 11\n",
            "  • Toplam güçlü düşüş: 30\n",
            "  • Toplam veri noktası: 1440\n",
            "\n",
            "============================================================\n",
            "\n",
            "============================================================\n",
            "📊 TONUSDT ANALİZİ\n",
            "============================================================\n",
            "\n",
            "🚀 GÜÇLÜ YÜKSELİŞ GÜNLERI:\n",
            "  1. Salı: 2 kez\n",
            "  2. Pazartesi: 1 kez\n",
            "  3. Çarşamba: 1 kez\n",
            "\n",
            "📉 GÜÇLÜ DÜŞÜŞ GÜNLERI:\n",
            "  1. Pazartesi: 2 kez\n",
            "  2. Çarşamba: 2 kez\n",
            "  3. Perşembe: 2 kez\n",
            "\n",
            "⏰ EN AKTİF SAATLER (Güçlü Yükseliş):\n",
            "  1. 03:00 - 04:00: 1 kez\n",
            "  2. 14:00 - 15:00: 1 kez\n",
            "  3. 16:00 - 17:00: 1 kez\n",
            "\n",
            "💰 EN YÜKSEK ORTALAMA GETİRİ SAATLERI:\n",
            "  1. 16:00 - 17:00: 0.150%\n",
            "  2. 03:00 - 04:00: 0.110%\n",
            "  3. 04:00 - 05:00: 0.110%\n",
            "\n",
            "📊 GENEL İSTATİSTİKLER:\n",
            "  • Toplam güçlü yükseliş: 7\n",
            "  • Toplam güçlü düşüş: 8\n",
            "  • Toplam veri noktası: 1440\n",
            "\n",
            "============================================================\n",
            "\n",
            "============================================================\n",
            "📊 TRBUSDT ANALİZİ\n",
            "============================================================\n",
            "\n",
            "🚀 GÜÇLÜ YÜKSELİŞ GÜNLERI:\n",
            "  1. Cuma: 4 kez\n",
            "  2. Perşembe: 3 kez\n",
            "  3. Salı: 3 kez\n",
            "\n",
            "📉 GÜÇLÜ DÜŞÜŞ GÜNLERI:\n",
            "  1. Cuma: 7 kez\n",
            "  2. Perşembe: 6 kez\n",
            "  3. Pazartesi: 5 kez\n",
            "\n",
            "⏰ EN AKTİF SAATLER (Güçlü Yükseliş):\n",
            "  1. 14:00 - 15:00: 2 kez\n",
            "  2. 00:00 - 01:00: 1 kez\n",
            "  3. 05:00 - 06:00: 1 kez\n",
            "\n",
            "💰 EN YÜKSEK ORTALAMA GETİRİ SAATLERI:\n",
            "  1. 17:00 - 18:00: 0.230%\n",
            "  2. 02:00 - 03:00: 0.110%\n",
            "  3. 22:00 - 23:00: 0.100%\n",
            "\n",
            "📊 GENEL İSTATİSTİKLER:\n",
            "  • Toplam güçlü yükseliş: 14\n",
            "  • Toplam güçlü düşüş: 26\n",
            "  • Toplam veri noktası: 1440\n",
            "\n",
            "============================================================\n",
            "\n",
            "============================================================\n",
            "📊 TRUUSDT ANALİZİ\n",
            "============================================================\n",
            "\n",
            "🚀 GÜÇLÜ YÜKSELİŞ GÜNLERI:\n",
            "  1. Cumartesi: 6 kez\n",
            "  2. Perşembe: 5 kez\n",
            "  3. Cuma: 5 kez\n",
            "\n",
            "📉 GÜÇLÜ DÜŞÜŞ GÜNLERI:\n",
            "  1. Perşembe: 8 kez\n",
            "  2. Cuma: 8 kez\n",
            "  3. Pazartesi: 7 kez\n",
            "\n",
            "⏰ EN AKTİF SAATLER (Güçlü Yükseliş):\n",
            "  1. 10:00 - 11:00: 3 kez\n",
            "  2. 07:00 - 08:00: 2 kez\n",
            "  3. 05:00 - 06:00: 2 kez\n",
            "\n",
            "💰 EN YÜKSEK ORTALAMA GETİRİ SAATLERI:\n",
            "  1. 17:00 - 18:00: 0.300%\n",
            "  2. 03:00 - 04:00: 0.280%\n",
            "  3. 05:00 - 06:00: 0.170%\n",
            "\n",
            "📊 GENEL İSTATİSTİKLER:\n",
            "  • Toplam güçlü yükseliş: 30\n",
            "  • Toplam güçlü düşüş: 36\n",
            "  • Toplam veri noktası: 1440\n",
            "\n",
            "============================================================\n",
            "\n",
            "============================================================\n",
            "📊 TRXUSDT ANALİZİ\n",
            "============================================================\n",
            "\n",
            "🚀 GÜÇLÜ YÜKSELİŞ GÜNLERI:\n",
            "  1. Salı: 2 kez\n",
            "  2. Pazartesi: 0 kez\n",
            "  3. Çarşamba: 0 kez\n",
            "\n",
            "📉 GÜÇLÜ DÜŞÜŞ GÜNLERI:\n",
            "  1. Perşembe: 1 kez\n",
            "  2. Salı: 0 kez\n",
            "  3. Pazartesi: 0 kez\n",
            "\n",
            "⏰ EN AKTİF SAATLER (Güçlü Yükseliş):\n",
            "  1. 10:00 - 11:00: 1 kez\n",
            "  2. 09:00 - 10:00: 1 kez\n",
            "  3. 00:00 - 01:00: 0 kez\n",
            "\n",
            "💰 EN YÜKSEK ORTALAMA GETİRİ SAATLERI:\n",
            "  1. 09:00 - 10:00: 0.120%\n",
            "  2. 07:00 - 08:00: 0.070%\n",
            "  3. 02:00 - 03:00: 0.060%\n",
            "\n",
            "📊 GENEL İSTATİSTİKLER:\n",
            "  • Toplam güçlü yükseliş: 2\n",
            "  • Toplam güçlü düşüş: 1\n",
            "  • Toplam veri noktası: 1440\n",
            "\n",
            "============================================================\n",
            "\n",
            "============================================================\n",
            "📊 TURBOUSDT ANALİZİ\n",
            "============================================================\n",
            "\n",
            "🚀 GÜÇLÜ YÜKSELİŞ GÜNLERI:\n",
            "  1. Pazartesi: 10 kez\n",
            "  2. Cuma: 8 kez\n",
            "  3. Pazar: 7 kez\n",
            "\n",
            "📉 GÜÇLÜ DÜŞÜŞ GÜNLERI:\n",
            "  1. Pazartesi: 8 kez\n",
            "  2. Cuma: 6 kez\n",
            "  3. Perşembe: 4 kez\n",
            "\n",
            "⏰ EN AKTİF SAATLER (Güçlü Yükseliş):\n",
            "  1. 12:00 - 13:00: 5 kez\n",
            "  2. 14:00 - 15:00: 4 kez\n",
            "  3. 16:00 - 17:00: 3 kez\n",
            "\n",
            "💰 EN YÜKSEK ORTALAMA GETİRİ SAATLERI:\n",
            "  1. 16:00 - 17:00: 0.300%\n",
            "  2. 04:00 - 05:00: 0.280%\n",
            "  3. 08:00 - 09:00: 0.130%\n",
            "\n",
            "📊 GENEL İSTATİSTİKLER:\n",
            "  • Toplam güçlü yükseliş: 37\n",
            "  • Toplam güçlü düşüş: 28\n",
            "  • Toplam veri noktası: 1440\n",
            "\n",
            "============================================================\n",
            "\n",
            "============================================================\n",
            "📊 TUSDT ANALİZİ\n",
            "============================================================\n",
            "\n",
            "🚀 GÜÇLÜ YÜKSELİŞ GÜNLERI:\n",
            "  1. Salı: 3 kez\n",
            "  2. Pazartesi: 2 kez\n",
            "  3. Perşembe: 1 kez\n",
            "\n",
            "📉 GÜÇLÜ DÜŞÜŞ GÜNLERI:\n",
            "  1. Pazartesi: 3 kez\n",
            "  2. Cuma: 3 kez\n",
            "  3. Pazar: 2 kez\n",
            "\n",
            "⏰ EN AKTİF SAATLER (Güçlü Yükseliş):\n",
            "  1. 07:00 - 08:00: 2 kez\n",
            "  2. 13:00 - 14:00: 1 kez\n",
            "  3. 21:00 - 22:00: 1 kez\n",
            "\n",
            "💰 EN YÜKSEK ORTALAMA GETİRİ SAATLERI:\n",
            "  1. 07:00 - 08:00: 0.290%\n",
            "  2. 09:00 - 10:00: 0.140%\n",
            "  3. 17:00 - 18:00: 0.110%\n",
            "\n",
            "📊 GENEL İSTATİSTİKLER:\n",
            "  • Toplam güçlü yükseliş: 8\n",
            "  • Toplam güçlü düşüş: 12\n",
            "  • Toplam veri noktası: 1440\n",
            "\n",
            "============================================================\n",
            "\n",
            "============================================================\n",
            "📊 TUSDUSDT ANALİZİ\n",
            "============================================================\n",
            "\n",
            "🚀 GÜÇLÜ YÜKSELİŞ GÜNLERI:\n",
            "  1. Pazartesi: 0 kez\n",
            "  2. Salı: 0 kez\n",
            "  3. Çarşamba: 0 kez\n",
            "\n",
            "📉 GÜÇLÜ DÜŞÜŞ GÜNLERI:\n",
            "  1. Pazartesi: 0 kez\n",
            "  2. Salı: 0 kez\n",
            "  3. Çarşamba: 0 kez\n",
            "\n",
            "⏰ EN AKTİF SAATLER (Güçlü Yükseliş):\n",
            "  1. 00:00 - 01:00: 0 kez\n",
            "  2. 01:00 - 02:00: 0 kez\n",
            "  3. 02:00 - 03:00: 0 kez\n",
            "\n",
            "💰 EN YÜKSEK ORTALAMA GETİRİ SAATLERI:\n",
            "  1. 00:00 - 01:00: 0.010%\n",
            "  2. 01:00 - 02:00: 0.000%\n",
            "  3. 02:00 - 03:00: -0.000%\n",
            "\n",
            "📊 GENEL İSTATİSTİKLER:\n",
            "  • Toplam güçlü yükseliş: 0\n",
            "  • Toplam güçlü düşüş: 0\n",
            "  • Toplam veri noktası: 1440\n",
            "\n",
            "============================================================\n",
            "\n",
            "============================================================\n",
            "📊 TWTUSDT ANALİZİ\n",
            "============================================================\n",
            "\n",
            "🚀 GÜÇLÜ YÜKSELİŞ GÜNLERI:\n",
            "  1. Çarşamba: 1 kez\n",
            "  2. Cuma: 1 kez\n",
            "  3. Perşembe: 1 kez\n",
            "\n",
            "📉 GÜÇLÜ DÜŞÜŞ GÜNLERI:\n",
            "  1. Çarşamba: 3 kez\n",
            "  2. Perşembe: 2 kez\n",
            "  3. Pazartesi: 0 kez\n",
            "\n",
            "⏰ EN AKTİF SAATLER (Güçlü Yükseliş):\n",
            "  1. 14:00 - 15:00: 1 kez\n",
            "  2. 19:00 - 20:00: 1 kez\n",
            "  3. 10:00 - 11:00: 1 kez\n",
            "\n",
            "💰 EN YÜKSEK ORTALAMA GETİRİ SAATLERI:\n",
            "  1. 16:00 - 17:00: 0.110%\n",
            "  2. 01:00 - 02:00: 0.080%\n",
            "  3. 17:00 - 18:00: 0.080%\n",
            "\n",
            "📊 GENEL İSTATİSTİKLER:\n",
            "  • Toplam güçlü yükseliş: 3\n",
            "  • Toplam güçlü düşüş: 5\n",
            "  • Toplam veri noktası: 1440\n",
            "\n",
            "============================================================\n",
            "\n",
            "============================================================\n",
            "📊 UMAUSDT ANALİZİ\n",
            "============================================================\n",
            "\n",
            "🚀 GÜÇLÜ YÜKSELİŞ GÜNLERI:\n",
            "  1. Salı: 10 kez\n",
            "  2. Cumartesi: 6 kez\n",
            "  3. Pazartesi: 5 kez\n",
            "\n",
            "📉 GÜÇLÜ DÜŞÜŞ GÜNLERI:\n",
            "  1. Cuma: 5 kez\n",
            "  2. Perşembe: 4 kez\n",
            "  3. Salı: 4 kez\n",
            "\n",
            "⏰ EN AKTİF SAATLER (Güçlü Yükseliş):\n",
            "  1. 13:00 - 14:00: 4 kez\n",
            "  2. 14:00 - 15:00: 3 kez\n",
            "  3. 15:00 - 16:00: 3 kez\n",
            "\n",
            "💰 EN YÜKSEK ORTALAMA GETİRİ SAATLERI:\n",
            "  1. 14:00 - 15:00: 0.240%\n",
            "  2. 17:00 - 18:00: 0.230%\n",
            "  3. 22:00 - 23:00: 0.220%\n",
            "\n",
            "📊 GENEL İSTATİSTİKLER:\n",
            "  • Toplam güçlü yükseliş: 31\n",
            "  • Toplam güçlü düşüş: 19\n",
            "  • Toplam veri noktası: 1440\n",
            "\n",
            "============================================================\n",
            "\n",
            "============================================================\n",
            "📊 UNIUSDT ANALİZİ\n",
            "============================================================\n",
            "\n",
            "🚀 GÜÇLÜ YÜKSELİŞ GÜNLERI:\n",
            "  1. Cuma: 9 kez\n",
            "  2. Pazartesi: 6 kez\n",
            "  3. Çarşamba: 3 kez\n",
            "\n",
            "📉 GÜÇLÜ DÜŞÜŞ GÜNLERI:\n",
            "  1. Perşembe: 6 kez\n",
            "  2. Çarşamba: 5 kez\n",
            "  3. Pazartesi: 3 kez\n",
            "\n",
            "⏰ EN AKTİF SAATLER (Güçlü Yükseliş):\n",
            "  1. 04:00 - 05:00: 4 kez\n",
            "  2. 13:00 - 14:00: 4 kez\n",
            "  3. 09:00 - 10:00: 3 kez\n",
            "\n",
            "💰 EN YÜKSEK ORTALAMA GETİRİ SAATLERI:\n",
            "  1. 04:00 - 05:00: 0.330%\n",
            "  2. 17:00 - 18:00: 0.190%\n",
            "  3. 22:00 - 23:00: 0.150%\n",
            "\n",
            "📊 GENEL İSTATİSTİKLER:\n",
            "  • Toplam güçlü yükseliş: 26\n",
            "  • Toplam güçlü düşüş: 20\n",
            "  • Toplam veri noktası: 1440\n",
            "\n",
            "============================================================\n",
            "\n",
            "============================================================\n",
            "📊 USDCUSDT ANALİZİ\n",
            "============================================================\n",
            "\n",
            "🚀 GÜÇLÜ YÜKSELİŞ GÜNLERI:\n",
            "  1. Pazartesi: 0 kez\n",
            "  2. Salı: 0 kez\n",
            "  3. Çarşamba: 0 kez\n",
            "\n",
            "📉 GÜÇLÜ DÜŞÜŞ GÜNLERI:\n",
            "  1. Pazartesi: 0 kez\n",
            "  2. Salı: 0 kez\n",
            "  3. Çarşamba: 0 kez\n",
            "\n",
            "⏰ EN AKTİF SAATLER (Güçlü Yükseliş):\n",
            "  1. 00:00 - 01:00: 0 kez\n",
            "  2. 01:00 - 02:00: 0 kez\n",
            "  3. 02:00 - 03:00: 0 kez\n",
            "\n",
            "💰 EN YÜKSEK ORTALAMA GETİRİ SAATLERI:\n",
            "  1. 00:00 - 01:00: -0.000%\n",
            "  2. 01:00 - 02:00: 0.000%\n",
            "  3. 02:00 - 03:00: -0.000%\n",
            "\n",
            "📊 GENEL İSTATİSTİKLER:\n",
            "  • Toplam güçlü yükseliş: 0\n",
            "  • Toplam güçlü düşüş: 0\n",
            "  • Toplam veri noktası: 1440\n",
            "\n",
            "============================================================\n",
            "\n",
            "============================================================\n",
            "📊 USDPUSDT ANALİZİ\n",
            "============================================================\n",
            "\n",
            "🚀 GÜÇLÜ YÜKSELİŞ GÜNLERI:\n",
            "  1. Pazartesi: 0 kez\n",
            "  2. Salı: 0 kez\n",
            "  3. Çarşamba: 0 kez\n",
            "\n",
            "📉 GÜÇLÜ DÜŞÜŞ GÜNLERI:\n",
            "  1. Pazartesi: 0 kez\n",
            "  2. Salı: 0 kez\n",
            "  3. Çarşamba: 0 kez\n",
            "\n",
            "⏰ EN AKTİF SAATLER (Güçlü Yükseliş):\n",
            "  1. 00:00 - 01:00: 0 kez\n",
            "  2. 01:00 - 02:00: 0 kez\n",
            "  3. 02:00 - 03:00: 0 kez\n",
            "\n",
            "💰 EN YÜKSEK ORTALAMA GETİRİ SAATLERI:\n",
            "  1. 11:00 - 12:00: 0.010%\n",
            "  2. 00:00 - 01:00: -0.000%\n",
            "  3. 02:00 - 03:00: -0.000%\n",
            "\n",
            "📊 GENEL İSTATİSTİKLER:\n",
            "  • Toplam güçlü yükseliş: 0\n",
            "  • Toplam güçlü düşüş: 0\n",
            "  • Toplam veri noktası: 1440\n",
            "\n",
            "============================================================\n",
            "\n",
            "============================================================\n",
            "📊 USDTARS ANALİZİ\n",
            "============================================================\n",
            "\n",
            "🚀 GÜÇLÜ YÜKSELİŞ GÜNLERI:\n",
            "  1. Pazartesi: 0 kez\n",
            "  2. Salı: 0 kez\n",
            "  3. Çarşamba: 0 kez\n",
            "\n",
            "📉 GÜÇLÜ DÜŞÜŞ GÜNLERI:\n",
            "  1. Cuma: 1 kez\n",
            "  2. Salı: 0 kez\n",
            "  3. Pazartesi: 0 kez\n",
            "\n",
            "⏰ EN AKTİF SAATLER (Güçlü Yükseliş):\n",
            "  1. 00:00 - 01:00: 0 kez\n",
            "  2. 01:00 - 02:00: 0 kez\n",
            "  3. 02:00 - 03:00: 0 kez\n",
            "\n",
            "💰 EN YÜKSEK ORTALAMA GETİRİ SAATLERI:\n",
            "  1. 21:00 - 22:00: 0.110%\n",
            "  2. 19:00 - 20:00: 0.060%\n",
            "  3. 16:00 - 17:00: 0.050%\n",
            "\n",
            "📊 GENEL İSTATİSTİKLER:\n",
            "  • Toplam güçlü yükseliş: 0\n",
            "  • Toplam güçlü düşüş: 1\n",
            "  • Toplam veri noktası: 1440\n",
            "\n",
            "============================================================\n",
            "\n",
            "============================================================\n",
            "📊 USDTBRL ANALİZİ\n",
            "============================================================\n",
            "\n",
            "🚀 GÜÇLÜ YÜKSELİŞ GÜNLERI:\n",
            "  1. Pazartesi: 0 kez\n",
            "  2. Salı: 0 kez\n",
            "  3. Çarşamba: 0 kez\n",
            "\n",
            "📉 GÜÇLÜ DÜŞÜŞ GÜNLERI:\n",
            "  1. Pazartesi: 0 kez\n",
            "  2. Salı: 0 kez\n",
            "  3. Çarşamba: 0 kez\n",
            "\n",
            "⏰ EN AKTİF SAATLER (Güçlü Yükseliş):\n",
            "  1. 00:00 - 01:00: 0 kez\n",
            "  2. 01:00 - 02:00: 0 kez\n",
            "  3. 02:00 - 03:00: 0 kez\n",
            "\n",
            "💰 EN YÜKSEK ORTALAMA GETİRİ SAATLERI:\n",
            "  1. 21:00 - 22:00: 0.050%\n",
            "  2. 11:00 - 12:00: 0.050%\n",
            "  3. 01:00 - 02:00: 0.020%\n",
            "\n",
            "📊 GENEL İSTATİSTİKLER:\n",
            "  • Toplam güçlü yükseliş: 0\n",
            "  • Toplam güçlü düşüş: 0\n",
            "  • Toplam veri noktası: 1440\n",
            "\n",
            "============================================================\n",
            "\n",
            "============================================================\n",
            "📊 USDTCOP ANALİZİ\n",
            "============================================================\n",
            "\n",
            "🚀 GÜÇLÜ YÜKSELİŞ GÜNLERI:\n",
            "  1. Pazartesi: 2 kez\n",
            "  2. Salı: 0 kez\n",
            "  3. Çarşamba: 0 kez\n",
            "\n",
            "📉 GÜÇLÜ DÜŞÜŞ GÜNLERI:\n",
            "  1. Pazartesi: 1 kez\n",
            "  2. Salı: 0 kez\n",
            "  3. Çarşamba: 0 kez\n",
            "\n",
            "⏰ EN AKTİF SAATLER (Güçlü Yükseliş):\n",
            "  1. 06:00 - 07:00: 1 kez\n",
            "  2. 07:00 - 08:00: 1 kez\n",
            "  3. 00:00 - 01:00: 0 kez\n",
            "\n",
            "💰 EN YÜKSEK ORTALAMA GETİRİ SAATLERI:\n",
            "  1. 07:00 - 08:00: 0.180%\n",
            "  2. 16:00 - 17:00: 0.070%\n",
            "  3. 01:00 - 02:00: 0.040%\n",
            "\n",
            "📊 GENEL İSTATİSTİKLER:\n",
            "  • Toplam güçlü yükseliş: 2\n",
            "  • Toplam güçlü düşüş: 1\n",
            "  • Toplam veri noktası: 1440\n",
            "\n",
            "============================================================\n",
            "\n",
            "============================================================\n",
            "📊 USDTDAI ANALİZİ\n",
            "============================================================\n",
            "\n",
            "🚀 GÜÇLÜ YÜKSELİŞ GÜNLERI:\n",
            "  1. Pazartesi: 0 kez\n",
            "  2. Salı: 0 kez\n",
            "  3. Çarşamba: 0 kez\n",
            "\n",
            "📉 GÜÇLÜ DÜŞÜŞ GÜNLERI:\n",
            "  1. Pazartesi: 0 kez\n",
            "  2. Salı: 0 kez\n",
            "  3. Çarşamba: 0 kez\n",
            "\n",
            "⏰ EN AKTİF SAATLER (Güçlü Yükseliş):\n",
            "  1. 00:00 - 01:00: 0 kez\n",
            "  2. 01:00 - 02:00: 0 kez\n",
            "  3. 02:00 - 03:00: 0 kez\n",
            "\n",
            "💰 EN YÜKSEK ORTALAMA GETİRİ SAATLERI:\n",
            "  1. 00:00 - 01:00: 0.000%\n",
            "  2. 01:00 - 02:00: -0.000%\n",
            "  3. 02:00 - 03:00: -0.000%\n",
            "\n",
            "📊 GENEL İSTATİSTİKLER:\n",
            "  • Toplam güçlü yükseliş: 0\n",
            "  • Toplam güçlü düşüş: 0\n",
            "  • Toplam veri noktası: 1440\n",
            "\n",
            "============================================================\n",
            "\n",
            "============================================================\n",
            "📊 USDTMXN ANALİZİ\n",
            "============================================================\n",
            "\n",
            "🚀 GÜÇLÜ YÜKSELİŞ GÜNLERI:\n",
            "  1. Pazartesi: 0 kez\n",
            "  2. Salı: 0 kez\n",
            "  3. Çarşamba: 0 kez\n",
            "\n",
            "📉 GÜÇLÜ DÜŞÜŞ GÜNLERI:\n",
            "  1. Cumartesi: 1 kez\n",
            "  2. Salı: 0 kez\n",
            "  3. Pazartesi: 0 kez\n",
            "\n",
            "⏰ EN AKTİF SAATLER (Güçlü Yükseliş):\n",
            "  1. 00:00 - 01:00: 0 kez\n",
            "  2. 01:00 - 02:00: 0 kez\n",
            "  3. 02:00 - 03:00: 0 kez\n",
            "\n",
            "💰 EN YÜKSEK ORTALAMA GETİRİ SAATLERI:\n",
            "  1. 03:00 - 04:00: 0.090%\n",
            "  2. 07:00 - 08:00: 0.030%\n",
            "  3. 01:00 - 02:00: 0.020%\n",
            "\n",
            "📊 GENEL İSTATİSTİKLER:\n",
            "  • Toplam güçlü yükseliş: 0\n",
            "  • Toplam güçlü düşüş: 1\n",
            "  • Toplam veri noktası: 1440\n",
            "\n",
            "============================================================\n",
            "\n",
            "============================================================\n",
            "📊 USDTPLN ANALİZİ\n",
            "============================================================\n",
            "\n",
            "🚀 GÜÇLÜ YÜKSELİŞ GÜNLERI:\n",
            "  1. Pazartesi: 0 kez\n",
            "  2. Salı: 0 kez\n",
            "  3. Çarşamba: 0 kez\n",
            "\n",
            "📉 GÜÇLÜ DÜŞÜŞ GÜNLERI:\n",
            "  1. Pazartesi: 0 kez\n",
            "  2. Salı: 0 kez\n",
            "  3. Çarşamba: 0 kez\n",
            "\n",
            "⏰ EN AKTİF SAATLER (Güçlü Yükseliş):\n",
            "  1. 00:00 - 01:00: 0 kez\n",
            "  2. 01:00 - 02:00: 0 kez\n",
            "  3. 02:00 - 03:00: 0 kez\n",
            "\n",
            "💰 EN YÜKSEK ORTALAMA GETİRİ SAATLERI:\n",
            "  1. 07:00 - 08:00: 0.040%\n",
            "  2. 04:00 - 05:00: 0.030%\n",
            "  3. 11:00 - 12:00: 0.030%\n",
            "\n",
            "📊 GENEL İSTATİSTİKLER:\n",
            "  • Toplam güçlü yükseliş: 0\n",
            "  • Toplam güçlü düşüş: 0\n",
            "  • Toplam veri noktası: 1440\n",
            "\n",
            "============================================================\n",
            "\n",
            "============================================================\n",
            "📊 USDTTRY ANALİZİ\n",
            "============================================================\n",
            "\n",
            "🚀 GÜÇLÜ YÜKSELİŞ GÜNLERI:\n",
            "  1. Pazartesi: 0 kez\n",
            "  2. Salı: 0 kez\n",
            "  3. Çarşamba: 0 kez\n",
            "\n",
            "📉 GÜÇLÜ DÜŞÜŞ GÜNLERI:\n",
            "  1. Pazartesi: 0 kez\n",
            "  2. Salı: 0 kez\n",
            "  3. Çarşamba: 0 kez\n",
            "\n",
            "⏰ EN AKTİF SAATLER (Güçlü Yükseliş):\n",
            "  1. 00:00 - 01:00: 0 kez\n",
            "  2. 01:00 - 02:00: 0 kez\n",
            "  3. 02:00 - 03:00: 0 kez\n",
            "\n",
            "💰 EN YÜKSEK ORTALAMA GETİRİ SAATLERI:\n",
            "  1. 15:00 - 16:00: 0.030%\n",
            "  2. 14:00 - 15:00: 0.030%\n",
            "  3. 06:00 - 07:00: 0.020%\n",
            "\n",
            "📊 GENEL İSTATİSTİKLER:\n",
            "  • Toplam güçlü yükseliş: 0\n",
            "  • Toplam güçlü düşüş: 0\n",
            "  • Toplam veri noktası: 1440\n",
            "\n",
            "============================================================\n",
            "\n",
            "============================================================\n",
            "📊 USDTUAH ANALİZİ\n",
            "============================================================\n",
            "\n",
            "🚀 GÜÇLÜ YÜKSELİŞ GÜNLERI:\n",
            "  1. Pazartesi: 0 kez\n",
            "  2. Salı: 0 kez\n",
            "  3. Çarşamba: 0 kez\n",
            "\n",
            "📉 GÜÇLÜ DÜŞÜŞ GÜNLERI:\n",
            "  1. Pazartesi: 0 kez\n",
            "  2. Salı: 0 kez\n",
            "  3. Çarşamba: 0 kez\n",
            "\n",
            "⏰ EN AKTİF SAATLER (Güçlü Yükseliş):\n",
            "  1. 00:00 - 01:00: 0 kez\n",
            "  2. 01:00 - 02:00: 0 kez\n",
            "  3. 02:00 - 03:00: 0 kez\n",
            "\n",
            "💰 EN YÜKSEK ORTALAMA GETİRİ SAATLERI:\n",
            "  1. 07:00 - 08:00: 0.020%\n",
            "  2. 18:00 - 19:00: 0.020%\n",
            "  3. 19:00 - 20:00: 0.020%\n",
            "\n",
            "📊 GENEL İSTATİSTİKLER:\n",
            "  • Toplam güçlü yükseliş: 0\n",
            "  • Toplam güçlü düşüş: 0\n",
            "  • Toplam veri noktası: 1440\n",
            "\n",
            "============================================================\n",
            "\n",
            "============================================================\n",
            "📊 USDTZAR ANALİZİ\n",
            "============================================================\n",
            "\n",
            "🚀 GÜÇLÜ YÜKSELİŞ GÜNLERI:\n",
            "  1. Pazartesi: 0 kez\n",
            "  2. Salı: 0 kez\n",
            "  3. Çarşamba: 0 kez\n",
            "\n",
            "📉 GÜÇLÜ DÜŞÜŞ GÜNLERI:\n",
            "  1. Pazartesi: 0 kez\n",
            "  2. Salı: 0 kez\n",
            "  3. Çarşamba: 0 kez\n",
            "\n",
            "⏰ EN AKTİF SAATLER (Güçlü Yükseliş):\n",
            "  1. 00:00 - 01:00: 0 kez\n",
            "  2. 01:00 - 02:00: 0 kez\n",
            "  3. 02:00 - 03:00: 0 kez\n",
            "\n",
            "💰 EN YÜKSEK ORTALAMA GETİRİ SAATLERI:\n",
            "  1. 07:00 - 08:00: 0.030%\n",
            "  2. 08:00 - 09:00: 0.030%\n",
            "  3. 05:00 - 06:00: 0.020%\n",
            "\n",
            "📊 GENEL İSTATİSTİKLER:\n",
            "  • Toplam güçlü yükseliş: 0\n",
            "  • Toplam güçlü düşüş: 0\n",
            "  • Toplam veri noktası: 1440\n",
            "\n",
            "============================================================\n",
            "\n",
            "============================================================\n",
            "📊 USTCUSDT ANALİZİ\n",
            "============================================================\n",
            "\n",
            "🚀 GÜÇLÜ YÜKSELİŞ GÜNLERI:\n",
            "  1. Cuma: 10 kez\n",
            "  2. Pazartesi: 6 kez\n",
            "  3. Salı: 5 kez\n",
            "\n",
            "📉 GÜÇLÜ DÜŞÜŞ GÜNLERI:\n",
            "  1. Cuma: 7 kez\n",
            "  2. Salı: 4 kez\n",
            "  3. Pazartesi: 4 kez\n",
            "\n",
            "⏰ EN AKTİF SAATLER (Güçlü Yükseliş):\n",
            "  1. 14:00 - 15:00: 4 kez\n",
            "  2. 09:00 - 10:00: 3 kez\n",
            "  3. 16:00 - 17:00: 3 kez\n",
            "\n",
            "💰 EN YÜKSEK ORTALAMA GETİRİ SAATLERI:\n",
            "  1. 01:00 - 02:00: 0.390%\n",
            "  2. 09:00 - 10:00: 0.260%\n",
            "  3. 15:00 - 16:00: 0.140%\n",
            "\n",
            "📊 GENEL İSTATİSTİKLER:\n",
            "  • Toplam güçlü yükseliş: 28\n",
            "  • Toplam güçlü düşüş: 22\n",
            "  • Toplam veri noktası: 1440\n",
            "\n",
            "============================================================\n",
            "\n",
            "============================================================\n",
            "📊 UTKUSDT ANALİZİ\n",
            "============================================================\n",
            "\n",
            "🚀 GÜÇLÜ YÜKSELİŞ GÜNLERI:\n",
            "  1. Salı: 6 kez\n",
            "  2. Perşembe: 4 kez\n",
            "  3. Pazartesi: 2 kez\n",
            "\n",
            "📉 GÜÇLÜ DÜŞÜŞ GÜNLERI:\n",
            "  1. Pazartesi: 8 kez\n",
            "  2. Cuma: 5 kez\n",
            "  3. Cumartesi: 2 kez\n",
            "\n",
            "⏰ EN AKTİF SAATLER (Güçlü Yükseliş):\n",
            "  1. 16:00 - 17:00: 2 kez\n",
            "  2. 20:00 - 21:00: 2 kez\n",
            "  3. 00:00 - 01:00: 1 kez\n",
            "\n",
            "💰 EN YÜKSEK ORTALAMA GETİRİ SAATLERI:\n",
            "  1. 04:00 - 05:00: 0.190%\n",
            "  2. 09:00 - 10:00: 0.190%\n",
            "  3. 07:00 - 08:00: 0.170%\n",
            "\n",
            "📊 GENEL İSTATİSTİKLER:\n",
            "  • Toplam güçlü yükseliş: 15\n",
            "  • Toplam güçlü düşüş: 18\n",
            "  • Toplam veri noktası: 1440\n",
            "\n",
            "============================================================\n",
            "\n",
            "============================================================\n",
            "📊 VANRYUSDT ANALİZİ\n",
            "============================================================\n",
            "\n",
            "🚀 GÜÇLÜ YÜKSELİŞ GÜNLERI:\n",
            "  1. Çarşamba: 5 kez\n",
            "  2. Cuma: 5 kez\n",
            "  3. Pazartesi: 4 kez\n",
            "\n",
            "📉 GÜÇLÜ DÜŞÜŞ GÜNLERI:\n",
            "  1. Perşembe: 7 kez\n",
            "  2. Cuma: 7 kez\n",
            "  3. Pazartesi: 6 kez\n",
            "\n",
            "⏰ EN AKTİF SAATLER (Güçlü Yükseliş):\n",
            "  1. 14:00 - 15:00: 4 kez\n",
            "  2. 02:00 - 03:00: 2 kez\n",
            "  3. 10:00 - 11:00: 2 kez\n",
            "\n",
            "💰 EN YÜKSEK ORTALAMA GETİRİ SAATLERI:\n",
            "  1. 09:00 - 10:00: 0.190%\n",
            "  2. 17:00 - 18:00: 0.150%\n",
            "  3. 07:00 - 08:00: 0.140%\n",
            "\n",
            "📊 GENEL İSTATİSTİKLER:\n",
            "  • Toplam güçlü yükseliş: 21\n",
            "  • Toplam güçlü düşüş: 35\n",
            "  • Toplam veri noktası: 1440\n",
            "\n",
            "============================================================\n",
            "\n",
            "============================================================\n",
            "📊 VETUSDT ANALİZİ\n",
            "============================================================\n",
            "\n",
            "🚀 GÜÇLÜ YÜKSELİŞ GÜNLERI:\n",
            "  1. Cuma: 4 kez\n",
            "  2. Perşembe: 3 kez\n",
            "  3. Salı: 2 kez\n",
            "\n",
            "📉 GÜÇLÜ DÜŞÜŞ GÜNLERI:\n",
            "  1. Cuma: 4 kez\n",
            "  2. Perşembe: 2 kez\n",
            "  3. Çarşamba: 2 kez\n",
            "\n",
            "⏰ EN AKTİF SAATLER (Güçlü Yükseliş):\n",
            "  1. 00:00 - 01:00: 2 kez\n",
            "  2. 14:00 - 15:00: 2 kez\n",
            "  3. 07:00 - 08:00: 1 kez\n",
            "\n",
            "💰 EN YÜKSEK ORTALAMA GETİRİ SAATLERI:\n",
            "  1. 17:00 - 18:00: 0.220%\n",
            "  2. 21:00 - 22:00: 0.160%\n",
            "  3. 01:00 - 02:00: 0.140%\n",
            "\n",
            "📊 GENEL İSTATİSTİKLER:\n",
            "  • Toplam güçlü yükseliş: 12\n",
            "  • Toplam güçlü düşüş: 11\n",
            "  • Toplam veri noktası: 1440\n",
            "\n",
            "============================================================\n",
            "\n",
            "============================================================\n",
            "📊 VICUSDT ANALİZİ\n",
            "============================================================\n",
            "\n",
            "🚀 GÜÇLÜ YÜKSELİŞ GÜNLERI:\n",
            "  1. Çarşamba: 9 kez\n",
            "  2. Salı: 8 kez\n",
            "  3. Perşembe: 4 kez\n",
            "\n",
            "📉 GÜÇLÜ DÜŞÜŞ GÜNLERI:\n",
            "  1. Çarşamba: 9 kez\n",
            "  2. Perşembe: 6 kez\n",
            "  3. Pazartesi: 4 kez\n",
            "\n",
            "⏰ EN AKTİF SAATLER (Güçlü Yükseliş):\n",
            "  1. 04:00 - 05:00: 3 kez\n",
            "  2. 09:00 - 10:00: 3 kez\n",
            "  3. 07:00 - 08:00: 2 kez\n",
            "\n",
            "💰 EN YÜKSEK ORTALAMA GETİRİ SAATLERI:\n",
            "  1. 23:00 - 00:00: 0.330%\n",
            "  2. 21:00 - 22:00: 0.330%\n",
            "  3. 02:00 - 03:00: 0.310%\n",
            "\n",
            "📊 GENEL İSTATİSTİKLER:\n",
            "  • Toplam güçlü yükseliş: 32\n",
            "  • Toplam güçlü düşüş: 32\n",
            "  • Toplam veri noktası: 1440\n",
            "\n",
            "============================================================\n",
            "\n",
            "============================================================\n",
            "📊 VOXELUSDT ANALİZİ\n",
            "============================================================\n",
            "\n",
            "🚀 GÜÇLÜ YÜKSELİŞ GÜNLERI:\n",
            "  1. Çarşamba: 10 kez\n",
            "  2. Cuma: 10 kez\n",
            "  3. Salı: 7 kez\n",
            "\n",
            "📉 GÜÇLÜ DÜŞÜŞ GÜNLERI:\n",
            "  1. Cuma: 6 kez\n",
            "  2. Perşembe: 4 kez\n",
            "  3. Pazartesi: 4 kez\n",
            "\n",
            "⏰ EN AKTİF SAATLER (Güçlü Yükseliş):\n",
            "  1. 14:00 - 15:00: 5 kez\n",
            "  2. 06:00 - 07:00: 3 kez\n",
            "  3. 07:00 - 08:00: 3 kez\n",
            "\n",
            "💰 EN YÜKSEK ORTALAMA GETİRİ SAATLERI:\n",
            "  1. 20:00 - 21:00: 0.270%\n",
            "  2. 03:00 - 04:00: 0.260%\n",
            "  3. 02:00 - 03:00: 0.190%\n",
            "\n",
            "📊 GENEL İSTATİSTİKLER:\n",
            "  • Toplam güçlü yükseliş: 33\n",
            "  • Toplam güçlü düşüş: 19\n",
            "  • Toplam veri noktası: 1440\n",
            "\n",
            "============================================================\n",
            "\n",
            "============================================================\n",
            "📊 VTHOUSDT ANALİZİ\n",
            "============================================================\n",
            "\n",
            "🚀 GÜÇLÜ YÜKSELİŞ GÜNLERI:\n",
            "  1. Pazar: 3 kez\n",
            "  2. Perşembe: 2 kez\n",
            "  3. Pazartesi: 1 kez\n",
            "\n",
            "📉 GÜÇLÜ DÜŞÜŞ GÜNLERI:\n",
            "  1. Cuma: 4 kez\n",
            "  2. Pazar: 3 kez\n",
            "  3. Perşembe: 2 kez\n",
            "\n",
            "⏰ EN AKTİF SAATLER (Güçlü Yükseliş):\n",
            "  1. 00:00 - 01:00: 1 kez\n",
            "  2. 07:00 - 08:00: 1 kez\n",
            "  3. 21:00 - 22:00: 1 kez\n",
            "\n",
            "💰 EN YÜKSEK ORTALAMA GETİRİ SAATLERI:\n",
            "  1. 17:00 - 18:00: 0.160%\n",
            "  2. 21:00 - 22:00: 0.130%\n",
            "  3. 22:00 - 23:00: 0.080%\n",
            "\n",
            "📊 GENEL İSTATİSTİKLER:\n",
            "  • Toplam güçlü yükseliş: 8\n",
            "  • Toplam güçlü düşüş: 12\n",
            "  • Toplam veri noktası: 1440\n",
            "\n",
            "============================================================\n",
            "\n",
            "============================================================\n",
            "📊 WANUSDT ANALİZİ\n",
            "============================================================\n",
            "\n",
            "🚀 GÜÇLÜ YÜKSELİŞ GÜNLERI:\n",
            "  1. Salı: 2 kez\n",
            "  2. Cumartesi: 1 kez\n",
            "  3. Cuma: 1 kez\n",
            "\n",
            "📉 GÜÇLÜ DÜŞÜŞ GÜNLERI:\n",
            "  1. Perşembe: 2 kez\n",
            "  2. Cumartesi: 2 kez\n",
            "  3. Salı: 1 kez\n",
            "\n",
            "⏰ EN AKTİF SAATLER (Güçlü Yükseliş):\n",
            "  1. 12:00 - 13:00: 1 kez\n",
            "  2. 13:00 - 14:00: 1 kez\n",
            "  3. 14:00 - 15:00: 1 kez\n",
            "\n",
            "💰 EN YÜKSEK ORTALAMA GETİRİ SAATLERI:\n",
            "  1. 07:00 - 08:00: 0.130%\n",
            "  2. 02:00 - 03:00: 0.110%\n",
            "  3. 20:00 - 21:00: 0.110%\n",
            "\n",
            "📊 GENEL İSTATİSTİKLER:\n",
            "  • Toplam güçlü yükseliş: 4\n",
            "  • Toplam güçlü düşüş: 7\n",
            "  • Toplam veri noktası: 1440\n",
            "\n",
            "============================================================\n",
            "\n",
            "============================================================\n",
            "📊 WAXPUSDT ANALİZİ\n",
            "============================================================\n",
            "\n",
            "🚀 GÜÇLÜ YÜKSELİŞ GÜNLERI:\n",
            "  1. Salı: 2 kez\n",
            "  2. Çarşamba: 2 kez\n",
            "  3. Perşembe: 1 kez\n",
            "\n",
            "📉 GÜÇLÜ DÜŞÜŞ GÜNLERI:\n",
            "  1. Salı: 3 kez\n",
            "  2. Çarşamba: 2 kez\n",
            "  3. Perşembe: 2 kez\n",
            "\n",
            "⏰ EN AKTİF SAATLER (Güçlü Yükseliş):\n",
            "  1. 07:00 - 08:00: 1 kez\n",
            "  2. 13:00 - 14:00: 1 kez\n",
            "  3. 21:00 - 22:00: 1 kez\n",
            "\n",
            "💰 EN YÜKSEK ORTALAMA GETİRİ SAATLERI:\n",
            "  1. 02:00 - 03:00: 0.110%\n",
            "  2. 17:00 - 18:00: 0.100%\n",
            "  3. 07:00 - 08:00: 0.090%\n",
            "\n",
            "📊 GENEL İSTATİSTİKLER:\n",
            "  • Toplam güçlü yükseliş: 7\n",
            "  • Toplam güçlü düşüş: 11\n",
            "  • Toplam veri noktası: 1440\n",
            "\n",
            "============================================================\n",
            "\n",
            "============================================================\n",
            "📊 WBETHUSDT ANALİZİ\n",
            "============================================================\n",
            "\n",
            "🚀 GÜÇLÜ YÜKSELİŞ GÜNLERI:\n",
            "  1. Cuma: 4 kez\n",
            "  2. Perşembe: 3 kez\n",
            "  3. Salı: 3 kez\n",
            "\n",
            "📉 GÜÇLÜ DÜŞÜŞ GÜNLERI:\n",
            "  1. Salı: 2 kez\n",
            "  2. Cuma: 1 kez\n",
            "  3. Perşembe: 1 kez\n",
            "\n",
            "⏰ EN AKTİF SAATLER (Güçlü Yükseliş):\n",
            "  1. 13:00 - 14:00: 2 kez\n",
            "  2. 14:00 - 15:00: 2 kez\n",
            "  3. 01:00 - 02:00: 1 kez\n",
            "\n",
            "💰 EN YÜKSEK ORTALAMA GETİRİ SAATLERI:\n",
            "  1. 17:00 - 18:00: 0.240%\n",
            "  2. 21:00 - 22:00: 0.140%\n",
            "  3. 04:00 - 05:00: 0.130%\n",
            "\n",
            "📊 GENEL İSTATİSTİKLER:\n",
            "  • Toplam güçlü yükseliş: 12\n",
            "  • Toplam güçlü düşüş: 5\n",
            "  • Toplam veri noktası: 1440\n",
            "\n",
            "============================================================\n",
            "\n",
            "============================================================\n",
            "📊 WBTCUSDT ANALİZİ\n",
            "============================================================\n",
            "\n",
            "🚀 GÜÇLÜ YÜKSELİŞ GÜNLERI:\n",
            "  1. Salı: 1 kez\n",
            "  2. Cuma: 1 kez\n",
            "  3. Perşembe: 1 kez\n",
            "\n",
            "📉 GÜÇLÜ DÜŞÜŞ GÜNLERI:\n",
            "  1. Cuma: 1 kez\n",
            "  2. Salı: 0 kez\n",
            "  3. Pazartesi: 0 kez\n",
            "\n",
            "⏰ EN AKTİF SAATLER (Güçlü Yükseliş):\n",
            "  1. 13:00 - 14:00: 1 kez\n",
            "  2. 21:00 - 22:00: 1 kez\n",
            "  3. 14:00 - 15:00: 1 kez\n",
            "\n",
            "💰 EN YÜKSEK ORTALAMA GETİRİ SAATLERI:\n",
            "  1. 17:00 - 18:00: 0.070%\n",
            "  2. 22:00 - 23:00: 0.070%\n",
            "  3. 02:00 - 03:00: 0.040%\n",
            "\n",
            "📊 GENEL İSTATİSTİKLER:\n",
            "  • Toplam güçlü yükseliş: 3\n",
            "  • Toplam güçlü düşüş: 1\n",
            "  • Toplam veri noktası: 1440\n",
            "\n",
            "============================================================\n",
            "\n",
            "============================================================\n",
            "📊 WIFUSDT ANALİZİ\n",
            "============================================================\n",
            "\n",
            "🚀 GÜÇLÜ YÜKSELİŞ GÜNLERI:\n",
            "  1. Salı: 6 kez\n",
            "  2. Pazartesi: 5 kez\n",
            "  3. Çarşamba: 5 kez\n",
            "\n",
            "📉 GÜÇLÜ DÜŞÜŞ GÜNLERI:\n",
            "  1. Cuma: 12 kez\n",
            "  2. Pazartesi: 8 kez\n",
            "  3. Salı: 6 kez\n",
            "\n",
            "⏰ EN AKTİF SAATLER (Güçlü Yükseliş):\n",
            "  1. 14:00 - 15:00: 4 kez\n",
            "  2. 16:00 - 17:00: 3 kez\n",
            "  3. 13:00 - 14:00: 3 kez\n",
            "\n",
            "💰 EN YÜKSEK ORTALAMA GETİRİ SAATLERI:\n",
            "  1. 01:00 - 02:00: 0.240%\n",
            "  2. 17:00 - 18:00: 0.210%\n",
            "  3. 04:00 - 05:00: 0.170%\n",
            "\n",
            "📊 GENEL İSTATİSTİKLER:\n",
            "  • Toplam güçlü yükseliş: 29\n",
            "  • Toplam güçlü düşüş: 39\n",
            "  • Toplam veri noktası: 1440\n",
            "\n",
            "============================================================\n",
            "\n",
            "============================================================\n",
            "📊 WINUSDT ANALİZİ\n",
            "============================================================\n",
            "\n",
            "🚀 GÜÇLÜ YÜKSELİŞ GÜNLERI:\n",
            "  1. Salı: 3 kez\n",
            "  2. Çarşamba: 3 kez\n",
            "  3. Perşembe: 3 kez\n",
            "\n",
            "📉 GÜÇLÜ DÜŞÜŞ GÜNLERI:\n",
            "  1. Çarşamba: 3 kez\n",
            "  2. Perşembe: 3 kez\n",
            "  3. Pazartesi: 2 kez\n",
            "\n",
            "⏰ EN AKTİF SAATLER (Güçlü Yükseliş):\n",
            "  1. 09:00 - 10:00: 3 kez\n",
            "  2. 10:00 - 11:00: 2 kez\n",
            "  3. 07:00 - 08:00: 1 kez\n",
            "\n",
            "💰 EN YÜKSEK ORTALAMA GETİRİ SAATLERI:\n",
            "  1. 10:00 - 11:00: 0.260%\n",
            "  2. 16:00 - 17:00: 0.150%\n",
            "  3. 04:00 - 05:00: 0.130%\n",
            "\n",
            "📊 GENEL İSTATİSTİKLER:\n",
            "  • Toplam güçlü yükseliş: 10\n",
            "  • Toplam güçlü düşüş: 10\n",
            "  • Toplam veri noktası: 1440\n",
            "\n",
            "============================================================\n",
            "\n",
            "============================================================\n",
            "📊 WLDUSDT ANALİZİ\n",
            "============================================================\n",
            "\n",
            "🚀 GÜÇLÜ YÜKSELİŞ GÜNLERI:\n",
            "  1. Salı: 9 kez\n",
            "  2. Cuma: 5 kez\n",
            "  3. Çarşamba: 4 kez\n",
            "\n",
            "📉 GÜÇLÜ DÜŞÜŞ GÜNLERI:\n",
            "  1. Pazartesi: 6 kez\n",
            "  2. Cuma: 5 kez\n",
            "  3. Salı: 4 kez\n",
            "\n",
            "⏰ EN AKTİF SAATLER (Güçlü Yükseliş):\n",
            "  1. 16:00 - 17:00: 3 kez\n",
            "  2. 17:00 - 18:00: 3 kez\n",
            "  3. 12:00 - 13:00: 3 kez\n",
            "\n",
            "💰 EN YÜKSEK ORTALAMA GETİRİ SAATLERI:\n",
            "  1. 17:00 - 18:00: 0.250%\n",
            "  2. 21:00 - 22:00: 0.170%\n",
            "  3. 22:00 - 23:00: 0.150%\n",
            "\n",
            "📊 GENEL İSTATİSTİKLER:\n",
            "  • Toplam güçlü yükseliş: 30\n",
            "  • Toplam güçlü düşüş: 23\n",
            "  • Toplam veri noktası: 1440\n",
            "\n",
            "============================================================\n",
            "\n",
            "============================================================\n",
            "📊 WOOUSDT ANALİZİ\n",
            "============================================================\n",
            "\n",
            "🚀 GÜÇLÜ YÜKSELİŞ GÜNLERI:\n",
            "  1. Cuma: 3 kez\n",
            "  2. Salı: 2 kez\n",
            "  3. Pazartesi: 2 kez\n",
            "\n",
            "📉 GÜÇLÜ DÜŞÜŞ GÜNLERI:\n",
            "  1. Pazartesi: 8 kez\n",
            "  2. Cuma: 5 kez\n",
            "  3. Salı: 4 kez\n",
            "\n",
            "⏰ EN AKTİF SAATLER (Güçlü Yükseliş):\n",
            "  1. 07:00 - 08:00: 2 kez\n",
            "  2. 14:00 - 15:00: 2 kez\n",
            "  3. 01:00 - 02:00: 1 kez\n",
            "\n",
            "💰 EN YÜKSEK ORTALAMA GETİRİ SAATLERI:\n",
            "  1. 01:00 - 02:00: 0.160%\n",
            "  2. 04:00 - 05:00: 0.140%\n",
            "  3. 17:00 - 18:00: 0.140%\n",
            "\n",
            "📊 GENEL İSTATİSTİKLER:\n",
            "  • Toplam güçlü yükseliş: 13\n",
            "  • Toplam güçlü düşüş: 24\n",
            "  • Toplam veri noktası: 1440\n",
            "\n",
            "============================================================\n",
            "\n",
            "============================================================\n",
            "📊 WUSDT ANALİZİ\n",
            "============================================================\n",
            "\n",
            "🚀 GÜÇLÜ YÜKSELİŞ GÜNLERI:\n",
            "  1. Perşembe: 8 kez\n",
            "  2. Cuma: 7 kez\n",
            "  3. Çarşamba: 4 kez\n",
            "\n",
            "📉 GÜÇLÜ DÜŞÜŞ GÜNLERI:\n",
            "  1. Cuma: 7 kez\n",
            "  2. Pazar: 5 kez\n",
            "  3. Pazartesi: 4 kez\n",
            "\n",
            "⏰ EN AKTİF SAATLER (Güçlü Yükseliş):\n",
            "  1. 15:00 - 16:00: 3 kez\n",
            "  2. 00:00 - 01:00: 2 kez\n",
            "  3. 05:00 - 06:00: 2 kez\n",
            "\n",
            "💰 EN YÜKSEK ORTALAMA GETİRİ SAATLERI:\n",
            "  1. 17:00 - 18:00: 0.270%\n",
            "  2. 03:00 - 04:00: 0.230%\n",
            "  3. 04:00 - 05:00: 0.220%\n",
            "\n",
            "📊 GENEL İSTATİSTİKLER:\n",
            "  • Toplam güçlü yükseliş: 31\n",
            "  • Toplam güçlü düşüş: 25\n",
            "  • Toplam veri noktası: 1440\n",
            "\n",
            "============================================================\n",
            "\n",
            "============================================================\n",
            "📊 XAIUSDT ANALİZİ\n",
            "============================================================\n",
            "\n",
            "🚀 GÜÇLÜ YÜKSELİŞ GÜNLERI:\n",
            "  1. Perşembe: 7 kez\n",
            "  2. Cuma: 5 kez\n",
            "  3. Salı: 4 kez\n",
            "\n",
            "📉 GÜÇLÜ DÜŞÜŞ GÜNLERI:\n",
            "  1. Cuma: 8 kez\n",
            "  2. Pazartesi: 7 kez\n",
            "  3. Salı: 5 kez\n",
            "\n",
            "⏰ EN AKTİF SAATLER (Güçlü Yükseliş):\n",
            "  1. 16:00 - 17:00: 3 kez\n",
            "  2. 07:00 - 08:00: 2 kez\n",
            "  3. 13:00 - 14:00: 2 kez\n",
            "\n",
            "💰 EN YÜKSEK ORTALAMA GETİRİ SAATLERI:\n",
            "  1. 17:00 - 18:00: 0.230%\n",
            "  2. 04:00 - 05:00: 0.170%\n",
            "  3. 21:00 - 22:00: 0.150%\n",
            "\n",
            "📊 GENEL İSTATİSTİKLER:\n",
            "  • Toplam güçlü yükseliş: 24\n",
            "  • Toplam güçlü düşüş: 30\n",
            "  • Toplam veri noktası: 1440\n",
            "\n",
            "============================================================\n",
            "\n",
            "============================================================\n",
            "📊 XECUSDT ANALİZİ\n",
            "============================================================\n",
            "\n",
            "🚀 GÜÇLÜ YÜKSELİŞ GÜNLERI:\n",
            "  1. Cuma: 2 kez\n",
            "  2. Salı: 1 kez\n",
            "  3. Pazartesi: 1 kez\n",
            "\n",
            "📉 GÜÇLÜ DÜŞÜŞ GÜNLERI:\n",
            "  1. Perşembe: 2 kez\n",
            "  2. Salı: 1 kez\n",
            "  3. Pazartesi: 1 kez\n",
            "\n",
            "⏰ EN AKTİF SAATLER (Güçlü Yükseliş):\n",
            "  1. 14:00 - 15:00: 2 kez\n",
            "  2. 01:00 - 02:00: 1 kez\n",
            "  3. 10:00 - 11:00: 1 kez\n",
            "\n",
            "💰 EN YÜKSEK ORTALAMA GETİRİ SAATLERI:\n",
            "  1. 14:00 - 15:00: 0.180%\n",
            "  2. 17:00 - 18:00: 0.140%\n",
            "  3. 01:00 - 02:00: 0.120%\n",
            "\n",
            "📊 GENEL İSTATİSTİKLER:\n",
            "  • Toplam güçlü yükseliş: 8\n",
            "  • Toplam güçlü düşüş: 7\n",
            "  • Toplam veri noktası: 1440\n",
            "\n",
            "============================================================\n",
            "\n",
            "============================================================\n",
            "📊 XLMUSDT ANALİZİ\n",
            "============================================================\n",
            "\n",
            "🚀 GÜÇLÜ YÜKSELİŞ GÜNLERI:\n",
            "  1. Cuma: 7 kez\n",
            "  2. Perşembe: 5 kez\n",
            "  3. Pazartesi: 4 kez\n",
            "\n",
            "📉 GÜÇLÜ DÜŞÜŞ GÜNLERI:\n",
            "  1. Cuma: 4 kez\n",
            "  2. Çarşamba: 3 kez\n",
            "  3. Salı: 2 kez\n",
            "\n",
            "⏰ EN AKTİF SAATLER (Güçlü Yükseliş):\n",
            "  1. 00:00 - 01:00: 3 kez\n",
            "  2. 09:00 - 10:00: 3 kez\n",
            "  3. 12:00 - 13:00: 3 kez\n",
            "\n",
            "💰 EN YÜKSEK ORTALAMA GETİRİ SAATLERI:\n",
            "  1. 01:00 - 02:00: 0.290%\n",
            "  2. 00:00 - 01:00: 0.230%\n",
            "  3. 21:00 - 22:00: 0.210%\n",
            "\n",
            "📊 GENEL İSTATİSTİKLER:\n",
            "  • Toplam güçlü yükseliş: 27\n",
            "  • Toplam güçlü düşüş: 12\n",
            "  • Toplam veri noktası: 1440\n",
            "\n",
            "============================================================\n",
            "\n",
            "============================================================\n",
            "📊 XNOUSDT ANALİZİ\n",
            "============================================================\n",
            "\n",
            "🚀 GÜÇLÜ YÜKSELİŞ GÜNLERI:\n",
            "  1. Salı: 3 kez\n",
            "  2. Çarşamba: 3 kez\n",
            "  3. Cuma: 3 kez\n",
            "\n",
            "📉 GÜÇLÜ DÜŞÜŞ GÜNLERI:\n",
            "  1. Perşembe: 4 kez\n",
            "  2. Cuma: 2 kez\n",
            "  3. Pazartesi: 1 kez\n",
            "\n",
            "⏰ EN AKTİF SAATLER (Güçlü Yükseliş):\n",
            "  1. 13:00 - 14:00: 2 kez\n",
            "  2. 14:00 - 15:00: 2 kez\n",
            "  3. 05:00 - 06:00: 1 kez\n",
            "\n",
            "💰 EN YÜKSEK ORTALAMA GETİRİ SAATLERI:\n",
            "  1. 00:00 - 01:00: 0.100%\n",
            "  2. 02:00 - 03:00: 0.090%\n",
            "  3. 17:00 - 18:00: 0.090%\n",
            "\n",
            "📊 GENEL İSTATİSTİKLER:\n",
            "  • Toplam güçlü yükseliş: 11\n",
            "  • Toplam güçlü düşüş: 9\n",
            "  • Toplam veri noktası: 1440\n",
            "\n",
            "============================================================\n",
            "\n",
            "============================================================\n",
            "📊 XRPUSDT ANALİZİ\n",
            "============================================================\n",
            "\n",
            "🚀 GÜÇLÜ YÜKSELİŞ GÜNLERI:\n",
            "  1. Perşembe: 6 kez\n",
            "  2. Cuma: 5 kez\n",
            "  3. Pazartesi: 3 kez\n",
            "\n",
            "📉 GÜÇLÜ DÜŞÜŞ GÜNLERI:\n",
            "  1. Çarşamba: 4 kez\n",
            "  2. Cuma: 4 kez\n",
            "  3. Salı: 3 kez\n",
            "\n",
            "⏰ EN AKTİF SAATLER (Güçlü Yükseliş):\n",
            "  1. 00:00 - 01:00: 2 kez\n",
            "  2. 21:00 - 22:00: 2 kez\n",
            "  3. 13:00 - 14:00: 2 kez\n",
            "\n",
            "💰 EN YÜKSEK ORTALAMA GETİRİ SAATLERI:\n",
            "  1. 17:00 - 18:00: 0.270%\n",
            "  2. 08:00 - 09:00: 0.220%\n",
            "  3. 21:00 - 22:00: 0.150%\n",
            "\n",
            "📊 GENEL İSTATİSTİKLER:\n",
            "  • Toplam güçlü yükseliş: 16\n",
            "  • Toplam güçlü düşüş: 19\n",
            "  • Toplam veri noktası: 1440\n",
            "\n",
            "============================================================\n",
            "\n",
            "============================================================\n",
            "📊 XTZUSDT ANALİZİ\n",
            "============================================================\n",
            "\n",
            "🚀 GÜÇLÜ YÜKSELİŞ GÜNLERI:\n",
            "  1. Cumartesi: 10 kez\n",
            "  2. Perşembe: 5 kez\n",
            "  3. Cuma: 5 kez\n",
            "\n",
            "📉 GÜÇLÜ DÜŞÜŞ GÜNLERI:\n",
            "  1. Cumartesi: 4 kez\n",
            "  2. Perşembe: 3 kez\n",
            "  3. Salı: 3 kez\n",
            "\n",
            "⏰ EN AKTİF SAATLER (Güçlü Yükseliş):\n",
            "  1. 05:00 - 06:00: 5 kez\n",
            "  2. 11:00 - 12:00: 5 kez\n",
            "  3. 10:00 - 11:00: 3 kez\n",
            "\n",
            "💰 EN YÜKSEK ORTALAMA GETİRİ SAATLERI:\n",
            "  1. 17:00 - 18:00: 0.570%\n",
            "  2. 04:00 - 05:00: 0.270%\n",
            "  3. 10:00 - 11:00: 0.250%\n",
            "\n",
            "📊 GENEL İSTATİSTİKLER:\n",
            "  • Toplam güçlü yükseliş: 30\n",
            "  • Toplam güçlü düşüş: 16\n",
            "  • Toplam veri noktası: 1440\n",
            "\n",
            "============================================================\n",
            "\n",
            "============================================================\n",
            "📊 XVGUSDT ANALİZİ\n",
            "============================================================\n",
            "\n",
            "🚀 GÜÇLÜ YÜKSELİŞ GÜNLERI:\n",
            "  1. Cuma: 9 kez\n",
            "  2. Cumartesi: 7 kez\n",
            "  3. Perşembe: 6 kez\n",
            "\n",
            "📉 GÜÇLÜ DÜŞÜŞ GÜNLERI:\n",
            "  1. Perşembe: 5 kez\n",
            "  2. Salı: 4 kez\n",
            "  3. Pazartesi: 3 kez\n",
            "\n",
            "⏰ EN AKTİF SAATLER (Güçlü Yükseliş):\n",
            "  1. 07:00 - 08:00: 5 kez\n",
            "  2. 14:00 - 15:00: 4 kez\n",
            "  3. 21:00 - 22:00: 3 kez\n",
            "\n",
            "💰 EN YÜKSEK ORTALAMA GETİRİ SAATLERI:\n",
            "  1. 07:00 - 08:00: 0.250%\n",
            "  2. 04:00 - 05:00: 0.210%\n",
            "  3. 03:00 - 04:00: 0.180%\n",
            "\n",
            "📊 GENEL İSTATİSTİKLER:\n",
            "  • Toplam güçlü yükseliş: 33\n",
            "  • Toplam güçlü düşüş: 23\n",
            "  • Toplam veri noktası: 1440\n",
            "\n",
            "============================================================\n",
            "\n",
            "============================================================\n",
            "📊 XVSUSDT ANALİZİ\n",
            "============================================================\n",
            "\n",
            "🚀 GÜÇLÜ YÜKSELİŞ GÜNLERI:\n",
            "  1. Cuma: 3 kez\n",
            "  2. Perşembe: 2 kez\n",
            "  3. Pazar: 2 kez\n",
            "\n",
            "📉 GÜÇLÜ DÜŞÜŞ GÜNLERI:\n",
            "  1. Cuma: 4 kez\n",
            "  2. Çarşamba: 3 kez\n",
            "  3. Salı: 1 kez\n",
            "\n",
            "⏰ EN AKTİF SAATLER (Güçlü Yükseliş):\n",
            "  1. 00:00 - 01:00: 2 kez\n",
            "  2. 16:00 - 17:00: 2 kez\n",
            "  3. 21:00 - 22:00: 1 kez\n",
            "\n",
            "💰 EN YÜKSEK ORTALAMA GETİRİ SAATLERI:\n",
            "  1. 17:00 - 18:00: 0.230%\n",
            "  2. 00:00 - 01:00: 0.190%\n",
            "  3. 04:00 - 05:00: 0.110%\n",
            "\n",
            "📊 GENEL İSTATİSTİKLER:\n",
            "  • Toplam güçlü yükseliş: 10\n",
            "  • Toplam güçlü düşüş: 9\n",
            "  • Toplam veri noktası: 1440\n",
            "\n",
            "============================================================\n",
            "\n",
            "============================================================\n",
            "📊 YFIUSDT ANALİZİ\n",
            "============================================================\n",
            "\n",
            "🚀 GÜÇLÜ YÜKSELİŞ GÜNLERI:\n",
            "  1. Cuma: 3 kez\n",
            "  2. Perşembe: 2 kez\n",
            "  3. Çarşamba: 2 kez\n",
            "\n",
            "📉 GÜÇLÜ DÜŞÜŞ GÜNLERI:\n",
            "  1. Çarşamba: 3 kez\n",
            "  2. Cuma: 3 kez\n",
            "  3. Perşembe: 2 kez\n",
            "\n",
            "⏰ EN AKTİF SAATLER (Güçlü Yükseliş):\n",
            "  1. 18:00 - 19:00: 2 kez\n",
            "  2. 21:00 - 22:00: 2 kez\n",
            "  3. 14:00 - 15:00: 2 kez\n",
            "\n",
            "💰 EN YÜKSEK ORTALAMA GETİRİ SAATLERI:\n",
            "  1. 17:00 - 18:00: 0.170%\n",
            "  2. 21:00 - 22:00: 0.150%\n",
            "  3. 04:00 - 05:00: 0.130%\n",
            "\n",
            "📊 GENEL İSTATİSTİKLER:\n",
            "  • Toplam güçlü yükseliş: 11\n",
            "  • Toplam güçlü düşüş: 10\n",
            "  • Toplam veri noktası: 1440\n",
            "\n",
            "============================================================\n",
            "\n",
            "============================================================\n",
            "📊 YGGUSDT ANALİZİ\n",
            "============================================================\n",
            "\n",
            "🚀 GÜÇLÜ YÜKSELİŞ GÜNLERI:\n",
            "  1. Salı: 3 kez\n",
            "  2. Cuma: 3 kez\n",
            "  3. Pazartesi: 2 kez\n",
            "\n",
            "📉 GÜÇLÜ DÜŞÜŞ GÜNLERI:\n",
            "  1. Pazartesi: 7 kez\n",
            "  2. Cuma: 7 kez\n",
            "  3. Çarşamba: 4 kez\n",
            "\n",
            "⏰ EN AKTİF SAATLER (Güçlü Yükseliş):\n",
            "  1. 07:00 - 08:00: 2 kez\n",
            "  2. 10:00 - 11:00: 2 kez\n",
            "  3. 14:00 - 15:00: 2 kez\n",
            "\n",
            "💰 EN YÜKSEK ORTALAMA GETİRİ SAATLERI:\n",
            "  1. 01:00 - 02:00: 0.220%\n",
            "  2. 17:00 - 18:00: 0.210%\n",
            "  3. 02:00 - 03:00: 0.120%\n",
            "\n",
            "📊 GENEL İSTATİSTİKLER:\n",
            "  • Toplam güçlü yükseliş: 15\n",
            "  • Toplam güçlü düşüş: 25\n",
            "  • Toplam veri noktası: 1440\n",
            "\n",
            "============================================================\n",
            "\n",
            "============================================================\n",
            "📊 ZECUSDT ANALİZİ\n",
            "============================================================\n",
            "\n",
            "🚀 GÜÇLÜ YÜKSELİŞ GÜNLERI:\n",
            "  1. Çarşamba: 4 kez\n",
            "  2. Perşembe: 4 kez\n",
            "  3. Salı: 3 kez\n",
            "\n",
            "📉 GÜÇLÜ DÜŞÜŞ GÜNLERI:\n",
            "  1. Pazartesi: 5 kez\n",
            "  2. Çarşamba: 4 kez\n",
            "  3. Salı: 2 kez\n",
            "\n",
            "⏰ EN AKTİF SAATLER (Güçlü Yükseliş):\n",
            "  1. 13:00 - 14:00: 3 kez\n",
            "  2. 08:00 - 09:00: 2 kez\n",
            "  3. 14:00 - 15:00: 2 kez\n",
            "\n",
            "💰 EN YÜKSEK ORTALAMA GETİRİ SAATLERI:\n",
            "  1. 08:00 - 09:00: 0.260%\n",
            "  2. 07:00 - 08:00: 0.170%\n",
            "  3. 09:00 - 10:00: 0.150%\n",
            "\n",
            "📊 GENEL İSTATİSTİKLER:\n",
            "  • Toplam güçlü yükseliş: 17\n",
            "  • Toplam güçlü düşüş: 16\n",
            "  • Toplam veri noktası: 1440\n",
            "\n",
            "============================================================\n",
            "\n",
            "============================================================\n",
            "📊 ZENUSDT ANALİZİ\n",
            "============================================================\n",
            "\n",
            "🚀 GÜÇLÜ YÜKSELİŞ GÜNLERI:\n",
            "  1. Pazartesi: 3 kez\n",
            "  2. Salı: 3 kez\n",
            "  3. Cuma: 3 kez\n",
            "\n",
            "📉 GÜÇLÜ DÜŞÜŞ GÜNLERI:\n",
            "  1. Pazartesi: 4 kez\n",
            "  2. Salı: 4 kez\n",
            "  3. Perşembe: 3 kez\n",
            "\n",
            "⏰ EN AKTİF SAATLER (Güçlü Yükseliş):\n",
            "  1. 07:00 - 08:00: 2 kez\n",
            "  2. 04:00 - 05:00: 2 kez\n",
            "  3. 13:00 - 14:00: 2 kez\n",
            "\n",
            "💰 EN YÜKSEK ORTALAMA GETİRİ SAATLERI:\n",
            "  1. 17:00 - 18:00: 0.180%\n",
            "  2. 16:00 - 17:00: 0.170%\n",
            "  3. 01:00 - 02:00: 0.120%\n",
            "\n",
            "📊 GENEL İSTATİSTİKLER:\n",
            "  • Toplam güçlü yükseliş: 12\n",
            "  • Toplam güçlü düşüş: 16\n",
            "  • Toplam veri noktası: 1440\n",
            "\n",
            "============================================================\n",
            "\n",
            "============================================================\n",
            "📊 ZILUSDT ANALİZİ\n",
            "============================================================\n",
            "\n",
            "🚀 GÜÇLÜ YÜKSELİŞ GÜNLERI:\n",
            "  1. Perşembe: 2 kez\n",
            "  2. Salı: 1 kez\n",
            "  3. Pazartesi: 1 kez\n",
            "\n",
            "📉 GÜÇLÜ DÜŞÜŞ GÜNLERI:\n",
            "  1. Pazartesi: 3 kez\n",
            "  2. Çarşamba: 2 kez\n",
            "  3. Cuma: 2 kez\n",
            "\n",
            "⏰ EN AKTİF SAATLER (Güçlü Yükseliş):\n",
            "  1. 14:00 - 15:00: 2 kez\n",
            "  2. 07:00 - 08:00: 1 kez\n",
            "  3. 10:00 - 11:00: 1 kez\n",
            "\n",
            "💰 EN YÜKSEK ORTALAMA GETİRİ SAATLERI:\n",
            "  1. 17:00 - 18:00: 0.150%\n",
            "  2. 01:00 - 02:00: 0.130%\n",
            "  3. 03:00 - 04:00: 0.080%\n",
            "\n",
            "📊 GENEL İSTATİSTİKLER:\n",
            "  • Toplam güçlü yükseliş: 7\n",
            "  • Toplam güçlü düşüş: 9\n",
            "  • Toplam veri noktası: 1440\n",
            "\n",
            "============================================================\n",
            "\n",
            "============================================================\n",
            "📊 ZKUSDT ANALİZİ\n",
            "============================================================\n",
            "\n",
            "🚀 GÜÇLÜ YÜKSELİŞ GÜNLERI:\n",
            "  1. Cuma: 9 kez\n",
            "  2. Pazar: 7 kez\n",
            "  3. Çarşamba: 7 kez\n",
            "\n",
            "📉 GÜÇLÜ DÜŞÜŞ GÜNLERI:\n",
            "  1. Pazartesi: 4 kez\n",
            "  2. Salı: 4 kez\n",
            "  3. Çarşamba: 4 kez\n",
            "\n",
            "⏰ EN AKTİF SAATLER (Güçlü Yükseliş):\n",
            "  1. 19:00 - 20:00: 4 kez\n",
            "  2. 07:00 - 08:00: 3 kez\n",
            "  3. 10:00 - 11:00: 3 kez\n",
            "\n",
            "💰 EN YÜKSEK ORTALAMA GETİRİ SAATLERI:\n",
            "  1. 17:00 - 18:00: 0.250%\n",
            "  2. 04:00 - 05:00: 0.180%\n",
            "  3. 10:00 - 11:00: 0.140%\n",
            "\n",
            "📊 GENEL İSTATİSTİKLER:\n",
            "  • Toplam güçlü yükseliş: 38\n",
            "  • Toplam güçlü düşüş: 25\n",
            "  • Toplam veri noktası: 1440\n",
            "\n",
            "============================================================\n",
            "\n",
            "============================================================\n",
            "📊 ZROUSDT ANALİZİ\n",
            "============================================================\n",
            "\n",
            "🚀 GÜÇLÜ YÜKSELİŞ GÜNLERI:\n",
            "  1. Cuma: 6 kez\n",
            "  2. Salı: 4 kez\n",
            "  3. Pazartesi: 4 kez\n",
            "\n",
            "📉 GÜÇLÜ DÜŞÜŞ GÜNLERI:\n",
            "  1. Salı: 6 kez\n",
            "  2. Cuma: 5 kez\n",
            "  3. Perşembe: 5 kez\n",
            "\n",
            "⏰ EN AKTİF SAATLER (Güçlü Yükseliş):\n",
            "  1. 14:00 - 15:00: 3 kez\n",
            "  2. 01:00 - 02:00: 2 kez\n",
            "  3. 07:00 - 08:00: 2 kez\n",
            "\n",
            "💰 EN YÜKSEK ORTALAMA GETİRİ SAATLERI:\n",
            "  1. 17:00 - 18:00: 0.500%\n",
            "  2. 04:00 - 05:00: 0.260%\n",
            "  3. 02:00 - 03:00: 0.140%\n",
            "\n",
            "📊 GENEL İSTATİSTİKLER:\n",
            "  • Toplam güçlü yükseliş: 23\n",
            "  • Toplam güçlü düşüş: 23\n",
            "  • Toplam veri noktası: 1440\n",
            "\n",
            "============================================================\n",
            "\n",
            "============================================================\n",
            "📊 ZRXUSDT ANALİZİ\n",
            "============================================================\n",
            "\n",
            "🚀 GÜÇLÜ YÜKSELİŞ GÜNLERI:\n",
            "  1. Pazar: 3 kez\n",
            "  2. Perşembe: 2 kez\n",
            "  3. Cuma: 2 kez\n",
            "\n",
            "📉 GÜÇLÜ DÜŞÜŞ GÜNLERI:\n",
            "  1. Pazartesi: 4 kez\n",
            "  2. Çarşamba: 3 kez\n",
            "  3. Perşembe: 2 kez\n",
            "\n",
            "⏰ EN AKTİF SAATLER (Güçlü Yükseliş):\n",
            "  1. 05:00 - 06:00: 2 kez\n",
            "  2. 09:00 - 10:00: 2 kez\n",
            "  3. 12:00 - 13:00: 2 kez\n",
            "\n",
            "💰 EN YÜKSEK ORTALAMA GETİRİ SAATLERI:\n",
            "  1. 01:00 - 02:00: 0.230%\n",
            "  2. 17:00 - 18:00: 0.180%\n",
            "  3. 04:00 - 05:00: 0.150%\n",
            "\n",
            "📊 GENEL İSTATİSTİKLER:\n",
            "  • Toplam güçlü yükseliş: 11\n",
            "  • Toplam güçlü düşüş: 11\n",
            "  • Toplam veri noktası: 1440\n",
            "\n",
            "============================================================\n",
            "\n"
          ]
        },
        {
          "output_type": "display_data",
          "data": {
            "text/plain": [
              "<Figure size 2400x2000 with 7 Axes>"
            ],
            "image/png": "[encoded data removed]"
          },
          "metadata": {}
        },
        {
          "output_type": "stream",
          "name": "stdout",
          "text": [
            "✅ Gelişmiş görselleştirmeler oluşturuldu\n",
            "📄 Excel dosyası oluşturuluyor...\n",
            "✅ Excel dosyası 'crypto_momentum_analysis.xlsx' başarıyla oluşturuldu!\n",
            "📋 İçerik:\n",
            "   • ÖZET: 337 coin performans tablosu\n",
            "   • DETAYLI_ANALİZ: Gün x Saat x Coin verisi\n",
            "   • SAATLİK_ÖZET: En iyi saatler analizi\n",
            "\n",
            "💡 Colab'dan indirme:\n",
            "   1. Sol taraftaki Files (📁) ikonuna tıkla\n",
            "   2. 'crypto_momentum_analysis.xlsx' dosyasını bul\n",
            "   3. Dosyaya sağ tıklayıp 'Download' seç\n",
            "\n",
            "🎉 ANALİZ TAMAMLANDI! 🎉\n",
            "💡 İpucu: Isı haritalarında koyu renkler daha yoğun aktiviteyi gösterir.\n"
          ]
        }
      ],
      "source": [
        "# GOOGLE COLAB İÇİN KRİPTO MOMENTUM ANALİZİ\n",
        "# Temiz versiyon - Tüm hatalar düzeltildi\n",
        "\n",
        "import subprocess\n",
        "import sys\n",
        "import os\n",
        "import warnings\n",
        "warnings.filterwarnings('ignore')\n",
        "\n",
        "def install_package(package):\n",
        "    \"\"\"Paketi yükle - Colab uyumlu\"\"\"\n",
        "    try:\n",
        "        if 'git+' in package:\n",
        "            subprocess.check_call([sys.executable, \"-m\", \"pip\", \"install\", \"--upgrade\", package, \"--quiet\"])\n",
        "        else:\n",
        "            subprocess.check_call([sys.executable, \"-m\", \"pip\", \"install\", package, \"--quiet\"])\n",
        "        return True\n",
        "    except subprocess.CalledProcessError as e:\n",
        "        print(f\"❌ Yükleme hatası: {e}\")\n",
        "        return False\n",
        "\n",
        "# COLAB İÇİN KÜTÜPHANE YÜKLEMESİ\n",
        "required_packages = [\n",
        "    'colorama',\n",
        "    'tqdm',\n",
        "    'seaborn',\n",
        "    'git+https://github.com/rongardF/tvdatafeed'\n",
        "]\n",
        "\n",
        "print(\"🚀 COLAB İÇİN KÜTÜPHANE YÜKLEMESİ BAŞLIYOR...\")\n",
        "print(\"=\" * 50)\n",
        "\n",
        "for package in required_packages:\n",
        "    print(f\"📦 Yükleniyor: {package}\")\n",
        "    if install_package(package):\n",
        "        print(f\"✅ {package} başarıyla yüklendi\")\n",
        "    else:\n",
        "        print(f\"❌ {package} yüklenemedi - devam ediliyor...\")\n",
        "\n",
        "print(\"\\n🔄 KÜTÜPHANELER İMPORT EDİLİYOR...\")\n",
        "print(\"=\" * 50)\n",
        "\n",
        "# Temel kütüphaneleri import et\n",
        "import time\n",
        "import numpy as np\n",
        "import pandas as pd\n",
        "import matplotlib.pyplot as plt\n",
        "import seaborn as sns\n",
        "from datetime import datetime, timedelta\n",
        "from tqdm import tqdm\n",
        "\n",
        "# TvDatafeed'i deneyelim\n",
        "try:\n",
        "    from tvDatafeed import TvDatafeed, Interval\n",
        "    print(\"✅ tvDatafeed başarıyla import edildi\")\n",
        "except ImportError as e:\n",
        "    print(f\"❌ tvDatafeed import hatası: {e}\")\n",
        "    print(\"Manuel yükleme gerekebilir\")\n",
        "\n",
        "# Colorama\n",
        "try:\n",
        "    import colorama\n",
        "    from colorama import Fore, Style, Back\n",
        "    colorama.init(autoreset=True)\n",
        "    print(\"✅ colorama başarıyla import edildi\")\n",
        "except ImportError as e:\n",
        "    print(f\"❌ colorama import hatası: {e}\")\n",
        "    # Colorama yoksa mock sınıf kullan\n",
        "    class MockColor:\n",
        "        def __getattr__(self, name):\n",
        "            return \"\"\n",
        "    Fore = Style = Back = MockColor()\n",
        "\n",
        "print(f\"{Fore.GREEN}✅ Tüm kütüphaneler hazır!\\n\")\n",
        "\n",
        "class CryptoMomentumAnalyzer:\n",
        "    def __init__(self):\n",
        "        try:\n",
        "            self.tv = TvDatafeed()\n",
        "            print(f\"{Fore.GREEN}✅ TvDatafeed başarıyla başlatıldı\")\n",
        "        except Exception as e:\n",
        "            print(f\"{Fore.RED}❌ TvDatafeed başlatılamadı: {e}\")\n",
        "            print(f\"{Fore.YELLOW}💡 Colab'da API erişim sorunu olabilir\")\n",
        "            print(f\"{Fore.YELLOW}💡 VPN kullanmayı deneyin veya Runtime restart yapın\")\n",
        "            self.tv = None\n",
        "        self.data_cache = {}\n",
        "\n",
        "    def get_crypto_data(self, symbol, exchange=\"BINANCE\", days=60):\n",
        "        \"\"\"Kripto para verilerini çeker\"\"\"\n",
        "        if self.tv is None:\n",
        "            print(f\"{Fore.RED}❌ TvDatafeed mevcut değil\")\n",
        "            return None\n",
        "\n",
        "        try:\n",
        "            print(f\"{Fore.CYAN}📊 {symbol} verisi çekiliyor...\")\n",
        "\n",
        "            # Veri çekme\n",
        "            data = self.tv.get_hist(\n",
        "                symbol=symbol,\n",
        "                exchange=exchange,\n",
        "                interval=Interval.in_1_hour,\n",
        "                n_bars=days * 24  # Saatlik veri\n",
        "            )\n",
        "\n",
        "            if data is not None and len(data) > 50:\n",
        "                print(f\"{Fore.GREEN}✅ {symbol}: {len(data)} veri noktası alındı\")\n",
        "\n",
        "                # NaN değerleri temizle\n",
        "                data = data.dropna()\n",
        "\n",
        "                if len(data) < 50:\n",
        "                    print(f\"{Fore.YELLOW}⚠️ {symbol}: Temizleme sonrası yetersiz veri\")\n",
        "                    return None\n",
        "\n",
        "                # Temel hesaplamalar\n",
        "                data['returns'] = data['close'].pct_change()\n",
        "                data['volume_sma'] = data['volume'].rolling(window=24, min_periods=1).mean()\n",
        "                data['price_sma'] = data['close'].rolling(window=24, min_periods=1).mean()\n",
        "\n",
        "                # RSI ve MACD\n",
        "                data['rsi'] = self.calculate_rsi(data['close'])\n",
        "                data['macd'], data['macd_signal'] = self.calculate_macd(data['close'])\n",
        "\n",
        "                # Hacim analizi\n",
        "                data['volume_ratio'] = data['volume'] / data['volume_sma']\n",
        "                data['volume_ratio'] = data['volume_ratio'].fillna(1)\n",
        "                data['volume_spike'] = data['volume_ratio'] > 1.5\n",
        "\n",
        "                # Zaman bilgileri\n",
        "                data['hour'] = data.index.hour\n",
        "                data['day_of_week'] = data.index.dayofweek\n",
        "                data['day_name'] = data.index.day_name()\n",
        "\n",
        "                # Momentum tanımları\n",
        "                data['strong_up'] = (data['returns'] > 0.02) & (data['volume_spike'])\n",
        "                data['strong_down'] = (data['returns'] < -0.02) & (data['volume_spike'])\n",
        "                data['medium_up'] = (data['returns'] > 0.01) & (data['returns'] <= 0.02) & (data['volume_spike'])\n",
        "                data['medium_down'] = (data['returns'] < -0.01) & (data['returns'] >= -0.02) & (data['volume_spike'])\n",
        "\n",
        "                # Boolean değerleri düzelt\n",
        "                bool_columns = ['volume_spike', 'strong_up', 'strong_down', 'medium_up', 'medium_down']\n",
        "                for col in bool_columns:\n",
        "                    data[col] = data[col].fillna(False)\n",
        "\n",
        "                return data\n",
        "            else:\n",
        "                print(f\"{Fore.RED}❌ {symbol} için yeterli veri bulunamadı\")\n",
        "                return None\n",
        "\n",
        "        except Exception as e:\n",
        "            print(f\"{Fore.RED}❌ {symbol} hata: {str(e)}\")\n",
        "            return None\n",
        "\n",
        "    def calculate_rsi(self, prices, period=14):\n",
        "        \"\"\"RSI hesaplama\"\"\"\n",
        "        try:\n",
        "            delta = prices.diff()\n",
        "            gain = (delta.where(delta > 0, 0)).rolling(window=period, min_periods=1).mean()\n",
        "            loss = (-delta.where(delta < 0, 0)).rolling(window=period, min_periods=1).mean()\n",
        "            rs = gain / loss.replace(0, np.nan)\n",
        "            rsi = 100 - (100 / (1 + rs))\n",
        "            return rsi.fillna(50)\n",
        "        except:\n",
        "            return pd.Series(index=prices.index, data=50)\n",
        "\n",
        "    def calculate_macd(self, prices, fast=12, slow=26, signal=9):\n",
        "        \"\"\"MACD hesaplama\"\"\"\n",
        "        try:\n",
        "            ema_fast = prices.ewm(span=fast, min_periods=1).mean()\n",
        "            ema_slow = prices.ewm(span=slow, min_periods=1).mean()\n",
        "            macd = ema_fast - ema_slow\n",
        "            macd_signal = macd.ewm(span=signal, min_periods=1).mean()\n",
        "            return macd, macd_signal\n",
        "        except:\n",
        "            zeros = pd.Series(index=prices.index, data=0)\n",
        "            return zeros, zeros\n",
        "\n",
        "    def analyze_time_patterns(self, data, symbol):\n",
        "        \"\"\"Zaman bazlı momentum analizi\"\"\"\n",
        "        results = {}\n",
        "\n",
        "        try:\n",
        "            # Günlük analiz\n",
        "            daily_analysis = data.groupby('day_of_week').agg({\n",
        "                'strong_up': 'sum',\n",
        "                'strong_down': 'sum',\n",
        "                'medium_up': 'sum',\n",
        "                'medium_down': 'sum',\n",
        "                'returns': ['mean', 'std'],\n",
        "                'volume_ratio': 'mean'\n",
        "            }).round(4)\n",
        "\n",
        "            # Saatlik analiz\n",
        "            hourly_analysis = data.groupby('hour').agg({\n",
        "                'strong_up': 'sum',\n",
        "                'strong_down': 'sum',\n",
        "                'medium_up': 'sum',\n",
        "                'medium_down': 'sum',\n",
        "                'returns': ['mean', 'std'],\n",
        "                'volume_ratio': 'mean'\n",
        "            }).round(4)\n",
        "\n",
        "            # Gün + Saat kombinasyonu\n",
        "            day_hour_analysis = data.groupby(['day_of_week', 'hour']).agg({\n",
        "                'strong_up': 'sum',\n",
        "                'strong_down': 'sum',\n",
        "                'returns': 'mean',\n",
        "                'volume_ratio': 'mean'\n",
        "            }).round(4)\n",
        "\n",
        "            results[symbol] = {\n",
        "                'daily': daily_analysis,\n",
        "                'hourly': hourly_analysis,\n",
        "                'day_hour': day_hour_analysis,\n",
        "                'total_data_points': len(data)\n",
        "            }\n",
        "\n",
        "            print(f\"{Fore.GREEN}✅ {symbol} analiz tamamlandı\")\n",
        "\n",
        "        except Exception as e:\n",
        "            print(f\"{Fore.RED}❌ {symbol} analiz hatası: {e}\")\n",
        "            results[symbol] = None\n",
        "\n",
        "        return results\n",
        "\n",
        "    def create_heatmaps(self, all_results):\n",
        "        \"\"\"Isı haritaları oluşturma\"\"\"\n",
        "        try:\n",
        "            combined_data = []\n",
        "\n",
        "            for symbol, results in all_results.items():\n",
        "                if results is not None:\n",
        "                    day_hour = results['day_hour'].reset_index()\n",
        "                    day_hour['symbol'] = symbol\n",
        "                    combined_data.append(day_hour)\n",
        "\n",
        "            if not combined_data:\n",
        "                print(f\"{Fore.RED}❌ Görselleştirme için veri bulunamadı\")\n",
        "                return\n",
        "\n",
        "            df_combined = pd.concat(combined_data, ignore_index=True)\n",
        "            day_names = ['Pazartesi', 'Salı', 'Çarşamba', 'Perşembe', 'Cuma', 'Cumartesi', 'Pazar']\n",
        "\n",
        "            plt.style.use('dark_background')\n",
        "            fig, axes = plt.subplots(2, 2, figsize=(20, 16))\n",
        "            fig.suptitle('Kripto Para Momentum ve Hacim Analizi', fontsize=20, color='white')\n",
        "\n",
        "            # 1. Güçlü Yükseliş\n",
        "            pivot_up = df_combined.groupby(['day_of_week', 'hour'])['strong_up'].mean().unstack(fill_value=0)\n",
        "            if len(pivot_up) > 0:\n",
        "                pivot_up.index = [day_names[i] if i < len(day_names) else f'Gün {i}' for i in pivot_up.index]\n",
        "                sns.heatmap(pivot_up, annot=True, fmt='.1f', cmap='Reds',\n",
        "                           ax=axes[0,0], cbar_kws={'label': 'Güçlü Yükseliş'})\n",
        "                axes[0,0].set_title('Güçlü Yükseliş Momentum', color='white', fontsize=14)\n",
        "\n",
        "            # 2. Güçlü Düşüş\n",
        "            pivot_down = df_combined.groupby(['day_of_week', 'hour'])['strong_down'].mean().unstack(fill_value=0)\n",
        "            if len(pivot_down) > 0:\n",
        "                pivot_down.index = [day_names[i] if i < len(day_names) else f'Gün {i}' for i in pivot_down.index]\n",
        "                sns.heatmap(pivot_down, annot=True, fmt='.1f', cmap='Blues',\n",
        "                           ax=axes[0,1], cbar_kws={'label': 'Güçlü Düşüş'})\n",
        "                axes[0,1].set_title('Güçlü Düşüş Momentum', color='white', fontsize=14)\n",
        "\n",
        "            # 3. Ortalama Getiri\n",
        "            pivot_returns = df_combined.groupby(['day_of_week', 'hour'])['returns'].mean().unstack(fill_value=0)\n",
        "            if len(pivot_returns) > 0:\n",
        "                pivot_returns.index = [day_names[i] if i < len(day_names) else f'Gün {i}' for i in pivot_returns.index]\n",
        "                sns.heatmap(pivot_returns * 100, annot=True, fmt='.2f', cmap='RdYlGn', center=0,\n",
        "                           ax=axes[1,0], cbar_kws={'label': 'Getiri (%)'})\n",
        "                axes[1,0].set_title('Ortalama Saatlik Getiri (%)', color='white', fontsize=14)\n",
        "\n",
        "            # 4. Hacim Oranı\n",
        "            pivot_volume = df_combined.groupby(['day_of_week', 'hour'])['volume_ratio'].mean().unstack(fill_value=0)\n",
        "            if len(pivot_volume) > 0:\n",
        "                pivot_volume.index = [day_names[i] if i < len(day_names) else f'Gün {i}' for i in pivot_volume.index]\n",
        "                sns.heatmap(pivot_volume, annot=True, fmt='.2f', cmap='YlOrRd',\n",
        "                           ax=axes[1,1], cbar_kws={'label': 'Hacim Oranı'})\n",
        "                axes[1,1].set_title('Ortalama Hacim Oranı', color='white', fontsize=14)\n",
        "\n",
        "            for ax in axes.flatten():\n",
        "                ax.set_xlabel('Saat', color='white')\n",
        "                ax.set_ylabel('Gün', color='white')\n",
        "\n",
        "            plt.tight_layout()\n",
        "            plt.show()\n",
        "            print(f\"{Fore.GREEN}✅ Görselleştirmeler oluşturuldu\")\n",
        "\n",
        "        except Exception as e:\n",
        "            print(f\"{Fore.RED}❌ Görselleştirme hatası: {e}\")\n",
        "\n",
        "    def create_enhanced_visualizations(self, all_results):\n",
        "        \"\"\"Gelişmiş ve Anlaşılır Görselleştirmeler\"\"\"\n",
        "        try:\n",
        "            combined_data = []\n",
        "\n",
        "            for symbol, results in all_results.items():\n",
        "                if results is not None:\n",
        "                    day_hour = results['day_hour'].reset_index()\n",
        "                    day_hour['symbol'] = symbol.replace('USDT', '')  # USDT'yi kaldır\n",
        "                    combined_data.append(day_hour)\n",
        "\n",
        "            if not combined_data:\n",
        "                print(f\"{Fore.RED}❌ Görselleştirme için veri bulunamadı\")\n",
        "                return\n",
        "\n",
        "            df_combined = pd.concat(combined_data, ignore_index=True)\n",
        "            day_names = ['Pazartesi', 'Salı', 'Çarşamba', 'Perşembe', 'Cuma', 'Cumartesi', 'Pazar']\n",
        "\n",
        "            # Modern stil\n",
        "            plt.style.use('seaborn-v0_8-darkgrid')\n",
        "            fig = plt.figure(figsize=(24, 20))\n",
        "            gs = fig.add_gridspec(3, 3, height_ratios=[1, 1, 1], hspace=0.3, wspace=0.3)\n",
        "\n",
        "            # Ana başlık\n",
        "            fig.suptitle('🚀 KRİPTO MOMENTUM ANALİZİ (3 Aylık Veri) 🚀',\n",
        "                        fontsize=24, fontweight='bold', y=0.95)\n",
        "\n",
        "            # 1. BÜYÜK HEATMap - En Aktif Saatler (Sol üst, büyük)\n",
        "            ax1 = fig.add_subplot(gs[0, :2])\n",
        "            pivot_up = df_combined.groupby(['day_of_week', 'hour'])['strong_up'].sum().unstack(fill_value=0)\n",
        "            if len(pivot_up) > 0:\n",
        "                pivot_up.index = [day_names[i] if i < len(day_names) else f'Gün {i}' for i in pivot_up.index]\n",
        "\n",
        "                # Renk skalası\n",
        "                sns.heatmap(pivot_up, annot=True, fmt='g', cmap='Reds',\n",
        "                           ax=ax1, cbar_kws={'label': 'Güçlü Yükseliş Sayısı'},\n",
        "                           linewidths=0.5, linecolor='white',\n",
        "                           annot_kws={'fontsize': 10, 'fontweight': 'bold'})\n",
        "                ax1.set_title('📈 GÜÇLÜ YÜKSELİŞ MOMENTUM HARITASI\\n(Gün x Saat Bazında)',\n",
        "                             fontsize=16, fontweight='bold', pad=20)\n",
        "                ax1.set_xlabel('Saat (UTC)', fontsize=12, fontweight='bold')\n",
        "                ax1.set_ylabel('Gün', fontsize=12, fontweight='bold')\n",
        "\n",
        "            # 2. Net Momentum Haritası (Sağ üst)\n",
        "            ax2 = fig.add_subplot(gs[0, 2])\n",
        "            pivot_net = df_combined.groupby(['day_of_week', 'hour']).apply(\n",
        "                lambda x: x['strong_up'].sum() - x['strong_down'].sum()\n",
        "            ).unstack(fill_value=0)\n",
        "\n",
        "            if len(pivot_net) > 0:\n",
        "                pivot_net.index = [day_names[i] if i < len(day_names) else f'Gün {i}' for i in pivot_net.index]\n",
        "                sns.heatmap(pivot_net, annot=True, fmt='g', cmap='RdYlGn', center=0,\n",
        "                           ax=ax2, cbar_kws={'label': 'Net Momentum'},\n",
        "                           linewidths=0.5, linecolor='white',\n",
        "                           annot_kws={'fontsize': 8})\n",
        "                ax2.set_title('⚖️ NET MOMENTUM\\n(Yükseliş-Düşüş)', fontsize=14, fontweight='bold')\n",
        "                ax2.set_xlabel('Saat', fontsize=10)\n",
        "                ax2.set_ylabel('Gün', fontsize=10)\n",
        "\n",
        "            # 3. Coin Performance Bar Chart (Sol alt)\n",
        "            ax3 = fig.add_subplot(gs[1, :2])\n",
        "            coin_performance = df_combined.groupby('symbol').agg({\n",
        "                'strong_up': 'sum',\n",
        "                'strong_down': 'sum'\n",
        "            }).reset_index()\n",
        "            coin_performance['net_momentum'] = coin_performance['strong_up'] - coin_performance['strong_down']\n",
        "            coin_performance = coin_performance.sort_values('net_momentum', ascending=True)\n",
        "\n",
        "            # Horizontal bar chart\n",
        "            bars = ax3.barh(coin_performance['symbol'], coin_performance['net_momentum'],\n",
        "                          color=['red' if x < 0 else 'green' for x in coin_performance['net_momentum']])\n",
        "            ax3.set_title('🏆 COİN PERFORMANS SIRALAMASI (Net Momentum)',\n",
        "                         fontsize=16, fontweight='bold')\n",
        "            ax3.set_xlabel('Net Momentum (Yükseliş - Düşüş)', fontsize=12)\n",
        "            ax3.grid(axis='x', alpha=0.3)\n",
        "\n",
        "            # Değerleri bar üzerine yaz\n",
        "            for i, bar in enumerate(bars):\n",
        "                width = bar.get_width()\n",
        "                ax3.text(width, bar.get_y() + bar.get_height()/2,\n",
        "                        f'{width:.0f}', ha='left' if width >= 0 else 'right',\n",
        "                        va='center', fontweight='bold')\n",
        "\n",
        "            # 4. Günlük Toplam Aktivite (Sağ alt)\n",
        "            ax4 = fig.add_subplot(gs[1, 2])\n",
        "            daily_activity = df_combined.groupby('day_of_week').agg({\n",
        "                'strong_up': 'sum',\n",
        "                'strong_down': 'sum'\n",
        "            })\n",
        "            daily_activity.index = [day_names[i] if i < len(day_names) else f'Gün {i}'\n",
        "                                  for i in daily_activity.index]\n",
        "\n",
        "            x_pos = np.arange(len(daily_activity))\n",
        "            width = 0.35\n",
        "\n",
        "            bars1 = ax4.bar(x_pos - width/2, daily_activity['strong_up'], width,\n",
        "                          label='Güçlü Yükseliş', color='green', alpha=0.8)\n",
        "            bars2 = ax4.bar(x_pos + width/2, daily_activity['strong_down'], width,\n",
        "                          label='Güçlü Düşüş', color='red', alpha=0.8)\n",
        "\n",
        "            ax4.set_title('📅 GÜNLÜK AKTİVİTE', fontsize=14, fontweight='bold')\n",
        "            ax4.set_xlabel('Gün', fontsize=10)\n",
        "            ax4.set_ylabel('Hareket Sayısı', fontsize=10)\n",
        "            ax4.set_xticks(x_pos)\n",
        "            ax4.set_xticklabels([name[:3] for name in daily_activity.index], rotation=45)\n",
        "            ax4.legend()\n",
        "            ax4.grid(axis='y', alpha=0.3)\n",
        "\n",
        "            # 5. Saatlik Ortalama Getiri Çizgi Grafiği (Alt tam genişlik)\n",
        "            ax5 = fig.add_subplot(gs[2, :])\n",
        "            hourly_returns = df_combined.groupby('hour')['returns'].mean() * 100\n",
        "\n",
        "            ax5.plot(hourly_returns.index, hourly_returns.values,\n",
        "                    linewidth=3, marker='o', markersize=6, color='blue', alpha=0.8)\n",
        "            ax5.fill_between(hourly_returns.index, hourly_returns.values, alpha=0.3, color='blue')\n",
        "            ax5.set_title('💰 SAATLIK ORTALAMA GETİRİ TRENDİ (%)',\n",
        "                         fontsize=16, fontweight='bold')\n",
        "            ax5.set_xlabel('Saat (UTC)', fontsize=12)\n",
        "            ax5.set_ylabel('Ortalama Getiri (%)', fontsize=12)\n",
        "            ax5.grid(True, alpha=0.3)\n",
        "            ax5.axhline(y=0, color='red', linestyle='--', alpha=0.7)\n",
        "\n",
        "            # En yüksek ve en düşük noktaları işaretle\n",
        "            max_hour = hourly_returns.idxmax()\n",
        "            min_hour = hourly_returns.idxmin()\n",
        "            ax5.annotate(f'En Yüksek\\n{max_hour:02d}:00\\n{hourly_returns[max_hour]:.3f}%',\n",
        "                        xy=(max_hour, hourly_returns[max_hour]),\n",
        "                        xytext=(max_hour+2, hourly_returns[max_hour]+0.01),\n",
        "                        arrowprops=dict(arrowstyle='->', color='green', lw=2),\n",
        "                        fontsize=10, fontweight='bold', color='green')\n",
        "            ax5.annotate(f'En Düşük\\n{min_hour:02d}:00\\n{hourly_returns[min_hour]:.3f}%',\n",
        "                        xy=(min_hour, hourly_returns[min_hour]),\n",
        "                        xytext=(min_hour+2, hourly_returns[min_hour]-0.01),\n",
        "                        arrowprops=dict(arrowstyle='->', color='red', lw=2),\n",
        "                        fontsize=10, fontweight='bold', color='red')\n",
        "\n",
        "            plt.tight_layout()\n",
        "            plt.show()\n",
        "            print(f\"{Fore.GREEN}✅ Gelişmiş görselleştirmeler oluşturuldu\")\n",
        "\n",
        "        except Exception as e:\n",
        "            print(f\"{Fore.RED}❌ Görselleştirme hatası: {e}\")\n",
        "\n",
        "    def export_to_excel(self, all_results, filename=\"crypto_momentum_analysis.xlsx\"):\n",
        "        \"\"\"Excel Dosyasına Dışa Aktarma - Basit Versiyon\"\"\"\n",
        "        try:\n",
        "            print(f\"{Fore.CYAN}📄 Excel dosyası oluşturuluyor...\")\n",
        "\n",
        "            # Basit Excel writer kullan (xlsxwriter olmadan)\n",
        "            summary_data = []\n",
        "            for symbol, results in all_results.items():\n",
        "                if results is None:\n",
        "                    continue\n",
        "\n",
        "                daily = results['daily']\n",
        "                hourly = results['hourly']\n",
        "\n",
        "                # MultiIndex düzeltmesi\n",
        "                if isinstance(daily.columns, pd.MultiIndex):\n",
        "                    daily_flat = daily.copy()\n",
        "                    daily_flat.columns = [f'{col[0]}_{col[1]}' if col[1] != 'sum' else col[0] for col in daily.columns]\n",
        "                else:\n",
        "                    daily_flat = daily.copy()\n",
        "\n",
        "                if isinstance(hourly.columns, pd.MultiIndex):\n",
        "                    hourly_flat = hourly.copy()\n",
        "                    hourly_flat.columns = [f'{col[0]}_{col[1]}' if col[1] != 'sum' else col[0] for col in hourly.columns]\n",
        "                else:\n",
        "                    hourly_flat = hourly.copy()\n",
        "\n",
        "                # Özet hesaplamaları\n",
        "                total_up = int(daily_flat['strong_up'].sum()) if 'strong_up' in daily_flat.columns else 0\n",
        "                total_down = int(daily_flat['strong_down'].sum()) if 'strong_down' in daily_flat.columns else 0\n",
        "\n",
        "                return_col = 'returns_mean' if 'returns_mean' in hourly_flat.columns else 'returns'\n",
        "                avg_return = hourly_flat[return_col].mean() if return_col in hourly_flat.columns else 0\n",
        "\n",
        "                best_day = daily_flat['strong_up'].idxmax() if 'strong_up' in daily_flat.columns and len(daily_flat) > 0 else 0\n",
        "                best_hour = hourly_flat['strong_up'].idxmax() if 'strong_up' in hourly_flat.columns and len(hourly_flat) > 0 else 0\n",
        "\n",
        "                day_names = ['Pazartesi', 'Salı', 'Çarşamba', 'Perşembe', 'Cuma', 'Cumartesi', 'Pazar']\n",
        "                best_day_name = day_names[best_day] if best_day < len(day_names) else 'N/A'\n",
        "\n",
        "                summary_data.append({\n",
        "                    'Coin': symbol.replace('USDT', ''),\n",
        "                    'Güçlü_Yükseliş': total_up,\n",
        "                    'Güçlü_Düşüş': total_down,\n",
        "                    'Net_Momentum': total_up - total_down,\n",
        "                    'Ortalama_Getiri_%': round(avg_return * 100, 4),\n",
        "                    'En_İyi_Gün': best_day_name,\n",
        "                    'En_İyi_Saat': f\"{best_hour:02d}:00\",\n",
        "                    'Veri_Noktası': results['total_data_points']\n",
        "                })\n",
        "\n",
        "            # 1. ÖZET TABLOSU\n",
        "            df_summary = pd.DataFrame(summary_data)\n",
        "            df_summary = df_summary.sort_values('Net_Momentum', ascending=False)\n",
        "\n",
        "            # Basit Excel writer ile kaydet\n",
        "            with pd.ExcelWriter(filename, engine='openpyxl') as writer:\n",
        "                # Özet sayfası\n",
        "                df_summary.to_excel(writer, sheet_name='ÖZET', index=False)\n",
        "\n",
        "                # Detaylı analiz sayfası\n",
        "                detail_data = []\n",
        "                for symbol, results in all_results.items():\n",
        "                    if results is None:\n",
        "                        continue\n",
        "\n",
        "                    day_hour = results['day_hour'].reset_index()\n",
        "                    day_hour['Coin'] = symbol.replace('USDT', '')\n",
        "                    day_hour['Gün'] = day_hour['day_of_week'].map({\n",
        "                        0: 'Pazartesi', 1: 'Salı', 2: 'Çarşamba', 3: 'Perşembe',\n",
        "                        4: 'Cuma', 5: 'Cumartesi', 6: 'Pazar'\n",
        "                    })\n",
        "\n",
        "                    # Sütunları yeniden düzenle ve adlandır\n",
        "                    if 'strong_up' in day_hour.columns and 'strong_down' in day_hour.columns:\n",
        "                        day_hour_clean = day_hour[['Coin', 'Gün', 'hour', 'strong_up', 'strong_down', 'returns', 'volume_ratio']].copy()\n",
        "                        day_hour_clean.columns = ['Coin', 'Gün', 'Saat', 'Güçlü_Yükseliş', 'Güçlü_Düşüş', 'Getiri_%', 'Hacim_Oranı']\n",
        "                        day_hour_clean['Getiri_%'] = day_hour_clean['Getiri_%'] * 100\n",
        "                        detail_data.append(day_hour_clean)\n",
        "\n",
        "                if detail_data:\n",
        "                    df_detail = pd.concat(detail_data, ignore_index=True)\n",
        "                    df_detail.to_excel(writer, sheet_name='DETAYLI_ANALİZ', index=False)\n",
        "\n",
        "                    # Saatlik özet\n",
        "                    pivot_data = df_detail.groupby(['Coin', 'Saat']).agg({\n",
        "                        'Güçlü_Yükseliş': 'sum',\n",
        "                        'Güçlü_Düşüş': 'sum',\n",
        "                        'Getiri_%': 'mean'\n",
        "                    }).reset_index()\n",
        "                    pivot_data['Net_Hareket'] = pivot_data['Güçlü_Yükseliş'] - pivot_data['Güçlü_Düşüş']\n",
        "                    pivot_data = pivot_data.sort_values(['Coin', 'Net_Hareket'], ascending=[True, False])\n",
        "                    pivot_data.to_excel(writer, sheet_name='SAATLİK_ÖZET', index=False)\n",
        "\n",
        "            print(f\"{Fore.GREEN}✅ Excel dosyası '{filename}' başarıyla oluşturuldu!\")\n",
        "            print(f\"{Fore.GREEN}📋 İçerik:\")\n",
        "            print(f\"   • ÖZET: {len(df_summary)} coin performans tablosu\")\n",
        "            print(f\"   • DETAYLI_ANALİZ: Gün x Saat x Coin verisi\")\n",
        "            print(f\"   • SAATLİK_ÖZET: En iyi saatler analizi\")\n",
        "            print(f\"\\n{Fore.YELLOW}💡 Colab'dan indirme:\")\n",
        "            print(f\"   1. Sol taraftaki Files (📁) ikonuna tıkla\")\n",
        "            print(f\"   2. '{filename}' dosyasını bul\")\n",
        "            print(f\"   3. Dosyaya sağ tıklayıp 'Download' seç\")\n",
        "\n",
        "        except ImportError as e:\n",
        "            print(f\"{Fore.RED}❌ Excel kütüphanesi eksik: {e}\")\n",
        "            print(f\"{Fore.YELLOW}💡 Alternatif: CSV dosyası oluşturalım...\")\n",
        "\n",
        "            # CSV olarak kaydet\n",
        "            try:\n",
        "                csv_filename = filename.replace('.xlsx', '_ozet.csv')\n",
        "                df_summary = pd.DataFrame(summary_data)\n",
        "                df_summary = df_summary.sort_values('Net_Momentum', ascending=False)\n",
        "                df_summary.to_csv(csv_filename, index=False, encoding='utf-8')\n",
        "                print(f\"{Fore.GREEN}✅ CSV dosyası '{csv_filename}' oluşturuldu!\")\n",
        "            except Exception as csv_error:\n",
        "                print(f\"{Fore.RED}❌ CSV kaydetme hatası: {csv_error}\")\n",
        "\n",
        "        except Exception as e:\n",
        "            print(f\"{Fore.RED}❌ Excel dışa aktarma hatası: {e}\")\n",
        "            print(f\"{Fore.YELLOW}💡 CSV alternatifi deneniyor...\")\n",
        "\n",
        "            # CSV backup\n",
        "            try:\n",
        "                csv_filename = filename.replace('.xlsx', '_ozet.csv')\n",
        "                df_summary = pd.DataFrame(summary_data)\n",
        "                df_summary = df_summary.sort_values('Net_Momentum', ascending=False)\n",
        "                df_summary.to_csv(csv_filename, index=False, encoding='utf-8')\n",
        "                print(f\"{Fore.GREEN}✅ CSV dosyası '{csv_filename}' oluşturuldu!\")\n",
        "            except:\n",
        "                # Son çare: Print as table\n",
        "                print(f\"\\n{Fore.CYAN}📊 EXCEL OLUŞTURAMADIĞIMIZ İÇİN ÖZET TABLO:\")\n",
        "                print(\"=\"*80)\n",
        "                df_summary = pd.DataFrame(summary_data)\n",
        "                df_summary = df_summary.sort_values('Net_Momentum', ascending=False)\n",
        "                print(df_summary.to_string(index=False))\n",
        "                print(\"=\"*80)\n",
        "\n",
        "    def print_summary_report(self, all_results):\n",
        "        \"\"\"Özet rapor - MultiIndex Safe Versiyon\"\"\"\n",
        "        print(f\"\\n{Back.GREEN}{Fore.BLACK}📈 KRİPTO MOMENTUM ANALİZ RAPORU 📈{Style.RESET_ALL}\\n\")\n",
        "\n",
        "        for symbol, results in all_results.items():\n",
        "            if results is None:\n",
        "                print(f\"{Fore.RED}❌ {symbol}: Analiz verisi mevcut değil\")\n",
        "                continue\n",
        "\n",
        "            daily = results['daily']\n",
        "            hourly = results['hourly']\n",
        "\n",
        "            print(f\"{Fore.YELLOW}{'='*60}\")\n",
        "            print(f\"{Fore.CYAN}📊 {symbol} ANALİZİ\")\n",
        "            print(f\"{Fore.YELLOW}{'='*60}\")\n",
        "\n",
        "            # MultiIndex columns'u düzelt\n",
        "            if isinstance(daily.columns, pd.MultiIndex):\n",
        "                daily_flat = daily.copy()\n",
        "                daily_flat.columns = [f'{col[0]}_{col[1]}' if col[1] != 'sum' else col[0] for col in daily.columns]\n",
        "            else:\n",
        "                daily_flat = daily.copy()\n",
        "\n",
        "            if isinstance(hourly.columns, pd.MultiIndex):\n",
        "                hourly_flat = hourly.copy()\n",
        "                hourly_flat.columns = [f'{col[0]}_{col[1]}' if col[1] != 'sum' else col[0] for col in hourly.columns]\n",
        "            else:\n",
        "                hourly_flat = hourly.copy()\n",
        "\n",
        "            day_names = ['Pazartesi', 'Salı', 'Çarşamba', 'Perşembe', 'Cuma', 'Cumartesi', 'Pazar']\n",
        "\n",
        "            # Güçlü Yükseliş Günleri\n",
        "            print(f\"\\n{Fore.GREEN}🚀 GÜÇLÜ YÜKSELİŞ GÜNLERI:\")\n",
        "            if 'strong_up' in daily_flat.columns:\n",
        "                for i, (day_idx, count) in enumerate(daily_flat['strong_up'].sort_values(ascending=False).head(3).items()):\n",
        "                    day_name = day_names[day_idx] if day_idx < len(day_names) else f'Gün {day_idx}'\n",
        "                    print(f\"  {i+1}. {day_name}: {int(count)} kez\")\n",
        "            else:\n",
        "                print(\"  Veri bulunamadı\")\n",
        "\n",
        "            # Güçlü Düşüş Günleri\n",
        "            print(f\"\\n{Fore.RED}📉 GÜÇLÜ DÜŞÜŞ GÜNLERI:\")\n",
        "            if 'strong_down' in daily_flat.columns:\n",
        "                for i, (day_idx, count) in enumerate(daily_flat['strong_down'].sort_values(ascending=False).head(3).items()):\n",
        "                    day_name = day_names[day_idx] if day_idx < len(day_names) else f'Gün {day_idx}'\n",
        "                    print(f\"  {i+1}. {day_name}: {int(count)} kez\")\n",
        "            else:\n",
        "                print(\"  Veri bulunamadı\")\n",
        "\n",
        "            # En Aktif Saatler\n",
        "            print(f\"\\n{Fore.BLUE}⏰ EN AKTİF SAATLER (Güçlü Yükseliş):\")\n",
        "            if 'strong_up' in hourly_flat.columns:\n",
        "                for i, (hour, count) in enumerate(hourly_flat['strong_up'].sort_values(ascending=False).head(3).items()):\n",
        "                    print(f\"  {i+1}. {hour:02d}:00 - {(hour+1)%24:02d}:00: {int(count)} kez\")\n",
        "            else:\n",
        "                print(\"  Veri bulunamadı\")\n",
        "\n",
        "            # En Yüksek Getiri Saatleri\n",
        "            print(f\"\\n{Fore.MAGENTA}💰 EN YÜKSEK ORTALAMA GETİRİ SAATLERI:\")\n",
        "            return_col = 'returns_mean' if 'returns_mean' in hourly_flat.columns else 'returns'\n",
        "            if return_col in hourly_flat.columns:\n",
        "                for i, (hour, ret) in enumerate(hourly_flat[return_col].sort_values(ascending=False).head(3).items()):\n",
        "                    print(f\"  {i+1}. {hour:02d}:00 - {(hour+1)%24:02d}:00: {ret*100:.3f}%\")\n",
        "            else:\n",
        "                print(\"  Veri bulunamadı\")\n",
        "\n",
        "            # Genel İstatistikler\n",
        "            print(f\"\\n{Fore.WHITE}📊 GENEL İSTATİSTİKLER:\")\n",
        "            total_up = daily_flat['strong_up'].sum() if 'strong_up' in daily_flat.columns else 0\n",
        "            total_down = daily_flat['strong_down'].sum() if 'strong_down' in daily_flat.columns else 0\n",
        "\n",
        "            print(f\"  • Toplam güçlü yükseliş: {int(total_up)}\")\n",
        "            print(f\"  • Toplam güçlü düşüş: {int(total_down)}\")\n",
        "            print(f\"  • Toplam veri noktası: {results['total_data_points']}\")\n",
        "\n",
        "            print(f\"\\n{Fore.CYAN}{'='*60}\\n\")\n",
        "\n",
        "def main():\n",
        "    print(f\"{Back.BLUE}{Fore.WHITE}🚀 GOOGLE COLAB'DA KRİPTO ANALİZİ! 🚀{Style.RESET_ALL}\\n\")\n",
        "    print(f\"{Fore.CYAN}💡 3 aylık veri ile daha güvenilir sonuçlar alacağız!\")\n",
        "    print(f\"   • İlk çalıştırmada kütüphane yükleme 2-3 dakika sürebilir\")\n",
        "    print(f\"   • Çok coin seçersen toplam analiz 15-20 dakika sürebilir\")\n",
        "    print(f\"   • API hatası alırsanız Runtime > Restart and Run All deneyin\")\n",
        "    print(f\"   • VPN kullanıyorsanız kapatmayı deneyin\\n\")\n",
        "\n",
        "    # Analyzer'ı başlat\n",
        "    analyzer = CryptoMomentumAnalyzer()\n",
        "\n",
        "    if analyzer.tv is None:\n",
        "        print(f\"{Fore.RED}❌ TvDatafeed çalışmıyor. Şu adımları deneyin:\")\n",
        "        print(f\"   1. Runtime > Restart and Run All\")\n",
        "        print(f\"   2. VPN'i kapatın (varsa)\")\n",
        "        print(f\"   3. Farklı bir Colab runtime deneyin\")\n",
        "        return\n",
        "\n",
        "    # Analiz edilecek coinler\n",
        "    crypto_symbols = [\"1000SATSUSDT\",\"1INCHUSDT\",\"1MBABYDOGEUSDT\",\"AAVEUSDT\",\"ACAUSDT\",\"ACEUSDT\",\"ACHUSDT\",\n",
        "\"ACMUSDT\",\"ADAUSDT\",\"ADXUSDT\",\"AEURUSDT\",\"AEVOUSDT\",\"AGLDUSDT\",\"AIUSDT\",\"ALCXUSDT\",\n",
        "\"ALGOUSDT\",\"ALICEUSDT\",\"ALPINEUSDT\",\"ALTUSDT\",\"AMPUSDT\",\"ANKRUSDT\",\"APEUSDT\",\n",
        "\"API3USDT\",\"APTUSDT\",\"ARBUSDT\",\"ARDRUSDT\",\"ARKMUSDT\",\"ARKUSDT\",\"ARPAUSDT\",\"ARUSDT\",\"ASRUSDT\",\"ASTRUSDT\",\n",
        "\"ATAUSDT\",\"ATMUSDT\",\"ATOMUSDT\",\"AUCTIONUSDT\",\"AUDIOUSDT\",\"AVAUSDT\",\"AVAXUSDT\",\"AXLUSDT\",\"AXSUSDT\",\"BAKEUSDT\",\n",
        "\"BANANAUSDT\",\"BANDUSDT\",\"BARUSDT\",\"BATUSDT\",\"BBUSDT\",\"BCHUSDT\",\"BEAMXUSDT\",\"BELUSDT\",\"BICOUSDT\",\n",
        "\"BIFIUSDT\",\"BLURUSDT\",\"BNBUSDT\",\"BNSOLUSDT\",\"BNTUSDT\",\"BOMEUSDT\",\"BONKUSDT\",\"BTCUSDT\",\n",
        "\"BTTCUSDT\",\"C98USDT\",\"CAKEUSDT\",\"CATIUSDT\",\"CELOUSDT\",\"CELRUSDT\",\"CFXUSDT\",\"CHESSUSDT\",\"CHRUSDT\",\"CHZUSDT\",\n",
        "\"CITYUSDT\",\"CKBUSDT\",\"COMPUSDT\",\"COSUSDT\",\"COTIUSDT\",\"CRVUSDT\",\"CTKUSDT\",\"CTSIUSDT\",\n",
        "\"CVCUSDT\",\"CVXUSDT\",\"CYBERUSDT\",\"DEXEUSDT\",\"DFUSDT\",\"DGBUSDT\",\"DIAUSDT\",\"DODOUSDT\",\"DOGEUSDT\",\"DOGSUSDT\",\n",
        "\"DOTUSDT\",\"DUSKUSDT\",\"DYDXUSDT\",\"DYMUSDT\",\"EDUUSDT\",\"EGLDUSDT\",\"EIGENUSDT\",\"ENAUSDT\",\"ENJUSDT\",\"ENSUSDT\",\n",
        "\"ETCUSDT\",\"ETHFIUSDT\",\"ETHUSDT\",\"EURIUSDT\",\"EURUSDT\",\"FARMUSDT\",\"FDUSDTRY\",\"FDUSDUSDT\",\"FETUSDT\",\n",
        "\"FIDAUSDT\",\"FILUSDT\",\"FIOUSDT\",\"FISUSDT\",\"FLMUSDT\",\"FLOKIUSDT\",\"FLOWUSDT\",\"FLUXUSDT\",\"FORTHUSDT\",\n",
        "\"FTTUSDT\",\"FUNUSDT\",\"FXSUSDT\",\"GALAUSDT\",\"GASUSDT\",\"GFTUSDT\",\"GHSTUSDT\",\"GLMRUSDT\",\"GLMUSDT\",\"GMTUSDT\",\"GMXUSDT\",\n",
        "\"GNOUSDT\",\"GNSUSDT\",\"GRTUSDT\",\"GTCUSDT\",\"GUSDT\",\"HBARUSDT\",\"HFTUSDT\",\"HIFIUSDT\",\"HIGHUSDT\",\"HIVEUSDT\",\n",
        "\"HMSTRUSDT\",\"HOOKUSDT\",\"HOTUSDT\",\"ICPUSDT\",\"ICXUSDT\",\"IDEXUSDT\",\"IDUSDT\",\"ILVUSDT\",\"IMXUSDT\",\"INJUSDT\",\"IOSTUSDT\",\n",
        "\"IOTAUSDT\",\"IOTXUSDT\",\"IOUSDT\",\"IQUSDT\",\"JASMYUSDT\",\"JOEUSDT\",\"JSTUSDT\",\"JTOUSDT\",\"JUPUSDT\",\"JUVUSDT\",\n",
        "\"KAVAUSDT\",\"KDAUSDT\",\"KNCUSDT\",\"KSMUSDT\",\"LAZIOUSDT\",\"LDOUSDT\",\"LINKUSDT\",\n",
        "\"LISTAUSDT\",\"LPTUSDT\",\"LQTYUSDT\",\"LRCUSDT\",\"LSKUSDT\",\"LTCUSDT\",\"LUMIAUSDT\",\"LUNAUSDT\",\n",
        "\"LUNCUSDT\",\"MAGICUSDT\",\"MANAUSDT\",\"MANTAUSDT\",\"MASKUSDT\",\"MAVUSDT\",\"MBLUSDT\",\"MBOXUSDT\",\"MDTUSDT\",\"MEMEUSDT\",\"METISUSDT\",\n",
        "\"MINAUSDT\",\"MKRUSDT\",\"MLNUSDT\",\"MOVRUSDT\",\"MTLUSDT\",\"NEARUSDT\",\"NEIROUSDT\",\"NEOUSDT\",\"NEXOUSDT\",\"NFPUSDT\",\"NKNUSDT\",\"NMRUSDT\",\n",
        "\"NOTUSDT\",\"NTRNUSDT\",\"OGNUSDT\",\"OGUSDT\",\"OMNIUSDT\",\"OMUSDT\",\"ONEUSDT\",\"ONGUSDT\",\"ONTUSDT\",\"OPUSDT\",\n",
        "\"ORDIUSDT\",\"OSMOUSDT\",\"OXTUSDT\",\"PAXGUSDT\",\"PENDLEUSDT\",\"PEOPLEUSDT\",\"PEPEUSDT\",\"PERPUSDT\",\"PHAUSDT\",\"PHBUSDT\",\"PIVXUSDT\",\n",
        "\"PIXELUSDT\",\"POLUSDT\",\"POLYXUSDT\",\"PONDUSDT\",\"PORTALUSDT\",\"PORTOUSDT\",\"POWRUSDT\",\"PROMUSDT\",\"PSGUSDT\",\"PUNDIXUSDT\",\n",
        "\"PYRUSDT\",\"PYTHUSDT\",\"QIUSDT\",\"QKCUSDT\",\"QNTUSDT\",\"QTUMUSDT\",\"QUICKUSDT\",\"RADUSDT\",\"RAREUSDT\",\"RAYUSDT\",\"RDNTUSDT\",\"REIUSDT\",\n",
        "\"RENDERUSDT\",\"REQUSDT\",\"REZUSDT\",\"RIFUSDT\",\"RLCUSDT\",\"RONINUSDT\",\"ROSEUSDT\",\"RPLUSDT\",\"RSRUSDT\",\"RUNEUSDT\",\"RVNUSDT\",\n",
        "\"SAGAUSDT\",\"SANDUSDT\",\"SANTOSUSDT\",\"SCRTUSDT\",\"SCRUSDT\",\"SCUSDT\",\"SEIUSDT\",\"SFPUSDT\",\"SHIBUSDT\",\"SKLUSDT\",\"SLFUSDT\",\"SLPUSDT\",\n",
        "\"SNXUSDT\",\"SOLUSDT\",\"SPELLUSDT\",\"SSVUSDT\",\"STEEMUSDT\",\"STGUSDT\",\"STORJUSDT\",\"STRAXUSDT\",\"STRKUSDT\",\n",
        "\"STXUSDT\",\"SUIUSDT\",\"SUNUSDT\",\"SUPERUSDT\",\"SUSHIUSDT\",\"SXPUSDT\",\"SYNUSDT\",\"SYSUSDT\",\"TAOUSDT\",\"TFUELUSDT\",\"THETAUSDT\",\"TIAUSDT\",\n",
        "\"TKOUSDT\",\"TLMUSDT\",\"TNSRUSDT\",\"TONUSDT\",\"TRBUSDT\",\"TRUUSDT\",\"TRXUSDT\",\"TURBOUSDT\",\"TUSDT\",\"TUSDUSDT\",\n",
        "\"TWTUSDT\",\"UMAUSDT\",\"UNIUSDT\",\"USDCUSDT\",\"USDPUSDT\",\"USDTARS\",\"USDTBRL\",\"USDTCOP\",\"USDTDAI\",\"USDTMXN\",\n",
        "\"USDTPLN\",\"USDTTRY\",\"USDTUAH\",\"USDTZAR\",\"USTCUSDT\",\"UTKUSDT\",\"VANRYUSDT\",\"VETUSDT\",\"VICUSDT\",\n",
        "\"VOXELUSDT\",\"VTHOUSDT\",\"WANUSDT\",\"WAXPUSDT\",\"WBETHUSDT\",\"WBTCUSDT\",\"WIFUSDT\",\"WINUSDT\",\"WLDUSDT\",\n",
        "\"WOOUSDT\",\"WUSDT\",\"XAIUSDT\",\"XECUSDT\",\"XLMUSDT\",\"XNOUSDT\",\"XRPUSDT\",\"XTZUSDT\",\"XVGUSDT\",\"XVSUSDT\",\"YFIUSDT\",\"YGGUSDT\",\n",
        "\"ZECUSDT\",\"ZENUSDT\",\"ZILUSDT\",\"ZKUSDT\",\"ZROUSDT\",\"ZRXUSDT\"]\n",
        "\n",
        "    print(f\"{Fore.GREEN}📋 Analiz edilecek coinler: {', '.join(crypto_symbols)}\\n\")\n",
        "\n",
        "    all_results = {}\n",
        "\n",
        "    # Her coin için analiz yap\n",
        "    for symbol in tqdm(crypto_symbols, desc=\"Coinler analiz ediliyor\"):\n",
        "        try:\n",
        "            data = analyzer.get_crypto_data(symbol, days=60)\n",
        "\n",
        "            if data is not None:\n",
        "                results = analyzer.analyze_time_patterns(data, symbol)\n",
        "                all_results.update(results)\n",
        "\n",
        "            time.sleep(2)  # API limit için bekleme\n",
        "        except Exception as e:\n",
        "            print(f\"{Fore.RED}❌ {symbol} işlenirken hata: {e}\")\n",
        "            continue\n",
        "\n",
        "        print()\n",
        "\n",
        "    # Sonuçları filtrele\n",
        "    all_results = {k: v for k, v in all_results.items() if v is not None}\n",
        "\n",
        "    if all_results:\n",
        "        print(f\"\\n{Fore.GREEN}✅ Analiz tamamlandı! Sonuçlar hazırlanıyor...\\n\")\n",
        "\n",
        "        # Raporu yazdır\n",
        "        analyzer.print_summary_report(all_results)\n",
        "\n",
        "        # Gelişmiş görselleştirmeleri oluştur\n",
        "        analyzer.create_enhanced_visualizations(all_results)\n",
        "\n",
        "        # Excel dosyasına aktar\n",
        "        analyzer.export_to_excel(all_results)\n",
        "\n",
        "        print(f\"\\n{Back.GREEN}{Fore.BLACK}🎉 ANALİZ TAMAMLANDI! 🎉{Style.RESET_ALL}\")\n",
        "        print(f\"{Fore.YELLOW}💡 İpucu: Isı haritalarında koyu renkler daha yoğun aktiviteyi gösterir.\")\n",
        "\n",
        "    else:\n",
        "        print(f\"{Fore.RED}❌ Hiçbir coin için veri alınamadı. API erişim sorunu olabilir.\")\n",
        "\n",
        "if __name__ == \"__main__\":\n",
        "    main()"
      ]
    }
  ]
}